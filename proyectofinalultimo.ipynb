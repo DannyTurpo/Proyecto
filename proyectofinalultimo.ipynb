{
 "cells": [
  {
   "cell_type": "code",
   "execution_count": 1,
   "metadata": {},
   "outputs": [],
   "source": [
    "import pyspark\n",
    "from pyspark import SparkContext\n",
    "sc = SparkContext()"
   ]
  },
  {
   "cell_type": "code",
   "execution_count": 2,
   "metadata": {},
   "outputs": [],
   "source": [
    "from pyspark.sql import Row\n",
    "from pyspark.sql import SQLContext\n",
    "sqlContext = SQLContext"
   ]
  },
  {
   "cell_type": "code",
   "execution_count": 3,
   "metadata": {},
   "outputs": [],
   "source": [
    "url = \"https://raw.githubusercontent.com/DannyTurpo/Proyecto/master/airqualitydata-2020.csv\"\n",
    "from pyspark import SparkFiles\n",
    "sc.addFile(url)\n",
    "sqlContext = SQLContext(sc)"
   ]
  },
  {
   "cell_type": "code",
   "execution_count": 4,
   "metadata": {},
   "outputs": [],
   "source": [
    "df = sqlContext.read.csv(SparkFiles.get(\"airqualitydata-2020.csv\"), header=True, inferSchema=True)"
   ]
  },
  {
   "cell_type": "code",
   "execution_count": 5,
   "metadata": {},
   "outputs": [
    {
     "name": "stdout",
     "output_type": "stream",
     "text": [
      "root\n",
      " |-- Date: timestamp (nullable = true)\n",
      " |-- Country: string (nullable = true)\n",
      " |-- City: string (nullable = true)\n",
      " |-- Specie: string (nullable = true)\n",
      " |-- count: integer (nullable = true)\n",
      " |-- min: double (nullable = true)\n",
      " |-- max: double (nullable = true)\n",
      " |-- median: double (nullable = true)\n",
      " |-- variance: double (nullable = true)\n",
      "\n"
     ]
    }
   ],
   "source": [
    "df.printSchema()"
   ]
  },
  {
   "cell_type": "code",
   "execution_count": 57,
   "metadata": {},
   "outputs": [
    {
     "name": "stdout",
     "output_type": "stream",
     "text": [
      "+-------------------+-------+-------+------+-----+---+-----+------+--------+\n",
      "|Date               |Country|City   |Specie|count|min|max  |median|variance|\n",
      "+-------------------+-------+-------+------+-----+---+-----+------+--------+\n",
      "|2019-12-30 00:00:00|CN     |Beijing|pm10  |403  |9.0|568.0|34.0  |10331.3 |\n",
      "|2019-12-30 00:00:00|CN     |Jieyang|co    |147  |5.5|18.5 |10.9  |72.06   |\n",
      "|2019-12-30 00:00:00|CN     |Beijing|co    |233  |0.8|8.2  |2.8   |16.76   |\n",
      "|2019-12-30 00:00:00|CN     |Beijing|so2   |335  |0.6|3.1  |1.6   |3.27    |\n",
      "|2019-12-30 00:00:00|CN     |Beijing|o3    |388  |8.6|28.1 |19.1  |78.93   |\n",
      "+-------------------+-------+-------+------+-----+---+-----+------+--------+\n",
      "only showing top 5 rows\n",
      "\n"
     ]
    }
   ],
   "source": [
    "df.orderBy('Date').show(5, truncate = False)"
   ]
  },
  {
   "cell_type": "markdown",
   "metadata": {},
   "source": [
    "# Seleccion de columnas\n",
    "Para mostrar las filas con seleccion y los nombres de las entidades. A continuacion, se seleccionara Country, Specie y count "
   ]
  },
  {
   "cell_type": "code",
   "execution_count": 7,
   "metadata": {},
   "outputs": [
    {
     "name": "stdout",
     "output_type": "stream",
     "text": [
      "+-------+----------+-----+\n",
      "|Country|    Specie|count|\n",
      "+-------+----------+-----+\n",
      "|     BH|wind-speed|   24|\n",
      "|     BH|wind-speed|   24|\n",
      "|     BH|wind-speed|   24|\n",
      "|     BH|wind-speed|   24|\n",
      "|     BH|wind-speed|   24|\n",
      "|     BH|wind-speed|   24|\n",
      "|     BH|wind-speed|   24|\n",
      "|     BH|wind-speed|   24|\n",
      "|     BH|wind-speed|   24|\n",
      "|     BH|wind-speed|   24|\n",
      "|     BH|wind-speed|   24|\n",
      "|     BH|wind-speed|   24|\n",
      "|     BH|wind-speed|   24|\n",
      "|     BH|wind-speed|   23|\n",
      "|     BH|wind-speed|   24|\n",
      "|     BH|wind-speed|   24|\n",
      "|     BH|wind-speed|   24|\n",
      "|     BH|wind-speed|   24|\n",
      "|     BH|wind-speed|   24|\n",
      "|     BH|wind-speed|   24|\n",
      "+-------+----------+-----+\n",
      "only showing top 20 rows\n",
      "\n"
     ]
    }
   ],
   "source": [
    "df.select('Country','Specie','count').show()"
   ]
  },
  {
   "cell_type": "markdown",
   "metadata": {},
   "source": [
    "A continuacion podemos contar el número de recurrencias por grupo, podemos encadenar: \n",
    "    - groupBy\n",
    "    - count()\n",
    "Para mostrar todas las filas, en show(), escribimos lo siguiente:\n",
    "show(df.count(), truncate = False)\n",
    "Se mostrara todas las variables que se estan midiendo en todas las ciudades. Algunas de estas ciudades no presentan todas las vaiables de la lista."
   ]
  },
  {
   "cell_type": "code",
   "execution_count": 8,
   "metadata": {},
   "outputs": [
    {
     "name": "stdout",
     "output_type": "stream",
     "text": [
      "+-------------+-----+\n",
      "|Specie       |count|\n",
      "+-------------+-----+\n",
      "|mepaqi       |159  |\n",
      "|neph         |320  |\n",
      "|pm1          |615  |\n",
      "|pol          |715  |\n",
      "|uvi          |1636 |\n",
      "|aqi          |2251 |\n",
      "|wd           |6359 |\n",
      "|precipitation|8061 |\n",
      "|wind-gust    |24178|\n",
      "|wind gust    |28267|\n",
      "|wind-speed   |42894|\n",
      "|wind speed   |44075|\n",
      "|co           |60137|\n",
      "|so2          |65509|\n",
      "|dew          |65557|\n",
      "|o3           |72733|\n",
      "|no2          |78214|\n",
      "|pm10         |78523|\n",
      "|pm25         |80814|\n",
      "|pressure     |84477|\n",
      "|humidity     |84729|\n",
      "|temperature  |84751|\n",
      "+-------------+-----+\n",
      "\n"
     ]
    }
   ],
   "source": [
    "df.groupBy(\"Specie\").count().sort(\"count\",ascending=True).show(df.count(), truncate=False)"
   ]
  },
  {
   "cell_type": "markdown",
   "metadata": {},
   "source": [
    "Filtramos las especies correspondientes a Perú."
   ]
  },
  {
   "cell_type": "code",
   "execution_count": 113,
   "metadata": {},
   "outputs": [
    {
     "name": "stdout",
     "output_type": "stream",
     "text": [
      "+-----------+-----+\n",
      "|Specie     |count|\n",
      "+-----------+-----+\n",
      "|wind-speed |71   |\n",
      "|wind speed |73   |\n",
      "|so2        |137  |\n",
      "|o3         |137  |\n",
      "|pm10       |137  |\n",
      "|no2        |137  |\n",
      "|co         |137  |\n",
      "|pressure   |139  |\n",
      "|humidity   |139  |\n",
      "|dew        |139  |\n",
      "|temperature|139  |\n",
      "|pm25       |157  |\n",
      "+-----------+-----+\n",
      "\n"
     ]
    }
   ],
   "source": [
    "df.filter(df.Country == 'PE').groupBy(\"Specie\").count().sort(\"count\",ascending=True).show(df.count(), truncate=False)"
   ]
  },
  {
   "cell_type": "markdown",
   "metadata": {},
   "source": [
    "# Resumen estadístico\n",
    "Para obtener un resumen de las estadísticas de los datos, podemos usar describe(). Esto calcula:\n",
    "    - conteo\n",
    "    - mean\n",
    "    - desviación estandar\n",
    "    - mínimo\n",
    "    - máximo"
   ]
  },
  {
   "cell_type": "code",
   "execution_count": 9,
   "metadata": {},
   "outputs": [],
   "source": [
    "#df.describe().show()"
   ]
  },
  {
   "cell_type": "markdown",
   "metadata": {},
   "source": [
    "Filtraremos el resumen estadístico solo para Perú."
   ]
  },
  {
   "cell_type": "code",
   "execution_count": 115,
   "metadata": {
    "scrolled": false
   },
   "outputs": [
    {
     "name": "stdout",
     "output_type": "stream",
     "text": [
      "+-------+----------+------------------+------------------+------------------+------------------+------------------+\n",
      "|summary|    Specie|             count|               min|               max|            median|          variance|\n",
      "+-------+----------+------------------+------------------+------------------+------------------+------------------+\n",
      "|  count|      1542|              1542|              1542|              1542|              1542|              1542|\n",
      "|   mean|      null| 67.02140077821012|104.46212710765255|134.38073929961084|113.04546044098589|1165.8714396887158|\n",
      "| stddev|      null|31.947782405548335|285.66754964753045| 281.3671993236969|283.72464293154735| 3275.212599879645|\n",
      "|    min|        co|                 6|               0.1|               2.5|               1.0|               0.0|\n",
      "|    max|wind-speed|               164|            1013.5|            1016.5|            1014.8|           74203.2|\n",
      "+-------+----------+------------------+------------------+------------------+------------------+------------------+\n",
      "\n"
     ]
    }
   ],
   "source": [
    "df.filter(df.Country == 'PE').describe('Specie','count','min','max','median','variance').show()"
   ]
  },
  {
   "cell_type": "markdown",
   "metadata": {},
   "source": [
    "El valor min se encuentra en la emisión de CO, mienstras que el max en wind-speed."
   ]
  },
  {
   "cell_type": "markdown",
   "metadata": {},
   "source": [
    "# Calculo de tabulacion cruzada\n",
    "Podemos ver las estadisticas descriptivas entre dos columnas pareadas. Por ejemplo, podemos contar el numero de muestras que hay de cada Specie en cada país."
   ]
  },
  {
   "cell_type": "code",
   "execution_count": 17,
   "metadata": {
    "scrolled": true
   },
   "outputs": [
    {
     "name": "stdout",
     "output_type": "stream",
     "text": [
      "+--------------+----+----+----+--------+------+----+----+----+---+----+----+---+-------------+--------+----+-----------+----+----+---------+----------+---------+----------+\n",
      "|Country_Specie|aqi |co  |dew |humidity|mepaqi|neph|no2 |o3  |pm1|pm10|pm25|pol|precipitation|pressure|so2 |temperature|uvi |wd  |wind gust|wind speed|wind-gust|wind-speed|\n",
      "+--------------+----+----+----+--------+------+----+----+----+---+----+----+---+-------------+--------+----+-----------+----+----+---------+----------+---------+----------+\n",
      "|VN            |16  |352 |615 |616     |0     |0   |518 |481 |0  |527 |685 |0  |108          |616     |251 |616        |0   |0   |5        |323       |10       |313       |\n",
      "|IN            |0   |3461|3213|3218    |0     |0   |3475|3472|0  |3227|3627|0  |32           |3083    |3476|3224       |0   |142 |164      |1699      |360      |1636      |\n",
      "|KW            |0   |0   |137 |138     |0     |0   |0   |0   |0  |0   |153 |0  |0            |138     |0   |138        |0   |0   |0        |72        |1        |71        |\n",
      "|ML            |0   |0   |139 |139     |0     |0   |0   |0   |0  |0   |159 |0  |0            |139     |0   |139        |0   |0   |5        |73        |5        |71        |\n",
      "|ID            |0   |0   |83  |142     |0     |0   |0   |0   |0  |150 |160 |0  |0            |142     |0   |142        |0   |0   |75       |75        |70       |72        |\n",
      "|BG            |0   |293 |401 |402     |0     |0   |427 |427 |0  |427 |0   |0  |0            |401     |268 |401        |0   |0   |183      |217       |36       |197       |\n",
      "|SG            |0   |160 |141 |141     |0     |0   |0   |160 |0  |160 |160 |0  |0            |141     |157 |141        |0   |0   |53       |74        |7        |72        |\n",
      "|SV            |0   |0   |28  |139     |159   |0   |0   |0   |0  |0   |156 |0  |0            |142     |0   |139        |0   |0   |60       |76        |74       |74        |\n",
      "|TH            |0   |1094|732 |982     |0     |0   |1094|1095|160|1095|1095|0  |223          |983     |1081|982        |0   |0   |462      |514       |395      |506       |\n",
      "|AT            |0   |781 |633 |695     |0     |0   |795 |0   |0  |795 |318 |0  |258          |695     |773 |695        |0   |0   |351      |369       |244      |357       |\n",
      "|BD            |0   |0   |138 |137     |0     |0   |0   |0   |0  |0   |152 |0  |0            |137     |0   |137        |0   |0   |0        |74        |0        |68        |\n",
      "|TR            |0   |2421|2383|2473    |0     |0   |2509|2185|0  |2658|2219|0  |194          |2474    |2807|2474       |0   |0   |552      |1329      |237      |1232      |\n",
      "|MY            |1989|0   |1646|1794    |0     |0   |0   |0   |0  |0   |0   |611|15           |1794    |0   |1794       |0   |0   |307      |818       |198      |929       |\n",
      "|RU            |0   |791 |634 |765     |0     |0   |796 |636 |0  |779 |939 |0  |42           |771     |663 |771        |0   |0   |183      |277       |253      |400       |\n",
      "|IL            |0   |594 |444 |1006    |0     |0   |1098|977 |0  |607 |1097|0  |8            |1006    |862 |1003       |0   |837 |512      |546       |397      |521       |\n",
      "|PR            |9   |0   |0   |118     |0     |0   |0   |0   |0  |0   |27  |0  |0            |118     |0   |118        |0   |0   |64       |64        |58       |58        |\n",
      "|MO            |0   |155 |139 |141     |0     |0   |155 |155 |0  |155 |155 |0  |0            |141     |155 |141        |154 |0   |59       |73        |9        |72        |\n",
      "|TW            |0   |1440|1221|1270    |0     |0   |1440|1440|0  |1440|1440|0  |0            |1273    |1431|1267       |1210|0   |604      |672       |522      |643       |\n",
      "|PH            |0   |217 |285 |415     |0     |0   |297 |297 |0  |450 |0   |0  |91           |270     |294 |415        |0   |0   |81       |232       |57       |198       |\n",
      "|JO            |0   |408 |357 |419     |0     |0   |477 |0   |0  |477 |0   |0  |28           |419     |475 |419        |0   |0   |174      |221       |30       |213       |\n",
      "|ES            |0   |3345|1847|3220    |0     |0   |3591|3567|0  |3583|2014|0  |21           |3216    |3506|3220       |0   |0   |1649     |1701      |1432     |1618      |\n",
      "|PK            |0   |0   |477 |556     |0     |0   |0   |0   |0  |0   |635 |0  |19           |556     |0   |556        |0   |0   |14       |288       |71       |283       |\n",
      "|NZ            |0   |160 |258 |701     |0     |0   |320 |0   |0  |800 |478 |0  |15           |694     |299 |701        |0   |145 |365      |364       |358      |357       |\n",
      "|US            |0   |6178|4862|7864    |0     |0   |5897|8351|0  |3924|8772|0  |46           |7867    |3243|7860       |0   |275 |4184     |4195      |3924     |3999      |\n",
      "|CW            |0   |0   |114 |114     |0     |0   |0   |0   |0  |0   |119 |0  |0            |114     |0   |114        |0   |0   |4        |48        |15       |68        |\n",
      "|BH            |0   |0   |139 |139     |0     |0   |0   |0   |0  |0   |158 |0  |0            |139     |0   |139        |0   |0   |6        |73        |3        |71        |\n",
      "|HK            |0   |160 |59  |141     |0     |0   |160 |160 |0  |160 |160 |0  |0            |141     |160 |141        |149 |0   |73       |74        |72       |72        |\n",
      "|RO            |0   |0   |2115|2362    |0     |0   |2703|2297|0  |2558|0   |0  |440          |2362    |2703|2361       |0   |0   |401      |1180      |340      |1204      |\n",
      "|CI            |0   |0   |89  |89      |0     |0   |0   |0   |0  |0   |88  |0  |0            |89      |0   |89         |0   |0   |0        |23        |0        |68        |\n",
      "|KG            |0   |0   |141 |140     |0     |0   |0   |0   |0  |0   |158 |0  |0            |140     |0   |140        |0   |0   |1        |74        |6        |71        |\n",
      "|MM            |0   |0   |140 |140     |0     |0   |0   |74  |0  |0   |154 |0  |0            |140     |0   |140        |0   |0   |9        |74        |16       |71        |\n",
      "|IE            |0   |0   |56  |140     |0     |0   |124 |141 |0  |121 |121 |0  |0            |140     |113 |140        |0   |0   |74       |74        |72       |72        |\n",
      "|IR            |0   |1973|2453|2456    |0     |0   |1791|16  |0  |2094|2058|0  |145          |2456    |1620|2465       |0   |0   |77       |1294      |111      |1254      |\n",
      "|IQ            |0   |0   |105 |105     |0     |0   |0   |0   |0  |0   |112 |0  |0            |105     |0   |105        |0   |0   |3        |56        |1        |54        |\n",
      "|NP            |0   |0   |407 |412     |0     |0   |0   |0   |455|458 |461 |0  |0            |394     |0   |420        |0   |0   |5        |222       |5        |200       |\n",
      "|BE            |0   |473 |468 |798     |0     |0   |642 |635 |0  |864 |860 |0  |0            |797     |430 |797        |0   |0   |389      |402       |349      |426       |\n",
      "|AU            |37  |1241|1185|1542    |0     |320 |1409|1262|0  |1740|1740|0  |402          |1547    |1148|1547       |0   |277 |807      |807       |770      |791       |\n",
      "|SA            |0   |832 |973 |973     |0     |0   |562 |880 |0  |771 |148 |0  |3            |973     |888 |973        |0   |0   |70       |507       |42       |504       |\n",
      "|AF            |0   |0   |131 |131     |0     |0   |0   |0   |0  |0   |142 |0  |0            |131     |0   |131        |0   |0   |10       |65        |25       |74        |\n",
      "|HU            |0   |1108|923 |975     |0     |0   |1111|1111|0  |1111|938 |0  |207          |968     |1111|975        |0   |0   |316      |512       |219      |501       |\n",
      "|GT            |0   |0   |138 |138     |0     |0   |0   |0   |0  |0   |153 |0  |0            |138     |0   |138        |0   |0   |1        |72        |0        |71        |\n",
      "|BO            |0   |0   |135 |135     |0     |0   |133 |134 |0  |133 |0   |0  |0            |135     |0   |135        |123 |0   |20       |68        |14       |71        |\n",
      "|TM            |0   |0   |127 |127     |0     |0   |0   |0   |0  |0   |141 |0  |0            |127     |0   |127        |0   |0   |2        |73        |2        |59        |\n",
      "|CL            |0   |953 |1530|1659    |0     |0   |954 |936 |0  |1748|1907|0  |33           |1659    |954 |1659       |0   |0   |149      |863       |123      |845       |\n",
      "|FI            |0   |0   |404 |696     |0     |0   |790 |460 |0  |790 |790 |0  |0            |695     |290 |695        |0   |0   |300      |348       |221      |346       |\n",
      "|MN            |0   |156 |141 |141     |0     |0   |160 |160 |0  |160 |160 |0  |0            |141     |160 |141        |0   |0   |11       |74        |57       |72        |\n",
      "|NO            |0   |138 |177 |556     |0     |0   |636 |150 |0  |636 |636 |0  |0            |556     |0   |556        |0   |0   |284      |291       |262      |284       |\n",
      "|EE            |0   |0   |143 |143     |0     |0   |159 |159 |0  |159 |157 |0  |16           |143     |159 |143        |0   |0   |75       |73        |71       |71        |\n",
      "|LT            |0   |0   |139 |139     |0     |0   |0   |159 |0  |147 |147 |0  |0            |139     |159 |139        |0   |0   |34       |73        |35       |71        |\n",
      "|PL            |0   |2039|1264|1922    |0     |0   |2205|2203|0  |2205|1593|0  |305          |1922    |1891|1922       |0   |0   |955      |1000      |802      |992       |\n",
      "|CH            |0   |0   |139 |139     |0     |0   |159 |159 |0  |159 |158 |0  |0            |139     |159 |139        |0   |0   |74       |74        |72       |72        |\n",
      "|UG            |0   |0   |134 |134     |0     |0   |0   |0   |0  |0   |152 |0  |1            |133     |0   |134        |0   |0   |4        |67        |3        |70        |\n",
      "|CY            |0   |318 |276 |278     |0     |0   |318 |0   |0  |318 |159 |0  |0            |278     |317 |278        |0   |0   |106      |146       |31       |141       |\n",
      "|IS            |0   |105 |140 |141     |0     |0   |158 |0   |0  |146 |87  |0  |0            |141     |154 |141        |0   |0   |63       |75        |30       |72        |\n",
      "|SE            |0   |0   |340 |557     |0     |0   |628 |456 |0  |628 |616 |0  |0            |557     |0   |557        |0   |0   |235      |293       |191      |284       |\n",
      "|AE            |0   |133 |278 |278     |0     |0   |159 |313 |0  |159 |311 |0  |0            |278     |159 |278        |0   |0   |25       |147       |16       |141       |\n",
      "|KZ            |0   |0   |232 |233     |0     |0   |0   |0   |0  |0   |252 |0  |0            |233     |0   |233        |0   |0   |11       |104       |24       |138       |\n",
      "|AR            |0   |155 |109 |141     |0     |0   |149 |147 |0  |159 |151 |0  |22           |141     |122 |141        |0   |132 |75       |75        |72       |72        |\n",
      "|HR            |0   |315 |171 |420     |0     |0   |473 |306 |0  |313 |154 |0  |0            |420     |473 |420        |0   |0   |162      |223       |165      |213       |\n",
      "|RS            |0   |477 |315 |414     |0     |0   |477 |475 |0  |473 |473 |0  |6            |414     |477 |414        |0   |0   |120      |181       |47       |161       |\n",
      "|BA            |0   |362 |425 |427     |0     |0   |477 |477 |0  |318 |468 |0  |124          |426     |455 |426        |0   |0   |56       |228       |101      |215       |\n",
      "|GB            |0   |1176|871 |2806    |0     |0   |3179|3166|0  |3154|3158|0  |0            |2806    |2264|2806       |0   |0   |1446     |1466      |1302     |1408      |\n",
      "|FR            |0   |793 |3006|3756    |0     |0   |4280|4093|0  |4279|3766|0  |10           |3758    |1365|3759       |0   |0   |1747     |1947      |990      |1781      |\n",
      "|UZ            |0   |0   |139 |139     |0     |0   |0   |0   |0  |0   |159 |0  |0            |139     |0   |139        |0   |0   |2        |73        |5        |71        |\n",
      "|CO            |0   |313 |243 |289     |0     |0   |316 |316 |0  |316 |318 |0  |98           |290     |157 |290        |0   |138 |78       |147       |79       |147       |\n",
      "|PT            |0   |0   |139 |276     |0     |0   |293 |293 |0  |293 |293 |0  |0            |276     |291 |276        |0   |0   |143      |145       |95       |143       |\n",
      "|TJ            |0   |0   |139 |139     |0     |0   |0   |0   |0  |0   |159 |0  |0            |139     |0   |139        |0   |0   |1        |73        |3        |71        |\n",
      "|KR            |0   |3199|2805|2820    |0     |0   |3200|3200|0  |3200|3200|0  |1069         |2820    |3192|2820       |0   |2812|344      |1481      |430      |1439      |\n",
      "|UA            |0   |0   |1174|1206    |0     |0   |0   |0   |0  |1350|1350|0  |58           |1225    |0   |1206       |0   |0   |259      |586       |304      |640       |\n",
      "|BR            |0   |454 |383 |429     |0     |0   |476 |476 |0  |476 |476 |0  |0            |429     |467 |429        |0   |0   |215      |231       |153      |216       |\n",
      "|GN            |0   |0   |88  |88      |0     |0   |0   |0   |0  |0   |87  |0  |0            |88      |0   |88         |0   |0   |0        |23        |0        |67        |\n",
      "|IT            |0   |1441|1029|1688    |0     |0   |1555|1096|0  |1692|1855|0  |56           |1688    |1035|1688       |0   |0   |877      |882       |797      |798       |\n",
      "|RE            |0   |62  |139 |140     |0     |0   |157 |157 |0  |157 |157 |0  |51           |140     |157 |140        |0   |0   |73       |73        |71       |71        |\n",
      "|CZ            |0   |0   |530 |673     |0     |0   |750 |732 |0  |750 |750 |0  |134          |673     |708 |673        |0   |0   |340      |361       |317      |323       |\n",
      "|GH            |0   |0   |71  |71      |0     |0   |0   |0   |0  |0   |69  |0  |0            |71      |0   |71         |0   |0   |0        |5         |0        |68        |\n",
      "|GR            |0   |73  |139 |282     |0     |0   |313 |315 |0  |315 |315 |0  |0            |282     |294 |282        |0   |0   |148      |149       |144      |146       |\n",
      "|ZA            |0   |1006|900 |1610    |0     |0   |1590|1062|0  |1666|1664|0  |511          |1631    |1772|1610       |0   |1465|623      |869       |566      |801       |\n",
      "|LK            |0   |0   |139 |139     |0     |0   |0   |0   |0  |0   |159 |0  |0            |139     |0   |139        |0   |0   |0        |73        |2        |71        |\n",
      "|MX            |0   |1842|1432|1876    |0     |0   |1865|1856|0  |1864|1693|0  |24           |1876    |1896|1876       |0   |0   |517      |972       |415      |879       |\n",
      "|SK            |0   |318 |278 |278     |0     |0   |318 |0   |0  |318 |318 |0  |20           |278     |303 |278        |0   |0   |80       |146       |74       |142       |\n",
      "|MK            |0   |159 |139 |139     |0     |0   |159 |159 |0  |159 |159 |0  |0            |139     |159 |139        |0   |0   |64       |73        |20       |71        |\n",
      "|DZ            |0   |0   |139 |139     |0     |0   |0   |0   |0  |0   |157 |0  |0            |139     |0   |139        |0   |0   |9        |73        |6        |71        |\n",
      "|DK            |0   |158 |28  |138     |0     |0   |159 |159 |0  |159 |159 |0  |0            |139     |159 |138        |0   |0   |53       |73        |0        |70        |\n",
      "|NL            |0   |421 |457 |1543    |0     |0   |1749|1749|0  |1749|1749|0  |0            |1543    |953 |1541       |0   |0   |777      |778       |778      |778       |\n",
      "|LA            |0   |0   |139 |139     |0     |0   |0   |0   |0  |0   |157 |0  |0            |139     |0   |139        |0   |0   |1        |72        |1        |71        |\n",
      "|CA            |0   |1856|1084|1991    |0     |0   |2204|2220|0  |313 |2264|0  |0            |1991    |1801|1990       |0   |1   |1064     |1068      |1009     |1011      |\n",
      "|JP            |0   |4453|3715|4429    |0     |0   |5010|5004|0  |5009|5011|0  |1925         |4429    |4695|4429       |0   |0   |1960     |2313      |1257     |2228      |\n",
      "|CN            |200 |8283|7139|7347    |0     |0   |8283|7243|0  |8282|8283|104|1199         |7347    |8283|7347       |0   |0   |912      |3865      |1039     |3753      |\n",
      "|ET            |0   |0   |139 |139     |0     |0   |0   |0   |0  |0   |155 |0  |0            |139     |0   |139        |0   |0   |0        |73        |0        |71        |\n",
      "|PE            |0   |137 |139 |139     |0     |0   |137 |137 |0  |137 |157 |0  |0            |139     |137 |139        |0   |0   |0        |73        |0        |71        |\n",
      "|CR            |0   |0   |37  |138     |0     |0   |0   |0   |0  |0   |157 |0  |0            |138     |0   |138        |0   |0   |61       |72        |70       |71        |\n",
      "|XK            |0   |159 |0   |141     |0     |0   |159 |159 |0  |159 |159 |0  |0            |141     |159 |141        |0   |0   |75       |75        |72       |72        |\n",
      "|GE            |0   |95  |139 |139     |0     |0   |95  |95  |0  |95  |95  |0  |0            |139     |95  |139        |0   |0   |32       |73        |36       |71        |\n",
      "|EC            |0   |153 |137 |135     |0     |0   |0   |153 |0  |150 |153 |0  |96           |137     |153 |135        |0   |135 |58       |71        |4        |69        |\n",
      "|DE            |0   |798 |1414|2362    |0     |0   |2541|2380|0  |2699|1530|0  |6            |2363    |1171|2363       |0   |0   |1195     |1242      |1006     |1212      |\n",
      "+--------------+----+----+----+--------+------+----+----+----+---+----+----+---+-------------+--------+----+-----------+----+----+---------+----------+---------+----------+\n",
      "\n"
     ]
    }
   ],
   "source": [
    "df.crosstab(\"Country\",\"Specie\").show(df.count(), truncate=False)"
   ]
  },
  {
   "cell_type": "markdown",
   "metadata": {},
   "source": [
    "# Filtrar datos\n",
    "Podemos usar filter() para aplicar estadisticas descriptivas en un subconjunto de datos. Filtraremos los datos de Perú de toda la lista. En este caso para Specie pm1, pm10, pm25."
   ]
  },
  {
   "cell_type": "code",
   "execution_count": 62,
   "metadata": {},
   "outputs": [
    {
     "data": {
      "text/plain": [
       "294"
      ]
     },
     "execution_count": 62,
     "metadata": {},
     "output_type": "execute_result"
    }
   ],
   "source": [
    "df.filter((df.Country == 'PE') & ((df.Specie == 'pm25') | (df.Specie == 'pm10') | (df.Specie == 'pm1'))).count()"
   ]
  },
  {
   "cell_type": "markdown",
   "metadata": {},
   "source": [
    "Obtuvimos una cantidad de 294 datos, obtenidos en las fechas indicadas. Le asignaremos como un nuevo dataframe."
   ]
  },
  {
   "cell_type": "code",
   "execution_count": 75,
   "metadata": {},
   "outputs": [],
   "source": [
    "PEpm = df.filter((df.Country == 'PE') & ((df.Specie == 'pm25') | (df.Specie == 'pm10') | (df.Specie == 'pm1')))"
   ]
  },
  {
   "cell_type": "markdown",
   "metadata": {},
   "source": [
    "La columna Date se nos muestra como varibale tipo timestamp, para convertirlo a tipo Date hacemos lo siguiente:"
   ]
  },
  {
   "cell_type": "code",
   "execution_count": 76,
   "metadata": {},
   "outputs": [],
   "source": [
    "from pyspark.sql.types import *\n",
    "PEpm = PEpm.withColumn(\"Date\", PEpm[\"Date\"].cast(DateType()))"
   ]
  },
  {
   "cell_type": "code",
   "execution_count": 77,
   "metadata": {
    "scrolled": true
   },
   "outputs": [
    {
     "name": "stdout",
     "output_type": "stream",
     "text": [
      "root\n",
      " |-- Date: date (nullable = true)\n",
      " |-- Country: string (nullable = true)\n",
      " |-- City: string (nullable = true)\n",
      " |-- Specie: string (nullable = true)\n",
      " |-- count: integer (nullable = true)\n",
      " |-- min: double (nullable = true)\n",
      " |-- max: double (nullable = true)\n",
      " |-- median: double (nullable = true)\n",
      " |-- variance: double (nullable = true)\n",
      "\n"
     ]
    }
   ],
   "source": [
    "PEpm.printSchema()"
   ]
  },
  {
   "cell_type": "markdown",
   "metadata": {},
   "source": [
    "Como se observa se muestra como tipo Date. Ahora ordenaremos los datos primero por el tipo de Specie y luego por fecha. El dataframe solo nos muestra Specie pm10 y pm25, esto es debido a que no se cuenta con los valores de pm1 (no se hizo mediciones para estevalor). Ademas se seleciono solo los campor de Date, Country, City, Specie y count."
   ]
  },
  {
   "cell_type": "code",
   "execution_count": 135,
   "metadata": {},
   "outputs": [
    {
     "name": "stdout",
     "output_type": "stream",
     "text": [
      "+----------+-------+----+------+-----+\n",
      "|Date      |Country|City|Specie|count|\n",
      "+----------+-------+----+------+-----+\n",
      "|2019-12-30|PE     |Lima|pm10  |96   |\n",
      "|2019-12-31|PE     |Lima|pm10  |96   |\n",
      "|2020-01-01|PE     |Lima|pm10  |93   |\n",
      "|2020-01-02|PE     |Lima|pm10  |95   |\n",
      "|2020-01-03|PE     |Lima|pm10  |94   |\n",
      "|2020-01-04|PE     |Lima|pm10  |87   |\n",
      "|2020-01-05|PE     |Lima|pm10  |96   |\n",
      "|2020-01-06|PE     |Lima|pm10  |96   |\n",
      "|2020-01-07|PE     |Lima|pm10  |96   |\n",
      "|2020-01-08|PE     |Lima|pm10  |96   |\n",
      "|2020-01-09|PE     |Lima|pm10  |96   |\n",
      "|2020-01-10|PE     |Lima|pm10  |95   |\n",
      "|2020-01-11|PE     |Lima|pm10  |96   |\n",
      "|2020-01-12|PE     |Lima|pm10  |96   |\n",
      "|2020-01-13|PE     |Lima|pm10  |96   |\n",
      "|2020-01-14|PE     |Lima|pm10  |96   |\n",
      "|2020-01-15|PE     |Lima|pm10  |79   |\n",
      "|2020-01-16|PE     |Lima|pm10  |71   |\n",
      "|2020-01-17|PE     |Lima|pm10  |72   |\n",
      "|2020-01-18|PE     |Lima|pm10  |72   |\n",
      "|2020-01-19|PE     |Lima|pm10  |71   |\n",
      "|2020-01-20|PE     |Lima|pm10  |71   |\n",
      "|2020-01-21|PE     |Lima|pm10  |72   |\n",
      "|2020-01-22|PE     |Lima|pm10  |82   |\n",
      "|2020-01-23|PE     |Lima|pm10  |92   |\n",
      "|2020-01-24|PE     |Lima|pm10  |96   |\n",
      "|2020-01-25|PE     |Lima|pm10  |95   |\n",
      "|2020-01-26|PE     |Lima|pm10  |96   |\n",
      "|2020-01-27|PE     |Lima|pm10  |95   |\n",
      "|2020-01-28|PE     |Lima|pm10  |90   |\n",
      "|2020-01-29|PE     |Lima|pm10  |96   |\n",
      "|2020-01-30|PE     |Lima|pm10  |93   |\n",
      "|2020-01-31|PE     |Lima|pm10  |95   |\n",
      "|2020-02-01|PE     |Lima|pm10  |88   |\n",
      "|2020-02-02|PE     |Lima|pm10  |72   |\n",
      "|2020-02-03|PE     |Lima|pm10  |72   |\n",
      "|2020-02-04|PE     |Lima|pm10  |72   |\n",
      "|2020-02-05|PE     |Lima|pm10  |63   |\n",
      "|2020-02-06|PE     |Lima|pm10  |55   |\n",
      "|2020-02-07|PE     |Lima|pm10  |72   |\n",
      "|2020-02-08|PE     |Lima|pm10  |72   |\n",
      "|2020-02-09|PE     |Lima|pm10  |71   |\n",
      "|2020-02-10|PE     |Lima|pm10  |72   |\n",
      "|2020-02-11|PE     |Lima|pm10  |72   |\n",
      "|2020-02-12|PE     |Lima|pm10  |72   |\n",
      "|2020-02-13|PE     |Lima|pm10  |71   |\n",
      "|2020-02-14|PE     |Lima|pm10  |71   |\n",
      "|2020-02-15|PE     |Lima|pm10  |72   |\n",
      "|2020-02-16|PE     |Lima|pm10  |72   |\n",
      "|2020-02-17|PE     |Lima|pm10  |72   |\n",
      "|2020-02-18|PE     |Lima|pm10  |79   |\n",
      "|2020-02-19|PE     |Lima|pm10  |96   |\n",
      "|2020-02-20|PE     |Lima|pm10  |85   |\n",
      "|2020-02-21|PE     |Lima|pm10  |82   |\n",
      "|2020-02-22|PE     |Lima|pm10  |83   |\n",
      "|2020-02-23|PE     |Lima|pm10  |72   |\n",
      "|2020-02-24|PE     |Lima|pm10  |72   |\n",
      "|2020-02-25|PE     |Lima|pm10  |70   |\n",
      "|2020-02-26|PE     |Lima|pm10  |76   |\n",
      "|2020-02-27|PE     |Lima|pm10  |96   |\n",
      "|2020-02-28|PE     |Lima|pm10  |96   |\n",
      "|2020-02-29|PE     |Lima|pm10  |96   |\n",
      "|2020-03-01|PE     |Lima|pm10  |95   |\n",
      "|2020-03-02|PE     |Lima|pm10  |96   |\n",
      "|2020-03-03|PE     |Lima|pm10  |96   |\n",
      "|2020-03-04|PE     |Lima|pm10  |92   |\n",
      "|2020-03-05|PE     |Lima|pm10  |96   |\n",
      "|2020-03-06|PE     |Lima|pm10  |39   |\n",
      "|2020-03-29|PE     |Lima|pm10  |100  |\n",
      "|2020-03-30|PE     |Lima|pm10  |120  |\n",
      "|2020-03-31|PE     |Lima|pm10  |99   |\n",
      "|2020-04-01|PE     |Lima|pm10  |120  |\n",
      "|2020-04-02|PE     |Lima|pm10  |120  |\n",
      "|2020-04-03|PE     |Lima|pm10  |120  |\n",
      "|2020-04-04|PE     |Lima|pm10  |120  |\n",
      "|2020-04-05|PE     |Lima|pm10  |100  |\n",
      "|2020-04-06|PE     |Lima|pm10  |120  |\n",
      "|2020-04-07|PE     |Lima|pm10  |120  |\n",
      "|2020-04-08|PE     |Lima|pm10  |120  |\n",
      "|2020-04-09|PE     |Lima|pm10  |120  |\n",
      "|2020-04-10|PE     |Lima|pm10  |120  |\n",
      "|2020-04-11|PE     |Lima|pm10  |120  |\n",
      "|2020-04-12|PE     |Lima|pm10  |120  |\n",
      "|2020-04-13|PE     |Lima|pm10  |120  |\n",
      "|2020-04-14|PE     |Lima|pm10  |120  |\n",
      "|2020-04-15|PE     |Lima|pm10  |120  |\n",
      "|2020-04-16|PE     |Lima|pm10  |120  |\n",
      "|2020-04-17|PE     |Lima|pm10  |118  |\n",
      "|2020-04-18|PE     |Lima|pm10  |105  |\n",
      "|2020-04-19|PE     |Lima|pm10  |120  |\n",
      "|2020-04-20|PE     |Lima|pm10  |119  |\n",
      "|2020-04-21|PE     |Lima|pm10  |118  |\n",
      "|2020-04-22|PE     |Lima|pm10  |120  |\n",
      "|2020-04-23|PE     |Lima|pm10  |120  |\n",
      "|2020-04-24|PE     |Lima|pm10  |120  |\n",
      "|2020-04-25|PE     |Lima|pm10  |120  |\n",
      "|2020-04-26|PE     |Lima|pm10  |119  |\n",
      "|2020-04-27|PE     |Lima|pm10  |120  |\n",
      "|2020-04-28|PE     |Lima|pm10  |120  |\n",
      "|2020-04-29|PE     |Lima|pm10  |120  |\n",
      "|2020-04-30|PE     |Lima|pm10  |120  |\n",
      "|2020-05-01|PE     |Lima|pm10  |120  |\n",
      "|2020-05-02|PE     |Lima|pm10  |120  |\n",
      "|2020-05-03|PE     |Lima|pm10  |120  |\n",
      "|2020-05-04|PE     |Lima|pm10  |120  |\n",
      "|2020-05-05|PE     |Lima|pm10  |120  |\n",
      "|2020-05-06|PE     |Lima|pm10  |120  |\n",
      "|2020-05-07|PE     |Lima|pm10  |120  |\n",
      "|2020-05-08|PE     |Lima|pm10  |120  |\n",
      "|2020-05-09|PE     |Lima|pm10  |120  |\n",
      "|2020-05-10|PE     |Lima|pm10  |120  |\n",
      "|2020-05-11|PE     |Lima|pm10  |120  |\n",
      "|2020-05-12|PE     |Lima|pm10  |120  |\n",
      "|2020-05-13|PE     |Lima|pm10  |119  |\n",
      "|2020-05-14|PE     |Lima|pm10  |120  |\n",
      "|2020-05-15|PE     |Lima|pm10  |120  |\n",
      "|2020-05-16|PE     |Lima|pm10  |120  |\n",
      "|2020-05-17|PE     |Lima|pm10  |120  |\n",
      "|2020-05-18|PE     |Lima|pm10  |120  |\n",
      "|2020-05-19|PE     |Lima|pm10  |120  |\n",
      "|2020-05-20|PE     |Lima|pm10  |120  |\n",
      "|2020-05-21|PE     |Lima|pm10  |120  |\n",
      "|2020-05-22|PE     |Lima|pm10  |120  |\n",
      "|2020-05-23|PE     |Lima|pm10  |120  |\n",
      "|2020-05-24|PE     |Lima|pm10  |120  |\n",
      "|2020-05-25|PE     |Lima|pm10  |119  |\n",
      "|2020-05-26|PE     |Lima|pm10  |120  |\n",
      "|2020-05-27|PE     |Lima|pm10  |120  |\n",
      "|2020-05-28|PE     |Lima|pm10  |117  |\n",
      "|2020-05-29|PE     |Lima|pm10  |120  |\n",
      "|2020-05-30|PE     |Lima|pm10  |120  |\n",
      "|2020-05-31|PE     |Lima|pm10  |119  |\n",
      "|2020-06-01|PE     |Lima|pm10  |120  |\n",
      "|2020-06-02|PE     |Lima|pm10  |120  |\n",
      "|2020-06-03|PE     |Lima|pm10  |120  |\n",
      "|2020-06-04|PE     |Lima|pm10  |119  |\n",
      "|2020-06-05|PE     |Lima|pm10  |72   |\n",
      "|2019-12-30|PE     |Lima|pm25  |48   |\n",
      "|2019-12-31|PE     |Lima|pm25  |48   |\n",
      "|2020-01-01|PE     |Lima|pm25  |46   |\n",
      "|2020-01-02|PE     |Lima|pm25  |48   |\n",
      "|2020-01-03|PE     |Lima|pm25  |48   |\n",
      "|2020-01-04|PE     |Lima|pm25  |39   |\n",
      "|2020-01-05|PE     |Lima|pm25  |48   |\n",
      "|2020-01-06|PE     |Lima|pm25  |48   |\n",
      "|2020-01-07|PE     |Lima|pm25  |48   |\n",
      "|2020-01-08|PE     |Lima|pm25  |48   |\n",
      "|2020-01-09|PE     |Lima|pm25  |40   |\n",
      "|2020-01-10|PE     |Lima|pm25  |48   |\n",
      "|2020-01-11|PE     |Lima|pm25  |48   |\n",
      "|2020-01-12|PE     |Lima|pm25  |46   |\n",
      "|2020-01-13|PE     |Lima|pm25  |48   |\n",
      "|2020-01-14|PE     |Lima|pm25  |48   |\n",
      "|2020-01-15|PE     |Lima|pm25  |33   |\n",
      "|2020-01-16|PE     |Lima|pm25  |24   |\n",
      "|2020-01-17|PE     |Lima|pm25  |24   |\n",
      "|2020-01-18|PE     |Lima|pm25  |24   |\n",
      "|2020-01-19|PE     |Lima|pm25  |24   |\n",
      "|2020-01-20|PE     |Lima|pm25  |24   |\n",
      "|2020-01-21|PE     |Lima|pm25  |24   |\n",
      "|2020-01-22|PE     |Lima|pm25  |34   |\n",
      "|2020-01-23|PE     |Lima|pm25  |47   |\n",
      "|2020-01-24|PE     |Lima|pm25  |48   |\n",
      "|2020-01-25|PE     |Lima|pm25  |48   |\n",
      "|2020-01-26|PE     |Lima|pm25  |48   |\n",
      "|2020-01-27|PE     |Lima|pm25  |48   |\n",
      "|2020-01-28|PE     |Lima|pm25  |48   |\n",
      "|2020-01-29|PE     |Lima|pm25  |48   |\n",
      "|2020-01-30|PE     |Lima|pm25  |48   |\n",
      "|2020-01-31|PE     |Lima|pm25  |48   |\n",
      "|2020-02-01|PE     |Lima|pm25  |47   |\n",
      "|2020-02-02|PE     |Lima|pm25  |48   |\n",
      "|2020-02-03|PE     |Lima|pm25  |48   |\n",
      "|2020-02-04|PE     |Lima|pm25  |48   |\n",
      "|2020-02-05|PE     |Lima|pm25  |48   |\n",
      "|2020-02-06|PE     |Lima|pm25  |48   |\n",
      "|2020-02-07|PE     |Lima|pm25  |48   |\n",
      "|2020-02-08|PE     |Lima|pm25  |48   |\n",
      "|2020-02-09|PE     |Lima|pm25  |48   |\n",
      "|2020-02-10|PE     |Lima|pm25  |48   |\n",
      "|2020-02-11|PE     |Lima|pm25  |48   |\n",
      "|2020-02-12|PE     |Lima|pm25  |47   |\n",
      "|2020-02-13|PE     |Lima|pm25  |48   |\n",
      "|2020-02-14|PE     |Lima|pm25  |48   |\n",
      "|2020-02-15|PE     |Lima|pm25  |48   |\n",
      "|2020-02-16|PE     |Lima|pm25  |48   |\n",
      "|2020-02-17|PE     |Lima|pm25  |48   |\n",
      "|2020-02-18|PE     |Lima|pm25  |54   |\n",
      "|2020-02-19|PE     |Lima|pm25  |72   |\n",
      "|2020-02-20|PE     |Lima|pm25  |71   |\n",
      "|2020-02-21|PE     |Lima|pm25  |75   |\n",
      "|2020-02-22|PE     |Lima|pm25  |75   |\n",
      "|2020-02-23|PE     |Lima|pm25  |72   |\n",
      "|2020-02-24|PE     |Lima|pm25  |84   |\n",
      "|2020-02-25|PE     |Lima|pm25  |96   |\n",
      "|2020-02-26|PE     |Lima|pm25  |90   |\n",
      "|2020-02-27|PE     |Lima|pm25  |104  |\n",
      "|2020-02-28|PE     |Lima|pm25  |119  |\n",
      "|2020-02-29|PE     |Lima|pm25  |113  |\n",
      "|2020-03-01|PE     |Lima|pm25  |112  |\n",
      "|2020-03-02|PE     |Lima|pm25  |84   |\n",
      "|2020-03-03|PE     |Lima|pm25  |82   |\n",
      "|2020-03-04|PE     |Lima|pm25  |116  |\n",
      "|2020-03-05|PE     |Lima|pm25  |141  |\n",
      "|2020-03-06|PE     |Lima|pm25  |68   |\n",
      "|2020-03-07|PE     |Lima|pm25  |24   |\n",
      "|2020-03-08|PE     |Lima|pm25  |24   |\n",
      "|2020-03-09|PE     |Lima|pm25  |24   |\n",
      "|2020-03-10|PE     |Lima|pm25  |24   |\n",
      "|2020-03-11|PE     |Lima|pm25  |24   |\n",
      "|2020-03-12|PE     |Lima|pm25  |24   |\n",
      "|2020-03-13|PE     |Lima|pm25  |24   |\n",
      "|2020-03-14|PE     |Lima|pm25  |23   |\n",
      "|2020-03-15|PE     |Lima|pm25  |24   |\n",
      "|2020-03-16|PE     |Lima|pm25  |24   |\n",
      "|2020-03-17|PE     |Lima|pm25  |24   |\n",
      "|2020-03-18|PE     |Lima|pm25  |23   |\n",
      "|2020-03-21|PE     |Lima|pm25  |15   |\n",
      "|2020-03-22|PE     |Lima|pm25  |24   |\n",
      "|2020-03-23|PE     |Lima|pm25  |24   |\n",
      "|2020-03-24|PE     |Lima|pm25  |24   |\n",
      "|2020-03-25|PE     |Lima|pm25  |24   |\n",
      "|2020-03-26|PE     |Lima|pm25  |23   |\n",
      "|2020-03-27|PE     |Lima|pm25  |24   |\n",
      "|2020-03-28|PE     |Lima|pm25  |24   |\n",
      "|2020-03-29|PE     |Lima|pm25  |120  |\n",
      "|2020-03-30|PE     |Lima|pm25  |141  |\n",
      "|2020-03-31|PE     |Lima|pm25  |123  |\n",
      "|2020-04-01|PE     |Lima|pm25  |141  |\n",
      "|2020-04-02|PE     |Lima|pm25  |143  |\n",
      "|2020-04-03|PE     |Lima|pm25  |141  |\n",
      "|2020-04-04|PE     |Lima|pm25  |138  |\n",
      "|2020-04-05|PE     |Lima|pm25  |121  |\n",
      "|2020-04-06|PE     |Lima|pm25  |143  |\n",
      "|2020-04-07|PE     |Lima|pm25  |142  |\n",
      "|2020-04-08|PE     |Lima|pm25  |140  |\n",
      "|2020-04-09|PE     |Lima|pm25  |138  |\n",
      "|2020-04-10|PE     |Lima|pm25  |139  |\n",
      "|2020-04-11|PE     |Lima|pm25  |141  |\n",
      "|2020-04-12|PE     |Lima|pm25  |139  |\n",
      "|2020-04-13|PE     |Lima|pm25  |142  |\n",
      "|2020-04-14|PE     |Lima|pm25  |142  |\n",
      "|2020-04-15|PE     |Lima|pm25  |143  |\n",
      "|2020-04-16|PE     |Lima|pm25  |141  |\n",
      "|2020-04-17|PE     |Lima|pm25  |141  |\n",
      "|2020-04-18|PE     |Lima|pm25  |128  |\n",
      "|2020-04-19|PE     |Lima|pm25  |140  |\n",
      "|2020-04-20|PE     |Lima|pm25  |143  |\n",
      "|2020-04-21|PE     |Lima|pm25  |129  |\n",
      "|2020-04-22|PE     |Lima|pm25  |120  |\n",
      "|2020-04-23|PE     |Lima|pm25  |108  |\n",
      "|2020-04-24|PE     |Lima|pm25  |111  |\n",
      "|2020-04-25|PE     |Lima|pm25  |119  |\n",
      "|2020-04-26|PE     |Lima|pm25  |120  |\n",
      "|2020-04-27|PE     |Lima|pm25  |119  |\n",
      "|2020-04-28|PE     |Lima|pm25  |120  |\n",
      "|2020-04-29|PE     |Lima|pm25  |118  |\n",
      "|2020-04-30|PE     |Lima|pm25  |120  |\n",
      "|2020-05-01|PE     |Lima|pm25  |120  |\n",
      "|2020-05-02|PE     |Lima|pm25  |120  |\n",
      "|2020-05-03|PE     |Lima|pm25  |120  |\n",
      "|2020-05-04|PE     |Lima|pm25  |116  |\n",
      "|2020-05-05|PE     |Lima|pm25  |108  |\n",
      "|2020-05-06|PE     |Lima|pm25  |119  |\n",
      "|2020-05-07|PE     |Lima|pm25  |120  |\n",
      "|2020-05-08|PE     |Lima|pm25  |120  |\n",
      "|2020-05-09|PE     |Lima|pm25  |120  |\n",
      "|2020-05-10|PE     |Lima|pm25  |119  |\n",
      "|2020-05-11|PE     |Lima|pm25  |120  |\n",
      "|2020-05-12|PE     |Lima|pm25  |120  |\n",
      "|2020-05-13|PE     |Lima|pm25  |119  |\n",
      "|2020-05-14|PE     |Lima|pm25  |117  |\n",
      "|2020-05-15|PE     |Lima|pm25  |120  |\n",
      "|2020-05-16|PE     |Lima|pm25  |120  |\n",
      "|2020-05-17|PE     |Lima|pm25  |120  |\n",
      "|2020-05-18|PE     |Lima|pm25  |120  |\n",
      "|2020-05-19|PE     |Lima|pm25  |120  |\n",
      "|2020-05-20|PE     |Lima|pm25  |120  |\n",
      "|2020-05-21|PE     |Lima|pm25  |120  |\n",
      "|2020-05-22|PE     |Lima|pm25  |119  |\n",
      "|2020-05-23|PE     |Lima|pm25  |120  |\n",
      "|2020-05-24|PE     |Lima|pm25  |119  |\n",
      "|2020-05-25|PE     |Lima|pm25  |120  |\n",
      "|2020-05-26|PE     |Lima|pm25  |120  |\n",
      "|2020-05-27|PE     |Lima|pm25  |120  |\n",
      "|2020-05-28|PE     |Lima|pm25  |120  |\n",
      "|2020-05-29|PE     |Lima|pm25  |120  |\n",
      "|2020-05-30|PE     |Lima|pm25  |120  |\n",
      "|2020-05-31|PE     |Lima|pm25  |119  |\n",
      "|2020-06-01|PE     |Lima|pm25  |120  |\n",
      "|2020-06-02|PE     |Lima|pm25  |120  |\n",
      "|2020-06-03|PE     |Lima|pm25  |120  |\n",
      "|2020-06-04|PE     |Lima|pm25  |120  |\n",
      "|2020-06-05|PE     |Lima|pm25  |74   |\n",
      "+----------+-------+----+------+-----+\n",
      "\n"
     ]
    }
   ],
   "source": [
    "PEpm.orderBy('Specie','Date').select('Date','Country','City','Specie','count').show(PEpm.count(), truncate=False)"
   ]
  },
  {
   "cell_type": "code",
   "execution_count": 136,
   "metadata": {},
   "outputs": [],
   "source": [
    "#from pyspark.sql.types import *\n",
    "#PEpmnew = PEpm.withColumn(\"Date\", PEpm[\"Date\"].cast(DateType()))\n",
    "#PEpmnew.printSchema()\n",
    "#PEpmnew.orderBy('Date').show()"
   ]
  },
  {
   "cell_type": "code",
   "execution_count": 137,
   "metadata": {},
   "outputs": [
    {
     "name": "stdout",
     "output_type": "stream",
     "text": [
      "+-------+------+------------------+\n",
      "|summary|Specie|             count|\n",
      "+-------+------+------------------+\n",
      "|  count|   137|               137|\n",
      "|   mean|  null|100.94160583941606|\n",
      "| stddev|  null| 20.14242173336343|\n",
      "|    min|  pm10|                39|\n",
      "|    max|  pm10|               120|\n",
      "+-------+------+------------------+\n",
      "\n"
     ]
    }
   ],
   "source": [
    "PEpm.filter(df.Specie == 'pm10').describe('Specie', 'count').show()"
   ]
  },
  {
   "cell_type": "code",
   "execution_count": 138,
   "metadata": {},
   "outputs": [
    {
     "name": "stdout",
     "output_type": "stream",
     "text": [
      "+-------+------+-----------------+\n",
      "|summary|Specie|            count|\n",
      "+-------+------+-----------------+\n",
      "|  count|   157|              157|\n",
      "|   mean|  null|82.17834394904459|\n",
      "| stddev|  null|43.05951504257164|\n",
      "|    min|  pm25|               15|\n",
      "|    max|  pm25|              143|\n",
      "+-------+------+-----------------+\n",
      "\n"
     ]
    }
   ],
   "source": [
    "PEpm.filter(df.Specie == 'pm25').describe('Specie', 'count').show()"
   ]
  },
  {
   "cell_type": "code",
   "execution_count": 139,
   "metadata": {},
   "outputs": [
    {
     "data": {
      "text/plain": [
       "Row(min(count)=15)"
      ]
     },
     "execution_count": 139,
     "metadata": {},
     "output_type": "execute_result"
    }
   ],
   "source": [
    "from pyspark.sql.functions import *\n",
    "PEpm.filter(df.Specie == 'pm25').select(min(\"count\")).first()\n",
    "#PEpm['Specie'].max()"
   ]
  },
  {
   "cell_type": "code",
   "execution_count": 140,
   "metadata": {},
   "outputs": [
    {
     "data": {
      "text/plain": [
       "Row(max(count)=143)"
      ]
     },
     "execution_count": 140,
     "metadata": {},
     "output_type": "execute_result"
    }
   ],
   "source": [
    "from pyspark.sql.functions import *\n",
    "PEpm.filter(df.Specie == 'pm25').select(max(\"count\")).first()"
   ]
  },
  {
   "cell_type": "code",
   "execution_count": null,
   "metadata": {},
   "outputs": [],
   "source": []
  },
  {
   "cell_type": "code",
   "execution_count": null,
   "metadata": {},
   "outputs": [],
   "source": []
  },
  {
   "cell_type": "code",
   "execution_count": null,
   "metadata": {},
   "outputs": [],
   "source": []
  },
  {
   "cell_type": "code",
   "execution_count": null,
   "metadata": {},
   "outputs": [],
   "source": []
  },
  {
   "cell_type": "code",
   "execution_count": null,
   "metadata": {},
   "outputs": [],
   "source": []
  },
  {
   "cell_type": "markdown",
   "metadata": {},
   "source": [
    "# Analisis para cada Specie Perú\n",
    "A continuacíon se mostrará gráficas para las Species segun la fecha de medicíon.En este caso solo es esta tomando los valores para Perú."
   ]
  },
  {
   "cell_type": "markdown",
   "metadata": {},
   "source": [
    "# PM2.5 - PM10: \n",
    "Se denomina pm10 a las pequeñas partículas sólidas o líquidas de polvo, cenizas, hollín, partículas metálicas, cemento o polen, dispersas en la atmósfera, y cuyo diámetro aerodinámico es menor que 10 µm y a la fracción respirable más pequeña, PM2,5. Estas últimas están constituidas por aquellas partículas de diámetro aerodinámico inferior o igual a los 2,5 micrómetros, es decir, son 100 veces más delgadas que un cabello humano. Los efectos que las partículas causan en la salud de las personas han estado históricamente asociados a la exacerbación de enfermedades de tipo respiratorio, tales como la bronquitis, y más recientemente también se han analizado y demostrado sus efectos sobre dolencias de tipo cardiovascular.\n",
    "https://www.ecologistasenaccion.org/17842/que-son-las-pm25-y-como-afectan-a-nuestra-salud/ //\n",
    "https://www.ecologistasenaccion.org/5686/particulas-en-suspension-pm10/"
   ]
  },
  {
   "cell_type": "markdown",
   "metadata": {},
   "source": [
    "Primero del dataframe solo tomaremos las columnas Country y Species, pero aplicando un filtro para solo mostrar los valores de Peú y pm10 - pm25."
   ]
  },
  {
   "cell_type": "code",
   "execution_count": 153,
   "metadata": {},
   "outputs": [
    {
     "data": {
      "text/plain": [
       "DataFrame[Date: date, Country: string, City: string, Specie: string, count: int, min: double, max: double, median: double, variance: double]"
      ]
     },
     "execution_count": 153,
     "metadata": {},
     "output_type": "execute_result"
    }
   ],
   "source": [
    "PEpm10 = df.filter((df.Country == 'PE') & (df.Specie == 'pm10'))\n",
    "PEpm10 = PEpm10.withColumn(\"Date\", PEpm10[\"Date\"].cast(DateType()))"
   ]
  },
  {
   "cell_type": "code",
   "execution_count": 174,
   "metadata": {
    "scrolled": false
   },
   "outputs": [
    {
     "name": "stdout",
     "output_type": "stream",
     "text": [
      "root\n",
      " |-- Date: date (nullable = true)\n",
      " |-- Country: string (nullable = true)\n",
      " |-- City: string (nullable = true)\n",
      " |-- Specie: string (nullable = true)\n",
      " |-- count: integer (nullable = true)\n",
      " |-- min: double (nullable = true)\n",
      " |-- max: double (nullable = true)\n",
      " |-- median: double (nullable = true)\n",
      " |-- variance: double (nullable = true)\n",
      "\n"
     ]
    }
   ],
   "source": [
    "PEpm10.printSchema()"
   ]
  },
  {
   "cell_type": "code",
   "execution_count": 191,
   "metadata": {},
   "outputs": [],
   "source": [
    "PEpm25 = df.filter((df.Country == 'PE') & (df.Specie == 'pm25'))\n",
    "PEpm25 = PEpm25.withColumn(\"Date\", PEpm25[\"Date\"].cast(DateType()))"
   ]
  },
  {
   "cell_type": "code",
   "execution_count": 183,
   "metadata": {},
   "outputs": [],
   "source": [
    "PEpm10 = PEpm10.orderBy('Date').filter((df.Country == 'PE') & (df.Specie == 'pm10'))"
   ]
  },
  {
   "cell_type": "code",
   "execution_count": 192,
   "metadata": {
    "scrolled": true
   },
   "outputs": [
    {
     "name": "stdout",
     "output_type": "stream",
     "text": [
      "+----------+-------+----+------+-----+----+-----+------+--------+\n",
      "|Date      |Country|City|Specie|count|min |max  |median|variance|\n",
      "+----------+-------+----+------+-----+----+-----+------+--------+\n",
      "|2019-12-30|PE     |Lima|pm10  |96   |1.0 |108.0|23.0  |6705.01 |\n",
      "|2019-12-31|PE     |Lima|pm10  |96   |1.0 |85.0 |28.0  |6465.92 |\n",
      "|2020-01-01|PE     |Lima|pm10  |93   |1.0 |524.0|31.0  |57373.6 |\n",
      "|2020-01-02|PE     |Lima|pm10  |95   |1.0 |78.0 |21.0  |4477.25 |\n",
      "|2020-01-03|PE     |Lima|pm10  |94   |1.0 |92.0 |20.0  |5200.48 |\n",
      "|2020-01-04|PE     |Lima|pm10  |87   |1.0 |87.0 |24.0  |5497.88 |\n",
      "|2020-01-05|PE     |Lima|pm10  |96   |1.0 |91.0 |21.0  |4759.43 |\n",
      "|2020-01-06|PE     |Lima|pm10  |96   |1.0 |86.0 |21.0  |4465.46 |\n",
      "|2020-01-07|PE     |Lima|pm10  |96   |1.0 |67.0 |19.0  |3680.79 |\n",
      "|2020-01-08|PE     |Lima|pm10  |96   |1.0 |103.0|21.0  |5561.86 |\n",
      "|2020-01-09|PE     |Lima|pm10  |96   |1.0 |79.0 |22.0  |4787.56 |\n",
      "|2020-01-10|PE     |Lima|pm10  |95   |1.0 |84.0 |25.0  |5743.4  |\n",
      "|2020-01-11|PE     |Lima|pm10  |96   |2.0 |81.0 |22.0  |4830.1  |\n",
      "|2020-01-12|PE     |Lima|pm10  |96   |2.0 |69.0 |33.0  |4433.04 |\n",
      "|2020-01-13|PE     |Lima|pm10  |96   |1.0 |80.0 |38.0  |5019.21 |\n",
      "|2020-01-14|PE     |Lima|pm10  |96   |2.0 |75.0 |31.0  |4998.95 |\n",
      "|2020-01-15|PE     |Lima|pm10  |79   |1.0 |61.0 |24.0  |4193.47 |\n",
      "|2020-01-16|PE     |Lima|pm10  |71   |2.0 |83.0 |49.0  |6700.66 |\n",
      "|2020-01-17|PE     |Lima|pm10  |72   |1.0 |80.0 |38.0  |5801.74 |\n",
      "|2020-01-18|PE     |Lima|pm10  |72   |1.0 |83.0 |31.0  |6400.51 |\n",
      "|2020-01-19|PE     |Lima|pm10  |71   |2.0 |68.0 |31.0  |3750.08 |\n",
      "|2020-01-20|PE     |Lima|pm10  |71   |1.0 |86.0 |25.0  |4212.11 |\n",
      "|2020-01-21|PE     |Lima|pm10  |72   |1.0 |99.0 |36.0  |7418.28 |\n",
      "|2020-01-22|PE     |Lima|pm10  |82   |1.0 |96.0 |30.0  |5091.3  |\n",
      "|2020-01-23|PE     |Lima|pm10  |92   |1.0 |86.0 |38.0  |5694.64 |\n",
      "|2020-01-24|PE     |Lima|pm10  |96   |2.0 |70.0 |29.0  |3731.33 |\n",
      "|2020-01-25|PE     |Lima|pm10  |95   |1.0 |470.0|23.0  |27549.5 |\n",
      "|2020-01-26|PE     |Lima|pm10  |96   |1.0 |79.0 |24.0  |3195.29 |\n",
      "|2020-01-27|PE     |Lima|pm10  |95   |1.0 |67.0 |23.0  |2960.73 |\n",
      "|2020-01-28|PE     |Lima|pm10  |90   |1.0 |67.0 |19.0  |2492.4  |\n",
      "|2020-01-29|PE     |Lima|pm10  |96   |1.0 |61.0 |18.0  |2234.79 |\n",
      "|2020-01-30|PE     |Lima|pm10  |93   |1.0 |78.0 |18.0  |4211.63 |\n",
      "|2020-01-31|PE     |Lima|pm10  |95   |1.0 |97.0 |28.0  |4958.47 |\n",
      "|2020-02-01|PE     |Lima|pm10  |88   |1.0 |73.0 |22.0  |3575.17 |\n",
      "|2020-02-02|PE     |Lima|pm10  |72   |1.0 |80.0 |31.0  |3226.32 |\n",
      "|2020-02-03|PE     |Lima|pm10  |72   |13.0|75.0 |32.0  |2000.09 |\n",
      "|2020-02-04|PE     |Lima|pm10  |72   |5.0 |67.0 |33.0  |1808.23 |\n",
      "|2020-02-05|PE     |Lima|pm10  |63   |2.0 |85.0 |34.0  |3552.63 |\n",
      "|2020-02-06|PE     |Lima|pm10  |55   |1.0 |83.0 |33.0  |4060.82 |\n",
      "|2020-02-07|PE     |Lima|pm10  |72   |1.0 |85.0 |43.0  |3080.53 |\n",
      "|2020-02-08|PE     |Lima|pm10  |72   |1.0 |70.0 |37.0  |2386.43 |\n",
      "|2020-02-09|PE     |Lima|pm10  |71   |1.0 |71.0 |32.0  |2603.46 |\n",
      "|2020-02-10|PE     |Lima|pm10  |72   |1.0 |166.0|48.0  |7293.22 |\n",
      "|2020-02-11|PE     |Lima|pm10  |72   |1.0 |85.0 |43.0  |2968.51 |\n",
      "|2020-02-12|PE     |Lima|pm10  |72   |7.0 |67.0 |32.0  |2500.77 |\n",
      "|2020-02-13|PE     |Lima|pm10  |71   |1.0 |98.0 |25.0  |5685.23 |\n",
      "|2020-02-14|PE     |Lima|pm10  |71   |1.0 |110.0|23.0  |3302.42 |\n",
      "|2020-02-15|PE     |Lima|pm10  |72   |1.0 |68.0 |22.0  |2217.73 |\n",
      "|2020-02-16|PE     |Lima|pm10  |72   |1.0 |65.0 |20.0  |2074.26 |\n",
      "|2020-02-17|PE     |Lima|pm10  |72   |1.0 |63.0 |22.0  |1861.69 |\n",
      "|2020-02-18|PE     |Lima|pm10  |79   |1.0 |77.0 |25.0  |2605.25 |\n",
      "|2020-02-19|PE     |Lima|pm10  |96   |1.0 |68.0 |28.0  |1354.44 |\n",
      "|2020-02-20|PE     |Lima|pm10  |85   |2.0 |92.0 |31.0  |3081.34 |\n",
      "|2020-02-21|PE     |Lima|pm10  |82   |1.0 |50.0 |30.0  |967.28  |\n",
      "|2020-02-22|PE     |Lima|pm10  |83   |6.0 |81.0 |23.0  |1191.0  |\n",
      "|2020-02-23|PE     |Lima|pm10  |72   |14.0|35.0 |24.0  |476.74  |\n",
      "|2020-02-24|PE     |Lima|pm10  |72   |13.0|40.0 |24.0  |614.92  |\n",
      "|2020-02-25|PE     |Lima|pm10  |70   |13.0|36.0 |25.0  |617.09  |\n",
      "|2020-02-26|PE     |Lima|pm10  |76   |1.0 |75.0 |27.0  |2106.4  |\n",
      "|2020-02-27|PE     |Lima|pm10  |96   |13.0|139.0|36.0  |7052.38 |\n",
      "|2020-02-28|PE     |Lima|pm10  |96   |13.0|134.0|32.0  |9312.21 |\n",
      "|2020-02-29|PE     |Lima|pm10  |96   |15.0|138.0|37.0  |11197.6 |\n",
      "|2020-03-01|PE     |Lima|pm10  |95   |7.0 |128.0|25.0  |7182.22 |\n",
      "|2020-03-02|PE     |Lima|pm10  |96   |13.0|130.0|26.0  |9558.93 |\n",
      "|2020-03-03|PE     |Lima|pm10  |96   |12.0|105.0|26.0  |6554.31 |\n",
      "|2020-03-04|PE     |Lima|pm10  |92   |13.0|141.0|31.0  |9471.04 |\n",
      "|2020-03-05|PE     |Lima|pm10  |96   |15.0|166.0|33.0  |10535.1 |\n",
      "|2020-03-06|PE     |Lima|pm10  |39   |14.0|95.0 |25.0  |4378.95 |\n",
      "|2020-03-29|PE     |Lima|pm10  |100  |15.0|79.0 |23.0  |2765.14 |\n",
      "|2020-03-30|PE     |Lima|pm10  |120  |14.0|85.0 |25.0  |4043.41 |\n",
      "|2020-03-31|PE     |Lima|pm10  |99   |14.0|71.0 |24.0  |2907.81 |\n",
      "|2020-04-01|PE     |Lima|pm10  |120  |14.0|92.0 |25.0  |3341.68 |\n",
      "|2020-04-02|PE     |Lima|pm10  |120  |16.0|110.0|25.0  |4038.43 |\n",
      "|2020-04-03|PE     |Lima|pm10  |120  |12.0|83.0 |25.0  |3394.29 |\n",
      "|2020-04-04|PE     |Lima|pm10  |120  |11.0|80.0 |22.0  |2480.66 |\n",
      "|2020-04-05|PE     |Lima|pm10  |100  |11.0|65.0 |21.0  |862.34  |\n",
      "|2020-04-06|PE     |Lima|pm10  |120  |11.0|106.0|22.0  |4341.31 |\n",
      "|2020-04-07|PE     |Lima|pm10  |120  |7.0 |93.0 |20.0  |4484.88 |\n",
      "|2020-04-08|PE     |Lima|pm10  |120  |10.0|108.0|20.0  |4197.76 |\n",
      "|2020-04-09|PE     |Lima|pm10  |120  |8.0 |57.0 |20.0  |1013.5  |\n",
      "|2020-04-10|PE     |Lima|pm10  |120  |10.0|51.0 |19.0  |901.4   |\n",
      "|2020-04-11|PE     |Lima|pm10  |120  |9.0 |97.0 |20.0  |4416.54 |\n",
      "|2020-04-12|PE     |Lima|pm10  |120  |11.0|57.0 |19.0  |896.44  |\n",
      "|2020-04-13|PE     |Lima|pm10  |120  |12.0|104.0|25.0  |4615.29 |\n",
      "|2020-04-14|PE     |Lima|pm10  |120  |13.0|134.0|32.0  |5305.67 |\n",
      "|2020-04-15|PE     |Lima|pm10  |120  |12.0|119.0|23.0  |6394.38 |\n",
      "|2020-04-16|PE     |Lima|pm10  |120  |8.0 |306.0|22.0  |13097.3 |\n",
      "|2020-04-17|PE     |Lima|pm10  |118  |13.0|120.0|24.0  |5881.81 |\n",
      "|2020-04-18|PE     |Lima|pm10  |105  |14.0|110.0|26.0  |5135.53 |\n",
      "|2020-04-19|PE     |Lima|pm10  |120  |15.0|64.0 |23.0  |1728.82 |\n",
      "|2020-04-20|PE     |Lima|pm10  |119  |12.0|124.0|25.0  |6757.88 |\n",
      "|2020-04-21|PE     |Lima|pm10  |118  |9.0 |79.0 |21.0  |3209.44 |\n",
      "|2020-04-22|PE     |Lima|pm10  |120  |5.0 |89.0 |19.0  |3740.08 |\n",
      "|2020-04-23|PE     |Lima|pm10  |120  |9.0 |107.0|21.0  |5265.34 |\n",
      "|2020-04-24|PE     |Lima|pm10  |120  |9.0 |108.0|20.0  |4914.73 |\n",
      "|2020-04-25|PE     |Lima|pm10  |120  |10.0|136.0|24.0  |7977.32 |\n",
      "|2020-04-26|PE     |Lima|pm10  |119  |4.0 |127.0|23.0  |2586.54 |\n",
      "|2020-04-27|PE     |Lima|pm10  |120  |15.0|130.0|26.0  |6472.76 |\n",
      "|2020-04-28|PE     |Lima|pm10  |120  |14.0|105.0|28.0  |5792.44 |\n",
      "|2020-04-29|PE     |Lima|pm10  |120  |17.0|110.0|30.0  |4960.8  |\n",
      "|2020-04-30|PE     |Lima|pm10  |120  |15.0|144.0|37.0  |8062.23 |\n",
      "|2020-05-01|PE     |Lima|pm10  |120  |13.0|101.0|29.0  |5323.6  |\n",
      "|2020-05-02|PE     |Lima|pm10  |120  |16.0|133.0|30.0  |7218.9  |\n",
      "|2020-05-03|PE     |Lima|pm10  |120  |14.0|66.0 |26.0  |1824.87 |\n",
      "|2020-05-04|PE     |Lima|pm10  |120  |15.0|134.0|29.0  |7664.1  |\n",
      "|2020-05-05|PE     |Lima|pm10  |120  |15.0|184.0|34.0  |8866.59 |\n",
      "|2020-05-06|PE     |Lima|pm10  |120  |17.0|128.0|36.0  |7696.69 |\n",
      "|2020-05-07|PE     |Lima|pm10  |120  |16.0|124.0|36.0  |6976.0  |\n",
      "|2020-05-08|PE     |Lima|pm10  |120  |17.0|477.0|35.0  |26591.1 |\n",
      "|2020-05-09|PE     |Lima|pm10  |120  |12.0|100.0|27.0  |4019.16 |\n",
      "|2020-05-10|PE     |Lima|pm10  |120  |9.0 |81.0 |23.0  |1599.5  |\n",
      "|2020-05-11|PE     |Lima|pm10  |120  |12.0|342.0|29.0  |16042.1 |\n",
      "|2020-05-12|PE     |Lima|pm10  |120  |3.0 |331.0|35.0  |14631.2 |\n",
      "|2020-05-13|PE     |Lima|pm10  |119  |22.0|585.0|40.0  |36520.3 |\n",
      "|2020-05-14|PE     |Lima|pm10  |120  |13.0|101.0|35.0  |5116.8  |\n",
      "|2020-05-15|PE     |Lima|pm10  |120  |13.0|97.0 |35.0  |3191.48 |\n",
      "|2020-05-16|PE     |Lima|pm10  |120  |11.0|100.0|29.0  |4427.95 |\n",
      "|2020-05-17|PE     |Lima|pm10  |120  |13.0|60.0 |30.0  |1195.28 |\n",
      "|2020-05-18|PE     |Lima|pm10  |120  |11.0|90.0 |31.0  |2899.16 |\n",
      "|2020-05-19|PE     |Lima|pm10  |120  |3.0 |73.0 |27.0  |1954.06 |\n",
      "|2020-05-20|PE     |Lima|pm10  |120  |6.0 |68.0 |28.0  |2193.05 |\n",
      "|2020-05-21|PE     |Lima|pm10  |120  |7.0 |87.0 |27.0  |2953.33 |\n",
      "|2020-05-22|PE     |Lima|pm10  |120  |15.0|95.0 |39.0  |2850.5  |\n",
      "|2020-05-23|PE     |Lima|pm10  |120  |17.0|117.0|44.0  |3279.15 |\n",
      "|2020-05-24|PE     |Lima|pm10  |120  |3.0 |77.0 |40.0  |1747.06 |\n",
      "|2020-05-25|PE     |Lima|pm10  |119  |1.0 |82.0 |25.0  |3344.19 |\n",
      "|2020-05-26|PE     |Lima|pm10  |120  |1.0 |165.0|30.0  |7664.37 |\n",
      "|2020-05-27|PE     |Lima|pm10  |120  |14.0|124.0|35.0  |4595.01 |\n",
      "|2020-05-28|PE     |Lima|pm10  |117  |13.0|105.0|32.0  |3091.64 |\n",
      "|2020-05-29|PE     |Lima|pm10  |120  |5.0 |182.0|35.0  |9604.44 |\n",
      "|2020-05-30|PE     |Lima|pm10  |120  |3.0 |156.0|30.0  |7094.18 |\n",
      "|2020-05-31|PE     |Lima|pm10  |119  |6.0 |55.0 |20.0  |1230.22 |\n",
      "|2020-06-01|PE     |Lima|pm10  |120  |11.0|90.0 |35.0  |4738.74 |\n",
      "|2020-06-02|PE     |Lima|pm10  |120  |3.0 |79.0 |45.0  |2852.06 |\n",
      "|2020-06-03|PE     |Lima|pm10  |120  |2.0 |54.0 |19.0  |2141.84 |\n",
      "|2020-06-04|PE     |Lima|pm10  |119  |7.0 |74.0 |26.0  |2935.82 |\n",
      "|2020-06-05|PE     |Lima|pm10  |72   |16.0|100.0|49.0  |4232.52 |\n",
      "+----------+-------+----+------+-----+----+-----+------+--------+\n",
      "\n"
     ]
    }
   ],
   "source": [
    "PEpm10.show(PEpm10.count(), truncate=False)"
   ]
  },
  {
   "cell_type": "code",
   "execution_count": 194,
   "metadata": {},
   "outputs": [],
   "source": [
    "PEpm25 = PEpm25.orderBy('Date').filter((df.Country == 'PE') & (df.Specie == 'pm25'))"
   ]
  },
  {
   "cell_type": "code",
   "execution_count": 195,
   "metadata": {},
   "outputs": [
    {
     "name": "stdout",
     "output_type": "stream",
     "text": [
      "+----------+-------+----+------+-----+----+-----+------+--------+\n",
      "|Date      |Country|City|Specie|count|min |max  |median|variance|\n",
      "+----------+-------+----+------+-----+----+-----+------+--------+\n",
      "|2019-12-30|PE     |Lima|pm25  |48   |38.0|99.0 |63.0  |1830.0  |\n",
      "|2019-12-31|PE     |Lima|pm25  |48   |30.0|109.0|63.0  |3237.41 |\n",
      "|2020-01-01|PE     |Lima|pm25  |46   |43.0|174.0|65.0  |7367.27 |\n",
      "|2020-01-02|PE     |Lima|pm25  |48   |38.0|89.0 |57.0  |1312.76 |\n",
      "|2020-01-03|PE     |Lima|pm25  |48   |41.0|72.0 |53.0  |416.13  |\n",
      "|2020-01-04|PE     |Lima|pm25  |39   |34.0|80.0 |57.0  |1234.29 |\n",
      "|2020-01-05|PE     |Lima|pm25  |48   |42.0|82.0 |55.0  |651.27  |\n",
      "|2020-01-06|PE     |Lima|pm25  |48   |38.0|68.0 |54.0  |496.02  |\n",
      "|2020-01-07|PE     |Lima|pm25  |48   |25.0|64.0 |52.0  |753.4   |\n",
      "|2020-01-08|PE     |Lima|pm25  |48   |34.0|76.0 |54.0  |779.72  |\n",
      "|2020-01-09|PE     |Lima|pm25  |40   |30.0|78.0 |55.0  |841.63  |\n",
      "|2020-01-10|PE     |Lima|pm25  |48   |42.0|112.0|64.0  |2265.21 |\n",
      "|2020-01-11|PE     |Lima|pm25  |48   |42.0|85.0 |59.0  |1337.23 |\n",
      "|2020-01-12|PE     |Lima|pm25  |46   |50.0|91.0 |62.0  |890.76  |\n",
      "|2020-01-13|PE     |Lima|pm25  |48   |38.0|105.0|67.0  |1427.22 |\n",
      "|2020-01-14|PE     |Lima|pm25  |48   |50.0|142.0|64.0  |2433.51 |\n",
      "|2020-01-15|PE     |Lima|pm25  |33   |34.0|95.0 |55.0  |1575.64 |\n",
      "|2020-01-16|PE     |Lima|pm25  |24   |50.0|93.0 |78.0  |1249.49 |\n",
      "|2020-01-17|PE     |Lima|pm25  |24   |46.0|97.0 |68.0  |1465.14 |\n",
      "|2020-01-18|PE     |Lima|pm25  |24   |30.0|112.0|65.0  |4222.54 |\n",
      "|2020-01-19|PE     |Lima|pm25  |24   |38.0|76.0 |63.0  |1043.48 |\n",
      "|2020-01-20|PE     |Lima|pm25  |24   |38.0|93.0 |59.0  |2081.29 |\n",
      "|2020-01-21|PE     |Lima|pm25  |24   |46.0|102.0|76.0  |2522.61 |\n",
      "|2020-01-22|PE     |Lima|pm25  |34   |53.0|99.0 |65.0  |1812.12 |\n",
      "|2020-01-23|PE     |Lima|pm25  |47   |53.0|159.0|82.0  |4999.56 |\n",
      "|2020-01-24|PE     |Lima|pm25  |48   |38.0|109.0|65.0  |2060.83 |\n",
      "|2020-01-25|PE     |Lima|pm25  |48   |34.0|74.0 |53.0  |782.7   |\n",
      "|2020-01-26|PE     |Lima|pm25  |48   |38.0|87.0 |56.0  |1061.68 |\n",
      "|2020-01-27|PE     |Lima|pm25  |48   |30.0|82.0 |54.0  |1178.44 |\n",
      "|2020-01-28|PE     |Lima|pm25  |48   |9.0 |62.0 |47.0  |1552.23 |\n",
      "|2020-01-29|PE     |Lima|pm25  |48   |26.0|76.0 |51.0  |1157.44 |\n",
      "|2020-01-30|PE     |Lima|pm25  |48   |24.0|142.0|55.0  |4734.82 |\n",
      "|2020-01-31|PE     |Lima|pm25  |48   |36.0|149.0|61.0  |5780.42 |\n",
      "|2020-02-01|PE     |Lima|pm25  |47   |37.0|89.0 |57.0  |1352.82 |\n",
      "|2020-02-02|PE     |Lima|pm25  |48   |38.0|89.0 |65.0  |983.72  |\n",
      "|2020-02-03|PE     |Lima|pm25  |48   |42.0|92.0 |61.0  |1222.96 |\n",
      "|2020-02-04|PE     |Lima|pm25  |48   |50.0|93.0 |65.0  |956.27  |\n",
      "|2020-02-05|PE     |Lima|pm25  |48   |42.0|82.0 |62.0  |777.29  |\n",
      "|2020-02-06|PE     |Lima|pm25  |48   |39.0|109.0|65.0  |3299.98 |\n",
      "|2020-02-07|PE     |Lima|pm25  |48   |42.0|110.0|59.0  |2722.44 |\n",
      "|2020-02-08|PE     |Lima|pm25  |48   |42.0|79.0 |62.0  |727.16  |\n",
      "|2020-02-09|PE     |Lima|pm25  |48   |50.0|78.0 |61.0  |537.73  |\n",
      "|2020-02-10|PE     |Lima|pm25  |48   |55.0|152.0|74.0  |5417.85 |\n",
      "|2020-02-11|PE     |Lima|pm25  |48   |42.0|134.0|63.0  |3676.88 |\n",
      "|2020-02-12|PE     |Lima|pm25  |47   |42.0|82.0 |59.0  |827.26  |\n",
      "|2020-02-13|PE     |Lima|pm25  |48   |40.0|144.0|63.0  |4064.36 |\n",
      "|2020-02-14|PE     |Lima|pm25  |48   |53.0|78.0 |63.0  |626.1   |\n",
      "|2020-02-15|PE     |Lima|pm25  |48   |45.0|80.0 |64.0  |761.63  |\n",
      "|2020-02-16|PE     |Lima|pm25  |48   |38.0|87.0 |56.0  |949.53  |\n",
      "|2020-02-17|PE     |Lima|pm25  |48   |46.0|80.0 |59.0  |432.77  |\n",
      "|2020-02-18|PE     |Lima|pm25  |54   |50.0|124.0|64.0  |1359.4  |\n",
      "|2020-02-19|PE     |Lima|pm25  |72   |46.0|78.0 |59.0  |505.11  |\n",
      "|2020-02-20|PE     |Lima|pm25  |71   |43.0|117.0|59.0  |2021.48 |\n",
      "|2020-02-21|PE     |Lima|pm25  |75   |13.0|93.0 |53.0  |2188.44 |\n",
      "|2020-02-22|PE     |Lima|pm25  |75   |13.0|78.0 |54.0  |1381.62 |\n",
      "|2020-02-23|PE     |Lima|pm25  |72   |32.0|76.0 |54.0  |575.56  |\n",
      "|2020-02-24|PE     |Lima|pm25  |84   |10.0|175.0|55.0  |4975.08 |\n",
      "|2020-02-25|PE     |Lima|pm25  |96   |16.0|99.0 |55.0  |1408.77 |\n",
      "|2020-02-26|PE     |Lima|pm25  |90   |16.0|110.0|55.0  |2566.34 |\n",
      "|2020-02-27|PE     |Lima|pm25  |104  |20.0|154.0|61.0  |6312.25 |\n",
      "|2020-02-28|PE     |Lima|pm25  |119  |11.0|166.0|57.0  |8617.95 |\n",
      "|2020-02-29|PE     |Lima|pm25  |113  |12.0|168.0|59.0  |10703.2 |\n",
      "|2020-03-01|PE     |Lima|pm25  |112  |4.0 |157.0|59.0  |7861.12 |\n",
      "|2020-03-02|PE     |Lima|pm25  |84   |18.0|155.0|53.0  |6291.19 |\n",
      "|2020-03-03|PE     |Lima|pm25  |82   |4.0 |809.0|53.0  |74203.2 |\n",
      "|2020-03-04|PE     |Lima|pm25  |116  |2.0 |264.0|59.0  |13953.3 |\n",
      "|2020-03-05|PE     |Lima|pm25  |141  |8.0 |173.0|61.0  |8501.7  |\n",
      "|2020-03-06|PE     |Lima|pm25  |68   |7.0 |172.0|61.0  |6586.68 |\n",
      "|2020-03-07|PE     |Lima|pm25  |24   |42.0|93.0 |55.0  |1252.16 |\n",
      "|2020-03-08|PE     |Lima|pm25  |24   |25.0|78.0 |55.0  |1270.85 |\n",
      "|2020-03-09|PE     |Lima|pm25  |24   |38.0|82.0 |53.0  |1423.48 |\n",
      "|2020-03-10|PE     |Lima|pm25  |24   |42.0|87.0 |53.0  |1492.17 |\n",
      "|2020-03-11|PE     |Lima|pm25  |24   |42.0|80.0 |61.0  |917.97  |\n",
      "|2020-03-12|PE     |Lima|pm25  |24   |38.0|87.0 |59.0  |1629.57 |\n",
      "|2020-03-13|PE     |Lima|pm25  |24   |34.0|91.0 |61.0  |1722.16 |\n",
      "|2020-03-14|PE     |Lima|pm25  |23   |34.0|68.0 |57.0  |666.24  |\n",
      "|2020-03-15|PE     |Lima|pm25  |24   |25.0|74.0 |53.0  |1322.45 |\n",
      "|2020-03-16|PE     |Lima|pm25  |24   |42.0|78.0 |57.0  |803.46  |\n",
      "|2020-03-17|PE     |Lima|pm25  |24   |25.0|59.0 |42.0  |1029.84 |\n",
      "|2020-03-18|PE     |Lima|pm25  |23   |25.0|65.0 |46.0  |1050.59 |\n",
      "|2020-03-21|PE     |Lima|pm25  |15   |30.0|57.0 |42.0  |982.1   |\n",
      "|2020-03-22|PE     |Lima|pm25  |24   |21.0|57.0 |38.0  |1109.98 |\n",
      "|2020-03-23|PE     |Lima|pm25  |24   |30.0|61.0 |46.0  |686.02  |\n",
      "|2020-03-24|PE     |Lima|pm25  |24   |25.0|59.0 |46.0  |924.62  |\n",
      "|2020-03-25|PE     |Lima|pm25  |24   |17.0|72.0 |34.0  |1916.94 |\n",
      "|2020-03-26|PE     |Lima|pm25  |23   |21.0|59.0 |34.0  |1379.92 |\n",
      "|2020-03-27|PE     |Lima|pm25  |24   |25.0|61.0 |42.0  |1222.01 |\n",
      "|2020-03-28|PE     |Lima|pm25  |24   |30.0|61.0 |42.0  |876.52  |\n",
      "|2020-03-29|PE     |Lima|pm25  |120  |5.0 |158.0|52.0  |5249.62 |\n",
      "|2020-03-30|PE     |Lima|pm25  |141  |8.0 |160.0|54.0  |5419.94 |\n",
      "|2020-03-31|PE     |Lima|pm25  |123  |21.0|163.0|55.0  |7191.14 |\n",
      "|2020-04-01|PE     |Lima|pm25  |141  |18.0|159.0|58.0  |5110.89 |\n",
      "|2020-04-02|PE     |Lima|pm25  |143  |5.0 |168.0|57.0  |6147.02 |\n",
      "|2020-04-03|PE     |Lima|pm25  |141  |14.0|167.0|56.0  |4855.52 |\n",
      "|2020-04-04|PE     |Lima|pm25  |138  |1.0 |154.0|50.0  |3940.36 |\n",
      "|2020-04-05|PE     |Lima|pm25  |121  |11.0|156.0|51.0  |4064.65 |\n",
      "|2020-04-06|PE     |Lima|pm25  |143  |9.0 |164.0|51.0  |4474.64 |\n",
      "|2020-04-07|PE     |Lima|pm25  |142  |2.0 |164.0|50.0  |5417.82 |\n",
      "|2020-04-08|PE     |Lima|pm25  |140  |11.0|145.0|47.0  |3706.97 |\n",
      "|2020-04-09|PE     |Lima|pm25  |138  |11.0|169.0|49.0  |4859.71 |\n",
      "|2020-04-10|PE     |Lima|pm25  |139  |16.0|165.0|46.0  |4432.94 |\n",
      "|2020-04-11|PE     |Lima|pm25  |141  |4.0 |149.0|45.0  |4587.76 |\n",
      "|2020-04-12|PE     |Lima|pm25  |139  |8.0 |157.0|40.0  |4439.03 |\n",
      "|2020-04-13|PE     |Lima|pm25  |142  |8.0 |159.0|51.0  |5383.35 |\n",
      "|2020-04-14|PE     |Lima|pm25  |142  |13.0|109.0|58.0  |3315.06 |\n",
      "|2020-04-15|PE     |Lima|pm25  |143  |5.0 |146.0|47.0  |3784.86 |\n",
      "|2020-04-16|PE     |Lima|pm25  |141  |1.0 |111.0|40.0  |2488.3  |\n",
      "|2020-04-17|PE     |Lima|pm25  |141  |10.0|161.0|50.0  |5338.44 |\n",
      "|2020-04-18|PE     |Lima|pm25  |128  |2.0 |159.0|51.0  |5081.8  |\n",
      "|2020-04-19|PE     |Lima|pm25  |140  |15.0|153.0|51.0  |3304.92 |\n",
      "|2020-04-20|PE     |Lima|pm25  |143  |11.0|161.0|53.0  |3828.44 |\n",
      "|2020-04-21|PE     |Lima|pm25  |129  |6.0 |77.0 |43.0  |1832.15 |\n",
      "|2020-04-22|PE     |Lima|pm25  |120  |6.0 |61.0 |37.0  |1048.9  |\n",
      "|2020-04-23|PE     |Lima|pm25  |108  |7.0 |66.0 |41.0  |1140.9  |\n",
      "|2020-04-24|PE     |Lima|pm25  |111  |9.0 |82.0 |42.0  |1516.76 |\n",
      "|2020-04-25|PE     |Lima|pm25  |119  |10.0|95.0 |48.0  |2012.65 |\n",
      "|2020-04-26|PE     |Lima|pm25  |120  |17.0|66.0 |50.0  |945.87  |\n",
      "|2020-04-27|PE     |Lima|pm25  |119  |13.0|87.0 |53.0  |1323.55 |\n",
      "|2020-04-28|PE     |Lima|pm25  |120  |16.0|98.0 |53.0  |2128.09 |\n",
      "|2020-04-29|PE     |Lima|pm25  |118  |5.0 |83.0 |55.0  |1059.04 |\n",
      "|2020-04-30|PE     |Lima|pm25  |120  |17.0|110.0|59.0  |1851.2  |\n",
      "|2020-05-01|PE     |Lima|pm25  |120  |23.0|98.0 |55.0  |1356.55 |\n",
      "|2020-05-02|PE     |Lima|pm25  |120  |15.0|87.0 |55.0  |1116.64 |\n",
      "|2020-05-03|PE     |Lima|pm25  |120  |19.0|81.0 |53.0  |1542.99 |\n",
      "|2020-05-04|PE     |Lima|pm25  |116  |26.0|90.0 |55.0  |1243.65 |\n",
      "|2020-05-05|PE     |Lima|pm25  |108  |24.0|89.0 |60.0  |1281.51 |\n",
      "|2020-05-06|PE     |Lima|pm25  |119  |26.0|99.0 |63.0  |1255.82 |\n",
      "|2020-05-07|PE     |Lima|pm25  |120  |36.0|118.0|62.0  |2091.71 |\n",
      "|2020-05-08|PE     |Lima|pm25  |120  |20.0|122.0|61.0  |2362.38 |\n",
      "|2020-05-09|PE     |Lima|pm25  |120  |14.0|78.0 |53.0  |1077.64 |\n",
      "|2020-05-10|PE     |Lima|pm25  |119  |7.0 |72.0 |50.0  |1224.24 |\n",
      "|2020-05-11|PE     |Lima|pm25  |120  |9.0 |89.0 |54.0  |1269.04 |\n",
      "|2020-05-12|PE     |Lima|pm25  |120  |5.0 |124.0|63.0  |3065.7  |\n",
      "|2020-05-13|PE     |Lima|pm25  |119  |25.0|99.0 |70.0  |1359.82 |\n",
      "|2020-05-14|PE     |Lima|pm25  |117  |27.0|103.0|63.0  |1673.99 |\n",
      "|2020-05-15|PE     |Lima|pm25  |120  |6.0 |132.0|61.0  |3691.48 |\n",
      "|2020-05-16|PE     |Lima|pm25  |120  |10.0|134.0|49.0  |1994.43 |\n",
      "|2020-05-17|PE     |Lima|pm25  |120  |12.0|95.0 |58.0  |1537.17 |\n",
      "|2020-05-18|PE     |Lima|pm25  |120  |28.0|89.0 |54.0  |1522.98 |\n",
      "|2020-05-19|PE     |Lima|pm25  |120  |18.0|88.0 |51.0  |1927.98 |\n",
      "|2020-05-20|PE     |Lima|pm25  |120  |19.0|85.0 |59.0  |1330.64 |\n",
      "|2020-05-21|PE     |Lima|pm25  |120  |9.0 |85.0 |55.0  |1828.2  |\n",
      "|2020-05-22|PE     |Lima|pm25  |119  |23.0|119.0|60.0  |3621.77 |\n",
      "|2020-05-23|PE     |Lima|pm25  |120  |37.0|129.0|68.0  |2371.01 |\n",
      "|2020-05-24|PE     |Lima|pm25  |119  |53.0|158.0|74.0  |4022.86 |\n",
      "|2020-05-25|PE     |Lima|pm25  |120  |8.0 |105.0|50.0  |1894.42 |\n",
      "|2020-05-26|PE     |Lima|pm25  |120  |19.0|93.0 |59.0  |2865.85 |\n",
      "|2020-05-27|PE     |Lima|pm25  |120  |29.0|124.0|63.0  |3185.18 |\n",
      "|2020-05-28|PE     |Lima|pm25  |120  |31.0|89.0 |62.0  |1679.66 |\n",
      "|2020-05-29|PE     |Lima|pm25  |120  |11.0|122.0|51.0  |3766.52 |\n",
      "|2020-05-30|PE     |Lima|pm25  |120  |11.0|80.0 |48.0  |1753.19 |\n",
      "|2020-05-31|PE     |Lima|pm25  |119  |5.0 |106.0|44.0  |2608.89 |\n",
      "|2020-06-01|PE     |Lima|pm25  |120  |24.0|87.0 |52.0  |1636.17 |\n",
      "|2020-06-02|PE     |Lima|pm25  |120  |26.0|159.0|64.0  |5753.02 |\n",
      "|2020-06-03|PE     |Lima|pm25  |120  |14.0|76.0 |48.0  |1505.48 |\n",
      "|2020-06-04|PE     |Lima|pm25  |120  |6.0 |134.0|53.0  |3228.11 |\n",
      "|2020-06-05|PE     |Lima|pm25  |74   |49.0|162.0|82.0  |8276.7  |\n",
      "+----------+-------+----+------+-----+----+-----+------+--------+\n",
      "\n"
     ]
    }
   ],
   "source": [
    "PEpm25.show(PEpm25.count(), truncate=False)"
   ]
  },
  {
   "cell_type": "code",
   "execution_count": 200,
   "metadata": {},
   "outputs": [],
   "source": [
    "PEpm10graf = PEpm10.orderBy('Specie','Date').select('Date','count')\n",
    "PEpm25graf = PEpm25.orderBy('Specie','Date').select('Date','count')"
   ]
  },
  {
   "cell_type": "markdown",
   "metadata": {},
   "source": [
    "Importamos pandas para poder realizar unas primeras graficas."
   ]
  },
  {
   "cell_type": "code",
   "execution_count": 202,
   "metadata": {},
   "outputs": [],
   "source": [
    "import pandas as pd\n",
    "PEpm10pa = PEpm10graf.toPandas()\n",
    "PEpm25pa = PEpm25graf.toPandas()\n",
    "#import io\n",
    "#import requests\n",
    "#url=\"https://raw.githubusercontent.com/DannyTurpo/Proyecto/master/airqualitydata-2020.csv\"\n",
    "#s=requests.get(url).content\n",
    "#covid = pd.read_csv(io.StringIO(s.decode('utf-8')))\n",
    "#print(covid)\n",
    "#covid\n",
    "#covid['variance'].plot(kind='line')"
   ]
  },
  {
   "cell_type": "markdown",
   "metadata": {},
   "source": [
    "Ahora vamos a transponer las filas y columnas."
   ]
  },
  {
   "cell_type": "code",
   "execution_count": 203,
   "metadata": {},
   "outputs": [
    {
     "data": {
      "text/html": [
       "<div>\n",
       "<style scoped>\n",
       "    .dataframe tbody tr th:only-of-type {\n",
       "        vertical-align: middle;\n",
       "    }\n",
       "\n",
       "    .dataframe tbody tr th {\n",
       "        vertical-align: top;\n",
       "    }\n",
       "\n",
       "    .dataframe thead th {\n",
       "        text-align: right;\n",
       "    }\n",
       "</style>\n",
       "<table border=\"1\" class=\"dataframe\">\n",
       "  <thead>\n",
       "    <tr style=\"text-align: right;\">\n",
       "      <th></th>\n",
       "      <th>0</th>\n",
       "      <th>1</th>\n",
       "      <th>2</th>\n",
       "      <th>3</th>\n",
       "      <th>4</th>\n",
       "      <th>5</th>\n",
       "      <th>6</th>\n",
       "      <th>7</th>\n",
       "      <th>8</th>\n",
       "      <th>9</th>\n",
       "      <th>...</th>\n",
       "      <th>127</th>\n",
       "      <th>128</th>\n",
       "      <th>129</th>\n",
       "      <th>130</th>\n",
       "      <th>131</th>\n",
       "      <th>132</th>\n",
       "      <th>133</th>\n",
       "      <th>134</th>\n",
       "      <th>135</th>\n",
       "      <th>136</th>\n",
       "    </tr>\n",
       "  </thead>\n",
       "  <tbody>\n",
       "    <tr>\n",
       "      <th>Date</th>\n",
       "      <td>2019-12-30</td>\n",
       "      <td>2019-12-31</td>\n",
       "      <td>2020-01-01</td>\n",
       "      <td>2020-01-02</td>\n",
       "      <td>2020-01-03</td>\n",
       "      <td>2020-01-04</td>\n",
       "      <td>2020-01-05</td>\n",
       "      <td>2020-01-06</td>\n",
       "      <td>2020-01-07</td>\n",
       "      <td>2020-01-08</td>\n",
       "      <td>...</td>\n",
       "      <td>2020-05-27</td>\n",
       "      <td>2020-05-28</td>\n",
       "      <td>2020-05-29</td>\n",
       "      <td>2020-05-30</td>\n",
       "      <td>2020-05-31</td>\n",
       "      <td>2020-06-01</td>\n",
       "      <td>2020-06-02</td>\n",
       "      <td>2020-06-03</td>\n",
       "      <td>2020-06-04</td>\n",
       "      <td>2020-06-05</td>\n",
       "    </tr>\n",
       "    <tr>\n",
       "      <th>count</th>\n",
       "      <td>96</td>\n",
       "      <td>96</td>\n",
       "      <td>93</td>\n",
       "      <td>95</td>\n",
       "      <td>94</td>\n",
       "      <td>87</td>\n",
       "      <td>96</td>\n",
       "      <td>96</td>\n",
       "      <td>96</td>\n",
       "      <td>96</td>\n",
       "      <td>...</td>\n",
       "      <td>120</td>\n",
       "      <td>117</td>\n",
       "      <td>120</td>\n",
       "      <td>120</td>\n",
       "      <td>119</td>\n",
       "      <td>120</td>\n",
       "      <td>120</td>\n",
       "      <td>120</td>\n",
       "      <td>119</td>\n",
       "      <td>72</td>\n",
       "    </tr>\n",
       "  </tbody>\n",
       "</table>\n",
       "<p>2 rows × 137 columns</p>\n",
       "</div>"
      ],
      "text/plain": [
       "              0           1           2           3           4           5    \\\n",
       "Date   2019-12-30  2019-12-31  2020-01-01  2020-01-02  2020-01-03  2020-01-04   \n",
       "count          96          96          93          95          94          87   \n",
       "\n",
       "              6           7           8           9    ...         127  \\\n",
       "Date   2020-01-05  2020-01-06  2020-01-07  2020-01-08  ...  2020-05-27   \n",
       "count          96          96          96          96  ...         120   \n",
       "\n",
       "              128         129         130         131         132         133  \\\n",
       "Date   2020-05-28  2020-05-29  2020-05-30  2020-05-31  2020-06-01  2020-06-02   \n",
       "count         117         120         120         119         120         120   \n",
       "\n",
       "              134         135         136  \n",
       "Date   2020-06-03  2020-06-04  2020-06-05  \n",
       "count         120         119          72  \n",
       "\n",
       "[2 rows x 137 columns]"
      ]
     },
     "execution_count": 203,
     "metadata": {},
     "output_type": "execute_result"
    }
   ],
   "source": [
    "PEpm10pa.T"
   ]
  },
  {
   "cell_type": "code",
   "execution_count": 204,
   "metadata": {},
   "outputs": [
    {
     "data": {
      "text/html": [
       "<div>\n",
       "<style scoped>\n",
       "    .dataframe tbody tr th:only-of-type {\n",
       "        vertical-align: middle;\n",
       "    }\n",
       "\n",
       "    .dataframe tbody tr th {\n",
       "        vertical-align: top;\n",
       "    }\n",
       "\n",
       "    .dataframe thead th {\n",
       "        text-align: right;\n",
       "    }\n",
       "</style>\n",
       "<table border=\"1\" class=\"dataframe\">\n",
       "  <thead>\n",
       "    <tr style=\"text-align: right;\">\n",
       "      <th></th>\n",
       "      <th>0</th>\n",
       "      <th>1</th>\n",
       "      <th>2</th>\n",
       "      <th>3</th>\n",
       "      <th>4</th>\n",
       "      <th>5</th>\n",
       "      <th>6</th>\n",
       "      <th>7</th>\n",
       "      <th>8</th>\n",
       "      <th>9</th>\n",
       "      <th>...</th>\n",
       "      <th>147</th>\n",
       "      <th>148</th>\n",
       "      <th>149</th>\n",
       "      <th>150</th>\n",
       "      <th>151</th>\n",
       "      <th>152</th>\n",
       "      <th>153</th>\n",
       "      <th>154</th>\n",
       "      <th>155</th>\n",
       "      <th>156</th>\n",
       "    </tr>\n",
       "  </thead>\n",
       "  <tbody>\n",
       "    <tr>\n",
       "      <th>Date</th>\n",
       "      <td>2019-12-30</td>\n",
       "      <td>2019-12-31</td>\n",
       "      <td>2020-01-01</td>\n",
       "      <td>2020-01-02</td>\n",
       "      <td>2020-01-03</td>\n",
       "      <td>2020-01-04</td>\n",
       "      <td>2020-01-05</td>\n",
       "      <td>2020-01-06</td>\n",
       "      <td>2020-01-07</td>\n",
       "      <td>2020-01-08</td>\n",
       "      <td>...</td>\n",
       "      <td>2020-05-27</td>\n",
       "      <td>2020-05-28</td>\n",
       "      <td>2020-05-29</td>\n",
       "      <td>2020-05-30</td>\n",
       "      <td>2020-05-31</td>\n",
       "      <td>2020-06-01</td>\n",
       "      <td>2020-06-02</td>\n",
       "      <td>2020-06-03</td>\n",
       "      <td>2020-06-04</td>\n",
       "      <td>2020-06-05</td>\n",
       "    </tr>\n",
       "    <tr>\n",
       "      <th>count</th>\n",
       "      <td>48</td>\n",
       "      <td>48</td>\n",
       "      <td>46</td>\n",
       "      <td>48</td>\n",
       "      <td>48</td>\n",
       "      <td>39</td>\n",
       "      <td>48</td>\n",
       "      <td>48</td>\n",
       "      <td>48</td>\n",
       "      <td>48</td>\n",
       "      <td>...</td>\n",
       "      <td>120</td>\n",
       "      <td>120</td>\n",
       "      <td>120</td>\n",
       "      <td>120</td>\n",
       "      <td>119</td>\n",
       "      <td>120</td>\n",
       "      <td>120</td>\n",
       "      <td>120</td>\n",
       "      <td>120</td>\n",
       "      <td>74</td>\n",
       "    </tr>\n",
       "  </tbody>\n",
       "</table>\n",
       "<p>2 rows × 157 columns</p>\n",
       "</div>"
      ],
      "text/plain": [
       "              0           1           2           3           4           5    \\\n",
       "Date   2019-12-30  2019-12-31  2020-01-01  2020-01-02  2020-01-03  2020-01-04   \n",
       "count          48          48          46          48          48          39   \n",
       "\n",
       "              6           7           8           9    ...         147  \\\n",
       "Date   2020-01-05  2020-01-06  2020-01-07  2020-01-08  ...  2020-05-27   \n",
       "count          48          48          48          48  ...         120   \n",
       "\n",
       "              148         149         150         151         152         153  \\\n",
       "Date   2020-05-28  2020-05-29  2020-05-30  2020-05-31  2020-06-01  2020-06-02   \n",
       "count         120         120         120         119         120         120   \n",
       "\n",
       "              154         155         156  \n",
       "Date   2020-06-03  2020-06-04  2020-06-05  \n",
       "count         120         120          74  \n",
       "\n",
       "[2 rows x 157 columns]"
      ]
     },
     "execution_count": 204,
     "metadata": {},
     "output_type": "execute_result"
    }
   ],
   "source": [
    "PEpm25pa.T"
   ]
  },
  {
   "cell_type": "markdown",
   "metadata": {},
   "source": [
    "Finalmente con el comando plot() podemos ver una grafica sobre la evolución de la concentración de pm10 y pm25 en todas las fechas de medición."
   ]
  },
  {
   "cell_type": "code",
   "execution_count": 210,
   "metadata": {},
   "outputs": [
    {
     "data": {
      "text/plain": [
       "<matplotlib.axes._subplots.AxesSubplot at 0x7f3766ca2bd0>"
      ]
     },
     "execution_count": 210,
     "metadata": {},
     "output_type": "execute_result"
    },
    {
     "data": {
      "image/png": "[encoded data removed]",
      "text/plain": [
       "<Figure size 432x288 with 1 Axes>"
      ]
     },
     "metadata": {
      "needs_background": "light"
     },
     "output_type": "display_data"
    },
    {
     "data": {
      "image/png": "[encoded data removed]",
      "text/plain": [
       "<Figure size 432x288 with 1 Axes>"
      ]
     },
     "metadata": {
      "needs_background": "light"
     },
     "output_type": "display_data"
    }
   ],
   "source": [
    "PEpm10pa.plot()\n",
    "PEpm25pa.plot()"
   ]
  },
  {
   "cell_type": "markdown",
   "metadata": {},
   "source": [
    "Para tener una mejor representación de estos datos podemos instalar plotly, una de las mejores librerías libres de uso para crear una variedad de gráficas responsivas, interactivas y ricas en funcionalidad."
   ]
  },
  {
   "cell_type": "code",
   "execution_count": 170,
   "metadata": {},
   "outputs": [
    {
     "name": "stdout",
     "output_type": "stream",
     "text": [
      "Collecting plotly\n",
      "  Downloading plotly-4.8.1-py2.py3-none-any.whl (11.5 MB)\n",
      "\u001b[K     |████████████████████████████████| 11.5 MB 10.3 MB/s eta 0:00:01\n",
      "\u001b[?25hCollecting retrying>=1.3.3\n",
      "  Downloading retrying-1.3.3.tar.gz (10 kB)\n",
      "Requirement already satisfied: six in /opt/conda/lib/python3.7/site-packages (from plotly) (1.15.0)\n",
      "Building wheels for collected packages: retrying\n",
      "  Building wheel for retrying (setup.py) ... \u001b[?25ldone\n",
      "\u001b[?25h  Created wheel for retrying: filename=retrying-1.3.3-py3-none-any.whl size=11430 sha256=acbb6c213a2add0f61739d3f11d633623c98e693617060dbdde6e0311a77d973\n",
      "  Stored in directory: /home/jovyan/.cache/pip/wheels/f9/8d/8d/f6af3f7f9eea3553bc2fe6d53e4b287dad18b06a861ac56ddf\n",
      "Successfully built retrying\n",
      "Installing collected packages: retrying, plotly\n",
      "Successfully installed plotly-4.8.1 retrying-1.3.3\n"
     ]
    }
   ],
   "source": [
    "! pip install plotly"
   ]
  },
  {
   "cell_type": "code",
   "execution_count": 215,
   "metadata": {},
   "outputs": [
    {
     "data": {
      "application/vnd.plotly.v1+json": {
       "config": {
        "plotlyServerURL": "https://plot.ly"
       },
       "data": [
        {
         "hovertemplate": "Date=%{x}<br>count=%{y}<extra></extra>",
         "legendgroup": "",
         "line": {
          "color": "#636efa",
          "dash": "solid"
         },
         "mode": "lines",
         "name": "",
         "orientation": "v",
         "showlegend": false,
         "type": "scatter",
         "x": [
          "2019-12-30",
          "2019-12-31",
          "2020-01-01",
          "2020-01-02",
          "2020-01-03",
          "2020-01-04",
          "2020-01-05",
          "2020-01-06",
          "2020-01-07",
          "2020-01-08",
          "2020-01-09",
          "2020-01-10",
          "2020-01-11",
          "2020-01-12",
          "2020-01-13",
          "2020-01-14",
          "2020-01-15",
          "2020-01-16",
          "2020-01-17",
          "2020-01-18",
          "2020-01-19",
          "2020-01-20",
          "2020-01-21",
          "2020-01-22",
          "2020-01-23",
          "2020-01-24",
          "2020-01-25",
          "2020-01-26",
          "2020-01-27",
          "2020-01-28",
          "2020-01-29",
          "2020-01-30",
          "2020-01-31",
          "2020-02-01",
          "2020-02-02",
          "2020-02-03",
          "2020-02-04",
          "2020-02-05",
          "2020-02-06",
          "2020-02-07",
          "2020-02-08",
          "2020-02-09",
          "2020-02-10",
          "2020-02-11",
          "2020-02-12",
          "2020-02-13",
          "2020-02-14",
          "2020-02-15",
          "2020-02-16",
          "2020-02-17",
          "2020-02-18",
          "2020-02-19",
          "2020-02-20",
          "2020-02-21",
          "2020-02-22",
          "2020-02-23",
          "2020-02-24",
          "2020-02-25",
          "2020-02-26",
          "2020-02-27",
          "2020-02-28",
          "2020-02-29",
          "2020-03-01",
          "2020-03-02",
          "2020-03-03",
          "2020-03-04",
          "2020-03-05",
          "2020-03-06",
          "2020-03-29",
          "2020-03-30",
          "2020-03-31",
          "2020-04-01",
          "2020-04-02",
          "2020-04-03",
          "2020-04-04",
          "2020-04-05",
          "2020-04-06",
          "2020-04-07",
          "2020-04-08",
          "2020-04-09",
          "2020-04-10",
          "2020-04-11",
          "2020-04-12",
          "2020-04-13",
          "2020-04-14",
          "2020-04-15",
          "2020-04-16",
          "2020-04-17",
          "2020-04-18",
          "2020-04-19",
          "2020-04-20",
          "2020-04-21",
          "2020-04-22",
          "2020-04-23",
          "2020-04-24",
          "2020-04-25",
          "2020-04-26",
          "2020-04-27",
          "2020-04-28",
          "2020-04-29",
          "2020-04-30",
          "2020-05-01",
          "2020-05-02",
          "2020-05-03",
          "2020-05-04",
          "2020-05-05",
          "2020-05-06",
          "2020-05-07",
          "2020-05-08",
          "2020-05-09",
          "2020-05-10",
          "2020-05-11",
          "2020-05-12",
          "2020-05-13",
          "2020-05-14",
          "2020-05-15",
          "2020-05-16",
          "2020-05-17",
          "2020-05-18",
          "2020-05-19",
          "2020-05-20",
          "2020-05-21",
          "2020-05-22",
          "2020-05-23",
          "2020-05-24",
          "2020-05-25",
          "2020-05-26",
          "2020-05-27",
          "2020-05-28",
          "2020-05-29",
          "2020-05-30",
          "2020-05-31",
          "2020-06-01",
          "2020-06-02",
          "2020-06-03",
          "2020-06-04",
          "2020-06-05"
         ],
         "xaxis": "x",
         "y": [
          96,
          96,
          93,
          95,
          94,
          87,
          96,
          96,
          96,
          96,
          96,
          95,
          96,
          96,
          96,
          96,
          79,
          71,
          72,
          72,
          71,
          71,
          72,
          82,
          92,
          96,
          95,
          96,
          95,
          90,
          96,
          93,
          95,
          88,
          72,
          72,
          72,
          63,
          55,
          72,
          72,
          71,
          72,
          72,
          72,
          71,
          71,
          72,
          72,
          72,
          79,
          96,
          85,
          82,
          83,
          72,
          72,
          70,
          76,
          96,
          96,
          96,
          95,
          96,
          96,
          92,
          96,
          39,
          100,
          120,
          99,
          120,
          120,
          120,
          120,
          100,
          120,
          120,
          120,
          120,
          120,
          120,
          120,
          120,
          120,
          120,
          120,
          118,
          105,
          120,
          119,
          118,
          120,
          120,
          120,
          120,
          119,
          120,
          120,
          120,
          120,
          120,
          120,
          120,
          120,
          120,
          120,
          120,
          120,
          120,
          120,
          120,
          120,
          119,
          120,
          120,
          120,
          120,
          120,
          120,
          120,
          120,
          120,
          120,
          120,
          119,
          120,
          120,
          117,
          120,
          120,
          119,
          120,
          120,
          120,
          119,
          72
         ],
         "yaxis": "y"
        }
       ],
       "layout": {
        "legend": {
         "tracegroupgap": 0
        },
        "template": {
         "data": {
          "bar": [
           {
            "error_x": {
             "color": "#2a3f5f"
            },
            "error_y": {
             "color": "#2a3f5f"
            },
            "marker": {
             "line": {
              "color": "#E5ECF6",
              "width": 0.5
             }
            },
            "type": "bar"
           }
          ],
          "barpolar": [
           {
            "marker": {
             "line": {
              "color": "#E5ECF6",
              "width": 0.5
             }
            },
            "type": "barpolar"
           }
          ],
          "carpet": [
           {
            "aaxis": {
             "endlinecolor": "#2a3f5f",
             "gridcolor": "white",
             "linecolor": "white",
             "minorgridcolor": "white",
             "startlinecolor": "#2a3f5f"
            },
            "baxis": {
             "endlinecolor": "#2a3f5f",
             "gridcolor": "white",
             "linecolor": "white",
             "minorgridcolor": "white",
             "startlinecolor": "#2a3f5f"
            },
            "type": "carpet"
           }
          ],
          "choropleth": [
           {
            "colorbar": {
             "outlinewidth": 0,
             "ticks": ""
            },
            "type": "choropleth"
           }
          ],
          "contour": [
           {
            "colorbar": {
             "outlinewidth": 0,
             "ticks": ""
            },
            "colorscale": [
             [
              0,
              "#0d0887"
             ],
             [
              0.1111111111111111,
              "#46039f"
             ],
             [
              0.2222222222222222,
              "#7201a8"
             ],
             [
              0.3333333333333333,
              "#9c179e"
             ],
             [
              0.4444444444444444,
              "#bd3786"
             ],
             [
              0.5555555555555556,
              "#d8576b"
             ],
             [
              0.6666666666666666,
              "#ed7953"
             ],
             [
              0.7777777777777778,
              "#fb9f3a"
             ],
             [
              0.8888888888888888,
              "#fdca26"
             ],
             [
              1,
              "#f0f921"
             ]
            ],
            "type": "contour"
           }
          ],
          "contourcarpet": [
           {
            "colorbar": {
             "outlinewidth": 0,
             "ticks": ""
            },
            "type": "contourcarpet"
           }
          ],
          "heatmap": [
           {
            "colorbar": {
             "outlinewidth": 0,
             "ticks": ""
            },
            "colorscale": [
             [
              0,
              "#0d0887"
             ],
             [
              0.1111111111111111,
              "#46039f"
             ],
             [
              0.2222222222222222,
              "#7201a8"
             ],
             [
              0.3333333333333333,
              "#9c179e"
             ],
             [
              0.4444444444444444,
              "#bd3786"
             ],
             [
              0.5555555555555556,
              "#d8576b"
             ],
             [
              0.6666666666666666,
              "#ed7953"
             ],
             [
              0.7777777777777778,
              "#fb9f3a"
             ],
             [
              0.8888888888888888,
              "#fdca26"
             ],
             [
              1,
              "#f0f921"
             ]
            ],
            "type": "heatmap"
           }
          ],
          "heatmapgl": [
           {
            "colorbar": {
             "outlinewidth": 0,
             "ticks": ""
            },
            "colorscale": [
             [
              0,
              "#0d0887"
             ],
             [
              0.1111111111111111,
              "#46039f"
             ],
             [
              0.2222222222222222,
              "#7201a8"
             ],
             [
              0.3333333333333333,
              "#9c179e"
             ],
             [
              0.4444444444444444,
              "#bd3786"
             ],
             [
              0.5555555555555556,
              "#d8576b"
             ],
             [
              0.6666666666666666,
              "#ed7953"
             ],
             [
              0.7777777777777778,
              "#fb9f3a"
             ],
             [
              0.8888888888888888,
              "#fdca26"
             ],
             [
              1,
              "#f0f921"
             ]
            ],
            "type": "heatmapgl"
           }
          ],
          "histogram": [
           {
            "marker": {
             "colorbar": {
              "outlinewidth": 0,
              "ticks": ""
             }
            },
            "type": "histogram"
           }
          ],
          "histogram2d": [
           {
            "colorbar": {
             "outlinewidth": 0,
             "ticks": ""
            },
            "colorscale": [
             [
              0,
              "#0d0887"
             ],
             [
              0.1111111111111111,
              "#46039f"
             ],
             [
              0.2222222222222222,
              "#7201a8"
             ],
             [
              0.3333333333333333,
              "#9c179e"
             ],
             [
              0.4444444444444444,
              "#bd3786"
             ],
             [
              0.5555555555555556,
              "#d8576b"
             ],
             [
              0.6666666666666666,
              "#ed7953"
             ],
             [
              0.7777777777777778,
              "#fb9f3a"
             ],
             [
              0.8888888888888888,
              "#fdca26"
             ],
             [
              1,
              "#f0f921"
             ]
            ],
            "type": "histogram2d"
           }
          ],
          "histogram2dcontour": [
           {
            "colorbar": {
             "outlinewidth": 0,
             "ticks": ""
            },
            "colorscale": [
             [
              0,
              "#0d0887"
             ],
             [
              0.1111111111111111,
              "#46039f"
             ],
             [
              0.2222222222222222,
              "#7201a8"
             ],
             [
              0.3333333333333333,
              "#9c179e"
             ],
             [
              0.4444444444444444,
              "#bd3786"
             ],
             [
              0.5555555555555556,
              "#d8576b"
             ],
             [
              0.6666666666666666,
              "#ed7953"
             ],
             [
              0.7777777777777778,
              "#fb9f3a"
             ],
             [
              0.8888888888888888,
              "#fdca26"
             ],
             [
              1,
              "#f0f921"
             ]
            ],
            "type": "histogram2dcontour"
           }
          ],
          "mesh3d": [
           {
            "colorbar": {
             "outlinewidth": 0,
             "ticks": ""
            },
            "type": "mesh3d"
           }
          ],
          "parcoords": [
           {
            "line": {
             "colorbar": {
              "outlinewidth": 0,
              "ticks": ""
             }
            },
            "type": "parcoords"
           }
          ],
          "pie": [
           {
            "automargin": true,
            "type": "pie"
           }
          ],
          "scatter": [
           {
            "marker": {
             "colorbar": {
              "outlinewidth": 0,
              "ticks": ""
             }
            },
            "type": "scatter"
           }
          ],
          "scatter3d": [
           {
            "line": {
             "colorbar": {
              "outlinewidth": 0,
              "ticks": ""
             }
            },
            "marker": {
             "colorbar": {
              "outlinewidth": 0,
              "ticks": ""
             }
            },
            "type": "scatter3d"
           }
          ],
          "scattercarpet": [
           {
            "marker": {
             "colorbar": {
              "outlinewidth": 0,
              "ticks": ""
             }
            },
            "type": "scattercarpet"
           }
          ],
          "scattergeo": [
           {
            "marker": {
             "colorbar": {
              "outlinewidth": 0,
              "ticks": ""
             }
            },
            "type": "scattergeo"
           }
          ],
          "scattergl": [
           {
            "marker": {
             "colorbar": {
              "outlinewidth": 0,
              "ticks": ""
             }
            },
            "type": "scattergl"
           }
          ],
          "scattermapbox": [
           {
            "marker": {
             "colorbar": {
              "outlinewidth": 0,
              "ticks": ""
             }
            },
            "type": "scattermapbox"
           }
          ],
          "scatterpolar": [
           {
            "marker": {
             "colorbar": {
              "outlinewidth": 0,
              "ticks": ""
             }
            },
            "type": "scatterpolar"
           }
          ],
          "scatterpolargl": [
           {
            "marker": {
             "colorbar": {
              "outlinewidth": 0,
              "ticks": ""
             }
            },
            "type": "scatterpolargl"
           }
          ],
          "scatterternary": [
           {
            "marker": {
             "colorbar": {
              "outlinewidth": 0,
              "ticks": ""
             }
            },
            "type": "scatterternary"
           }
          ],
          "surface": [
           {
            "colorbar": {
             "outlinewidth": 0,
             "ticks": ""
            },
            "colorscale": [
             [
              0,
              "#0d0887"
             ],
             [
              0.1111111111111111,
              "#46039f"
             ],
             [
              0.2222222222222222,
              "#7201a8"
             ],
             [
              0.3333333333333333,
              "#9c179e"
             ],
             [
              0.4444444444444444,
              "#bd3786"
             ],
             [
              0.5555555555555556,
              "#d8576b"
             ],
             [
              0.6666666666666666,
              "#ed7953"
             ],
             [
              0.7777777777777778,
              "#fb9f3a"
             ],
             [
              0.8888888888888888,
              "#fdca26"
             ],
             [
              1,
              "#f0f921"
             ]
            ],
            "type": "surface"
           }
          ],
          "table": [
           {
            "cells": {
             "fill": {
              "color": "#EBF0F8"
             },
             "line": {
              "color": "white"
             }
            },
            "header": {
             "fill": {
              "color": "#C8D4E3"
             },
             "line": {
              "color": "white"
             }
            },
            "type": "table"
           }
          ]
         },
         "layout": {
          "annotationdefaults": {
           "arrowcolor": "#2a3f5f",
           "arrowhead": 0,
           "arrowwidth": 1
          },
          "coloraxis": {
           "colorbar": {
            "outlinewidth": 0,
            "ticks": ""
           }
          },
          "colorscale": {
           "diverging": [
            [
             0,
             "#8e0152"
            ],
            [
             0.1,
             "#c51b7d"
            ],
            [
             0.2,
             "#de77ae"
            ],
            [
             0.3,
             "#f1b6da"
            ],
            [
             0.4,
             "#fde0ef"
            ],
            [
             0.5,
             "#f7f7f7"
            ],
            [
             0.6,
             "#e6f5d0"
            ],
            [
             0.7,
             "#b8e186"
            ],
            [
             0.8,
             "#7fbc41"
            ],
            [
             0.9,
             "#4d9221"
            ],
            [
             1,
             "#276419"
            ]
           ],
           "sequential": [
            [
             0,
             "#0d0887"
            ],
            [
             0.1111111111111111,
             "#46039f"
            ],
            [
             0.2222222222222222,
             "#7201a8"
            ],
            [
             0.3333333333333333,
             "#9c179e"
            ],
            [
             0.4444444444444444,
             "#bd3786"
            ],
            [
             0.5555555555555556,
             "#d8576b"
            ],
            [
             0.6666666666666666,
             "#ed7953"
            ],
            [
             0.7777777777777778,
             "#fb9f3a"
            ],
            [
             0.8888888888888888,
             "#fdca26"
            ],
            [
             1,
             "#f0f921"
            ]
           ],
           "sequentialminus": [
            [
             0,
             "#0d0887"
            ],
            [
             0.1111111111111111,
             "#46039f"
            ],
            [
             0.2222222222222222,
             "#7201a8"
            ],
            [
             0.3333333333333333,
             "#9c179e"
            ],
            [
             0.4444444444444444,
             "#bd3786"
            ],
            [
             0.5555555555555556,
             "#d8576b"
            ],
            [
             0.6666666666666666,
             "#ed7953"
            ],
            [
             0.7777777777777778,
             "#fb9f3a"
            ],
            [
             0.8888888888888888,
             "#fdca26"
            ],
            [
             1,
             "#f0f921"
            ]
           ]
          },
          "colorway": [
           "#636efa",
           "#EF553B",
           "#00cc96",
           "#ab63fa",
           "#FFA15A",
           "#19d3f3",
           "#FF6692",
           "#B6E880",
           "#FF97FF",
           "#FECB52"
          ],
          "font": {
           "color": "#2a3f5f"
          },
          "geo": {
           "bgcolor": "white",
           "lakecolor": "white",
           "landcolor": "#E5ECF6",
           "showlakes": true,
           "showland": true,
           "subunitcolor": "white"
          },
          "hoverlabel": {
           "align": "left"
          },
          "hovermode": "closest",
          "mapbox": {
           "style": "light"
          },
          "paper_bgcolor": "white",
          "plot_bgcolor": "#E5ECF6",
          "polar": {
           "angularaxis": {
            "gridcolor": "white",
            "linecolor": "white",
            "ticks": ""
           },
           "bgcolor": "#E5ECF6",
           "radialaxis": {
            "gridcolor": "white",
            "linecolor": "white",
            "ticks": ""
           }
          },
          "scene": {
           "xaxis": {
            "backgroundcolor": "#E5ECF6",
            "gridcolor": "white",
            "gridwidth": 2,
            "linecolor": "white",
            "showbackground": true,
            "ticks": "",
            "zerolinecolor": "white"
           },
           "yaxis": {
            "backgroundcolor": "#E5ECF6",
            "gridcolor": "white",
            "gridwidth": 2,
            "linecolor": "white",
            "showbackground": true,
            "ticks": "",
            "zerolinecolor": "white"
           },
           "zaxis": {
            "backgroundcolor": "#E5ECF6",
            "gridcolor": "white",
            "gridwidth": 2,
            "linecolor": "white",
            "showbackground": true,
            "ticks": "",
            "zerolinecolor": "white"
           }
          },
          "shapedefaults": {
           "line": {
            "color": "#2a3f5f"
           }
          },
          "ternary": {
           "aaxis": {
            "gridcolor": "white",
            "linecolor": "white",
            "ticks": ""
           },
           "baxis": {
            "gridcolor": "white",
            "linecolor": "white",
            "ticks": ""
           },
           "bgcolor": "#E5ECF6",
           "caxis": {
            "gridcolor": "white",
            "linecolor": "white",
            "ticks": ""
           }
          },
          "title": {
           "x": 0.05
          },
          "xaxis": {
           "automargin": true,
           "gridcolor": "white",
           "linecolor": "white",
           "ticks": "",
           "title": {
            "standoff": 15
           },
           "zerolinecolor": "white",
           "zerolinewidth": 2
          },
          "yaxis": {
           "automargin": true,
           "gridcolor": "white",
           "linecolor": "white",
           "ticks": "",
           "title": {
            "standoff": 15
           },
           "zerolinecolor": "white",
           "zerolinewidth": 2
          }
         }
        },
        "title": {
         "text": "VALORES PARA PM10 POR FECHA"
        },
        "xaxis": {
         "anchor": "y",
         "domain": [
          0,
          1
         ],
         "title": {
          "text": "Date"
         }
        },
        "yaxis": {
         "anchor": "x",
         "domain": [
          0,
          1
         ],
         "title": {
          "text": "count"
         }
        }
       }
      },
      "text/html": [
       "<div>\n",
       "        \n",
       "        \n",
       "            <div id=\"7a529da8-cdb5-494a-8c55-6e6260a1e669\" class=\"plotly-graph-div\" style=\"height:525px; width:100%;\"></div>\n",
       "            <script type=\"text/javascript\">\n",
       "                require([\"plotly\"], function(Plotly) {\n",
       "                    window.PLOTLYENV=window.PLOTLYENV || {};\n",
       "                    \n",
       "                if (document.getElementById(\"7a529da8-cdb5-494a-8c55-6e6260a1e669\")) {\n",
       "                    Plotly.newPlot(\n",
       "                        '7a529da8-cdb5-494a-8c55-6e6260a1e669',\n",
       "                        [{\"hovertemplate\": \"Date=%{x}<br>count=%{y}<extra></extra>\", \"legendgroup\": \"\", \"line\": {\"color\": \"#636efa\", \"dash\": \"solid\"}, \"mode\": \"lines\", \"name\": \"\", \"orientation\": \"v\", \"showlegend\": false, \"type\": \"scatter\", \"x\": [\"2019-12-30\", \"2019-12-31\", \"2020-01-01\", \"2020-01-02\", \"2020-01-03\", \"2020-01-04\", \"2020-01-05\", \"2020-01-06\", \"2020-01-07\", \"2020-01-08\", \"2020-01-09\", \"2020-01-10\", \"2020-01-11\", \"2020-01-12\", \"2020-01-13\", \"2020-01-14\", \"2020-01-15\", \"2020-01-16\", \"2020-01-17\", \"2020-01-18\", \"2020-01-19\", \"2020-01-20\", \"2020-01-21\", \"2020-01-22\", \"2020-01-23\", \"2020-01-24\", \"2020-01-25\", \"2020-01-26\", \"2020-01-27\", \"2020-01-28\", \"2020-01-29\", \"2020-01-30\", \"2020-01-31\", \"2020-02-01\", \"2020-02-02\", \"2020-02-03\", \"2020-02-04\", \"2020-02-05\", \"2020-02-06\", \"2020-02-07\", \"2020-02-08\", \"2020-02-09\", \"2020-02-10\", \"2020-02-11\", \"2020-02-12\", \"2020-02-13\", \"2020-02-14\", \"2020-02-15\", \"2020-02-16\", \"2020-02-17\", \"2020-02-18\", \"2020-02-19\", \"2020-02-20\", \"2020-02-21\", \"2020-02-22\", \"2020-02-23\", \"2020-02-24\", \"2020-02-25\", \"2020-02-26\", \"2020-02-27\", \"2020-02-28\", \"2020-02-29\", \"2020-03-01\", \"2020-03-02\", \"2020-03-03\", \"2020-03-04\", \"2020-03-05\", \"2020-03-06\", \"2020-03-29\", \"2020-03-30\", \"2020-03-31\", \"2020-04-01\", \"2020-04-02\", \"2020-04-03\", \"2020-04-04\", \"2020-04-05\", \"2020-04-06\", \"2020-04-07\", \"2020-04-08\", \"2020-04-09\", \"2020-04-10\", \"2020-04-11\", \"2020-04-12\", \"2020-04-13\", \"2020-04-14\", \"2020-04-15\", \"2020-04-16\", \"2020-04-17\", \"2020-04-18\", \"2020-04-19\", \"2020-04-20\", \"2020-04-21\", \"2020-04-22\", \"2020-04-23\", \"2020-04-24\", \"2020-04-25\", \"2020-04-26\", \"2020-04-27\", \"2020-04-28\", \"2020-04-29\", \"2020-04-30\", \"2020-05-01\", \"2020-05-02\", \"2020-05-03\", \"2020-05-04\", \"2020-05-05\", \"2020-05-06\", \"2020-05-07\", \"2020-05-08\", \"2020-05-09\", \"2020-05-10\", \"2020-05-11\", \"2020-05-12\", \"2020-05-13\", \"2020-05-14\", \"2020-05-15\", \"2020-05-16\", \"2020-05-17\", \"2020-05-18\", \"2020-05-19\", \"2020-05-20\", \"2020-05-21\", \"2020-05-22\", \"2020-05-23\", \"2020-05-24\", \"2020-05-25\", \"2020-05-26\", \"2020-05-27\", \"2020-05-28\", \"2020-05-29\", \"2020-05-30\", \"2020-05-31\", \"2020-06-01\", \"2020-06-02\", \"2020-06-03\", \"2020-06-04\", \"2020-06-05\"], \"xaxis\": \"x\", \"y\": [96, 96, 93, 95, 94, 87, 96, 96, 96, 96, 96, 95, 96, 96, 96, 96, 79, 71, 72, 72, 71, 71, 72, 82, 92, 96, 95, 96, 95, 90, 96, 93, 95, 88, 72, 72, 72, 63, 55, 72, 72, 71, 72, 72, 72, 71, 71, 72, 72, 72, 79, 96, 85, 82, 83, 72, 72, 70, 76, 96, 96, 96, 95, 96, 96, 92, 96, 39, 100, 120, 99, 120, 120, 120, 120, 100, 120, 120, 120, 120, 120, 120, 120, 120, 120, 120, 120, 118, 105, 120, 119, 118, 120, 120, 120, 120, 119, 120, 120, 120, 120, 120, 120, 120, 120, 120, 120, 120, 120, 120, 120, 120, 120, 119, 120, 120, 120, 120, 120, 120, 120, 120, 120, 120, 120, 119, 120, 120, 117, 120, 120, 119, 120, 120, 120, 119, 72], \"yaxis\": \"y\"}],\n",
       "                        {\"legend\": {\"tracegroupgap\": 0}, \"template\": {\"data\": {\"bar\": [{\"error_x\": {\"color\": \"#2a3f5f\"}, \"error_y\": {\"color\": \"#2a3f5f\"}, \"marker\": {\"line\": {\"color\": \"#E5ECF6\", \"width\": 0.5}}, \"type\": \"bar\"}], \"barpolar\": [{\"marker\": {\"line\": {\"color\": \"#E5ECF6\", \"width\": 0.5}}, \"type\": \"barpolar\"}], \"carpet\": [{\"aaxis\": {\"endlinecolor\": \"#2a3f5f\", \"gridcolor\": \"white\", \"linecolor\": \"white\", \"minorgridcolor\": \"white\", \"startlinecolor\": \"#2a3f5f\"}, \"baxis\": {\"endlinecolor\": \"#2a3f5f\", \"gridcolor\": \"white\", \"linecolor\": \"white\", \"minorgridcolor\": \"white\", \"startlinecolor\": \"#2a3f5f\"}, \"type\": \"carpet\"}], \"choropleth\": [{\"colorbar\": {\"outlinewidth\": 0, \"ticks\": \"\"}, \"type\": \"choropleth\"}], \"contour\": [{\"colorbar\": {\"outlinewidth\": 0, \"ticks\": \"\"}, \"colorscale\": [[0.0, \"#0d0887\"], [0.1111111111111111, \"#46039f\"], [0.2222222222222222, \"#7201a8\"], [0.3333333333333333, \"#9c179e\"], [0.4444444444444444, \"#bd3786\"], [0.5555555555555556, \"#d8576b\"], [0.6666666666666666, \"#ed7953\"], [0.7777777777777778, \"#fb9f3a\"], [0.8888888888888888, \"#fdca26\"], [1.0, \"#f0f921\"]], \"type\": \"contour\"}], \"contourcarpet\": [{\"colorbar\": {\"outlinewidth\": 0, \"ticks\": \"\"}, \"type\": \"contourcarpet\"}], \"heatmap\": [{\"colorbar\": {\"outlinewidth\": 0, \"ticks\": \"\"}, \"colorscale\": [[0.0, \"#0d0887\"], [0.1111111111111111, \"#46039f\"], [0.2222222222222222, \"#7201a8\"], [0.3333333333333333, \"#9c179e\"], [0.4444444444444444, \"#bd3786\"], [0.5555555555555556, \"#d8576b\"], [0.6666666666666666, \"#ed7953\"], [0.7777777777777778, \"#fb9f3a\"], [0.8888888888888888, \"#fdca26\"], [1.0, \"#f0f921\"]], \"type\": \"heatmap\"}], \"heatmapgl\": [{\"colorbar\": {\"outlinewidth\": 0, \"ticks\": \"\"}, \"colorscale\": [[0.0, \"#0d0887\"], [0.1111111111111111, \"#46039f\"], [0.2222222222222222, \"#7201a8\"], [0.3333333333333333, \"#9c179e\"], [0.4444444444444444, \"#bd3786\"], [0.5555555555555556, \"#d8576b\"], [0.6666666666666666, \"#ed7953\"], [0.7777777777777778, \"#fb9f3a\"], [0.8888888888888888, \"#fdca26\"], [1.0, \"#f0f921\"]], \"type\": \"heatmapgl\"}], \"histogram\": [{\"marker\": {\"colorbar\": {\"outlinewidth\": 0, \"ticks\": \"\"}}, \"type\": \"histogram\"}], \"histogram2d\": [{\"colorbar\": {\"outlinewidth\": 0, \"ticks\": \"\"}, \"colorscale\": [[0.0, \"#0d0887\"], [0.1111111111111111, \"#46039f\"], [0.2222222222222222, \"#7201a8\"], [0.3333333333333333, \"#9c179e\"], [0.4444444444444444, \"#bd3786\"], [0.5555555555555556, \"#d8576b\"], [0.6666666666666666, \"#ed7953\"], [0.7777777777777778, \"#fb9f3a\"], [0.8888888888888888, \"#fdca26\"], [1.0, \"#f0f921\"]], \"type\": \"histogram2d\"}], \"histogram2dcontour\": [{\"colorbar\": {\"outlinewidth\": 0, \"ticks\": \"\"}, \"colorscale\": [[0.0, \"#0d0887\"], [0.1111111111111111, \"#46039f\"], [0.2222222222222222, \"#7201a8\"], [0.3333333333333333, \"#9c179e\"], [0.4444444444444444, \"#bd3786\"], [0.5555555555555556, \"#d8576b\"], [0.6666666666666666, \"#ed7953\"], [0.7777777777777778, \"#fb9f3a\"], [0.8888888888888888, \"#fdca26\"], [1.0, \"#f0f921\"]], \"type\": \"histogram2dcontour\"}], \"mesh3d\": [{\"colorbar\": {\"outlinewidth\": 0, \"ticks\": \"\"}, \"type\": \"mesh3d\"}], \"parcoords\": [{\"line\": {\"colorbar\": {\"outlinewidth\": 0, \"ticks\": \"\"}}, \"type\": \"parcoords\"}], \"pie\": [{\"automargin\": true, \"type\": \"pie\"}], \"scatter\": [{\"marker\": {\"colorbar\": {\"outlinewidth\": 0, \"ticks\": \"\"}}, \"type\": \"scatter\"}], \"scatter3d\": [{\"line\": {\"colorbar\": {\"outlinewidth\": 0, \"ticks\": \"\"}}, \"marker\": {\"colorbar\": {\"outlinewidth\": 0, \"ticks\": \"\"}}, \"type\": \"scatter3d\"}], \"scattercarpet\": [{\"marker\": {\"colorbar\": {\"outlinewidth\": 0, \"ticks\": \"\"}}, \"type\": \"scattercarpet\"}], \"scattergeo\": [{\"marker\": {\"colorbar\": {\"outlinewidth\": 0, \"ticks\": \"\"}}, \"type\": \"scattergeo\"}], \"scattergl\": [{\"marker\": {\"colorbar\": {\"outlinewidth\": 0, \"ticks\": \"\"}}, \"type\": \"scattergl\"}], \"scattermapbox\": [{\"marker\": {\"colorbar\": {\"outlinewidth\": 0, \"ticks\": \"\"}}, \"type\": \"scattermapbox\"}], \"scatterpolar\": [{\"marker\": {\"colorbar\": {\"outlinewidth\": 0, \"ticks\": \"\"}}, \"type\": \"scatterpolar\"}], \"scatterpolargl\": [{\"marker\": {\"colorbar\": {\"outlinewidth\": 0, \"ticks\": \"\"}}, \"type\": \"scatterpolargl\"}], \"scatterternary\": [{\"marker\": {\"colorbar\": {\"outlinewidth\": 0, \"ticks\": \"\"}}, \"type\": \"scatterternary\"}], \"surface\": [{\"colorbar\": {\"outlinewidth\": 0, \"ticks\": \"\"}, \"colorscale\": [[0.0, \"#0d0887\"], [0.1111111111111111, \"#46039f\"], [0.2222222222222222, \"#7201a8\"], [0.3333333333333333, \"#9c179e\"], [0.4444444444444444, \"#bd3786\"], [0.5555555555555556, \"#d8576b\"], [0.6666666666666666, \"#ed7953\"], [0.7777777777777778, \"#fb9f3a\"], [0.8888888888888888, \"#fdca26\"], [1.0, \"#f0f921\"]], \"type\": \"surface\"}], \"table\": [{\"cells\": {\"fill\": {\"color\": \"#EBF0F8\"}, \"line\": {\"color\": \"white\"}}, \"header\": {\"fill\": {\"color\": \"#C8D4E3\"}, \"line\": {\"color\": \"white\"}}, \"type\": \"table\"}]}, \"layout\": {\"annotationdefaults\": {\"arrowcolor\": \"#2a3f5f\", \"arrowhead\": 0, \"arrowwidth\": 1}, \"coloraxis\": {\"colorbar\": {\"outlinewidth\": 0, \"ticks\": \"\"}}, \"colorscale\": {\"diverging\": [[0, \"#8e0152\"], [0.1, \"#c51b7d\"], [0.2, \"#de77ae\"], [0.3, \"#f1b6da\"], [0.4, \"#fde0ef\"], [0.5, \"#f7f7f7\"], [0.6, \"#e6f5d0\"], [0.7, \"#b8e186\"], [0.8, \"#7fbc41\"], [0.9, \"#4d9221\"], [1, \"#276419\"]], \"sequential\": [[0.0, \"#0d0887\"], [0.1111111111111111, \"#46039f\"], [0.2222222222222222, \"#7201a8\"], [0.3333333333333333, \"#9c179e\"], [0.4444444444444444, \"#bd3786\"], [0.5555555555555556, \"#d8576b\"], [0.6666666666666666, \"#ed7953\"], [0.7777777777777778, \"#fb9f3a\"], [0.8888888888888888, \"#fdca26\"], [1.0, \"#f0f921\"]], \"sequentialminus\": [[0.0, \"#0d0887\"], [0.1111111111111111, \"#46039f\"], [0.2222222222222222, \"#7201a8\"], [0.3333333333333333, \"#9c179e\"], [0.4444444444444444, \"#bd3786\"], [0.5555555555555556, \"#d8576b\"], [0.6666666666666666, \"#ed7953\"], [0.7777777777777778, \"#fb9f3a\"], [0.8888888888888888, \"#fdca26\"], [1.0, \"#f0f921\"]]}, \"colorway\": [\"#636efa\", \"#EF553B\", \"#00cc96\", \"#ab63fa\", \"#FFA15A\", \"#19d3f3\", \"#FF6692\", \"#B6E880\", \"#FF97FF\", \"#FECB52\"], \"font\": {\"color\": \"#2a3f5f\"}, \"geo\": {\"bgcolor\": \"white\", \"lakecolor\": \"white\", \"landcolor\": \"#E5ECF6\", \"showlakes\": true, \"showland\": true, \"subunitcolor\": \"white\"}, \"hoverlabel\": {\"align\": \"left\"}, \"hovermode\": \"closest\", \"mapbox\": {\"style\": \"light\"}, \"paper_bgcolor\": \"white\", \"plot_bgcolor\": \"#E5ECF6\", \"polar\": {\"angularaxis\": {\"gridcolor\": \"white\", \"linecolor\": \"white\", \"ticks\": \"\"}, \"bgcolor\": \"#E5ECF6\", \"radialaxis\": {\"gridcolor\": \"white\", \"linecolor\": \"white\", \"ticks\": \"\"}}, \"scene\": {\"xaxis\": {\"backgroundcolor\": \"#E5ECF6\", \"gridcolor\": \"white\", \"gridwidth\": 2, \"linecolor\": \"white\", \"showbackground\": true, \"ticks\": \"\", \"zerolinecolor\": \"white\"}, \"yaxis\": {\"backgroundcolor\": \"#E5ECF6\", \"gridcolor\": \"white\", \"gridwidth\": 2, \"linecolor\": \"white\", \"showbackground\": true, \"ticks\": \"\", \"zerolinecolor\": \"white\"}, \"zaxis\": {\"backgroundcolor\": \"#E5ECF6\", \"gridcolor\": \"white\", \"gridwidth\": 2, \"linecolor\": \"white\", \"showbackground\": true, \"ticks\": \"\", \"zerolinecolor\": \"white\"}}, \"shapedefaults\": {\"line\": {\"color\": \"#2a3f5f\"}}, \"ternary\": {\"aaxis\": {\"gridcolor\": \"white\", \"linecolor\": \"white\", \"ticks\": \"\"}, \"baxis\": {\"gridcolor\": \"white\", \"linecolor\": \"white\", \"ticks\": \"\"}, \"bgcolor\": \"#E5ECF6\", \"caxis\": {\"gridcolor\": \"white\", \"linecolor\": \"white\", \"ticks\": \"\"}}, \"title\": {\"x\": 0.05}, \"xaxis\": {\"automargin\": true, \"gridcolor\": \"white\", \"linecolor\": \"white\", \"ticks\": \"\", \"title\": {\"standoff\": 15}, \"zerolinecolor\": \"white\", \"zerolinewidth\": 2}, \"yaxis\": {\"automargin\": true, \"gridcolor\": \"white\", \"linecolor\": \"white\", \"ticks\": \"\", \"title\": {\"standoff\": 15}, \"zerolinecolor\": \"white\", \"zerolinewidth\": 2}}}, \"title\": {\"text\": \"VALORES PARA PM10 POR FECHA\"}, \"xaxis\": {\"anchor\": \"y\", \"domain\": [0.0, 1.0], \"title\": {\"text\": \"Date\"}}, \"yaxis\": {\"anchor\": \"x\", \"domain\": [0.0, 1.0], \"title\": {\"text\": \"count\"}}},\n",
       "                        {\"responsive\": true}\n",
       "                    ).then(function(){\n",
       "                            \n",
       "var gd = document.getElementById('7a529da8-cdb5-494a-8c55-6e6260a1e669');\n",
       "var x = new MutationObserver(function (mutations, observer) {{\n",
       "        var display = window.getComputedStyle(gd).display;\n",
       "        if (!display || display === 'none') {{\n",
       "            console.log([gd, 'removed!']);\n",
       "            Plotly.purge(gd);\n",
       "            observer.disconnect();\n",
       "        }}\n",
       "}});\n",
       "\n",
       "// Listen for the removal of the full notebook cells\n",
       "var notebookContainer = gd.closest('#notebook-container');\n",
       "if (notebookContainer) {{\n",
       "    x.observe(notebookContainer, {childList: true});\n",
       "}}\n",
       "\n",
       "// Listen for the clearing of the current output cell\n",
       "var outputEl = gd.closest('.output');\n",
       "if (outputEl) {{\n",
       "    x.observe(outputEl, {childList: true});\n",
       "}}\n",
       "\n",
       "                        })\n",
       "                };\n",
       "                });\n",
       "            </script>\n",
       "        </div>"
      ]
     },
     "metadata": {},
     "output_type": "display_data"
    }
   ],
   "source": [
    "import plotly.express as px\n",
    "fig = px.line(PEpm10pa,x='Date',y='count',title=\"VALORES PARA PM10 POR FECHA\")\n",
    "fig.show()"
   ]
  },
  {
   "cell_type": "code",
   "execution_count": 217,
   "metadata": {},
   "outputs": [
    {
     "data": {
      "application/vnd.plotly.v1+json": {
       "config": {
        "plotlyServerURL": "https://plot.ly"
       },
       "data": [
        {
         "hovertemplate": "Date=%{x}<br>count=%{y}<extra></extra>",
         "legendgroup": "",
         "line": {
          "color": "#636efa",
          "dash": "solid"
         },
         "mode": "lines",
         "name": "",
         "orientation": "v",
         "showlegend": false,
         "type": "scatter",
         "x": [
          "2019-12-30",
          "2019-12-31",
          "2020-01-01",
          "2020-01-02",
          "2020-01-03",
          "2020-01-04",
          "2020-01-05",
          "2020-01-06",
          "2020-01-07",
          "2020-01-08",
          "2020-01-09",
          "2020-01-10",
          "2020-01-11",
          "2020-01-12",
          "2020-01-13",
          "2020-01-14",
          "2020-01-15",
          "2020-01-16",
          "2020-01-17",
          "2020-01-18",
          "2020-01-19",
          "2020-01-20",
          "2020-01-21",
          "2020-01-22",
          "2020-01-23",
          "2020-01-24",
          "2020-01-25",
          "2020-01-26",
          "2020-01-27",
          "2020-01-28",
          "2020-01-29",
          "2020-01-30",
          "2020-01-31",
          "2020-02-01",
          "2020-02-02",
          "2020-02-03",
          "2020-02-04",
          "2020-02-05",
          "2020-02-06",
          "2020-02-07",
          "2020-02-08",
          "2020-02-09",
          "2020-02-10",
          "2020-02-11",
          "2020-02-12",
          "2020-02-13",
          "2020-02-14",
          "2020-02-15",
          "2020-02-16",
          "2020-02-17",
          "2020-02-18",
          "2020-02-19",
          "2020-02-20",
          "2020-02-21",
          "2020-02-22",
          "2020-02-23",
          "2020-02-24",
          "2020-02-25",
          "2020-02-26",
          "2020-02-27",
          "2020-02-28",
          "2020-02-29",
          "2020-03-01",
          "2020-03-02",
          "2020-03-03",
          "2020-03-04",
          "2020-03-05",
          "2020-03-06",
          "2020-03-07",
          "2020-03-08",
          "2020-03-09",
          "2020-03-10",
          "2020-03-11",
          "2020-03-12",
          "2020-03-13",
          "2020-03-14",
          "2020-03-15",
          "2020-03-16",
          "2020-03-17",
          "2020-03-18",
          "2020-03-21",
          "2020-03-22",
          "2020-03-23",
          "2020-03-24",
          "2020-03-25",
          "2020-03-26",
          "2020-03-27",
          "2020-03-28",
          "2020-03-29",
          "2020-03-30",
          "2020-03-31",
          "2020-04-01",
          "2020-04-02",
          "2020-04-03",
          "2020-04-04",
          "2020-04-05",
          "2020-04-06",
          "2020-04-07",
          "2020-04-08",
          "2020-04-09",
          "2020-04-10",
          "2020-04-11",
          "2020-04-12",
          "2020-04-13",
          "2020-04-14",
          "2020-04-15",
          "2020-04-16",
          "2020-04-17",
          "2020-04-18",
          "2020-04-19",
          "2020-04-20",
          "2020-04-21",
          "2020-04-22",
          "2020-04-23",
          "2020-04-24",
          "2020-04-25",
          "2020-04-26",
          "2020-04-27",
          "2020-04-28",
          "2020-04-29",
          "2020-04-30",
          "2020-05-01",
          "2020-05-02",
          "2020-05-03",
          "2020-05-04",
          "2020-05-05",
          "2020-05-06",
          "2020-05-07",
          "2020-05-08",
          "2020-05-09",
          "2020-05-10",
          "2020-05-11",
          "2020-05-12",
          "2020-05-13",
          "2020-05-14",
          "2020-05-15",
          "2020-05-16",
          "2020-05-17",
          "2020-05-18",
          "2020-05-19",
          "2020-05-20",
          "2020-05-21",
          "2020-05-22",
          "2020-05-23",
          "2020-05-24",
          "2020-05-25",
          "2020-05-26",
          "2020-05-27",
          "2020-05-28",
          "2020-05-29",
          "2020-05-30",
          "2020-05-31",
          "2020-06-01",
          "2020-06-02",
          "2020-06-03",
          "2020-06-04",
          "2020-06-05"
         ],
         "xaxis": "x",
         "y": [
          48,
          48,
          46,
          48,
          48,
          39,
          48,
          48,
          48,
          48,
          40,
          48,
          48,
          46,
          48,
          48,
          33,
          24,
          24,
          24,
          24,
          24,
          24,
          34,
          47,
          48,
          48,
          48,
          48,
          48,
          48,
          48,
          48,
          47,
          48,
          48,
          48,
          48,
          48,
          48,
          48,
          48,
          48,
          48,
          47,
          48,
          48,
          48,
          48,
          48,
          54,
          72,
          71,
          75,
          75,
          72,
          84,
          96,
          90,
          104,
          119,
          113,
          112,
          84,
          82,
          116,
          141,
          68,
          24,
          24,
          24,
          24,
          24,
          24,
          24,
          23,
          24,
          24,
          24,
          23,
          15,
          24,
          24,
          24,
          24,
          23,
          24,
          24,
          120,
          141,
          123,
          141,
          143,
          141,
          138,
          121,
          143,
          142,
          140,
          138,
          139,
          141,
          139,
          142,
          142,
          143,
          141,
          141,
          128,
          140,
          143,
          129,
          120,
          108,
          111,
          119,
          120,
          119,
          120,
          118,
          120,
          120,
          120,
          120,
          116,
          108,
          119,
          120,
          120,
          120,
          119,
          120,
          120,
          119,
          117,
          120,
          120,
          120,
          120,
          120,
          120,
          120,
          119,
          120,
          119,
          120,
          120,
          120,
          120,
          120,
          120,
          119,
          120,
          120,
          120,
          120,
          74
         ],
         "yaxis": "y"
        }
       ],
       "layout": {
        "legend": {
         "tracegroupgap": 0
        },
        "template": {
         "data": {
          "bar": [
           {
            "error_x": {
             "color": "#2a3f5f"
            },
            "error_y": {
             "color": "#2a3f5f"
            },
            "marker": {
             "line": {
              "color": "#E5ECF6",
              "width": 0.5
             }
            },
            "type": "bar"
           }
          ],
          "barpolar": [
           {
            "marker": {
             "line": {
              "color": "#E5ECF6",
              "width": 0.5
             }
            },
            "type": "barpolar"
           }
          ],
          "carpet": [
           {
            "aaxis": {
             "endlinecolor": "#2a3f5f",
             "gridcolor": "white",
             "linecolor": "white",
             "minorgridcolor": "white",
             "startlinecolor": "#2a3f5f"
            },
            "baxis": {
             "endlinecolor": "#2a3f5f",
             "gridcolor": "white",
             "linecolor": "white",
             "minorgridcolor": "white",
             "startlinecolor": "#2a3f5f"
            },
            "type": "carpet"
           }
          ],
          "choropleth": [
           {
            "colorbar": {
             "outlinewidth": 0,
             "ticks": ""
            },
            "type": "choropleth"
           }
          ],
          "contour": [
           {
            "colorbar": {
             "outlinewidth": 0,
             "ticks": ""
            },
            "colorscale": [
             [
              0,
              "#0d0887"
             ],
             [
              0.1111111111111111,
              "#46039f"
             ],
             [
              0.2222222222222222,
              "#7201a8"
             ],
             [
              0.3333333333333333,
              "#9c179e"
             ],
             [
              0.4444444444444444,
              "#bd3786"
             ],
             [
              0.5555555555555556,
              "#d8576b"
             ],
             [
              0.6666666666666666,
              "#ed7953"
             ],
             [
              0.7777777777777778,
              "#fb9f3a"
             ],
             [
              0.8888888888888888,
              "#fdca26"
             ],
             [
              1,
              "#f0f921"
             ]
            ],
            "type": "contour"
           }
          ],
          "contourcarpet": [
           {
            "colorbar": {
             "outlinewidth": 0,
             "ticks": ""
            },
            "type": "contourcarpet"
           }
          ],
          "heatmap": [
           {
            "colorbar": {
             "outlinewidth": 0,
             "ticks": ""
            },
            "colorscale": [
             [
              0,
              "#0d0887"
             ],
             [
              0.1111111111111111,
              "#46039f"
             ],
             [
              0.2222222222222222,
              "#7201a8"
             ],
             [
              0.3333333333333333,
              "#9c179e"
             ],
             [
              0.4444444444444444,
              "#bd3786"
             ],
             [
              0.5555555555555556,
              "#d8576b"
             ],
             [
              0.6666666666666666,
              "#ed7953"
             ],
             [
              0.7777777777777778,
              "#fb9f3a"
             ],
             [
              0.8888888888888888,
              "#fdca26"
             ],
             [
              1,
              "#f0f921"
             ]
            ],
            "type": "heatmap"
           }
          ],
          "heatmapgl": [
           {
            "colorbar": {
             "outlinewidth": 0,
             "ticks": ""
            },
            "colorscale": [
             [
              0,
              "#0d0887"
             ],
             [
              0.1111111111111111,
              "#46039f"
             ],
             [
              0.2222222222222222,
              "#7201a8"
             ],
             [
              0.3333333333333333,
              "#9c179e"
             ],
             [
              0.4444444444444444,
              "#bd3786"
             ],
             [
              0.5555555555555556,
              "#d8576b"
             ],
             [
              0.6666666666666666,
              "#ed7953"
             ],
             [
              0.7777777777777778,
              "#fb9f3a"
             ],
             [
              0.8888888888888888,
              "#fdca26"
             ],
             [
              1,
              "#f0f921"
             ]
            ],
            "type": "heatmapgl"
           }
          ],
          "histogram": [
           {
            "marker": {
             "colorbar": {
              "outlinewidth": 0,
              "ticks": ""
             }
            },
            "type": "histogram"
           }
          ],
          "histogram2d": [
           {
            "colorbar": {
             "outlinewidth": 0,
             "ticks": ""
            },
            "colorscale": [
             [
              0,
              "#0d0887"
             ],
             [
              0.1111111111111111,
              "#46039f"
             ],
             [
              0.2222222222222222,
              "#7201a8"
             ],
             [
              0.3333333333333333,
              "#9c179e"
             ],
             [
              0.4444444444444444,
              "#bd3786"
             ],
             [
              0.5555555555555556,
              "#d8576b"
             ],
             [
              0.6666666666666666,
              "#ed7953"
             ],
             [
              0.7777777777777778,
              "#fb9f3a"
             ],
             [
              0.8888888888888888,
              "#fdca26"
             ],
             [
              1,
              "#f0f921"
             ]
            ],
            "type": "histogram2d"
           }
          ],
          "histogram2dcontour": [
           {
            "colorbar": {
             "outlinewidth": 0,
             "ticks": ""
            },
            "colorscale": [
             [
              0,
              "#0d0887"
             ],
             [
              0.1111111111111111,
              "#46039f"
             ],
             [
              0.2222222222222222,
              "#7201a8"
             ],
             [
              0.3333333333333333,
              "#9c179e"
             ],
             [
              0.4444444444444444,
              "#bd3786"
             ],
             [
              0.5555555555555556,
              "#d8576b"
             ],
             [
              0.6666666666666666,
              "#ed7953"
             ],
             [
              0.7777777777777778,
              "#fb9f3a"
             ],
             [
              0.8888888888888888,
              "#fdca26"
             ],
             [
              1,
              "#f0f921"
             ]
            ],
            "type": "histogram2dcontour"
           }
          ],
          "mesh3d": [
           {
            "colorbar": {
             "outlinewidth": 0,
             "ticks": ""
            },
            "type": "mesh3d"
           }
          ],
          "parcoords": [
           {
            "line": {
             "colorbar": {
              "outlinewidth": 0,
              "ticks": ""
             }
            },
            "type": "parcoords"
           }
          ],
          "pie": [
           {
            "automargin": true,
            "type": "pie"
           }
          ],
          "scatter": [
           {
            "marker": {
             "colorbar": {
              "outlinewidth": 0,
              "ticks": ""
             }
            },
            "type": "scatter"
           }
          ],
          "scatter3d": [
           {
            "line": {
             "colorbar": {
              "outlinewidth": 0,
              "ticks": ""
             }
            },
            "marker": {
             "colorbar": {
              "outlinewidth": 0,
              "ticks": ""
             }
            },
            "type": "scatter3d"
           }
          ],
          "scattercarpet": [
           {
            "marker": {
             "colorbar": {
              "outlinewidth": 0,
              "ticks": ""
             }
            },
            "type": "scattercarpet"
           }
          ],
          "scattergeo": [
           {
            "marker": {
             "colorbar": {
              "outlinewidth": 0,
              "ticks": ""
             }
            },
            "type": "scattergeo"
           }
          ],
          "scattergl": [
           {
            "marker": {
             "colorbar": {
              "outlinewidth": 0,
              "ticks": ""
             }
            },
            "type": "scattergl"
           }
          ],
          "scattermapbox": [
           {
            "marker": {
             "colorbar": {
              "outlinewidth": 0,
              "ticks": ""
             }
            },
            "type": "scattermapbox"
           }
          ],
          "scatterpolar": [
           {
            "marker": {
             "colorbar": {
              "outlinewidth": 0,
              "ticks": ""
             }
            },
            "type": "scatterpolar"
           }
          ],
          "scatterpolargl": [
           {
            "marker": {
             "colorbar": {
              "outlinewidth": 0,
              "ticks": ""
             }
            },
            "type": "scatterpolargl"
           }
          ],
          "scatterternary": [
           {
            "marker": {
             "colorbar": {
              "outlinewidth": 0,
              "ticks": ""
             }
            },
            "type": "scatterternary"
           }
          ],
          "surface": [
           {
            "colorbar": {
             "outlinewidth": 0,
             "ticks": ""
            },
            "colorscale": [
             [
              0,
              "#0d0887"
             ],
             [
              0.1111111111111111,
              "#46039f"
             ],
             [
              0.2222222222222222,
              "#7201a8"
             ],
             [
              0.3333333333333333,
              "#9c179e"
             ],
             [
              0.4444444444444444,
              "#bd3786"
             ],
             [
              0.5555555555555556,
              "#d8576b"
             ],
             [
              0.6666666666666666,
              "#ed7953"
             ],
             [
              0.7777777777777778,
              "#fb9f3a"
             ],
             [
              0.8888888888888888,
              "#fdca26"
             ],
             [
              1,
              "#f0f921"
             ]
            ],
            "type": "surface"
           }
          ],
          "table": [
           {
            "cells": {
             "fill": {
              "color": "#EBF0F8"
             },
             "line": {
              "color": "white"
             }
            },
            "header": {
             "fill": {
              "color": "#C8D4E3"
             },
             "line": {
              "color": "white"
             }
            },
            "type": "table"
           }
          ]
         },
         "layout": {
          "annotationdefaults": {
           "arrowcolor": "#2a3f5f",
           "arrowhead": 0,
           "arrowwidth": 1
          },
          "coloraxis": {
           "colorbar": {
            "outlinewidth": 0,
            "ticks": ""
           }
          },
          "colorscale": {
           "diverging": [
            [
             0,
             "#8e0152"
            ],
            [
             0.1,
             "#c51b7d"
            ],
            [
             0.2,
             "#de77ae"
            ],
            [
             0.3,
             "#f1b6da"
            ],
            [
             0.4,
             "#fde0ef"
            ],
            [
             0.5,
             "#f7f7f7"
            ],
            [
             0.6,
             "#e6f5d0"
            ],
            [
             0.7,
             "#b8e186"
            ],
            [
             0.8,
             "#7fbc41"
            ],
            [
             0.9,
             "#4d9221"
            ],
            [
             1,
             "#276419"
            ]
           ],
           "sequential": [
            [
             0,
             "#0d0887"
            ],
            [
             0.1111111111111111,
             "#46039f"
            ],
            [
             0.2222222222222222,
             "#7201a8"
            ],
            [
             0.3333333333333333,
             "#9c179e"
            ],
            [
             0.4444444444444444,
             "#bd3786"
            ],
            [
             0.5555555555555556,
             "#d8576b"
            ],
            [
             0.6666666666666666,
             "#ed7953"
            ],
            [
             0.7777777777777778,
             "#fb9f3a"
            ],
            [
             0.8888888888888888,
             "#fdca26"
            ],
            [
             1,
             "#f0f921"
            ]
           ],
           "sequentialminus": [
            [
             0,
             "#0d0887"
            ],
            [
             0.1111111111111111,
             "#46039f"
            ],
            [
             0.2222222222222222,
             "#7201a8"
            ],
            [
             0.3333333333333333,
             "#9c179e"
            ],
            [
             0.4444444444444444,
             "#bd3786"
            ],
            [
             0.5555555555555556,
             "#d8576b"
            ],
            [
             0.6666666666666666,
             "#ed7953"
            ],
            [
             0.7777777777777778,
             "#fb9f3a"
            ],
            [
             0.8888888888888888,
             "#fdca26"
            ],
            [
             1,
             "#f0f921"
            ]
           ]
          },
          "colorway": [
           "#636efa",
           "#EF553B",
           "#00cc96",
           "#ab63fa",
           "#FFA15A",
           "#19d3f3",
           "#FF6692",
           "#B6E880",
           "#FF97FF",
           "#FECB52"
          ],
          "font": {
           "color": "#2a3f5f"
          },
          "geo": {
           "bgcolor": "white",
           "lakecolor": "white",
           "landcolor": "#E5ECF6",
           "showlakes": true,
           "showland": true,
           "subunitcolor": "white"
          },
          "hoverlabel": {
           "align": "left"
          },
          "hovermode": "closest",
          "mapbox": {
           "style": "light"
          },
          "paper_bgcolor": "white",
          "plot_bgcolor": "#E5ECF6",
          "polar": {
           "angularaxis": {
            "gridcolor": "white",
            "linecolor": "white",
            "ticks": ""
           },
           "bgcolor": "#E5ECF6",
           "radialaxis": {
            "gridcolor": "white",
            "linecolor": "white",
            "ticks": ""
           }
          },
          "scene": {
           "xaxis": {
            "backgroundcolor": "#E5ECF6",
            "gridcolor": "white",
            "gridwidth": 2,
            "linecolor": "white",
            "showbackground": true,
            "ticks": "",
            "zerolinecolor": "white"
           },
           "yaxis": {
            "backgroundcolor": "#E5ECF6",
            "gridcolor": "white",
            "gridwidth": 2,
            "linecolor": "white",
            "showbackground": true,
            "ticks": "",
            "zerolinecolor": "white"
           },
           "zaxis": {
            "backgroundcolor": "#E5ECF6",
            "gridcolor": "white",
            "gridwidth": 2,
            "linecolor": "white",
            "showbackground": true,
            "ticks": "",
            "zerolinecolor": "white"
           }
          },
          "shapedefaults": {
           "line": {
            "color": "#2a3f5f"
           }
          },
          "ternary": {
           "aaxis": {
            "gridcolor": "white",
            "linecolor": "white",
            "ticks": ""
           },
           "baxis": {
            "gridcolor": "white",
            "linecolor": "white",
            "ticks": ""
           },
           "bgcolor": "#E5ECF6",
           "caxis": {
            "gridcolor": "white",
            "linecolor": "white",
            "ticks": ""
           }
          },
          "title": {
           "x": 0.05
          },
          "xaxis": {
           "automargin": true,
           "gridcolor": "white",
           "linecolor": "white",
           "ticks": "",
           "title": {
            "standoff": 15
           },
           "zerolinecolor": "white",
           "zerolinewidth": 2
          },
          "yaxis": {
           "automargin": true,
           "gridcolor": "white",
           "linecolor": "white",
           "ticks": "",
           "title": {
            "standoff": 15
           },
           "zerolinecolor": "white",
           "zerolinewidth": 2
          }
         }
        },
        "title": {
         "text": "VALORES PARA PM25 POR FECHA"
        },
        "xaxis": {
         "anchor": "y",
         "domain": [
          0,
          1
         ],
         "title": {
          "text": "Date"
         }
        },
        "yaxis": {
         "anchor": "x",
         "domain": [
          0,
          1
         ],
         "title": {
          "text": "count"
         }
        }
       }
      },
      "text/html": [
       "<div>\n",
       "        \n",
       "        \n",
       "            <div id=\"35cc589b-46e6-4ad6-a6b7-80060de4fde2\" class=\"plotly-graph-div\" style=\"height:525px; width:100%;\"></div>\n",
       "            <script type=\"text/javascript\">\n",
       "                require([\"plotly\"], function(Plotly) {\n",
       "                    window.PLOTLYENV=window.PLOTLYENV || {};\n",
       "                    \n",
       "                if (document.getElementById(\"35cc589b-46e6-4ad6-a6b7-80060de4fde2\")) {\n",
       "                    Plotly.newPlot(\n",
       "                        '35cc589b-46e6-4ad6-a6b7-80060de4fde2',\n",
       "                        [{\"hovertemplate\": \"Date=%{x}<br>count=%{y}<extra></extra>\", \"legendgroup\": \"\", \"line\": {\"color\": \"#636efa\", \"dash\": \"solid\"}, \"mode\": \"lines\", \"name\": \"\", \"orientation\": \"v\", \"showlegend\": false, \"type\": \"scatter\", \"x\": [\"2019-12-30\", \"2019-12-31\", \"2020-01-01\", \"2020-01-02\", \"2020-01-03\", \"2020-01-04\", \"2020-01-05\", \"2020-01-06\", \"2020-01-07\", \"2020-01-08\", \"2020-01-09\", \"2020-01-10\", \"2020-01-11\", \"2020-01-12\", \"2020-01-13\", \"2020-01-14\", \"2020-01-15\", \"2020-01-16\", \"2020-01-17\", \"2020-01-18\", \"2020-01-19\", \"2020-01-20\", \"2020-01-21\", \"2020-01-22\", \"2020-01-23\", \"2020-01-24\", \"2020-01-25\", \"2020-01-26\", \"2020-01-27\", \"2020-01-28\", \"2020-01-29\", \"2020-01-30\", \"2020-01-31\", \"2020-02-01\", \"2020-02-02\", \"2020-02-03\", \"2020-02-04\", \"2020-02-05\", \"2020-02-06\", \"2020-02-07\", \"2020-02-08\", \"2020-02-09\", \"2020-02-10\", \"2020-02-11\", \"2020-02-12\", \"2020-02-13\", \"2020-02-14\", \"2020-02-15\", \"2020-02-16\", \"2020-02-17\", \"2020-02-18\", \"2020-02-19\", \"2020-02-20\", \"2020-02-21\", \"2020-02-22\", \"2020-02-23\", \"2020-02-24\", \"2020-02-25\", \"2020-02-26\", \"2020-02-27\", \"2020-02-28\", \"2020-02-29\", \"2020-03-01\", \"2020-03-02\", \"2020-03-03\", \"2020-03-04\", \"2020-03-05\", \"2020-03-06\", \"2020-03-07\", \"2020-03-08\", \"2020-03-09\", \"2020-03-10\", \"2020-03-11\", \"2020-03-12\", \"2020-03-13\", \"2020-03-14\", \"2020-03-15\", \"2020-03-16\", \"2020-03-17\", \"2020-03-18\", \"2020-03-21\", \"2020-03-22\", \"2020-03-23\", \"2020-03-24\", \"2020-03-25\", \"2020-03-26\", \"2020-03-27\", \"2020-03-28\", \"2020-03-29\", \"2020-03-30\", \"2020-03-31\", \"2020-04-01\", \"2020-04-02\", \"2020-04-03\", \"2020-04-04\", \"2020-04-05\", \"2020-04-06\", \"2020-04-07\", \"2020-04-08\", \"2020-04-09\", \"2020-04-10\", \"2020-04-11\", \"2020-04-12\", \"2020-04-13\", \"2020-04-14\", \"2020-04-15\", \"2020-04-16\", \"2020-04-17\", \"2020-04-18\", \"2020-04-19\", \"2020-04-20\", \"2020-04-21\", \"2020-04-22\", \"2020-04-23\", \"2020-04-24\", \"2020-04-25\", \"2020-04-26\", \"2020-04-27\", \"2020-04-28\", \"2020-04-29\", \"2020-04-30\", \"2020-05-01\", \"2020-05-02\", \"2020-05-03\", \"2020-05-04\", \"2020-05-05\", \"2020-05-06\", \"2020-05-07\", \"2020-05-08\", \"2020-05-09\", \"2020-05-10\", \"2020-05-11\", \"2020-05-12\", \"2020-05-13\", \"2020-05-14\", \"2020-05-15\", \"2020-05-16\", \"2020-05-17\", \"2020-05-18\", \"2020-05-19\", \"2020-05-20\", \"2020-05-21\", \"2020-05-22\", \"2020-05-23\", \"2020-05-24\", \"2020-05-25\", \"2020-05-26\", \"2020-05-27\", \"2020-05-28\", \"2020-05-29\", \"2020-05-30\", \"2020-05-31\", \"2020-06-01\", \"2020-06-02\", \"2020-06-03\", \"2020-06-04\", \"2020-06-05\"], \"xaxis\": \"x\", \"y\": [48, 48, 46, 48, 48, 39, 48, 48, 48, 48, 40, 48, 48, 46, 48, 48, 33, 24, 24, 24, 24, 24, 24, 34, 47, 48, 48, 48, 48, 48, 48, 48, 48, 47, 48, 48, 48, 48, 48, 48, 48, 48, 48, 48, 47, 48, 48, 48, 48, 48, 54, 72, 71, 75, 75, 72, 84, 96, 90, 104, 119, 113, 112, 84, 82, 116, 141, 68, 24, 24, 24, 24, 24, 24, 24, 23, 24, 24, 24, 23, 15, 24, 24, 24, 24, 23, 24, 24, 120, 141, 123, 141, 143, 141, 138, 121, 143, 142, 140, 138, 139, 141, 139, 142, 142, 143, 141, 141, 128, 140, 143, 129, 120, 108, 111, 119, 120, 119, 120, 118, 120, 120, 120, 120, 116, 108, 119, 120, 120, 120, 119, 120, 120, 119, 117, 120, 120, 120, 120, 120, 120, 120, 119, 120, 119, 120, 120, 120, 120, 120, 120, 119, 120, 120, 120, 120, 74], \"yaxis\": \"y\"}],\n",
       "                        {\"legend\": {\"tracegroupgap\": 0}, \"template\": {\"data\": {\"bar\": [{\"error_x\": {\"color\": \"#2a3f5f\"}, \"error_y\": {\"color\": \"#2a3f5f\"}, \"marker\": {\"line\": {\"color\": \"#E5ECF6\", \"width\": 0.5}}, \"type\": \"bar\"}], \"barpolar\": [{\"marker\": {\"line\": {\"color\": \"#E5ECF6\", \"width\": 0.5}}, \"type\": \"barpolar\"}], \"carpet\": [{\"aaxis\": {\"endlinecolor\": \"#2a3f5f\", \"gridcolor\": \"white\", \"linecolor\": \"white\", \"minorgridcolor\": \"white\", \"startlinecolor\": \"#2a3f5f\"}, \"baxis\": {\"endlinecolor\": \"#2a3f5f\", \"gridcolor\": \"white\", \"linecolor\": \"white\", \"minorgridcolor\": \"white\", \"startlinecolor\": \"#2a3f5f\"}, \"type\": \"carpet\"}], \"choropleth\": [{\"colorbar\": {\"outlinewidth\": 0, \"ticks\": \"\"}, \"type\": \"choropleth\"}], \"contour\": [{\"colorbar\": {\"outlinewidth\": 0, \"ticks\": \"\"}, \"colorscale\": [[0.0, \"#0d0887\"], [0.1111111111111111, \"#46039f\"], [0.2222222222222222, \"#7201a8\"], [0.3333333333333333, \"#9c179e\"], [0.4444444444444444, \"#bd3786\"], [0.5555555555555556, \"#d8576b\"], [0.6666666666666666, \"#ed7953\"], [0.7777777777777778, \"#fb9f3a\"], [0.8888888888888888, \"#fdca26\"], [1.0, \"#f0f921\"]], \"type\": \"contour\"}], \"contourcarpet\": [{\"colorbar\": {\"outlinewidth\": 0, \"ticks\": \"\"}, \"type\": \"contourcarpet\"}], \"heatmap\": [{\"colorbar\": {\"outlinewidth\": 0, \"ticks\": \"\"}, \"colorscale\": [[0.0, \"#0d0887\"], [0.1111111111111111, \"#46039f\"], [0.2222222222222222, \"#7201a8\"], [0.3333333333333333, \"#9c179e\"], [0.4444444444444444, \"#bd3786\"], [0.5555555555555556, \"#d8576b\"], [0.6666666666666666, \"#ed7953\"], [0.7777777777777778, \"#fb9f3a\"], [0.8888888888888888, \"#fdca26\"], [1.0, \"#f0f921\"]], \"type\": \"heatmap\"}], \"heatmapgl\": [{\"colorbar\": {\"outlinewidth\": 0, \"ticks\": \"\"}, \"colorscale\": [[0.0, \"#0d0887\"], [0.1111111111111111, \"#46039f\"], [0.2222222222222222, \"#7201a8\"], [0.3333333333333333, \"#9c179e\"], [0.4444444444444444, \"#bd3786\"], [0.5555555555555556, \"#d8576b\"], [0.6666666666666666, \"#ed7953\"], [0.7777777777777778, \"#fb9f3a\"], [0.8888888888888888, \"#fdca26\"], [1.0, \"#f0f921\"]], \"type\": \"heatmapgl\"}], \"histogram\": [{\"marker\": {\"colorbar\": {\"outlinewidth\": 0, \"ticks\": \"\"}}, \"type\": \"histogram\"}], \"histogram2d\": [{\"colorbar\": {\"outlinewidth\": 0, \"ticks\": \"\"}, \"colorscale\": [[0.0, \"#0d0887\"], [0.1111111111111111, \"#46039f\"], [0.2222222222222222, \"#7201a8\"], [0.3333333333333333, \"#9c179e\"], [0.4444444444444444, \"#bd3786\"], [0.5555555555555556, \"#d8576b\"], [0.6666666666666666, \"#ed7953\"], [0.7777777777777778, \"#fb9f3a\"], [0.8888888888888888, \"#fdca26\"], [1.0, \"#f0f921\"]], \"type\": \"histogram2d\"}], \"histogram2dcontour\": [{\"colorbar\": {\"outlinewidth\": 0, \"ticks\": \"\"}, \"colorscale\": [[0.0, \"#0d0887\"], [0.1111111111111111, \"#46039f\"], [0.2222222222222222, \"#7201a8\"], [0.3333333333333333, \"#9c179e\"], [0.4444444444444444, \"#bd3786\"], [0.5555555555555556, \"#d8576b\"], [0.6666666666666666, \"#ed7953\"], [0.7777777777777778, \"#fb9f3a\"], [0.8888888888888888, \"#fdca26\"], [1.0, \"#f0f921\"]], \"type\": \"histogram2dcontour\"}], \"mesh3d\": [{\"colorbar\": {\"outlinewidth\": 0, \"ticks\": \"\"}, \"type\": \"mesh3d\"}], \"parcoords\": [{\"line\": {\"colorbar\": {\"outlinewidth\": 0, \"ticks\": \"\"}}, \"type\": \"parcoords\"}], \"pie\": [{\"automargin\": true, \"type\": \"pie\"}], \"scatter\": [{\"marker\": {\"colorbar\": {\"outlinewidth\": 0, \"ticks\": \"\"}}, \"type\": \"scatter\"}], \"scatter3d\": [{\"line\": {\"colorbar\": {\"outlinewidth\": 0, \"ticks\": \"\"}}, \"marker\": {\"colorbar\": {\"outlinewidth\": 0, \"ticks\": \"\"}}, \"type\": \"scatter3d\"}], \"scattercarpet\": [{\"marker\": {\"colorbar\": {\"outlinewidth\": 0, \"ticks\": \"\"}}, \"type\": \"scattercarpet\"}], \"scattergeo\": [{\"marker\": {\"colorbar\": {\"outlinewidth\": 0, \"ticks\": \"\"}}, \"type\": \"scattergeo\"}], \"scattergl\": [{\"marker\": {\"colorbar\": {\"outlinewidth\": 0, \"ticks\": \"\"}}, \"type\": \"scattergl\"}], \"scattermapbox\": [{\"marker\": {\"colorbar\": {\"outlinewidth\": 0, \"ticks\": \"\"}}, \"type\": \"scattermapbox\"}], \"scatterpolar\": [{\"marker\": {\"colorbar\": {\"outlinewidth\": 0, \"ticks\": \"\"}}, \"type\": \"scatterpolar\"}], \"scatterpolargl\": [{\"marker\": {\"colorbar\": {\"outlinewidth\": 0, \"ticks\": \"\"}}, \"type\": \"scatterpolargl\"}], \"scatterternary\": [{\"marker\": {\"colorbar\": {\"outlinewidth\": 0, \"ticks\": \"\"}}, \"type\": \"scatterternary\"}], \"surface\": [{\"colorbar\": {\"outlinewidth\": 0, \"ticks\": \"\"}, \"colorscale\": [[0.0, \"#0d0887\"], [0.1111111111111111, \"#46039f\"], [0.2222222222222222, \"#7201a8\"], [0.3333333333333333, \"#9c179e\"], [0.4444444444444444, \"#bd3786\"], [0.5555555555555556, \"#d8576b\"], [0.6666666666666666, \"#ed7953\"], [0.7777777777777778, \"#fb9f3a\"], [0.8888888888888888, \"#fdca26\"], [1.0, \"#f0f921\"]], \"type\": \"surface\"}], \"table\": [{\"cells\": {\"fill\": {\"color\": \"#EBF0F8\"}, \"line\": {\"color\": \"white\"}}, \"header\": {\"fill\": {\"color\": \"#C8D4E3\"}, \"line\": {\"color\": \"white\"}}, \"type\": \"table\"}]}, \"layout\": {\"annotationdefaults\": {\"arrowcolor\": \"#2a3f5f\", \"arrowhead\": 0, \"arrowwidth\": 1}, \"coloraxis\": {\"colorbar\": {\"outlinewidth\": 0, \"ticks\": \"\"}}, \"colorscale\": {\"diverging\": [[0, \"#8e0152\"], [0.1, \"#c51b7d\"], [0.2, \"#de77ae\"], [0.3, \"#f1b6da\"], [0.4, \"#fde0ef\"], [0.5, \"#f7f7f7\"], [0.6, \"#e6f5d0\"], [0.7, \"#b8e186\"], [0.8, \"#7fbc41\"], [0.9, \"#4d9221\"], [1, \"#276419\"]], \"sequential\": [[0.0, \"#0d0887\"], [0.1111111111111111, \"#46039f\"], [0.2222222222222222, \"#7201a8\"], [0.3333333333333333, \"#9c179e\"], [0.4444444444444444, \"#bd3786\"], [0.5555555555555556, \"#d8576b\"], [0.6666666666666666, \"#ed7953\"], [0.7777777777777778, \"#fb9f3a\"], [0.8888888888888888, \"#fdca26\"], [1.0, \"#f0f921\"]], \"sequentialminus\": [[0.0, \"#0d0887\"], [0.1111111111111111, \"#46039f\"], [0.2222222222222222, \"#7201a8\"], [0.3333333333333333, \"#9c179e\"], [0.4444444444444444, \"#bd3786\"], [0.5555555555555556, \"#d8576b\"], [0.6666666666666666, \"#ed7953\"], [0.7777777777777778, \"#fb9f3a\"], [0.8888888888888888, \"#fdca26\"], [1.0, \"#f0f921\"]]}, \"colorway\": [\"#636efa\", \"#EF553B\", \"#00cc96\", \"#ab63fa\", \"#FFA15A\", \"#19d3f3\", \"#FF6692\", \"#B6E880\", \"#FF97FF\", \"#FECB52\"], \"font\": {\"color\": \"#2a3f5f\"}, \"geo\": {\"bgcolor\": \"white\", \"lakecolor\": \"white\", \"landcolor\": \"#E5ECF6\", \"showlakes\": true, \"showland\": true, \"subunitcolor\": \"white\"}, \"hoverlabel\": {\"align\": \"left\"}, \"hovermode\": \"closest\", \"mapbox\": {\"style\": \"light\"}, \"paper_bgcolor\": \"white\", \"plot_bgcolor\": \"#E5ECF6\", \"polar\": {\"angularaxis\": {\"gridcolor\": \"white\", \"linecolor\": \"white\", \"ticks\": \"\"}, \"bgcolor\": \"#E5ECF6\", \"radialaxis\": {\"gridcolor\": \"white\", \"linecolor\": \"white\", \"ticks\": \"\"}}, \"scene\": {\"xaxis\": {\"backgroundcolor\": \"#E5ECF6\", \"gridcolor\": \"white\", \"gridwidth\": 2, \"linecolor\": \"white\", \"showbackground\": true, \"ticks\": \"\", \"zerolinecolor\": \"white\"}, \"yaxis\": {\"backgroundcolor\": \"#E5ECF6\", \"gridcolor\": \"white\", \"gridwidth\": 2, \"linecolor\": \"white\", \"showbackground\": true, \"ticks\": \"\", \"zerolinecolor\": \"white\"}, \"zaxis\": {\"backgroundcolor\": \"#E5ECF6\", \"gridcolor\": \"white\", \"gridwidth\": 2, \"linecolor\": \"white\", \"showbackground\": true, \"ticks\": \"\", \"zerolinecolor\": \"white\"}}, \"shapedefaults\": {\"line\": {\"color\": \"#2a3f5f\"}}, \"ternary\": {\"aaxis\": {\"gridcolor\": \"white\", \"linecolor\": \"white\", \"ticks\": \"\"}, \"baxis\": {\"gridcolor\": \"white\", \"linecolor\": \"white\", \"ticks\": \"\"}, \"bgcolor\": \"#E5ECF6\", \"caxis\": {\"gridcolor\": \"white\", \"linecolor\": \"white\", \"ticks\": \"\"}}, \"title\": {\"x\": 0.05}, \"xaxis\": {\"automargin\": true, \"gridcolor\": \"white\", \"linecolor\": \"white\", \"ticks\": \"\", \"title\": {\"standoff\": 15}, \"zerolinecolor\": \"white\", \"zerolinewidth\": 2}, \"yaxis\": {\"automargin\": true, \"gridcolor\": \"white\", \"linecolor\": \"white\", \"ticks\": \"\", \"title\": {\"standoff\": 15}, \"zerolinecolor\": \"white\", \"zerolinewidth\": 2}}}, \"title\": {\"text\": \"VALORES PARA PM25 POR FECHA\"}, \"xaxis\": {\"anchor\": \"y\", \"domain\": [0.0, 1.0], \"title\": {\"text\": \"Date\"}}, \"yaxis\": {\"anchor\": \"x\", \"domain\": [0.0, 1.0], \"title\": {\"text\": \"count\"}}},\n",
       "                        {\"responsive\": true}\n",
       "                    ).then(function(){\n",
       "                            \n",
       "var gd = document.getElementById('35cc589b-46e6-4ad6-a6b7-80060de4fde2');\n",
       "var x = new MutationObserver(function (mutations, observer) {{\n",
       "        var display = window.getComputedStyle(gd).display;\n",
       "        if (!display || display === 'none') {{\n",
       "            console.log([gd, 'removed!']);\n",
       "            Plotly.purge(gd);\n",
       "            observer.disconnect();\n",
       "        }}\n",
       "}});\n",
       "\n",
       "// Listen for the removal of the full notebook cells\n",
       "var notebookContainer = gd.closest('#notebook-container');\n",
       "if (notebookContainer) {{\n",
       "    x.observe(notebookContainer, {childList: true});\n",
       "}}\n",
       "\n",
       "// Listen for the clearing of the current output cell\n",
       "var outputEl = gd.closest('.output');\n",
       "if (outputEl) {{\n",
       "    x.observe(outputEl, {childList: true});\n",
       "}}\n",
       "\n",
       "                        })\n",
       "                };\n",
       "                });\n",
       "            </script>\n",
       "        </div>"
      ]
     },
     "metadata": {},
     "output_type": "display_data"
    }
   ],
   "source": [
    "import plotly.express as px\n",
    "fig = px.line(PEpm25pa,x='Date',y='count',title=\"VALORES PARA PM25 POR FECHA\")\n",
    "fig.show()"
   ]
  },
  {
   "cell_type": "markdown",
   "metadata": {},
   "source": [
    "Se puede observar que el día que se dió el primer caso de COVID-19 en Perú, la concentración de PM2.5 es de 68. El día que se decreto la cuarentena en Perú la concentración fue de 24, dando una baja importante durante el periodo de 12 días. Ocurre un incremento en el día 29 dando un valor de 120. Esto puede deberse a la extensión del periodo de cuarentena hasta el 12 de abril que se dio el 26 de marzo, provocando aglomeraciones en distintas zonas de Lima (ciudad en donde se toma las medidas). Este incremeneto tambien pudo observarse en la gráfica de pm10."
   ]
  },
  {
   "cell_type": "markdown",
   "metadata": {},
   "source": [
    "# SO2\n",
    "El dióxido de azufre es uno de los gases mas comunmente liberados durante erupciones volcánicas (después de agua y dióxido carbónico), y es preocupante a escala global, debido a su potencial influencia en el clima. A escala global SO2 es peligroso para los humanos en su forma gaseosa y también porque se oxida formando sulfato aerosol. El dióxido de azufre es irritante a los ojos, garganta y vías respiratorias. La sobre exposición en el corto tiempo causa inflamación e irritación, provocando ardor en los ojos, tos, dificultades respiratorias y sensación de tensión en el pecho.\n",
    "https://www.ivhhn.org/es/guidelines/guia-sobre-gases-volcanicos/dioxido-de-azufre#:~:text=Propiedades,2000%3B%20Wellburn%2C%201994)."
   ]
  },
  {
   "cell_type": "code",
   "execution_count": 218,
   "metadata": {},
   "outputs": [],
   "source": [
    "PEso2 = df.filter((df.Country == 'PE') & (df.Specie == 'so2'))\n",
    "PEso2 = PEso2.withColumn(\"Date\", PEso2[\"Date\"].cast(DateType()))"
   ]
  },
  {
   "cell_type": "code",
   "execution_count": 219,
   "metadata": {},
   "outputs": [
    {
     "name": "stdout",
     "output_type": "stream",
     "text": [
      "root\n",
      " |-- Date: date (nullable = true)\n",
      " |-- Country: string (nullable = true)\n",
      " |-- City: string (nullable = true)\n",
      " |-- Specie: string (nullable = true)\n",
      " |-- count: integer (nullable = true)\n",
      " |-- min: double (nullable = true)\n",
      " |-- max: double (nullable = true)\n",
      " |-- median: double (nullable = true)\n",
      " |-- variance: double (nullable = true)\n",
      "\n"
     ]
    }
   ],
   "source": [
    "PEso2.printSchema()"
   ]
  },
  {
   "cell_type": "code",
   "execution_count": 220,
   "metadata": {},
   "outputs": [],
   "source": [
    "PEso2 = PEso2.orderBy('Date').filter((df.Country == 'PE') & (df.Specie == 'so2'))"
   ]
  },
  {
   "cell_type": "code",
   "execution_count": 221,
   "metadata": {},
   "outputs": [
    {
     "name": "stdout",
     "output_type": "stream",
     "text": [
      "+----------+-------+----+------+-----+---+-----+------+--------+\n",
      "|Date      |Country|City|Specie|count|min|max  |median|variance|\n",
      "+----------+-------+----+------+-----+---+-----+------+--------+\n",
      "|2019-12-30|PE     |Lima|so2   |24   |4.4|5.3  |4.7   |0.5     |\n",
      "|2019-12-31|PE     |Lima|so2   |25   |4.3|173.0|4.9   |11314.7 |\n",
      "|2020-01-01|PE     |Lima|so2   |24   |4.4|6.0  |4.7   |2.23    |\n",
      "|2020-01-02|PE     |Lima|so2   |24   |4.3|5.0  |4.5   |0.33    |\n",
      "|2020-01-03|PE     |Lima|so2   |23   |4.3|5.3  |4.5   |0.73    |\n",
      "|2020-01-04|PE     |Lima|so2   |24   |4.1|4.9  |4.4   |0.63    |\n",
      "|2020-01-05|PE     |Lima|so2   |24   |4.1|4.9  |4.3   |0.41    |\n",
      "|2020-01-06|PE     |Lima|so2   |24   |4.1|5.0  |4.4   |0.38    |\n",
      "|2020-01-07|PE     |Lima|so2   |24   |4.1|4.8  |4.3   |0.34    |\n",
      "|2020-01-08|PE     |Lima|so2   |24   |4.4|5.4  |4.6   |1.09    |\n",
      "|2020-01-09|PE     |Lima|so2   |24   |4.1|6.0  |4.6   |2.05    |\n",
      "|2020-01-10|PE     |Lima|so2   |24   |4.3|5.8  |4.7   |1.45    |\n",
      "|2020-01-11|PE     |Lima|so2   |24   |4.2|4.9  |4.4   |0.45    |\n",
      "|2020-01-12|PE     |Lima|so2   |24   |4.0|5.0  |4.5   |0.45    |\n",
      "|2020-01-13|PE     |Lima|so2   |24   |4.4|7.4  |5.1   |7.63    |\n",
      "|2020-01-14|PE     |Lima|so2   |24   |4.5|5.2  |4.9   |0.55    |\n",
      "|2020-01-15|PE     |Lima|so2   |24   |4.6|5.5  |4.8   |0.66    |\n",
      "|2020-01-16|PE     |Lima|so2   |24   |4.5|5.7  |4.9   |1.1     |\n",
      "|2020-01-17|PE     |Lima|so2   |24   |4.5|5.1  |4.7   |0.5     |\n",
      "|2020-01-18|PE     |Lima|so2   |24   |4.2|5.8  |4.5   |1.55    |\n",
      "|2020-01-19|PE     |Lima|so2   |24   |4.2|5.7  |5.0   |2.33    |\n",
      "|2020-01-20|PE     |Lima|so2   |24   |4.5|6.6  |5.0   |3.44    |\n",
      "|2020-01-21|PE     |Lima|so2   |24   |4.8|6.1  |5.1   |1.29    |\n",
      "|2020-01-22|PE     |Lima|so2   |24   |4.6|7.3  |5.3   |4.12    |\n",
      "|2020-01-23|PE     |Lima|so2   |23   |4.4|6.5  |5.0   |2.77    |\n",
      "|2020-01-24|PE     |Lima|so2   |24   |5.1|23.4 |5.7   |180.41  |\n",
      "|2020-01-25|PE     |Lima|so2   |24   |5.0|10.8 |7.3   |36.43   |\n",
      "|2020-01-26|PE     |Lima|so2   |24   |5.4|20.2 |7.2   |93.44   |\n",
      "|2020-01-27|PE     |Lima|so2   |24   |4.5|7.6  |5.6   |6.29    |\n",
      "|2020-01-28|PE     |Lima|so2   |24   |4.3|6.9  |4.8   |4.37    |\n",
      "|2020-01-29|PE     |Lima|so2   |24   |4.7|7.9  |6.1   |8.51    |\n",
      "|2020-01-30|PE     |Lima|so2   |24   |5.2|32.2 |5.8   |359.95  |\n",
      "|2020-01-31|PE     |Lima|so2   |24   |5.0|7.3  |5.8   |5.08    |\n",
      "|2020-02-01|PE     |Lima|so2   |24   |4.6|6.4  |5.1   |2.75    |\n",
      "|2020-02-02|PE     |Lima|so2   |24   |4.6|6.5  |5.2   |1.91    |\n",
      "|2020-02-03|PE     |Lima|so2   |24   |4.8|7.3  |5.5   |3.87    |\n",
      "|2020-02-04|PE     |Lima|so2   |24   |4.6|5.7  |5.0   |1.01    |\n",
      "|2020-02-05|PE     |Lima|so2   |24   |3.8|6.6  |5.1   |3.36    |\n",
      "|2020-02-06|PE     |Lima|so2   |24   |4.8|6.6  |5.1   |2.83    |\n",
      "|2020-02-07|PE     |Lima|so2   |35   |4.7|13.1 |5.7   |120.56  |\n",
      "|2020-02-08|PE     |Lima|so2   |46   |4.6|13.9 |6.1   |150.38  |\n",
      "|2020-02-09|PE     |Lima|so2   |46   |4.3|14.1 |5.5   |154.86  |\n",
      "|2020-02-10|PE     |Lima|so2   |44   |4.7|13.6 |6.8   |136.92  |\n",
      "|2020-02-11|PE     |Lima|so2   |45   |4.7|16.4 |8.3   |148.31  |\n",
      "|2020-02-12|PE     |Lima|so2   |48   |4.7|16.1 |6.7   |165.7   |\n",
      "|2020-02-13|PE     |Lima|so2   |48   |4.7|16.7 |8.5   |154.81  |\n",
      "|2020-02-14|PE     |Lima|so2   |48   |4.8|14.7 |9.4   |134.59  |\n",
      "|2020-02-15|PE     |Lima|so2   |45   |4.7|14.2 |8.2   |146.55  |\n",
      "|2020-02-16|PE     |Lima|so2   |48   |4.6|19.1 |11.3  |160.74  |\n",
      "|2020-02-17|PE     |Lima|so2   |47   |5.2|16.8 |12.8  |139.83  |\n",
      "|2020-02-18|PE     |Lima|so2   |48   |5.0|14.8 |9.1   |150.9   |\n",
      "|2020-02-19|PE     |Lima|so2   |44   |4.9|14.9 |6.7   |154.51  |\n",
      "|2020-02-20|PE     |Lima|so2   |47   |4.9|13.4 |6.6   |143.03  |\n",
      "|2020-02-21|PE     |Lima|so2   |52   |4.6|14.1 |5.9   |148.02  |\n",
      "|2020-02-22|PE     |Lima|so2   |66   |3.9|13.5 |6.1   |117.97  |\n",
      "|2020-02-23|PE     |Lima|so2   |70   |4.6|15.3 |6.2   |124.18  |\n",
      "|2020-02-24|PE     |Lima|so2   |70   |4.8|15.7 |6.4   |115.16  |\n",
      "|2020-02-25|PE     |Lima|so2   |72   |4.8|14.2 |6.5   |105.02  |\n",
      "|2020-02-26|PE     |Lima|so2   |66   |4.7|17.3 |11.1  |142.89  |\n",
      "|2020-02-27|PE     |Lima|so2   |72   |4.7|14.6 |7.4   |110.04  |\n",
      "|2020-02-28|PE     |Lima|so2   |72   |4.9|17.3 |7.3   |118.48  |\n",
      "|2020-02-29|PE     |Lima|so2   |70   |5.0|15.8 |6.5   |116.82  |\n",
      "|2020-03-01|PE     |Lima|so2   |59   |5.3|14.5 |6.2   |131.71  |\n",
      "|2020-03-02|PE     |Lima|so2   |72   |4.7|20.9 |12.1  |211.87  |\n",
      "|2020-03-03|PE     |Lima|so2   |71   |5.1|19.8 |8.7   |195.83  |\n",
      "|2020-03-04|PE     |Lima|so2   |72   |4.8|16.0 |6.8   |126.16  |\n",
      "|2020-03-05|PE     |Lima|so2   |71   |5.0|13.8 |6.5   |104.63  |\n",
      "|2020-03-06|PE     |Lima|so2   |26   |5.8|14.2 |6.3   |124.17  |\n",
      "|2020-03-29|PE     |Lima|so2   |60   |4.3|36.3 |12.4  |1683.91 |\n",
      "|2020-03-30|PE     |Lima|so2   |72   |4.4|36.5 |12.5  |1678.62 |\n",
      "|2020-03-31|PE     |Lima|so2   |60   |4.4|36.5 |12.5  |1706.87 |\n",
      "|2020-04-01|PE     |Lima|so2   |72   |4.2|37.1 |12.2  |1761.45 |\n",
      "|2020-04-02|PE     |Lima|so2   |72   |4.3|37.6 |12.2  |1814.15 |\n",
      "|2020-04-03|PE     |Lima|so2   |72   |4.3|37.3 |12.2  |1819.1  |\n",
      "|2020-04-04|PE     |Lima|so2   |72   |4.3|36.6 |12.2  |1757.65 |\n",
      "|2020-04-05|PE     |Lima|so2   |59   |4.1|36.6 |12.1  |1753.0  |\n",
      "|2020-04-06|PE     |Lima|so2   |72   |4.2|36.9 |12.2  |1790.85 |\n",
      "|2020-04-07|PE     |Lima|so2   |72   |4.3|37.9 |12.3  |1835.51 |\n",
      "|2020-04-08|PE     |Lima|so2   |72   |4.2|37.5 |12.1  |1846.84 |\n",
      "|2020-04-09|PE     |Lima|so2   |72   |4.3|37.6 |12.2  |1868.1  |\n",
      "|2020-04-10|PE     |Lima|so2   |72   |4.3|37.7 |12.3  |1849.61 |\n",
      "|2020-04-11|PE     |Lima|so2   |72   |4.2|37.2 |12.2  |1835.64 |\n",
      "|2020-04-12|PE     |Lima|so2   |72   |4.3|37.8 |12.3  |1890.97 |\n",
      "|2020-04-13|PE     |Lima|so2   |72   |4.3|37.7 |12.3  |1859.7  |\n",
      "|2020-04-14|PE     |Lima|so2   |72   |4.4|38.3 |12.5  |1914.88 |\n",
      "|2020-04-15|PE     |Lima|so2   |72   |4.3|39.0 |12.4  |2000.47 |\n",
      "|2020-04-16|PE     |Lima|so2   |72   |4.2|39.0 |12.5  |1994.87 |\n",
      "|2020-04-17|PE     |Lima|so2   |71   |4.4|40.1 |12.4  |2123.99 |\n",
      "|2020-04-18|PE     |Lima|so2   |63   |4.4|39.4 |12.3  |2077.13 |\n",
      "|2020-04-19|PE     |Lima|so2   |72   |4.4|39.1 |12.2  |2034.99 |\n",
      "|2020-04-20|PE     |Lima|so2   |71   |4.4|39.4 |12.2  |2019.26 |\n",
      "|2020-04-21|PE     |Lima|so2   |72   |4.3|38.7 |12.2  |1984.41 |\n",
      "|2020-04-22|PE     |Lima|so2   |72   |4.3|38.2 |12.2  |1937.99 |\n",
      "|2020-04-23|PE     |Lima|so2   |72   |4.4|38.3 |12.3  |1943.49 |\n",
      "|2020-04-24|PE     |Lima|so2   |72   |4.3|38.7 |12.3  |1987.97 |\n",
      "|2020-04-25|PE     |Lima|so2   |72   |4.3|39.8 |12.3  |2070.57 |\n",
      "|2020-04-26|PE     |Lima|so2   |72   |4.4|39.6 |12.2  |2098.77 |\n",
      "|2020-04-27|PE     |Lima|so2   |72   |4.4|39.3 |12.2  |2066.18 |\n",
      "|2020-04-28|PE     |Lima|so2   |72   |4.4|39.5 |12.5  |2021.83 |\n",
      "|2020-04-29|PE     |Lima|so2   |72   |4.8|38.9 |12.8  |1872.46 |\n",
      "|2020-04-30|PE     |Lima|so2   |72   |4.6|40.1 |12.8  |2037.75 |\n",
      "|2020-05-01|PE     |Lima|so2   |72   |4.6|40.5 |12.8  |2085.21 |\n",
      "|2020-05-02|PE     |Lima|so2   |72   |4.6|40.7 |12.4  |2191.55 |\n",
      "|2020-05-03|PE     |Lima|so2   |72   |4.5|40.6 |12.4  |2198.21 |\n",
      "|2020-05-04|PE     |Lima|so2   |72   |4.5|40.3 |12.5  |2180.68 |\n",
      "|2020-05-05|PE     |Lima|so2   |72   |4.6|40.7 |12.6  |2259.38 |\n",
      "|2020-05-06|PE     |Lima|so2   |72   |4.7|41.4 |12.9  |2277.05 |\n",
      "|2020-05-07|PE     |Lima|so2   |72   |4.6|42.8 |12.6  |2415.04 |\n",
      "|2020-05-08|PE     |Lima|so2   |72   |4.6|43.3 |12.5  |2544.13 |\n",
      "|2020-05-09|PE     |Lima|so2   |72   |4.4|41.6 |12.3  |2401.49 |\n",
      "|2020-05-10|PE     |Lima|so2   |72   |4.3|40.4 |12.2  |2258.44 |\n",
      "|2020-05-11|PE     |Lima|so2   |72   |4.4|40.2 |12.2  |2201.09 |\n",
      "|2020-05-12|PE     |Lima|so2   |72   |4.5|41.0 |12.3  |2207.97 |\n",
      "|2020-05-13|PE     |Lima|so2   |72   |4.7|41.4 |12.2  |2331.01 |\n",
      "|2020-05-14|PE     |Lima|so2   |69   |4.7|41.8 |12.2  |2370.95 |\n",
      "|2020-05-15|PE     |Lima|so2   |72   |4.6|40.8 |12.2  |2296.76 |\n",
      "|2020-05-16|PE     |Lima|so2   |72   |4.6|39.5 |12.2  |2163.67 |\n",
      "|2020-05-17|PE     |Lima|so2   |72   |4.5|39.6 |12.1  |2142.14 |\n",
      "|2020-05-18|PE     |Lima|so2   |72   |4.6|39.0 |12.1  |2098.7  |\n",
      "|2020-05-19|PE     |Lima|so2   |72   |4.6|38.9 |12.2  |2079.98 |\n",
      "|2020-05-20|PE     |Lima|so2   |72   |4.7|39.1 |12.2  |2088.45 |\n",
      "|2020-05-21|PE     |Lima|so2   |72   |4.6|38.4 |12.2  |2045.19 |\n",
      "|2020-05-22|PE     |Lima|so2   |72   |4.6|38.1 |12.2  |1993.56 |\n",
      "|2020-05-23|PE     |Lima|so2   |72   |4.7|38.2 |12.2  |1969.29 |\n",
      "|2020-05-24|PE     |Lima|so2   |72   |4.7|38.3 |12.1  |1957.95 |\n",
      "|2020-05-25|PE     |Lima|so2   |72   |4.7|38.6 |12.1  |2016.49 |\n",
      "|2020-05-26|PE     |Lima|so2   |72   |3.9|39.0 |12.2  |2039.67 |\n",
      "|2020-05-27|PE     |Lima|so2   |72   |4.8|39.2 |12.2  |2112.7  |\n",
      "|2020-05-28|PE     |Lima|so2   |72   |4.7|39.1 |12.2  |2110.41 |\n",
      "|2020-05-29|PE     |Lima|so2   |72   |4.8|40.3 |12.2  |2193.38 |\n",
      "|2020-05-30|PE     |Lima|so2   |72   |4.7|40.0 |12.2  |2201.59 |\n",
      "|2020-05-31|PE     |Lima|so2   |71   |4.6|39.2 |12.1  |2175.52 |\n",
      "|2020-06-01|PE     |Lima|so2   |72   |4.8|39.6 |12.2  |2129.31 |\n",
      "|2020-06-02|PE     |Lima|so2   |72   |5.0|39.7 |12.2  |2164.02 |\n",
      "|2020-06-03|PE     |Lima|so2   |72   |4.9|39.3 |12.1  |2161.42 |\n",
      "|2020-06-04|PE     |Lima|so2   |72   |4.9|39.7 |12.1  |2168.31 |\n",
      "|2020-06-05|PE     |Lima|so2   |44   |5.0|40.1 |12.1  |2215.64 |\n",
      "+----------+-------+----+------+-----+---+-----+------+--------+\n",
      "\n"
     ]
    }
   ],
   "source": [
    "PEso2.show(PEso2.count(), truncate=False)"
   ]
  },
  {
   "cell_type": "code",
   "execution_count": 223,
   "metadata": {},
   "outputs": [],
   "source": [
    "PEso2graf = PEso2.orderBy('Specie','Date').select('Date','count')\n",
    "PEso2pa = PEso2graf.toPandas()"
   ]
  },
  {
   "cell_type": "code",
   "execution_count": 224,
   "metadata": {},
   "outputs": [
    {
     "data": {
      "text/html": [
       "<div>\n",
       "<style scoped>\n",
       "    .dataframe tbody tr th:only-of-type {\n",
       "        vertical-align: middle;\n",
       "    }\n",
       "\n",
       "    .dataframe tbody tr th {\n",
       "        vertical-align: top;\n",
       "    }\n",
       "\n",
       "    .dataframe thead th {\n",
       "        text-align: right;\n",
       "    }\n",
       "</style>\n",
       "<table border=\"1\" class=\"dataframe\">\n",
       "  <thead>\n",
       "    <tr style=\"text-align: right;\">\n",
       "      <th></th>\n",
       "      <th>0</th>\n",
       "      <th>1</th>\n",
       "      <th>2</th>\n",
       "      <th>3</th>\n",
       "      <th>4</th>\n",
       "      <th>5</th>\n",
       "      <th>6</th>\n",
       "      <th>7</th>\n",
       "      <th>8</th>\n",
       "      <th>9</th>\n",
       "      <th>...</th>\n",
       "      <th>127</th>\n",
       "      <th>128</th>\n",
       "      <th>129</th>\n",
       "      <th>130</th>\n",
       "      <th>131</th>\n",
       "      <th>132</th>\n",
       "      <th>133</th>\n",
       "      <th>134</th>\n",
       "      <th>135</th>\n",
       "      <th>136</th>\n",
       "    </tr>\n",
       "  </thead>\n",
       "  <tbody>\n",
       "    <tr>\n",
       "      <th>Date</th>\n",
       "      <td>2019-12-30</td>\n",
       "      <td>2019-12-31</td>\n",
       "      <td>2020-01-01</td>\n",
       "      <td>2020-01-02</td>\n",
       "      <td>2020-01-03</td>\n",
       "      <td>2020-01-04</td>\n",
       "      <td>2020-01-05</td>\n",
       "      <td>2020-01-06</td>\n",
       "      <td>2020-01-07</td>\n",
       "      <td>2020-01-08</td>\n",
       "      <td>...</td>\n",
       "      <td>2020-05-27</td>\n",
       "      <td>2020-05-28</td>\n",
       "      <td>2020-05-29</td>\n",
       "      <td>2020-05-30</td>\n",
       "      <td>2020-05-31</td>\n",
       "      <td>2020-06-01</td>\n",
       "      <td>2020-06-02</td>\n",
       "      <td>2020-06-03</td>\n",
       "      <td>2020-06-04</td>\n",
       "      <td>2020-06-05</td>\n",
       "    </tr>\n",
       "    <tr>\n",
       "      <th>count</th>\n",
       "      <td>24</td>\n",
       "      <td>25</td>\n",
       "      <td>24</td>\n",
       "      <td>24</td>\n",
       "      <td>23</td>\n",
       "      <td>24</td>\n",
       "      <td>24</td>\n",
       "      <td>24</td>\n",
       "      <td>24</td>\n",
       "      <td>24</td>\n",
       "      <td>...</td>\n",
       "      <td>72</td>\n",
       "      <td>72</td>\n",
       "      <td>72</td>\n",
       "      <td>72</td>\n",
       "      <td>71</td>\n",
       "      <td>72</td>\n",
       "      <td>72</td>\n",
       "      <td>72</td>\n",
       "      <td>72</td>\n",
       "      <td>44</td>\n",
       "    </tr>\n",
       "  </tbody>\n",
       "</table>\n",
       "<p>2 rows × 137 columns</p>\n",
       "</div>"
      ],
      "text/plain": [
       "              0           1           2           3           4           5    \\\n",
       "Date   2019-12-30  2019-12-31  2020-01-01  2020-01-02  2020-01-03  2020-01-04   \n",
       "count          24          25          24          24          23          24   \n",
       "\n",
       "              6           7           8           9    ...         127  \\\n",
       "Date   2020-01-05  2020-01-06  2020-01-07  2020-01-08  ...  2020-05-27   \n",
       "count          24          24          24          24  ...          72   \n",
       "\n",
       "              128         129         130         131         132         133  \\\n",
       "Date   2020-05-28  2020-05-29  2020-05-30  2020-05-31  2020-06-01  2020-06-02   \n",
       "count          72          72          72          71          72          72   \n",
       "\n",
       "              134         135         136  \n",
       "Date   2020-06-03  2020-06-04  2020-06-05  \n",
       "count          72          72          44  \n",
       "\n",
       "[2 rows x 137 columns]"
      ]
     },
     "execution_count": 224,
     "metadata": {},
     "output_type": "execute_result"
    }
   ],
   "source": [
    "PEso2pa.T"
   ]
  },
  {
   "cell_type": "code",
   "execution_count": 225,
   "metadata": {},
   "outputs": [
    {
     "data": {
      "text/plain": [
       "<matplotlib.axes._subplots.AxesSubplot at 0x7f3766c9ba10>"
      ]
     },
     "execution_count": 225,
     "metadata": {},
     "output_type": "execute_result"
    },
    {
     "data": {
      "image/png": "[encoded data removed]",
      "text/plain": [
       "<Figure size 432x288 with 1 Axes>"
      ]
     },
     "metadata": {
      "needs_background": "light"
     },
     "output_type": "display_data"
    }
   ],
   "source": [
    "PEso2pa.plot()"
   ]
  },
  {
   "cell_type": "code",
   "execution_count": 226,
   "metadata": {},
   "outputs": [
    {
     "data": {
      "application/vnd.plotly.v1+json": {
       "config": {
        "plotlyServerURL": "https://plot.ly"
       },
       "data": [
        {
         "hovertemplate": "Date=%{x}<br>count=%{y}<extra></extra>",
         "legendgroup": "",
         "line": {
          "color": "#636efa",
          "dash": "solid"
         },
         "mode": "lines",
         "name": "",
         "orientation": "v",
         "showlegend": false,
         "type": "scatter",
         "x": [
          "2019-12-30",
          "2019-12-31",
          "2020-01-01",
          "2020-01-02",
          "2020-01-03",
          "2020-01-04",
          "2020-01-05",
          "2020-01-06",
          "2020-01-07",
          "2020-01-08",
          "2020-01-09",
          "2020-01-10",
          "2020-01-11",
          "2020-01-12",
          "2020-01-13",
          "2020-01-14",
          "2020-01-15",
          "2020-01-16",
          "2020-01-17",
          "2020-01-18",
          "2020-01-19",
          "2020-01-20",
          "2020-01-21",
          "2020-01-22",
          "2020-01-23",
          "2020-01-24",
          "2020-01-25",
          "2020-01-26",
          "2020-01-27",
          "2020-01-28",
          "2020-01-29",
          "2020-01-30",
          "2020-01-31",
          "2020-02-01",
          "2020-02-02",
          "2020-02-03",
          "2020-02-04",
          "2020-02-05",
          "2020-02-06",
          "2020-02-07",
          "2020-02-08",
          "2020-02-09",
          "2020-02-10",
          "2020-02-11",
          "2020-02-12",
          "2020-02-13",
          "2020-02-14",
          "2020-02-15",
          "2020-02-16",
          "2020-02-17",
          "2020-02-18",
          "2020-02-19",
          "2020-02-20",
          "2020-02-21",
          "2020-02-22",
          "2020-02-23",
          "2020-02-24",
          "2020-02-25",
          "2020-02-26",
          "2020-02-27",
          "2020-02-28",
          "2020-02-29",
          "2020-03-01",
          "2020-03-02",
          "2020-03-03",
          "2020-03-04",
          "2020-03-05",
          "2020-03-06",
          "2020-03-29",
          "2020-03-30",
          "2020-03-31",
          "2020-04-01",
          "2020-04-02",
          "2020-04-03",
          "2020-04-04",
          "2020-04-05",
          "2020-04-06",
          "2020-04-07",
          "2020-04-08",
          "2020-04-09",
          "2020-04-10",
          "2020-04-11",
          "2020-04-12",
          "2020-04-13",
          "2020-04-14",
          "2020-04-15",
          "2020-04-16",
          "2020-04-17",
          "2020-04-18",
          "2020-04-19",
          "2020-04-20",
          "2020-04-21",
          "2020-04-22",
          "2020-04-23",
          "2020-04-24",
          "2020-04-25",
          "2020-04-26",
          "2020-04-27",
          "2020-04-28",
          "2020-04-29",
          "2020-04-30",
          "2020-05-01",
          "2020-05-02",
          "2020-05-03",
          "2020-05-04",
          "2020-05-05",
          "2020-05-06",
          "2020-05-07",
          "2020-05-08",
          "2020-05-09",
          "2020-05-10",
          "2020-05-11",
          "2020-05-12",
          "2020-05-13",
          "2020-05-14",
          "2020-05-15",
          "2020-05-16",
          "2020-05-17",
          "2020-05-18",
          "2020-05-19",
          "2020-05-20",
          "2020-05-21",
          "2020-05-22",
          "2020-05-23",
          "2020-05-24",
          "2020-05-25",
          "2020-05-26",
          "2020-05-27",
          "2020-05-28",
          "2020-05-29",
          "2020-05-30",
          "2020-05-31",
          "2020-06-01",
          "2020-06-02",
          "2020-06-03",
          "2020-06-04",
          "2020-06-05"
         ],
         "xaxis": "x",
         "y": [
          24,
          25,
          24,
          24,
          23,
          24,
          24,
          24,
          24,
          24,
          24,
          24,
          24,
          24,
          24,
          24,
          24,
          24,
          24,
          24,
          24,
          24,
          24,
          24,
          23,
          24,
          24,
          24,
          24,
          24,
          24,
          24,
          24,
          24,
          24,
          24,
          24,
          24,
          24,
          35,
          46,
          46,
          44,
          45,
          48,
          48,
          48,
          45,
          48,
          47,
          48,
          44,
          47,
          52,
          66,
          70,
          70,
          72,
          66,
          72,
          72,
          70,
          59,
          72,
          71,
          72,
          71,
          26,
          60,
          72,
          60,
          72,
          72,
          72,
          72,
          59,
          72,
          72,
          72,
          72,
          72,
          72,
          72,
          72,
          72,
          72,
          72,
          71,
          63,
          72,
          71,
          72,
          72,
          72,
          72,
          72,
          72,
          72,
          72,
          72,
          72,
          72,
          72,
          72,
          72,
          72,
          72,
          72,
          72,
          72,
          72,
          72,
          72,
          72,
          69,
          72,
          72,
          72,
          72,
          72,
          72,
          72,
          72,
          72,
          72,
          72,
          72,
          72,
          72,
          72,
          72,
          71,
          72,
          72,
          72,
          72,
          44
         ],
         "yaxis": "y"
        }
       ],
       "layout": {
        "legend": {
         "tracegroupgap": 0
        },
        "template": {
         "data": {
          "bar": [
           {
            "error_x": {
             "color": "#2a3f5f"
            },
            "error_y": {
             "color": "#2a3f5f"
            },
            "marker": {
             "line": {
              "color": "#E5ECF6",
              "width": 0.5
             }
            },
            "type": "bar"
           }
          ],
          "barpolar": [
           {
            "marker": {
             "line": {
              "color": "#E5ECF6",
              "width": 0.5
             }
            },
            "type": "barpolar"
           }
          ],
          "carpet": [
           {
            "aaxis": {
             "endlinecolor": "#2a3f5f",
             "gridcolor": "white",
             "linecolor": "white",
             "minorgridcolor": "white",
             "startlinecolor": "#2a3f5f"
            },
            "baxis": {
             "endlinecolor": "#2a3f5f",
             "gridcolor": "white",
             "linecolor": "white",
             "minorgridcolor": "white",
             "startlinecolor": "#2a3f5f"
            },
            "type": "carpet"
           }
          ],
          "choropleth": [
           {
            "colorbar": {
             "outlinewidth": 0,
             "ticks": ""
            },
            "type": "choropleth"
           }
          ],
          "contour": [
           {
            "colorbar": {
             "outlinewidth": 0,
             "ticks": ""
            },
            "colorscale": [
             [
              0,
              "#0d0887"
             ],
             [
              0.1111111111111111,
              "#46039f"
             ],
             [
              0.2222222222222222,
              "#7201a8"
             ],
             [
              0.3333333333333333,
              "#9c179e"
             ],
             [
              0.4444444444444444,
              "#bd3786"
             ],
             [
              0.5555555555555556,
              "#d8576b"
             ],
             [
              0.6666666666666666,
              "#ed7953"
             ],
             [
              0.7777777777777778,
              "#fb9f3a"
             ],
             [
              0.8888888888888888,
              "#fdca26"
             ],
             [
              1,
              "#f0f921"
             ]
            ],
            "type": "contour"
           }
          ],
          "contourcarpet": [
           {
            "colorbar": {
             "outlinewidth": 0,
             "ticks": ""
            },
            "type": "contourcarpet"
           }
          ],
          "heatmap": [
           {
            "colorbar": {
             "outlinewidth": 0,
             "ticks": ""
            },
            "colorscale": [
             [
              0,
              "#0d0887"
             ],
             [
              0.1111111111111111,
              "#46039f"
             ],
             [
              0.2222222222222222,
              "#7201a8"
             ],
             [
              0.3333333333333333,
              "#9c179e"
             ],
             [
              0.4444444444444444,
              "#bd3786"
             ],
             [
              0.5555555555555556,
              "#d8576b"
             ],
             [
              0.6666666666666666,
              "#ed7953"
             ],
             [
              0.7777777777777778,
              "#fb9f3a"
             ],
             [
              0.8888888888888888,
              "#fdca26"
             ],
             [
              1,
              "#f0f921"
             ]
            ],
            "type": "heatmap"
           }
          ],
          "heatmapgl": [
           {
            "colorbar": {
             "outlinewidth": 0,
             "ticks": ""
            },
            "colorscale": [
             [
              0,
              "#0d0887"
             ],
             [
              0.1111111111111111,
              "#46039f"
             ],
             [
              0.2222222222222222,
              "#7201a8"
             ],
             [
              0.3333333333333333,
              "#9c179e"
             ],
             [
              0.4444444444444444,
              "#bd3786"
             ],
             [
              0.5555555555555556,
              "#d8576b"
             ],
             [
              0.6666666666666666,
              "#ed7953"
             ],
             [
              0.7777777777777778,
              "#fb9f3a"
             ],
             [
              0.8888888888888888,
              "#fdca26"
             ],
             [
              1,
              "#f0f921"
             ]
            ],
            "type": "heatmapgl"
           }
          ],
          "histogram": [
           {
            "marker": {
             "colorbar": {
              "outlinewidth": 0,
              "ticks": ""
             }
            },
            "type": "histogram"
           }
          ],
          "histogram2d": [
           {
            "colorbar": {
             "outlinewidth": 0,
             "ticks": ""
            },
            "colorscale": [
             [
              0,
              "#0d0887"
             ],
             [
              0.1111111111111111,
              "#46039f"
             ],
             [
              0.2222222222222222,
              "#7201a8"
             ],
             [
              0.3333333333333333,
              "#9c179e"
             ],
             [
              0.4444444444444444,
              "#bd3786"
             ],
             [
              0.5555555555555556,
              "#d8576b"
             ],
             [
              0.6666666666666666,
              "#ed7953"
             ],
             [
              0.7777777777777778,
              "#fb9f3a"
             ],
             [
              0.8888888888888888,
              "#fdca26"
             ],
             [
              1,
              "#f0f921"
             ]
            ],
            "type": "histogram2d"
           }
          ],
          "histogram2dcontour": [
           {
            "colorbar": {
             "outlinewidth": 0,
             "ticks": ""
            },
            "colorscale": [
             [
              0,
              "#0d0887"
             ],
             [
              0.1111111111111111,
              "#46039f"
             ],
             [
              0.2222222222222222,
              "#7201a8"
             ],
             [
              0.3333333333333333,
              "#9c179e"
             ],
             [
              0.4444444444444444,
              "#bd3786"
             ],
             [
              0.5555555555555556,
              "#d8576b"
             ],
             [
              0.6666666666666666,
              "#ed7953"
             ],
             [
              0.7777777777777778,
              "#fb9f3a"
             ],
             [
              0.8888888888888888,
              "#fdca26"
             ],
             [
              1,
              "#f0f921"
             ]
            ],
            "type": "histogram2dcontour"
           }
          ],
          "mesh3d": [
           {
            "colorbar": {
             "outlinewidth": 0,
             "ticks": ""
            },
            "type": "mesh3d"
           }
          ],
          "parcoords": [
           {
            "line": {
             "colorbar": {
              "outlinewidth": 0,
              "ticks": ""
             }
            },
            "type": "parcoords"
           }
          ],
          "pie": [
           {
            "automargin": true,
            "type": "pie"
           }
          ],
          "scatter": [
           {
            "marker": {
             "colorbar": {
              "outlinewidth": 0,
              "ticks": ""
             }
            },
            "type": "scatter"
           }
          ],
          "scatter3d": [
           {
            "line": {
             "colorbar": {
              "outlinewidth": 0,
              "ticks": ""
             }
            },
            "marker": {
             "colorbar": {
              "outlinewidth": 0,
              "ticks": ""
             }
            },
            "type": "scatter3d"
           }
          ],
          "scattercarpet": [
           {
            "marker": {
             "colorbar": {
              "outlinewidth": 0,
              "ticks": ""
             }
            },
            "type": "scattercarpet"
           }
          ],
          "scattergeo": [
           {
            "marker": {
             "colorbar": {
              "outlinewidth": 0,
              "ticks": ""
             }
            },
            "type": "scattergeo"
           }
          ],
          "scattergl": [
           {
            "marker": {
             "colorbar": {
              "outlinewidth": 0,
              "ticks": ""
             }
            },
            "type": "scattergl"
           }
          ],
          "scattermapbox": [
           {
            "marker": {
             "colorbar": {
              "outlinewidth": 0,
              "ticks": ""
             }
            },
            "type": "scattermapbox"
           }
          ],
          "scatterpolar": [
           {
            "marker": {
             "colorbar": {
              "outlinewidth": 0,
              "ticks": ""
             }
            },
            "type": "scatterpolar"
           }
          ],
          "scatterpolargl": [
           {
            "marker": {
             "colorbar": {
              "outlinewidth": 0,
              "ticks": ""
             }
            },
            "type": "scatterpolargl"
           }
          ],
          "scatterternary": [
           {
            "marker": {
             "colorbar": {
              "outlinewidth": 0,
              "ticks": ""
             }
            },
            "type": "scatterternary"
           }
          ],
          "surface": [
           {
            "colorbar": {
             "outlinewidth": 0,
             "ticks": ""
            },
            "colorscale": [
             [
              0,
              "#0d0887"
             ],
             [
              0.1111111111111111,
              "#46039f"
             ],
             [
              0.2222222222222222,
              "#7201a8"
             ],
             [
              0.3333333333333333,
              "#9c179e"
             ],
             [
              0.4444444444444444,
              "#bd3786"
             ],
             [
              0.5555555555555556,
              "#d8576b"
             ],
             [
              0.6666666666666666,
              "#ed7953"
             ],
             [
              0.7777777777777778,
              "#fb9f3a"
             ],
             [
              0.8888888888888888,
              "#fdca26"
             ],
             [
              1,
              "#f0f921"
             ]
            ],
            "type": "surface"
           }
          ],
          "table": [
           {
            "cells": {
             "fill": {
              "color": "#EBF0F8"
             },
             "line": {
              "color": "white"
             }
            },
            "header": {
             "fill": {
              "color": "#C8D4E3"
             },
             "line": {
              "color": "white"
             }
            },
            "type": "table"
           }
          ]
         },
         "layout": {
          "annotationdefaults": {
           "arrowcolor": "#2a3f5f",
           "arrowhead": 0,
           "arrowwidth": 1
          },
          "coloraxis": {
           "colorbar": {
            "outlinewidth": 0,
            "ticks": ""
           }
          },
          "colorscale": {
           "diverging": [
            [
             0,
             "#8e0152"
            ],
            [
             0.1,
             "#c51b7d"
            ],
            [
             0.2,
             "#de77ae"
            ],
            [
             0.3,
             "#f1b6da"
            ],
            [
             0.4,
             "#fde0ef"
            ],
            [
             0.5,
             "#f7f7f7"
            ],
            [
             0.6,
             "#e6f5d0"
            ],
            [
             0.7,
             "#b8e186"
            ],
            [
             0.8,
             "#7fbc41"
            ],
            [
             0.9,
             "#4d9221"
            ],
            [
             1,
             "#276419"
            ]
           ],
           "sequential": [
            [
             0,
             "#0d0887"
            ],
            [
             0.1111111111111111,
             "#46039f"
            ],
            [
             0.2222222222222222,
             "#7201a8"
            ],
            [
             0.3333333333333333,
             "#9c179e"
            ],
            [
             0.4444444444444444,
             "#bd3786"
            ],
            [
             0.5555555555555556,
             "#d8576b"
            ],
            [
             0.6666666666666666,
             "#ed7953"
            ],
            [
             0.7777777777777778,
             "#fb9f3a"
            ],
            [
             0.8888888888888888,
             "#fdca26"
            ],
            [
             1,
             "#f0f921"
            ]
           ],
           "sequentialminus": [
            [
             0,
             "#0d0887"
            ],
            [
             0.1111111111111111,
             "#46039f"
            ],
            [
             0.2222222222222222,
             "#7201a8"
            ],
            [
             0.3333333333333333,
             "#9c179e"
            ],
            [
             0.4444444444444444,
             "#bd3786"
            ],
            [
             0.5555555555555556,
             "#d8576b"
            ],
            [
             0.6666666666666666,
             "#ed7953"
            ],
            [
             0.7777777777777778,
             "#fb9f3a"
            ],
            [
             0.8888888888888888,
             "#fdca26"
            ],
            [
             1,
             "#f0f921"
            ]
           ]
          },
          "colorway": [
           "#636efa",
           "#EF553B",
           "#00cc96",
           "#ab63fa",
           "#FFA15A",
           "#19d3f3",
           "#FF6692",
           "#B6E880",
           "#FF97FF",
           "#FECB52"
          ],
          "font": {
           "color": "#2a3f5f"
          },
          "geo": {
           "bgcolor": "white",
           "lakecolor": "white",
           "landcolor": "#E5ECF6",
           "showlakes": true,
           "showland": true,
           "subunitcolor": "white"
          },
          "hoverlabel": {
           "align": "left"
          },
          "hovermode": "closest",
          "mapbox": {
           "style": "light"
          },
          "paper_bgcolor": "white",
          "plot_bgcolor": "#E5ECF6",
          "polar": {
           "angularaxis": {
            "gridcolor": "white",
            "linecolor": "white",
            "ticks": ""
           },
           "bgcolor": "#E5ECF6",
           "radialaxis": {
            "gridcolor": "white",
            "linecolor": "white",
            "ticks": ""
           }
          },
          "scene": {
           "xaxis": {
            "backgroundcolor": "#E5ECF6",
            "gridcolor": "white",
            "gridwidth": 2,
            "linecolor": "white",
            "showbackground": true,
            "ticks": "",
            "zerolinecolor": "white"
           },
           "yaxis": {
            "backgroundcolor": "#E5ECF6",
            "gridcolor": "white",
            "gridwidth": 2,
            "linecolor": "white",
            "showbackground": true,
            "ticks": "",
            "zerolinecolor": "white"
           },
           "zaxis": {
            "backgroundcolor": "#E5ECF6",
            "gridcolor": "white",
            "gridwidth": 2,
            "linecolor": "white",
            "showbackground": true,
            "ticks": "",
            "zerolinecolor": "white"
           }
          },
          "shapedefaults": {
           "line": {
            "color": "#2a3f5f"
           }
          },
          "ternary": {
           "aaxis": {
            "gridcolor": "white",
            "linecolor": "white",
            "ticks": ""
           },
           "baxis": {
            "gridcolor": "white",
            "linecolor": "white",
            "ticks": ""
           },
           "bgcolor": "#E5ECF6",
           "caxis": {
            "gridcolor": "white",
            "linecolor": "white",
            "ticks": ""
           }
          },
          "title": {
           "x": 0.05
          },
          "xaxis": {
           "automargin": true,
           "gridcolor": "white",
           "linecolor": "white",
           "ticks": "",
           "title": {
            "standoff": 15
           },
           "zerolinecolor": "white",
           "zerolinewidth": 2
          },
          "yaxis": {
           "automargin": true,
           "gridcolor": "white",
           "linecolor": "white",
           "ticks": "",
           "title": {
            "standoff": 15
           },
           "zerolinecolor": "white",
           "zerolinewidth": 2
          }
         }
        },
        "title": {
         "text": "VALORES PARA SO2 POR FECHA"
        },
        "xaxis": {
         "anchor": "y",
         "domain": [
          0,
          1
         ],
         "title": {
          "text": "Date"
         }
        },
        "yaxis": {
         "anchor": "x",
         "domain": [
          0,
          1
         ],
         "title": {
          "text": "count"
         }
        }
       }
      },
      "text/html": [
       "<div>\n",
       "        \n",
       "        \n",
       "            <div id=\"a346ce75-3b3c-410e-afd8-67fab3be3309\" class=\"plotly-graph-div\" style=\"height:525px; width:100%;\"></div>\n",
       "            <script type=\"text/javascript\">\n",
       "                require([\"plotly\"], function(Plotly) {\n",
       "                    window.PLOTLYENV=window.PLOTLYENV || {};\n",
       "                    \n",
       "                if (document.getElementById(\"a346ce75-3b3c-410e-afd8-67fab3be3309\")) {\n",
       "                    Plotly.newPlot(\n",
       "                        'a346ce75-3b3c-410e-afd8-67fab3be3309',\n",
       "                        [{\"hovertemplate\": \"Date=%{x}<br>count=%{y}<extra></extra>\", \"legendgroup\": \"\", \"line\": {\"color\": \"#636efa\", \"dash\": \"solid\"}, \"mode\": \"lines\", \"name\": \"\", \"orientation\": \"v\", \"showlegend\": false, \"type\": \"scatter\", \"x\": [\"2019-12-30\", \"2019-12-31\", \"2020-01-01\", \"2020-01-02\", \"2020-01-03\", \"2020-01-04\", \"2020-01-05\", \"2020-01-06\", \"2020-01-07\", \"2020-01-08\", \"2020-01-09\", \"2020-01-10\", \"2020-01-11\", \"2020-01-12\", \"2020-01-13\", \"2020-01-14\", \"2020-01-15\", \"2020-01-16\", \"2020-01-17\", \"2020-01-18\", \"2020-01-19\", \"2020-01-20\", \"2020-01-21\", \"2020-01-22\", \"2020-01-23\", \"2020-01-24\", \"2020-01-25\", \"2020-01-26\", \"2020-01-27\", \"2020-01-28\", \"2020-01-29\", \"2020-01-30\", \"2020-01-31\", \"2020-02-01\", \"2020-02-02\", \"2020-02-03\", \"2020-02-04\", \"2020-02-05\", \"2020-02-06\", \"2020-02-07\", \"2020-02-08\", \"2020-02-09\", \"2020-02-10\", \"2020-02-11\", \"2020-02-12\", \"2020-02-13\", \"2020-02-14\", \"2020-02-15\", \"2020-02-16\", \"2020-02-17\", \"2020-02-18\", \"2020-02-19\", \"2020-02-20\", \"2020-02-21\", \"2020-02-22\", \"2020-02-23\", \"2020-02-24\", \"2020-02-25\", \"2020-02-26\", \"2020-02-27\", \"2020-02-28\", \"2020-02-29\", \"2020-03-01\", \"2020-03-02\", \"2020-03-03\", \"2020-03-04\", \"2020-03-05\", \"2020-03-06\", \"2020-03-29\", \"2020-03-30\", \"2020-03-31\", \"2020-04-01\", \"2020-04-02\", \"2020-04-03\", \"2020-04-04\", \"2020-04-05\", \"2020-04-06\", \"2020-04-07\", \"2020-04-08\", \"2020-04-09\", \"2020-04-10\", \"2020-04-11\", \"2020-04-12\", \"2020-04-13\", \"2020-04-14\", \"2020-04-15\", \"2020-04-16\", \"2020-04-17\", \"2020-04-18\", \"2020-04-19\", \"2020-04-20\", \"2020-04-21\", \"2020-04-22\", \"2020-04-23\", \"2020-04-24\", \"2020-04-25\", \"2020-04-26\", \"2020-04-27\", \"2020-04-28\", \"2020-04-29\", \"2020-04-30\", \"2020-05-01\", \"2020-05-02\", \"2020-05-03\", \"2020-05-04\", \"2020-05-05\", \"2020-05-06\", \"2020-05-07\", \"2020-05-08\", \"2020-05-09\", \"2020-05-10\", \"2020-05-11\", \"2020-05-12\", \"2020-05-13\", \"2020-05-14\", \"2020-05-15\", \"2020-05-16\", \"2020-05-17\", \"2020-05-18\", \"2020-05-19\", \"2020-05-20\", \"2020-05-21\", \"2020-05-22\", \"2020-05-23\", \"2020-05-24\", \"2020-05-25\", \"2020-05-26\", \"2020-05-27\", \"2020-05-28\", \"2020-05-29\", \"2020-05-30\", \"2020-05-31\", \"2020-06-01\", \"2020-06-02\", \"2020-06-03\", \"2020-06-04\", \"2020-06-05\"], \"xaxis\": \"x\", \"y\": [24, 25, 24, 24, 23, 24, 24, 24, 24, 24, 24, 24, 24, 24, 24, 24, 24, 24, 24, 24, 24, 24, 24, 24, 23, 24, 24, 24, 24, 24, 24, 24, 24, 24, 24, 24, 24, 24, 24, 35, 46, 46, 44, 45, 48, 48, 48, 45, 48, 47, 48, 44, 47, 52, 66, 70, 70, 72, 66, 72, 72, 70, 59, 72, 71, 72, 71, 26, 60, 72, 60, 72, 72, 72, 72, 59, 72, 72, 72, 72, 72, 72, 72, 72, 72, 72, 72, 71, 63, 72, 71, 72, 72, 72, 72, 72, 72, 72, 72, 72, 72, 72, 72, 72, 72, 72, 72, 72, 72, 72, 72, 72, 72, 72, 69, 72, 72, 72, 72, 72, 72, 72, 72, 72, 72, 72, 72, 72, 72, 72, 72, 71, 72, 72, 72, 72, 44], \"yaxis\": \"y\"}],\n",
       "                        {\"legend\": {\"tracegroupgap\": 0}, \"template\": {\"data\": {\"bar\": [{\"error_x\": {\"color\": \"#2a3f5f\"}, \"error_y\": {\"color\": \"#2a3f5f\"}, \"marker\": {\"line\": {\"color\": \"#E5ECF6\", \"width\": 0.5}}, \"type\": \"bar\"}], \"barpolar\": [{\"marker\": {\"line\": {\"color\": \"#E5ECF6\", \"width\": 0.5}}, \"type\": \"barpolar\"}], \"carpet\": [{\"aaxis\": {\"endlinecolor\": \"#2a3f5f\", \"gridcolor\": \"white\", \"linecolor\": \"white\", \"minorgridcolor\": \"white\", \"startlinecolor\": \"#2a3f5f\"}, \"baxis\": {\"endlinecolor\": \"#2a3f5f\", \"gridcolor\": \"white\", \"linecolor\": \"white\", \"minorgridcolor\": \"white\", \"startlinecolor\": \"#2a3f5f\"}, \"type\": \"carpet\"}], \"choropleth\": [{\"colorbar\": {\"outlinewidth\": 0, \"ticks\": \"\"}, \"type\": \"choropleth\"}], \"contour\": [{\"colorbar\": {\"outlinewidth\": 0, \"ticks\": \"\"}, \"colorscale\": [[0.0, \"#0d0887\"], [0.1111111111111111, \"#46039f\"], [0.2222222222222222, \"#7201a8\"], [0.3333333333333333, \"#9c179e\"], [0.4444444444444444, \"#bd3786\"], [0.5555555555555556, \"#d8576b\"], [0.6666666666666666, \"#ed7953\"], [0.7777777777777778, \"#fb9f3a\"], [0.8888888888888888, \"#fdca26\"], [1.0, \"#f0f921\"]], \"type\": \"contour\"}], \"contourcarpet\": [{\"colorbar\": {\"outlinewidth\": 0, \"ticks\": \"\"}, \"type\": \"contourcarpet\"}], \"heatmap\": [{\"colorbar\": {\"outlinewidth\": 0, \"ticks\": \"\"}, \"colorscale\": [[0.0, \"#0d0887\"], [0.1111111111111111, \"#46039f\"], [0.2222222222222222, \"#7201a8\"], [0.3333333333333333, \"#9c179e\"], [0.4444444444444444, \"#bd3786\"], [0.5555555555555556, \"#d8576b\"], [0.6666666666666666, \"#ed7953\"], [0.7777777777777778, \"#fb9f3a\"], [0.8888888888888888, \"#fdca26\"], [1.0, \"#f0f921\"]], \"type\": \"heatmap\"}], \"heatmapgl\": [{\"colorbar\": {\"outlinewidth\": 0, \"ticks\": \"\"}, \"colorscale\": [[0.0, \"#0d0887\"], [0.1111111111111111, \"#46039f\"], [0.2222222222222222, \"#7201a8\"], [0.3333333333333333, \"#9c179e\"], [0.4444444444444444, \"#bd3786\"], [0.5555555555555556, \"#d8576b\"], [0.6666666666666666, \"#ed7953\"], [0.7777777777777778, \"#fb9f3a\"], [0.8888888888888888, \"#fdca26\"], [1.0, \"#f0f921\"]], \"type\": \"heatmapgl\"}], \"histogram\": [{\"marker\": {\"colorbar\": {\"outlinewidth\": 0, \"ticks\": \"\"}}, \"type\": \"histogram\"}], \"histogram2d\": [{\"colorbar\": {\"outlinewidth\": 0, \"ticks\": \"\"}, \"colorscale\": [[0.0, \"#0d0887\"], [0.1111111111111111, \"#46039f\"], [0.2222222222222222, \"#7201a8\"], [0.3333333333333333, \"#9c179e\"], [0.4444444444444444, \"#bd3786\"], [0.5555555555555556, \"#d8576b\"], [0.6666666666666666, \"#ed7953\"], [0.7777777777777778, \"#fb9f3a\"], [0.8888888888888888, \"#fdca26\"], [1.0, \"#f0f921\"]], \"type\": \"histogram2d\"}], \"histogram2dcontour\": [{\"colorbar\": {\"outlinewidth\": 0, \"ticks\": \"\"}, \"colorscale\": [[0.0, \"#0d0887\"], [0.1111111111111111, \"#46039f\"], [0.2222222222222222, \"#7201a8\"], [0.3333333333333333, \"#9c179e\"], [0.4444444444444444, \"#bd3786\"], [0.5555555555555556, \"#d8576b\"], [0.6666666666666666, \"#ed7953\"], [0.7777777777777778, \"#fb9f3a\"], [0.8888888888888888, \"#fdca26\"], [1.0, \"#f0f921\"]], \"type\": \"histogram2dcontour\"}], \"mesh3d\": [{\"colorbar\": {\"outlinewidth\": 0, \"ticks\": \"\"}, \"type\": \"mesh3d\"}], \"parcoords\": [{\"line\": {\"colorbar\": {\"outlinewidth\": 0, \"ticks\": \"\"}}, \"type\": \"parcoords\"}], \"pie\": [{\"automargin\": true, \"type\": \"pie\"}], \"scatter\": [{\"marker\": {\"colorbar\": {\"outlinewidth\": 0, \"ticks\": \"\"}}, \"type\": \"scatter\"}], \"scatter3d\": [{\"line\": {\"colorbar\": {\"outlinewidth\": 0, \"ticks\": \"\"}}, \"marker\": {\"colorbar\": {\"outlinewidth\": 0, \"ticks\": \"\"}}, \"type\": \"scatter3d\"}], \"scattercarpet\": [{\"marker\": {\"colorbar\": {\"outlinewidth\": 0, \"ticks\": \"\"}}, \"type\": \"scattercarpet\"}], \"scattergeo\": [{\"marker\": {\"colorbar\": {\"outlinewidth\": 0, \"ticks\": \"\"}}, \"type\": \"scattergeo\"}], \"scattergl\": [{\"marker\": {\"colorbar\": {\"outlinewidth\": 0, \"ticks\": \"\"}}, \"type\": \"scattergl\"}], \"scattermapbox\": [{\"marker\": {\"colorbar\": {\"outlinewidth\": 0, \"ticks\": \"\"}}, \"type\": \"scattermapbox\"}], \"scatterpolar\": [{\"marker\": {\"colorbar\": {\"outlinewidth\": 0, \"ticks\": \"\"}}, \"type\": \"scatterpolar\"}], \"scatterpolargl\": [{\"marker\": {\"colorbar\": {\"outlinewidth\": 0, \"ticks\": \"\"}}, \"type\": \"scatterpolargl\"}], \"scatterternary\": [{\"marker\": {\"colorbar\": {\"outlinewidth\": 0, \"ticks\": \"\"}}, \"type\": \"scatterternary\"}], \"surface\": [{\"colorbar\": {\"outlinewidth\": 0, \"ticks\": \"\"}, \"colorscale\": [[0.0, \"#0d0887\"], [0.1111111111111111, \"#46039f\"], [0.2222222222222222, \"#7201a8\"], [0.3333333333333333, \"#9c179e\"], [0.4444444444444444, \"#bd3786\"], [0.5555555555555556, \"#d8576b\"], [0.6666666666666666, \"#ed7953\"], [0.7777777777777778, \"#fb9f3a\"], [0.8888888888888888, \"#fdca26\"], [1.0, \"#f0f921\"]], \"type\": \"surface\"}], \"table\": [{\"cells\": {\"fill\": {\"color\": \"#EBF0F8\"}, \"line\": {\"color\": \"white\"}}, \"header\": {\"fill\": {\"color\": \"#C8D4E3\"}, \"line\": {\"color\": \"white\"}}, \"type\": \"table\"}]}, \"layout\": {\"annotationdefaults\": {\"arrowcolor\": \"#2a3f5f\", \"arrowhead\": 0, \"arrowwidth\": 1}, \"coloraxis\": {\"colorbar\": {\"outlinewidth\": 0, \"ticks\": \"\"}}, \"colorscale\": {\"diverging\": [[0, \"#8e0152\"], [0.1, \"#c51b7d\"], [0.2, \"#de77ae\"], [0.3, \"#f1b6da\"], [0.4, \"#fde0ef\"], [0.5, \"#f7f7f7\"], [0.6, \"#e6f5d0\"], [0.7, \"#b8e186\"], [0.8, \"#7fbc41\"], [0.9, \"#4d9221\"], [1, \"#276419\"]], \"sequential\": [[0.0, \"#0d0887\"], [0.1111111111111111, \"#46039f\"], [0.2222222222222222, \"#7201a8\"], [0.3333333333333333, \"#9c179e\"], [0.4444444444444444, \"#bd3786\"], [0.5555555555555556, \"#d8576b\"], [0.6666666666666666, \"#ed7953\"], [0.7777777777777778, \"#fb9f3a\"], [0.8888888888888888, \"#fdca26\"], [1.0, \"#f0f921\"]], \"sequentialminus\": [[0.0, \"#0d0887\"], [0.1111111111111111, \"#46039f\"], [0.2222222222222222, \"#7201a8\"], [0.3333333333333333, \"#9c179e\"], [0.4444444444444444, \"#bd3786\"], [0.5555555555555556, \"#d8576b\"], [0.6666666666666666, \"#ed7953\"], [0.7777777777777778, \"#fb9f3a\"], [0.8888888888888888, \"#fdca26\"], [1.0, \"#f0f921\"]]}, \"colorway\": [\"#636efa\", \"#EF553B\", \"#00cc96\", \"#ab63fa\", \"#FFA15A\", \"#19d3f3\", \"#FF6692\", \"#B6E880\", \"#FF97FF\", \"#FECB52\"], \"font\": {\"color\": \"#2a3f5f\"}, \"geo\": {\"bgcolor\": \"white\", \"lakecolor\": \"white\", \"landcolor\": \"#E5ECF6\", \"showlakes\": true, \"showland\": true, \"subunitcolor\": \"white\"}, \"hoverlabel\": {\"align\": \"left\"}, \"hovermode\": \"closest\", \"mapbox\": {\"style\": \"light\"}, \"paper_bgcolor\": \"white\", \"plot_bgcolor\": \"#E5ECF6\", \"polar\": {\"angularaxis\": {\"gridcolor\": \"white\", \"linecolor\": \"white\", \"ticks\": \"\"}, \"bgcolor\": \"#E5ECF6\", \"radialaxis\": {\"gridcolor\": \"white\", \"linecolor\": \"white\", \"ticks\": \"\"}}, \"scene\": {\"xaxis\": {\"backgroundcolor\": \"#E5ECF6\", \"gridcolor\": \"white\", \"gridwidth\": 2, \"linecolor\": \"white\", \"showbackground\": true, \"ticks\": \"\", \"zerolinecolor\": \"white\"}, \"yaxis\": {\"backgroundcolor\": \"#E5ECF6\", \"gridcolor\": \"white\", \"gridwidth\": 2, \"linecolor\": \"white\", \"showbackground\": true, \"ticks\": \"\", \"zerolinecolor\": \"white\"}, \"zaxis\": {\"backgroundcolor\": \"#E5ECF6\", \"gridcolor\": \"white\", \"gridwidth\": 2, \"linecolor\": \"white\", \"showbackground\": true, \"ticks\": \"\", \"zerolinecolor\": \"white\"}}, \"shapedefaults\": {\"line\": {\"color\": \"#2a3f5f\"}}, \"ternary\": {\"aaxis\": {\"gridcolor\": \"white\", \"linecolor\": \"white\", \"ticks\": \"\"}, \"baxis\": {\"gridcolor\": \"white\", \"linecolor\": \"white\", \"ticks\": \"\"}, \"bgcolor\": \"#E5ECF6\", \"caxis\": {\"gridcolor\": \"white\", \"linecolor\": \"white\", \"ticks\": \"\"}}, \"title\": {\"x\": 0.05}, \"xaxis\": {\"automargin\": true, \"gridcolor\": \"white\", \"linecolor\": \"white\", \"ticks\": \"\", \"title\": {\"standoff\": 15}, \"zerolinecolor\": \"white\", \"zerolinewidth\": 2}, \"yaxis\": {\"automargin\": true, \"gridcolor\": \"white\", \"linecolor\": \"white\", \"ticks\": \"\", \"title\": {\"standoff\": 15}, \"zerolinecolor\": \"white\", \"zerolinewidth\": 2}}}, \"title\": {\"text\": \"VALORES PARA SO2 POR FECHA\"}, \"xaxis\": {\"anchor\": \"y\", \"domain\": [0.0, 1.0], \"title\": {\"text\": \"Date\"}}, \"yaxis\": {\"anchor\": \"x\", \"domain\": [0.0, 1.0], \"title\": {\"text\": \"count\"}}},\n",
       "                        {\"responsive\": true}\n",
       "                    ).then(function(){\n",
       "                            \n",
       "var gd = document.getElementById('a346ce75-3b3c-410e-afd8-67fab3be3309');\n",
       "var x = new MutationObserver(function (mutations, observer) {{\n",
       "        var display = window.getComputedStyle(gd).display;\n",
       "        if (!display || display === 'none') {{\n",
       "            console.log([gd, 'removed!']);\n",
       "            Plotly.purge(gd);\n",
       "            observer.disconnect();\n",
       "        }}\n",
       "}});\n",
       "\n",
       "// Listen for the removal of the full notebook cells\n",
       "var notebookContainer = gd.closest('#notebook-container');\n",
       "if (notebookContainer) {{\n",
       "    x.observe(notebookContainer, {childList: true});\n",
       "}}\n",
       "\n",
       "// Listen for the clearing of the current output cell\n",
       "var outputEl = gd.closest('.output');\n",
       "if (outputEl) {{\n",
       "    x.observe(outputEl, {childList: true});\n",
       "}}\n",
       "\n",
       "                        })\n",
       "                };\n",
       "                });\n",
       "            </script>\n",
       "        </div>"
      ]
     },
     "metadata": {},
     "output_type": "display_data"
    }
   ],
   "source": [
    "fig1 = px.line(PEso2pa,x='Date',y='count',title=\"VALORES PARA SO2 POR FECHA\")\n",
    "fig1.show()"
   ]
  },
  {
   "cell_type": "markdown",
   "metadata": {},
   "source": [
    "# CO\n",
    "El monóxido de carbono (CO) es un gas mortal, sin color, sin olor y venenoso. Este es producido por combustibles tales como el carbón, la madera, el carbón vegetal, el aceite, el queroseno, el propano y el gas natural no se queman completamente. Los productos y aparatos de motor que queman combustible tales como los generadores portátiles, los automóviles, las podadoras de césped y las máquinas de lavado a presión también producen CO.\n",
    "\n",
    "https://www.retema.es/articulo/entendiendo-el-origen-y-evolucion-del-monoxido-de-carbono-en-el-aire-que-respiramos-1AF4C#:~:text=Fuentes%20de%20CO%20en%20la,m%C3%A1s%20abundante%20y%20ampliamente%20distribuido.&text=En%20una%20atm%C3%B3sfera%20extremadamente%20limpia,de%20CO)%20%5B3%5D."
   ]
  },
  {
   "cell_type": "code",
   "execution_count": 229,
   "metadata": {},
   "outputs": [
    {
     "name": "stdout",
     "output_type": "stream",
     "text": [
      "root\n",
      " |-- Date: date (nullable = true)\n",
      " |-- Country: string (nullable = true)\n",
      " |-- City: string (nullable = true)\n",
      " |-- Specie: string (nullable = true)\n",
      " |-- count: integer (nullable = true)\n",
      " |-- min: double (nullable = true)\n",
      " |-- max: double (nullable = true)\n",
      " |-- median: double (nullable = true)\n",
      " |-- variance: double (nullable = true)\n",
      "\n"
     ]
    }
   ],
   "source": [
    "PEco = df.filter((df.Country == 'PE') & (df.Specie == 'co'))\n",
    "PEco = PEco.withColumn(\"Date\", PEco[\"Date\"].cast(DateType()))\n",
    "PEco.printSchema()"
   ]
  },
  {
   "cell_type": "code",
   "execution_count": 230,
   "metadata": {},
   "outputs": [
    {
     "name": "stdout",
     "output_type": "stream",
     "text": [
      "+----------+-------+----+------+-----+---+-----+------+--------+\n",
      "|Date      |Country|City|Specie|count|min|max  |median|variance|\n",
      "+----------+-------+----+------+-----+---+-----+------+--------+\n",
      "|2019-12-30|PE     |Lima|co    |72   |2.6|23.6 |13.9  |513.95  |\n",
      "|2019-12-31|PE     |Lima|co    |79   |2.5|27.9 |13.6  |503.46  |\n",
      "|2020-01-01|PE     |Lima|co    |93   |2.1|25.5 |11.2  |473.19  |\n",
      "|2020-01-02|PE     |Lima|co    |102  |0.2|129.3|6.7   |4637.41 |\n",
      "|2020-01-03|PE     |Lima|co    |99   |0.2|129.3|5.3   |4763.47 |\n",
      "|2020-01-04|PE     |Lima|co    |102  |0.2|129.3|6.2   |4635.99 |\n",
      "|2020-01-05|PE     |Lima|co    |99   |0.2|24.1 |5.1   |538.46  |\n",
      "|2020-01-06|PE     |Lima|co    |99   |0.2|23.9 |5.2   |612.73  |\n",
      "|2020-01-07|PE     |Lima|co    |99   |0.2|23.7 |5.3   |646.26  |\n",
      "|2020-01-08|PE     |Lima|co    |99   |0.2|23.1 |4.8   |631.22  |\n",
      "|2020-01-09|PE     |Lima|co    |99   |0.2|24.6 |6.5   |637.24  |\n",
      "|2020-01-10|PE     |Lima|co    |99   |0.2|25.9 |5.1   |714.03  |\n",
      "|2020-01-11|PE     |Lima|co    |99   |0.2|25.0 |4.9   |638.2   |\n",
      "|2020-01-12|PE     |Lima|co    |99   |0.2|26.9 |5.3   |677.7   |\n",
      "|2020-01-13|PE     |Lima|co    |99   |0.2|29.5 |7.2   |824.66  |\n",
      "|2020-01-14|PE     |Lima|co    |99   |0.2|29.8 |7.2   |844.07  |\n",
      "|2020-01-15|PE     |Lima|co    |99   |0.2|29.8 |6.5   |863.52  |\n",
      "|2020-01-16|PE     |Lima|co    |99   |0.2|29.7 |7.8   |903.47  |\n",
      "|2020-01-17|PE     |Lima|co    |99   |0.2|27.3 |4.8   |911.51  |\n",
      "|2020-01-18|PE     |Lima|co    |99   |0.2|28.1 |6.2   |882.31  |\n",
      "|2020-01-19|PE     |Lima|co    |99   |0.2|26.8 |5.7   |810.82  |\n",
      "|2020-01-20|PE     |Lima|co    |99   |0.2|29.7 |8.5   |909.62  |\n",
      "|2020-01-21|PE     |Lima|co    |99   |0.2|33.1 |8.7   |1041.66 |\n",
      "|2020-01-22|PE     |Lima|co    |91   |0.2|35.6 |10.3  |1114.43 |\n",
      "|2020-01-23|PE     |Lima|co    |75   |0.2|35.6 |7.6   |965.03  |\n",
      "|2020-01-24|PE     |Lima|co    |75   |0.4|28.2 |6.2   |741.88  |\n",
      "|2020-01-25|PE     |Lima|co    |75   |0.4|24.6 |5.4   |671.28  |\n",
      "|2020-01-26|PE     |Lima|co    |75   |0.4|22.6 |5.6   |520.03  |\n",
      "|2020-01-27|PE     |Lima|co    |57   |0.4|18.8 |4.1   |199.76  |\n",
      "|2020-01-28|PE     |Lima|co    |55   |0.4|12.4 |4.2   |92.91   |\n",
      "|2020-01-29|PE     |Lima|co    |75   |0.4|11.2 |5.0   |62.85   |\n",
      "|2020-01-30|PE     |Lima|co    |75   |0.4|11.4 |4.9   |50.8    |\n",
      "|2020-01-31|PE     |Lima|co    |64   |3.2|10.0 |4.9   |34.68   |\n",
      "|2020-02-01|PE     |Lima|co    |68   |0.4|8.6  |4.5   |44.22   |\n",
      "|2020-02-02|PE     |Lima|co    |48   |2.8|8.0  |4.7   |29.98   |\n",
      "|2020-02-03|PE     |Lima|co    |43   |0.4|9.2  |6.1   |54.01   |\n",
      "|2020-02-04|PE     |Lima|co    |54   |2.7|36.5 |6.0   |804.69  |\n",
      "|2020-02-05|PE     |Lima|co    |79   |2.4|35.2 |8.3   |1362.07 |\n",
      "|2020-02-06|PE     |Lima|co    |96   |2.9|42.0 |9.5   |1200.67 |\n",
      "|2020-02-07|PE     |Lima|co    |91   |1.7|43.1 |9.5   |1730.68 |\n",
      "|2020-02-08|PE     |Lima|co    |94   |2.5|39.9 |10.6  |1501.97 |\n",
      "|2020-02-09|PE     |Lima|co    |94   |3.0|34.6 |11.2  |1281.75 |\n",
      "|2020-02-10|PE     |Lima|co    |92   |2.8|37.2 |12.6  |1324.47 |\n",
      "|2020-02-11|PE     |Lima|co    |93   |1.2|39.4 |16.8  |1341.18 |\n",
      "|2020-02-12|PE     |Lima|co    |96   |2.3|35.6 |11.6  |1233.01 |\n",
      "|2020-02-13|PE     |Lima|co    |96   |2.2|36.3 |12.2  |1321.1  |\n",
      "|2020-02-14|PE     |Lima|co    |94   |2.6|39.2 |13.7  |1555.45 |\n",
      "|2020-02-15|PE     |Lima|co    |93   |2.8|37.4 |25.9  |1746.8  |\n",
      "|2020-02-16|PE     |Lima|co    |96   |2.6|35.6 |11.1  |1582.05 |\n",
      "|2020-02-17|PE     |Lima|co    |95   |2.5|40.8 |25.5  |1672.29 |\n",
      "|2020-02-18|PE     |Lima|co    |94   |2.6|39.8 |25.9  |1703.67 |\n",
      "|2020-02-19|PE     |Lima|co    |92   |2.8|39.1 |27.1  |1723.41 |\n",
      "|2020-02-20|PE     |Lima|co    |92   |3.1|36.9 |12.1  |1487.1  |\n",
      "|2020-02-21|PE     |Lima|co    |104  |3.3|37.0 |11.4  |1247.73 |\n",
      "|2020-02-22|PE     |Lima|co    |113  |3.5|37.8 |12.3  |1266.17 |\n",
      "|2020-02-23|PE     |Lima|co    |118  |3.6|37.0 |10.8  |1036.19 |\n",
      "|2020-02-24|PE     |Lima|co    |121  |3.0|35.3 |10.3  |902.99  |\n",
      "|2020-02-25|PE     |Lima|co    |121  |2.8|33.3 |9.6   |813.94  |\n",
      "|2020-02-26|PE     |Lima|co    |120  |2.7|32.8 |9.7   |804.78  |\n",
      "|2020-02-27|PE     |Lima|co    |144  |3.1|35.0 |9.5   |820.95  |\n",
      "|2020-02-28|PE     |Lima|co    |144  |2.9|34.7 |9.9   |829.44  |\n",
      "|2020-02-29|PE     |Lima|co    |143  |2.7|37.7 |11.4  |913.19  |\n",
      "|2020-03-01|PE     |Lima|co    |131  |3.0|34.4 |10.7  |918.49  |\n",
      "|2020-03-02|PE     |Lima|co    |132  |2.4|34.7 |9.0   |891.9   |\n",
      "|2020-03-03|PE     |Lima|co    |119  |2.2|500.0|9.3   |20959.2 |\n",
      "|2020-03-04|PE     |Lima|co    |116  |2.5|37.6 |9.0   |1015.36 |\n",
      "|2020-03-05|PE     |Lima|co    |119  |2.7|40.7 |9.8   |1099.29 |\n",
      "|2020-03-06|PE     |Lima|co    |46   |2.3|38.6 |9.2   |1370.97 |\n",
      "|2020-03-29|PE     |Lima|co    |86   |0.5|36.2 |5.8   |1501.11 |\n",
      "|2020-03-30|PE     |Lima|co    |102  |0.5|36.0 |6.3   |1513.99 |\n",
      "|2020-03-31|PE     |Lima|co    |85   |0.5|35.1 |6.1   |1492.29 |\n",
      "|2020-04-01|PE     |Lima|co    |102  |0.5|37.9 |6.1   |1552.09 |\n",
      "|2020-04-02|PE     |Lima|co    |102  |0.5|38.0 |6.2   |1520.8  |\n",
      "|2020-04-03|PE     |Lima|co    |103  |0.5|36.0 |6.1   |1477.06 |\n",
      "|2020-04-04|PE     |Lima|co    |102  |0.5|34.1 |4.8   |1455.55 |\n",
      "|2020-04-05|PE     |Lima|co    |80   |1.9|32.5 |4.7   |1475.1  |\n",
      "|2020-04-06|PE     |Lima|co    |81   |0.5|31.7 |4.7   |210.48  |\n",
      "|2020-04-07|PE     |Lima|co    |78   |0.5|15.7 |5.0   |99.21   |\n",
      "|2020-04-08|PE     |Lima|co    |78   |0.5|15.7 |4.7   |99.21   |\n",
      "|2020-04-09|PE     |Lima|co    |79   |0.5|15.7 |4.1   |96.7    |\n",
      "|2020-04-10|PE     |Lima|co    |78   |0.5|15.7 |4.1   |97.16   |\n",
      "|2020-04-11|PE     |Lima|co    |78   |0.5|15.7 |4.7   |106.79  |\n",
      "|2020-04-12|PE     |Lima|co    |72   |2.0|7.9  |4.2   |48.59   |\n",
      "|2020-04-13|PE     |Lima|co    |79   |0.5|15.7 |4.7   |109.14  |\n",
      "|2020-04-14|PE     |Lima|co    |78   |0.5|15.7 |4.9   |105.99  |\n",
      "|2020-04-15|PE     |Lima|co    |78   |0.5|15.7 |4.7   |112.11  |\n",
      "|2020-04-16|PE     |Lima|co    |78   |0.5|15.7 |4.8   |111.03  |\n",
      "|2020-04-17|PE     |Lima|co    |76   |0.5|15.7 |5.2   |122.84  |\n",
      "|2020-04-18|PE     |Lima|co    |68   |0.5|15.7 |5.4   |130.53  |\n",
      "|2020-04-19|PE     |Lima|co    |72   |1.1|8.2  |4.6   |66.61   |\n",
      "|2020-04-20|PE     |Lima|co    |78   |0.5|15.7 |5.2   |133.22  |\n",
      "|2020-04-21|PE     |Lima|co    |77   |0.5|15.7 |4.2   |129.69  |\n",
      "|2020-04-22|PE     |Lima|co    |75   |0.3|15.7 |4.3   |129.34  |\n",
      "|2020-04-23|PE     |Lima|co    |78   |0.5|15.7 |4.7   |127.31  |\n",
      "|2020-04-24|PE     |Lima|co    |75   |0.5|10.3 |4.6   |93.04   |\n",
      "|2020-04-25|PE     |Lima|co    |75   |0.5|11.9 |4.8   |102.54  |\n",
      "|2020-04-26|PE     |Lima|co    |55   |0.9|8.3  |4.4   |57.38   |\n",
      "|2020-04-27|PE     |Lima|co    |51   |0.5|7.8  |3.0   |45.31   |\n",
      "|2020-04-28|PE     |Lima|co    |51   |0.4|8.1  |2.2   |50.06   |\n",
      "|2020-04-29|PE     |Lima|co    |38   |0.4|7.6  |4.7   |52.52   |\n",
      "|2020-04-30|PE     |Lima|co    |31   |0.5|7.5  |4.8   |51.3    |\n",
      "|2020-05-01|PE     |Lima|co    |27   |0.5|8.6  |5.0   |38.86   |\n",
      "|2020-05-02|PE     |Lima|co    |27   |0.5|8.6  |5.2   |49.4    |\n",
      "|2020-05-03|PE     |Lima|co    |24   |4.5|5.9  |4.9   |1.53    |\n",
      "|2020-05-04|PE     |Lima|co    |27   |0.5|10.1 |7.0   |73.71   |\n",
      "|2020-05-05|PE     |Lima|co    |27   |0.5|10.5 |7.1   |78.62   |\n",
      "|2020-05-06|PE     |Lima|co    |27   |0.5|9.6  |6.2   |53.9    |\n",
      "|2020-05-07|PE     |Lima|co    |27   |0.5|9.6  |6.3   |50.59   |\n",
      "|2020-05-08|PE     |Lima|co    |27   |0.5|13.3 |5.7   |99.42   |\n",
      "|2020-05-09|PE     |Lima|co    |27   |0.5|7.2  |4.9   |29.78   |\n",
      "|2020-05-10|PE     |Lima|co    |24   |4.2|5.5  |4.6   |1.64    |\n",
      "|2020-05-11|PE     |Lima|co    |35   |0.5|9.1  |4.6   |32.75   |\n",
      "|2020-05-12|PE     |Lima|co    |53   |0.5|12.4 |4.8   |53.77   |\n",
      "|2020-05-13|PE     |Lima|co    |51   |0.5|14.3 |4.9   |68.14   |\n",
      "|2020-05-14|PE     |Lima|co    |51   |0.5|9.4  |4.8   |38.8    |\n",
      "|2020-05-15|PE     |Lima|co    |50   |0.5|7.6  |3.7   |34.8    |\n",
      "|2020-05-16|PE     |Lima|co    |51   |0.5|6.9  |3.0   |36.17   |\n",
      "|2020-05-17|PE     |Lima|co    |48   |1.5|5.4  |2.4   |25.54   |\n",
      "|2020-05-18|PE     |Lima|co    |51   |0.5|6.7  |3.5   |36.44   |\n",
      "|2020-05-19|PE     |Lima|co    |51   |0.5|7.8  |3.2   |44.62   |\n",
      "|2020-05-20|PE     |Lima|co    |51   |0.5|7.5  |3.7   |40.34   |\n",
      "|2020-05-21|PE     |Lima|co    |51   |0.5|7.3  |2.9   |42.17   |\n",
      "|2020-05-22|PE     |Lima|co    |50   |0.5|7.5  |2.7   |43.5    |\n",
      "|2020-05-23|PE     |Lima|co    |51   |0.5|7.7  |2.4   |49.54   |\n",
      "|2020-05-24|PE     |Lima|co    |48   |1.5|6.0  |2.5   |31.77   |\n",
      "|2020-05-25|PE     |Lima|co    |65   |0.5|12.9 |5.4   |105.0   |\n",
      "|2020-05-26|PE     |Lima|co    |84   |0.5|12.8 |7.5   |110.63  |\n",
      "|2020-05-27|PE     |Lima|co    |78   |0.5|13.0 |6.4   |113.89  |\n",
      "|2020-05-28|PE     |Lima|co    |75   |0.5|13.1 |6.6   |116.64  |\n",
      "|2020-05-29|PE     |Lima|co    |78   |0.5|14.8 |6.4   |134.1   |\n",
      "|2020-05-30|PE     |Lima|co    |78   |0.5|14.7 |6.2   |135.26  |\n",
      "|2020-05-31|PE     |Lima|co    |70   |2.8|10.9 |5.6   |72.83   |\n",
      "|2020-06-01|PE     |Lima|co    |72   |2.7|14.3 |7.3   |110.92  |\n",
      "|2020-06-02|PE     |Lima|co    |72   |3.0|12.6 |7.4   |97.6    |\n",
      "|2020-06-03|PE     |Lima|co    |72   |2.9|13.5 |7.2   |117.88  |\n",
      "|2020-06-04|PE     |Lima|co    |72   |2.9|16.2 |7.4   |113.56  |\n",
      "|2020-06-05|PE     |Lima|co    |30   |3.2|12.9 |6.1   |144.52  |\n",
      "+----------+-------+----+------+-----+---+-----+------+--------+\n",
      "\n"
     ]
    }
   ],
   "source": [
    "PEco = PEco.orderBy('Date').filter((df.Country == 'PE') & (df.Specie == 'co'))\n",
    "PEco.show(PEco.count(), truncate=False)"
   ]
  },
  {
   "cell_type": "code",
   "execution_count": 231,
   "metadata": {},
   "outputs": [
    {
     "data": {
      "text/html": [
       "<div>\n",
       "<style scoped>\n",
       "    .dataframe tbody tr th:only-of-type {\n",
       "        vertical-align: middle;\n",
       "    }\n",
       "\n",
       "    .dataframe tbody tr th {\n",
       "        vertical-align: top;\n",
       "    }\n",
       "\n",
       "    .dataframe thead th {\n",
       "        text-align: right;\n",
       "    }\n",
       "</style>\n",
       "<table border=\"1\" class=\"dataframe\">\n",
       "  <thead>\n",
       "    <tr style=\"text-align: right;\">\n",
       "      <th></th>\n",
       "      <th>0</th>\n",
       "      <th>1</th>\n",
       "      <th>2</th>\n",
       "      <th>3</th>\n",
       "      <th>4</th>\n",
       "      <th>5</th>\n",
       "      <th>6</th>\n",
       "      <th>7</th>\n",
       "      <th>8</th>\n",
       "      <th>9</th>\n",
       "      <th>...</th>\n",
       "      <th>127</th>\n",
       "      <th>128</th>\n",
       "      <th>129</th>\n",
       "      <th>130</th>\n",
       "      <th>131</th>\n",
       "      <th>132</th>\n",
       "      <th>133</th>\n",
       "      <th>134</th>\n",
       "      <th>135</th>\n",
       "      <th>136</th>\n",
       "    </tr>\n",
       "  </thead>\n",
       "  <tbody>\n",
       "    <tr>\n",
       "      <th>Date</th>\n",
       "      <td>2019-12-30</td>\n",
       "      <td>2019-12-31</td>\n",
       "      <td>2020-01-01</td>\n",
       "      <td>2020-01-02</td>\n",
       "      <td>2020-01-03</td>\n",
       "      <td>2020-01-04</td>\n",
       "      <td>2020-01-05</td>\n",
       "      <td>2020-01-06</td>\n",
       "      <td>2020-01-07</td>\n",
       "      <td>2020-01-08</td>\n",
       "      <td>...</td>\n",
       "      <td>2020-05-27</td>\n",
       "      <td>2020-05-28</td>\n",
       "      <td>2020-05-29</td>\n",
       "      <td>2020-05-30</td>\n",
       "      <td>2020-05-31</td>\n",
       "      <td>2020-06-01</td>\n",
       "      <td>2020-06-02</td>\n",
       "      <td>2020-06-03</td>\n",
       "      <td>2020-06-04</td>\n",
       "      <td>2020-06-05</td>\n",
       "    </tr>\n",
       "    <tr>\n",
       "      <th>count</th>\n",
       "      <td>72</td>\n",
       "      <td>79</td>\n",
       "      <td>93</td>\n",
       "      <td>102</td>\n",
       "      <td>99</td>\n",
       "      <td>102</td>\n",
       "      <td>99</td>\n",
       "      <td>99</td>\n",
       "      <td>99</td>\n",
       "      <td>99</td>\n",
       "      <td>...</td>\n",
       "      <td>78</td>\n",
       "      <td>75</td>\n",
       "      <td>78</td>\n",
       "      <td>78</td>\n",
       "      <td>70</td>\n",
       "      <td>72</td>\n",
       "      <td>72</td>\n",
       "      <td>72</td>\n",
       "      <td>72</td>\n",
       "      <td>30</td>\n",
       "    </tr>\n",
       "  </tbody>\n",
       "</table>\n",
       "<p>2 rows × 137 columns</p>\n",
       "</div>"
      ],
      "text/plain": [
       "              0           1           2           3           4           5    \\\n",
       "Date   2019-12-30  2019-12-31  2020-01-01  2020-01-02  2020-01-03  2020-01-04   \n",
       "count          72          79          93         102          99         102   \n",
       "\n",
       "              6           7           8           9    ...         127  \\\n",
       "Date   2020-01-05  2020-01-06  2020-01-07  2020-01-08  ...  2020-05-27   \n",
       "count          99          99          99          99  ...          78   \n",
       "\n",
       "              128         129         130         131         132         133  \\\n",
       "Date   2020-05-28  2020-05-29  2020-05-30  2020-05-31  2020-06-01  2020-06-02   \n",
       "count          75          78          78          70          72          72   \n",
       "\n",
       "              134         135         136  \n",
       "Date   2020-06-03  2020-06-04  2020-06-05  \n",
       "count          72          72          30  \n",
       "\n",
       "[2 rows x 137 columns]"
      ]
     },
     "execution_count": 231,
     "metadata": {},
     "output_type": "execute_result"
    }
   ],
   "source": [
    "PEcograf = PEco.orderBy('Specie','Date').select('Date','count')\n",
    "PEcopa = PEcograf.toPandas()\n",
    "PEcopa.T"
   ]
  },
  {
   "cell_type": "code",
   "execution_count": 232,
   "metadata": {},
   "outputs": [
    {
     "data": {
      "text/plain": [
       "<matplotlib.axes._subplots.AxesSubplot at 0x7f3766c84cd0>"
      ]
     },
     "execution_count": 232,
     "metadata": {},
     "output_type": "execute_result"
    },
    {
     "data": {
      "image/png": "[encoded data removed]",
      "text/plain": [
       "<Figure size 432x288 with 1 Axes>"
      ]
     },
     "metadata": {
      "needs_background": "light"
     },
     "output_type": "display_data"
    }
   ],
   "source": [
    "PEcopa.plot()"
   ]
  },
  {
   "cell_type": "code",
   "execution_count": 239,
   "metadata": {},
   "outputs": [
    {
     "data": {
      "application/vnd.plotly.v1+json": {
       "config": {
        "plotlyServerURL": "https://plot.ly"
       },
       "data": [
        {
         "hovertemplate": "Date=%{x}<br>count=%{y}<extra></extra>",
         "legendgroup": "",
         "line": {
          "color": "#636efa",
          "dash": "solid"
         },
         "mode": "lines",
         "name": "",
         "orientation": "v",
         "showlegend": false,
         "type": "scatter",
         "x": [
          "2019-12-30",
          "2019-12-31",
          "2020-01-01",
          "2020-01-02",
          "2020-01-03",
          "2020-01-04",
          "2020-01-05",
          "2020-01-06",
          "2020-01-07",
          "2020-01-08",
          "2020-01-09",
          "2020-01-10",
          "2020-01-11",
          "2020-01-12",
          "2020-01-13",
          "2020-01-14",
          "2020-01-15",
          "2020-01-16",
          "2020-01-17",
          "2020-01-18",
          "2020-01-19",
          "2020-01-20",
          "2020-01-21",
          "2020-01-22",
          "2020-01-23",
          "2020-01-24",
          "2020-01-25",
          "2020-01-26",
          "2020-01-27",
          "2020-01-28",
          "2020-01-29",
          "2020-01-30",
          "2020-01-31",
          "2020-02-01",
          "2020-02-02",
          "2020-02-03",
          "2020-02-04",
          "2020-02-05",
          "2020-02-06",
          "2020-02-07",
          "2020-02-08",
          "2020-02-09",
          "2020-02-10",
          "2020-02-11",
          "2020-02-12",
          "2020-02-13",
          "2020-02-14",
          "2020-02-15",
          "2020-02-16",
          "2020-02-17",
          "2020-02-18",
          "2020-02-19",
          "2020-02-20",
          "2020-02-21",
          "2020-02-22",
          "2020-02-23",
          "2020-02-24",
          "2020-02-25",
          "2020-02-26",
          "2020-02-27",
          "2020-02-28",
          "2020-02-29",
          "2020-03-01",
          "2020-03-02",
          "2020-03-03",
          "2020-03-04",
          "2020-03-05",
          "2020-03-06",
          "2020-03-29",
          "2020-03-30",
          "2020-03-31",
          "2020-04-01",
          "2020-04-02",
          "2020-04-03",
          "2020-04-04",
          "2020-04-05",
          "2020-04-06",
          "2020-04-07",
          "2020-04-08",
          "2020-04-09",
          "2020-04-10",
          "2020-04-11",
          "2020-04-12",
          "2020-04-13",
          "2020-04-14",
          "2020-04-15",
          "2020-04-16",
          "2020-04-17",
          "2020-04-18",
          "2020-04-19",
          "2020-04-20",
          "2020-04-21",
          "2020-04-22",
          "2020-04-23",
          "2020-04-24",
          "2020-04-25",
          "2020-04-26",
          "2020-04-27",
          "2020-04-28",
          "2020-04-29",
          "2020-04-30",
          "2020-05-01",
          "2020-05-02",
          "2020-05-03",
          "2020-05-04",
          "2020-05-05",
          "2020-05-06",
          "2020-05-07",
          "2020-05-08",
          "2020-05-09",
          "2020-05-10",
          "2020-05-11",
          "2020-05-12",
          "2020-05-13",
          "2020-05-14",
          "2020-05-15",
          "2020-05-16",
          "2020-05-17",
          "2020-05-18",
          "2020-05-19",
          "2020-05-20",
          "2020-05-21",
          "2020-05-22",
          "2020-05-23",
          "2020-05-24",
          "2020-05-25",
          "2020-05-26",
          "2020-05-27",
          "2020-05-28",
          "2020-05-29",
          "2020-05-30",
          "2020-05-31",
          "2020-06-01",
          "2020-06-02",
          "2020-06-03",
          "2020-06-04",
          "2020-06-05"
         ],
         "xaxis": "x",
         "y": [
          72,
          79,
          93,
          102,
          99,
          102,
          99,
          99,
          99,
          99,
          99,
          99,
          99,
          99,
          99,
          99,
          99,
          99,
          99,
          99,
          99,
          99,
          99,
          91,
          75,
          75,
          75,
          75,
          57,
          55,
          75,
          75,
          64,
          68,
          48,
          43,
          54,
          79,
          96,
          91,
          94,
          94,
          92,
          93,
          96,
          96,
          94,
          93,
          96,
          95,
          94,
          92,
          92,
          104,
          113,
          118,
          121,
          121,
          120,
          144,
          144,
          143,
          131,
          132,
          119,
          116,
          119,
          46,
          86,
          102,
          85,
          102,
          102,
          103,
          102,
          80,
          81,
          78,
          78,
          79,
          78,
          78,
          72,
          79,
          78,
          78,
          78,
          76,
          68,
          72,
          78,
          77,
          75,
          78,
          75,
          75,
          55,
          51,
          51,
          38,
          31,
          27,
          27,
          24,
          27,
          27,
          27,
          27,
          27,
          27,
          24,
          35,
          53,
          51,
          51,
          50,
          51,
          48,
          51,
          51,
          51,
          51,
          50,
          51,
          48,
          65,
          84,
          78,
          75,
          78,
          78,
          70,
          72,
          72,
          72,
          72,
          30
         ],
         "yaxis": "y"
        }
       ],
       "layout": {
        "legend": {
         "tracegroupgap": 0
        },
        "template": {
         "data": {
          "bar": [
           {
            "error_x": {
             "color": "#2a3f5f"
            },
            "error_y": {
             "color": "#2a3f5f"
            },
            "marker": {
             "line": {
              "color": "#E5ECF6",
              "width": 0.5
             }
            },
            "type": "bar"
           }
          ],
          "barpolar": [
           {
            "marker": {
             "line": {
              "color": "#E5ECF6",
              "width": 0.5
             }
            },
            "type": "barpolar"
           }
          ],
          "carpet": [
           {
            "aaxis": {
             "endlinecolor": "#2a3f5f",
             "gridcolor": "white",
             "linecolor": "white",
             "minorgridcolor": "white",
             "startlinecolor": "#2a3f5f"
            },
            "baxis": {
             "endlinecolor": "#2a3f5f",
             "gridcolor": "white",
             "linecolor": "white",
             "minorgridcolor": "white",
             "startlinecolor": "#2a3f5f"
            },
            "type": "carpet"
           }
          ],
          "choropleth": [
           {
            "colorbar": {
             "outlinewidth": 0,
             "ticks": ""
            },
            "type": "choropleth"
           }
          ],
          "contour": [
           {
            "colorbar": {
             "outlinewidth": 0,
             "ticks": ""
            },
            "colorscale": [
             [
              0,
              "#0d0887"
             ],
             [
              0.1111111111111111,
              "#46039f"
             ],
             [
              0.2222222222222222,
              "#7201a8"
             ],
             [
              0.3333333333333333,
              "#9c179e"
             ],
             [
              0.4444444444444444,
              "#bd3786"
             ],
             [
              0.5555555555555556,
              "#d8576b"
             ],
             [
              0.6666666666666666,
              "#ed7953"
             ],
             [
              0.7777777777777778,
              "#fb9f3a"
             ],
             [
              0.8888888888888888,
              "#fdca26"
             ],
             [
              1,
              "#f0f921"
             ]
            ],
            "type": "contour"
           }
          ],
          "contourcarpet": [
           {
            "colorbar": {
             "outlinewidth": 0,
             "ticks": ""
            },
            "type": "contourcarpet"
           }
          ],
          "heatmap": [
           {
            "colorbar": {
             "outlinewidth": 0,
             "ticks": ""
            },
            "colorscale": [
             [
              0,
              "#0d0887"
             ],
             [
              0.1111111111111111,
              "#46039f"
             ],
             [
              0.2222222222222222,
              "#7201a8"
             ],
             [
              0.3333333333333333,
              "#9c179e"
             ],
             [
              0.4444444444444444,
              "#bd3786"
             ],
             [
              0.5555555555555556,
              "#d8576b"
             ],
             [
              0.6666666666666666,
              "#ed7953"
             ],
             [
              0.7777777777777778,
              "#fb9f3a"
             ],
             [
              0.8888888888888888,
              "#fdca26"
             ],
             [
              1,
              "#f0f921"
             ]
            ],
            "type": "heatmap"
           }
          ],
          "heatmapgl": [
           {
            "colorbar": {
             "outlinewidth": 0,
             "ticks": ""
            },
            "colorscale": [
             [
              0,
              "#0d0887"
             ],
             [
              0.1111111111111111,
              "#46039f"
             ],
             [
              0.2222222222222222,
              "#7201a8"
             ],
             [
              0.3333333333333333,
              "#9c179e"
             ],
             [
              0.4444444444444444,
              "#bd3786"
             ],
             [
              0.5555555555555556,
              "#d8576b"
             ],
             [
              0.6666666666666666,
              "#ed7953"
             ],
             [
              0.7777777777777778,
              "#fb9f3a"
             ],
             [
              0.8888888888888888,
              "#fdca26"
             ],
             [
              1,
              "#f0f921"
             ]
            ],
            "type": "heatmapgl"
           }
          ],
          "histogram": [
           {
            "marker": {
             "colorbar": {
              "outlinewidth": 0,
              "ticks": ""
             }
            },
            "type": "histogram"
           }
          ],
          "histogram2d": [
           {
            "colorbar": {
             "outlinewidth": 0,
             "ticks": ""
            },
            "colorscale": [
             [
              0,
              "#0d0887"
             ],
             [
              0.1111111111111111,
              "#46039f"
             ],
             [
              0.2222222222222222,
              "#7201a8"
             ],
             [
              0.3333333333333333,
              "#9c179e"
             ],
             [
              0.4444444444444444,
              "#bd3786"
             ],
             [
              0.5555555555555556,
              "#d8576b"
             ],
             [
              0.6666666666666666,
              "#ed7953"
             ],
             [
              0.7777777777777778,
              "#fb9f3a"
             ],
             [
              0.8888888888888888,
              "#fdca26"
             ],
             [
              1,
              "#f0f921"
             ]
            ],
            "type": "histogram2d"
           }
          ],
          "histogram2dcontour": [
           {
            "colorbar": {
             "outlinewidth": 0,
             "ticks": ""
            },
            "colorscale": [
             [
              0,
              "#0d0887"
             ],
             [
              0.1111111111111111,
              "#46039f"
             ],
             [
              0.2222222222222222,
              "#7201a8"
             ],
             [
              0.3333333333333333,
              "#9c179e"
             ],
             [
              0.4444444444444444,
              "#bd3786"
             ],
             [
              0.5555555555555556,
              "#d8576b"
             ],
             [
              0.6666666666666666,
              "#ed7953"
             ],
             [
              0.7777777777777778,
              "#fb9f3a"
             ],
             [
              0.8888888888888888,
              "#fdca26"
             ],
             [
              1,
              "#f0f921"
             ]
            ],
            "type": "histogram2dcontour"
           }
          ],
          "mesh3d": [
           {
            "colorbar": {
             "outlinewidth": 0,
             "ticks": ""
            },
            "type": "mesh3d"
           }
          ],
          "parcoords": [
           {
            "line": {
             "colorbar": {
              "outlinewidth": 0,
              "ticks": ""
             }
            },
            "type": "parcoords"
           }
          ],
          "pie": [
           {
            "automargin": true,
            "type": "pie"
           }
          ],
          "scatter": [
           {
            "marker": {
             "colorbar": {
              "outlinewidth": 0,
              "ticks": ""
             }
            },
            "type": "scatter"
           }
          ],
          "scatter3d": [
           {
            "line": {
             "colorbar": {
              "outlinewidth": 0,
              "ticks": ""
             }
            },
            "marker": {
             "colorbar": {
              "outlinewidth": 0,
              "ticks": ""
             }
            },
            "type": "scatter3d"
           }
          ],
          "scattercarpet": [
           {
            "marker": {
             "colorbar": {
              "outlinewidth": 0,
              "ticks": ""
             }
            },
            "type": "scattercarpet"
           }
          ],
          "scattergeo": [
           {
            "marker": {
             "colorbar": {
              "outlinewidth": 0,
              "ticks": ""
             }
            },
            "type": "scattergeo"
           }
          ],
          "scattergl": [
           {
            "marker": {
             "colorbar": {
              "outlinewidth": 0,
              "ticks": ""
             }
            },
            "type": "scattergl"
           }
          ],
          "scattermapbox": [
           {
            "marker": {
             "colorbar": {
              "outlinewidth": 0,
              "ticks": ""
             }
            },
            "type": "scattermapbox"
           }
          ],
          "scatterpolar": [
           {
            "marker": {
             "colorbar": {
              "outlinewidth": 0,
              "ticks": ""
             }
            },
            "type": "scatterpolar"
           }
          ],
          "scatterpolargl": [
           {
            "marker": {
             "colorbar": {
              "outlinewidth": 0,
              "ticks": ""
             }
            },
            "type": "scatterpolargl"
           }
          ],
          "scatterternary": [
           {
            "marker": {
             "colorbar": {
              "outlinewidth": 0,
              "ticks": ""
             }
            },
            "type": "scatterternary"
           }
          ],
          "surface": [
           {
            "colorbar": {
             "outlinewidth": 0,
             "ticks": ""
            },
            "colorscale": [
             [
              0,
              "#0d0887"
             ],
             [
              0.1111111111111111,
              "#46039f"
             ],
             [
              0.2222222222222222,
              "#7201a8"
             ],
             [
              0.3333333333333333,
              "#9c179e"
             ],
             [
              0.4444444444444444,
              "#bd3786"
             ],
             [
              0.5555555555555556,
              "#d8576b"
             ],
             [
              0.6666666666666666,
              "#ed7953"
             ],
             [
              0.7777777777777778,
              "#fb9f3a"
             ],
             [
              0.8888888888888888,
              "#fdca26"
             ],
             [
              1,
              "#f0f921"
             ]
            ],
            "type": "surface"
           }
          ],
          "table": [
           {
            "cells": {
             "fill": {
              "color": "#EBF0F8"
             },
             "line": {
              "color": "white"
             }
            },
            "header": {
             "fill": {
              "color": "#C8D4E3"
             },
             "line": {
              "color": "white"
             }
            },
            "type": "table"
           }
          ]
         },
         "layout": {
          "annotationdefaults": {
           "arrowcolor": "#2a3f5f",
           "arrowhead": 0,
           "arrowwidth": 1
          },
          "coloraxis": {
           "colorbar": {
            "outlinewidth": 0,
            "ticks": ""
           }
          },
          "colorscale": {
           "diverging": [
            [
             0,
             "#8e0152"
            ],
            [
             0.1,
             "#c51b7d"
            ],
            [
             0.2,
             "#de77ae"
            ],
            [
             0.3,
             "#f1b6da"
            ],
            [
             0.4,
             "#fde0ef"
            ],
            [
             0.5,
             "#f7f7f7"
            ],
            [
             0.6,
             "#e6f5d0"
            ],
            [
             0.7,
             "#b8e186"
            ],
            [
             0.8,
             "#7fbc41"
            ],
            [
             0.9,
             "#4d9221"
            ],
            [
             1,
             "#276419"
            ]
           ],
           "sequential": [
            [
             0,
             "#0d0887"
            ],
            [
             0.1111111111111111,
             "#46039f"
            ],
            [
             0.2222222222222222,
             "#7201a8"
            ],
            [
             0.3333333333333333,
             "#9c179e"
            ],
            [
             0.4444444444444444,
             "#bd3786"
            ],
            [
             0.5555555555555556,
             "#d8576b"
            ],
            [
             0.6666666666666666,
             "#ed7953"
            ],
            [
             0.7777777777777778,
             "#fb9f3a"
            ],
            [
             0.8888888888888888,
             "#fdca26"
            ],
            [
             1,
             "#f0f921"
            ]
           ],
           "sequentialminus": [
            [
             0,
             "#0d0887"
            ],
            [
             0.1111111111111111,
             "#46039f"
            ],
            [
             0.2222222222222222,
             "#7201a8"
            ],
            [
             0.3333333333333333,
             "#9c179e"
            ],
            [
             0.4444444444444444,
             "#bd3786"
            ],
            [
             0.5555555555555556,
             "#d8576b"
            ],
            [
             0.6666666666666666,
             "#ed7953"
            ],
            [
             0.7777777777777778,
             "#fb9f3a"
            ],
            [
             0.8888888888888888,
             "#fdca26"
            ],
            [
             1,
             "#f0f921"
            ]
           ]
          },
          "colorway": [
           "#636efa",
           "#EF553B",
           "#00cc96",
           "#ab63fa",
           "#FFA15A",
           "#19d3f3",
           "#FF6692",
           "#B6E880",
           "#FF97FF",
           "#FECB52"
          ],
          "font": {
           "color": "#2a3f5f"
          },
          "geo": {
           "bgcolor": "white",
           "lakecolor": "white",
           "landcolor": "#E5ECF6",
           "showlakes": true,
           "showland": true,
           "subunitcolor": "white"
          },
          "hoverlabel": {
           "align": "left"
          },
          "hovermode": "closest",
          "mapbox": {
           "style": "light"
          },
          "paper_bgcolor": "white",
          "plot_bgcolor": "#E5ECF6",
          "polar": {
           "angularaxis": {
            "gridcolor": "white",
            "linecolor": "white",
            "ticks": ""
           },
           "bgcolor": "#E5ECF6",
           "radialaxis": {
            "gridcolor": "white",
            "linecolor": "white",
            "ticks": ""
           }
          },
          "scene": {
           "xaxis": {
            "backgroundcolor": "#E5ECF6",
            "gridcolor": "white",
            "gridwidth": 2,
            "linecolor": "white",
            "showbackground": true,
            "ticks": "",
            "zerolinecolor": "white"
           },
           "yaxis": {
            "backgroundcolor": "#E5ECF6",
            "gridcolor": "white",
            "gridwidth": 2,
            "linecolor": "white",
            "showbackground": true,
            "ticks": "",
            "zerolinecolor": "white"
           },
           "zaxis": {
            "backgroundcolor": "#E5ECF6",
            "gridcolor": "white",
            "gridwidth": 2,
            "linecolor": "white",
            "showbackground": true,
            "ticks": "",
            "zerolinecolor": "white"
           }
          },
          "shapedefaults": {
           "line": {
            "color": "#2a3f5f"
           }
          },
          "ternary": {
           "aaxis": {
            "gridcolor": "white",
            "linecolor": "white",
            "ticks": ""
           },
           "baxis": {
            "gridcolor": "white",
            "linecolor": "white",
            "ticks": ""
           },
           "bgcolor": "#E5ECF6",
           "caxis": {
            "gridcolor": "white",
            "linecolor": "white",
            "ticks": ""
           }
          },
          "title": {
           "x": 0.05
          },
          "xaxis": {
           "automargin": true,
           "gridcolor": "white",
           "linecolor": "white",
           "ticks": "",
           "title": {
            "standoff": 15
           },
           "zerolinecolor": "white",
           "zerolinewidth": 2
          },
          "yaxis": {
           "automargin": true,
           "gridcolor": "white",
           "linecolor": "white",
           "ticks": "",
           "title": {
            "standoff": 15
           },
           "zerolinecolor": "white",
           "zerolinewidth": 2
          }
         }
        },
        "title": {
         "text": "VALORES PARA CO POR FECHA"
        },
        "xaxis": {
         "anchor": "y",
         "domain": [
          0,
          1
         ],
         "title": {
          "text": "Date"
         }
        },
        "yaxis": {
         "anchor": "x",
         "domain": [
          0,
          1
         ],
         "title": {
          "text": "count"
         }
        }
       }
      },
      "text/html": [
       "<div>\n",
       "        \n",
       "        \n",
       "            <div id=\"8a0530aa-4ee1-4aeb-837b-61c19cef596d\" class=\"plotly-graph-div\" style=\"height:525px; width:100%;\"></div>\n",
       "            <script type=\"text/javascript\">\n",
       "                require([\"plotly\"], function(Plotly) {\n",
       "                    window.PLOTLYENV=window.PLOTLYENV || {};\n",
       "                    \n",
       "                if (document.getElementById(\"8a0530aa-4ee1-4aeb-837b-61c19cef596d\")) {\n",
       "                    Plotly.newPlot(\n",
       "                        '8a0530aa-4ee1-4aeb-837b-61c19cef596d',\n",
       "                        [{\"hovertemplate\": \"Date=%{x}<br>count=%{y}<extra></extra>\", \"legendgroup\": \"\", \"line\": {\"color\": \"#636efa\", \"dash\": \"solid\"}, \"mode\": \"lines\", \"name\": \"\", \"orientation\": \"v\", \"showlegend\": false, \"type\": \"scatter\", \"x\": [\"2019-12-30\", \"2019-12-31\", \"2020-01-01\", \"2020-01-02\", \"2020-01-03\", \"2020-01-04\", \"2020-01-05\", \"2020-01-06\", \"2020-01-07\", \"2020-01-08\", \"2020-01-09\", \"2020-01-10\", \"2020-01-11\", \"2020-01-12\", \"2020-01-13\", \"2020-01-14\", \"2020-01-15\", \"2020-01-16\", \"2020-01-17\", \"2020-01-18\", \"2020-01-19\", \"2020-01-20\", \"2020-01-21\", \"2020-01-22\", \"2020-01-23\", \"2020-01-24\", \"2020-01-25\", \"2020-01-26\", \"2020-01-27\", \"2020-01-28\", \"2020-01-29\", \"2020-01-30\", \"2020-01-31\", \"2020-02-01\", \"2020-02-02\", \"2020-02-03\", \"2020-02-04\", \"2020-02-05\", \"2020-02-06\", \"2020-02-07\", \"2020-02-08\", \"2020-02-09\", \"2020-02-10\", \"2020-02-11\", \"2020-02-12\", \"2020-02-13\", \"2020-02-14\", \"2020-02-15\", \"2020-02-16\", \"2020-02-17\", \"2020-02-18\", \"2020-02-19\", \"2020-02-20\", \"2020-02-21\", \"2020-02-22\", \"2020-02-23\", \"2020-02-24\", \"2020-02-25\", \"2020-02-26\", \"2020-02-27\", \"2020-02-28\", \"2020-02-29\", \"2020-03-01\", \"2020-03-02\", \"2020-03-03\", \"2020-03-04\", \"2020-03-05\", \"2020-03-06\", \"2020-03-29\", \"2020-03-30\", \"2020-03-31\", \"2020-04-01\", \"2020-04-02\", \"2020-04-03\", \"2020-04-04\", \"2020-04-05\", \"2020-04-06\", \"2020-04-07\", \"2020-04-08\", \"2020-04-09\", \"2020-04-10\", \"2020-04-11\", \"2020-04-12\", \"2020-04-13\", \"2020-04-14\", \"2020-04-15\", \"2020-04-16\", \"2020-04-17\", \"2020-04-18\", \"2020-04-19\", \"2020-04-20\", \"2020-04-21\", \"2020-04-22\", \"2020-04-23\", \"2020-04-24\", \"2020-04-25\", \"2020-04-26\", \"2020-04-27\", \"2020-04-28\", \"2020-04-29\", \"2020-04-30\", \"2020-05-01\", \"2020-05-02\", \"2020-05-03\", \"2020-05-04\", \"2020-05-05\", \"2020-05-06\", \"2020-05-07\", \"2020-05-08\", \"2020-05-09\", \"2020-05-10\", \"2020-05-11\", \"2020-05-12\", \"2020-05-13\", \"2020-05-14\", \"2020-05-15\", \"2020-05-16\", \"2020-05-17\", \"2020-05-18\", \"2020-05-19\", \"2020-05-20\", \"2020-05-21\", \"2020-05-22\", \"2020-05-23\", \"2020-05-24\", \"2020-05-25\", \"2020-05-26\", \"2020-05-27\", \"2020-05-28\", \"2020-05-29\", \"2020-05-30\", \"2020-05-31\", \"2020-06-01\", \"2020-06-02\", \"2020-06-03\", \"2020-06-04\", \"2020-06-05\"], \"xaxis\": \"x\", \"y\": [72, 79, 93, 102, 99, 102, 99, 99, 99, 99, 99, 99, 99, 99, 99, 99, 99, 99, 99, 99, 99, 99, 99, 91, 75, 75, 75, 75, 57, 55, 75, 75, 64, 68, 48, 43, 54, 79, 96, 91, 94, 94, 92, 93, 96, 96, 94, 93, 96, 95, 94, 92, 92, 104, 113, 118, 121, 121, 120, 144, 144, 143, 131, 132, 119, 116, 119, 46, 86, 102, 85, 102, 102, 103, 102, 80, 81, 78, 78, 79, 78, 78, 72, 79, 78, 78, 78, 76, 68, 72, 78, 77, 75, 78, 75, 75, 55, 51, 51, 38, 31, 27, 27, 24, 27, 27, 27, 27, 27, 27, 24, 35, 53, 51, 51, 50, 51, 48, 51, 51, 51, 51, 50, 51, 48, 65, 84, 78, 75, 78, 78, 70, 72, 72, 72, 72, 30], \"yaxis\": \"y\"}],\n",
       "                        {\"legend\": {\"tracegroupgap\": 0}, \"template\": {\"data\": {\"bar\": [{\"error_x\": {\"color\": \"#2a3f5f\"}, \"error_y\": {\"color\": \"#2a3f5f\"}, \"marker\": {\"line\": {\"color\": \"#E5ECF6\", \"width\": 0.5}}, \"type\": \"bar\"}], \"barpolar\": [{\"marker\": {\"line\": {\"color\": \"#E5ECF6\", \"width\": 0.5}}, \"type\": \"barpolar\"}], \"carpet\": [{\"aaxis\": {\"endlinecolor\": \"#2a3f5f\", \"gridcolor\": \"white\", \"linecolor\": \"white\", \"minorgridcolor\": \"white\", \"startlinecolor\": \"#2a3f5f\"}, \"baxis\": {\"endlinecolor\": \"#2a3f5f\", \"gridcolor\": \"white\", \"linecolor\": \"white\", \"minorgridcolor\": \"white\", \"startlinecolor\": \"#2a3f5f\"}, \"type\": \"carpet\"}], \"choropleth\": [{\"colorbar\": {\"outlinewidth\": 0, \"ticks\": \"\"}, \"type\": \"choropleth\"}], \"contour\": [{\"colorbar\": {\"outlinewidth\": 0, \"ticks\": \"\"}, \"colorscale\": [[0.0, \"#0d0887\"], [0.1111111111111111, \"#46039f\"], [0.2222222222222222, \"#7201a8\"], [0.3333333333333333, \"#9c179e\"], [0.4444444444444444, \"#bd3786\"], [0.5555555555555556, \"#d8576b\"], [0.6666666666666666, \"#ed7953\"], [0.7777777777777778, \"#fb9f3a\"], [0.8888888888888888, \"#fdca26\"], [1.0, \"#f0f921\"]], \"type\": \"contour\"}], \"contourcarpet\": [{\"colorbar\": {\"outlinewidth\": 0, \"ticks\": \"\"}, \"type\": \"contourcarpet\"}], \"heatmap\": [{\"colorbar\": {\"outlinewidth\": 0, \"ticks\": \"\"}, \"colorscale\": [[0.0, \"#0d0887\"], [0.1111111111111111, \"#46039f\"], [0.2222222222222222, \"#7201a8\"], [0.3333333333333333, \"#9c179e\"], [0.4444444444444444, \"#bd3786\"], [0.5555555555555556, \"#d8576b\"], [0.6666666666666666, \"#ed7953\"], [0.7777777777777778, \"#fb9f3a\"], [0.8888888888888888, \"#fdca26\"], [1.0, \"#f0f921\"]], \"type\": \"heatmap\"}], \"heatmapgl\": [{\"colorbar\": {\"outlinewidth\": 0, \"ticks\": \"\"}, \"colorscale\": [[0.0, \"#0d0887\"], [0.1111111111111111, \"#46039f\"], [0.2222222222222222, \"#7201a8\"], [0.3333333333333333, \"#9c179e\"], [0.4444444444444444, \"#bd3786\"], [0.5555555555555556, \"#d8576b\"], [0.6666666666666666, \"#ed7953\"], [0.7777777777777778, \"#fb9f3a\"], [0.8888888888888888, \"#fdca26\"], [1.0, \"#f0f921\"]], \"type\": \"heatmapgl\"}], \"histogram\": [{\"marker\": {\"colorbar\": {\"outlinewidth\": 0, \"ticks\": \"\"}}, \"type\": \"histogram\"}], \"histogram2d\": [{\"colorbar\": {\"outlinewidth\": 0, \"ticks\": \"\"}, \"colorscale\": [[0.0, \"#0d0887\"], [0.1111111111111111, \"#46039f\"], [0.2222222222222222, \"#7201a8\"], [0.3333333333333333, \"#9c179e\"], [0.4444444444444444, \"#bd3786\"], [0.5555555555555556, \"#d8576b\"], [0.6666666666666666, \"#ed7953\"], [0.7777777777777778, \"#fb9f3a\"], [0.8888888888888888, \"#fdca26\"], [1.0, \"#f0f921\"]], \"type\": \"histogram2d\"}], \"histogram2dcontour\": [{\"colorbar\": {\"outlinewidth\": 0, \"ticks\": \"\"}, \"colorscale\": [[0.0, \"#0d0887\"], [0.1111111111111111, \"#46039f\"], [0.2222222222222222, \"#7201a8\"], [0.3333333333333333, \"#9c179e\"], [0.4444444444444444, \"#bd3786\"], [0.5555555555555556, \"#d8576b\"], [0.6666666666666666, \"#ed7953\"], [0.7777777777777778, \"#fb9f3a\"], [0.8888888888888888, \"#fdca26\"], [1.0, \"#f0f921\"]], \"type\": \"histogram2dcontour\"}], \"mesh3d\": [{\"colorbar\": {\"outlinewidth\": 0, \"ticks\": \"\"}, \"type\": \"mesh3d\"}], \"parcoords\": [{\"line\": {\"colorbar\": {\"outlinewidth\": 0, \"ticks\": \"\"}}, \"type\": \"parcoords\"}], \"pie\": [{\"automargin\": true, \"type\": \"pie\"}], \"scatter\": [{\"marker\": {\"colorbar\": {\"outlinewidth\": 0, \"ticks\": \"\"}}, \"type\": \"scatter\"}], \"scatter3d\": [{\"line\": {\"colorbar\": {\"outlinewidth\": 0, \"ticks\": \"\"}}, \"marker\": {\"colorbar\": {\"outlinewidth\": 0, \"ticks\": \"\"}}, \"type\": \"scatter3d\"}], \"scattercarpet\": [{\"marker\": {\"colorbar\": {\"outlinewidth\": 0, \"ticks\": \"\"}}, \"type\": \"scattercarpet\"}], \"scattergeo\": [{\"marker\": {\"colorbar\": {\"outlinewidth\": 0, \"ticks\": \"\"}}, \"type\": \"scattergeo\"}], \"scattergl\": [{\"marker\": {\"colorbar\": {\"outlinewidth\": 0, \"ticks\": \"\"}}, \"type\": \"scattergl\"}], \"scattermapbox\": [{\"marker\": {\"colorbar\": {\"outlinewidth\": 0, \"ticks\": \"\"}}, \"type\": \"scattermapbox\"}], \"scatterpolar\": [{\"marker\": {\"colorbar\": {\"outlinewidth\": 0, \"ticks\": \"\"}}, \"type\": \"scatterpolar\"}], \"scatterpolargl\": [{\"marker\": {\"colorbar\": {\"outlinewidth\": 0, \"ticks\": \"\"}}, \"type\": \"scatterpolargl\"}], \"scatterternary\": [{\"marker\": {\"colorbar\": {\"outlinewidth\": 0, \"ticks\": \"\"}}, \"type\": \"scatterternary\"}], \"surface\": [{\"colorbar\": {\"outlinewidth\": 0, \"ticks\": \"\"}, \"colorscale\": [[0.0, \"#0d0887\"], [0.1111111111111111, \"#46039f\"], [0.2222222222222222, \"#7201a8\"], [0.3333333333333333, \"#9c179e\"], [0.4444444444444444, \"#bd3786\"], [0.5555555555555556, \"#d8576b\"], [0.6666666666666666, \"#ed7953\"], [0.7777777777777778, \"#fb9f3a\"], [0.8888888888888888, \"#fdca26\"], [1.0, \"#f0f921\"]], \"type\": \"surface\"}], \"table\": [{\"cells\": {\"fill\": {\"color\": \"#EBF0F8\"}, \"line\": {\"color\": \"white\"}}, \"header\": {\"fill\": {\"color\": \"#C8D4E3\"}, \"line\": {\"color\": \"white\"}}, \"type\": \"table\"}]}, \"layout\": {\"annotationdefaults\": {\"arrowcolor\": \"#2a3f5f\", \"arrowhead\": 0, \"arrowwidth\": 1}, \"coloraxis\": {\"colorbar\": {\"outlinewidth\": 0, \"ticks\": \"\"}}, \"colorscale\": {\"diverging\": [[0, \"#8e0152\"], [0.1, \"#c51b7d\"], [0.2, \"#de77ae\"], [0.3, \"#f1b6da\"], [0.4, \"#fde0ef\"], [0.5, \"#f7f7f7\"], [0.6, \"#e6f5d0\"], [0.7, \"#b8e186\"], [0.8, \"#7fbc41\"], [0.9, \"#4d9221\"], [1, \"#276419\"]], \"sequential\": [[0.0, \"#0d0887\"], [0.1111111111111111, \"#46039f\"], [0.2222222222222222, \"#7201a8\"], [0.3333333333333333, \"#9c179e\"], [0.4444444444444444, \"#bd3786\"], [0.5555555555555556, \"#d8576b\"], [0.6666666666666666, \"#ed7953\"], [0.7777777777777778, \"#fb9f3a\"], [0.8888888888888888, \"#fdca26\"], [1.0, \"#f0f921\"]], \"sequentialminus\": [[0.0, \"#0d0887\"], [0.1111111111111111, \"#46039f\"], [0.2222222222222222, \"#7201a8\"], [0.3333333333333333, \"#9c179e\"], [0.4444444444444444, \"#bd3786\"], [0.5555555555555556, \"#d8576b\"], [0.6666666666666666, \"#ed7953\"], [0.7777777777777778, \"#fb9f3a\"], [0.8888888888888888, \"#fdca26\"], [1.0, \"#f0f921\"]]}, \"colorway\": [\"#636efa\", \"#EF553B\", \"#00cc96\", \"#ab63fa\", \"#FFA15A\", \"#19d3f3\", \"#FF6692\", \"#B6E880\", \"#FF97FF\", \"#FECB52\"], \"font\": {\"color\": \"#2a3f5f\"}, \"geo\": {\"bgcolor\": \"white\", \"lakecolor\": \"white\", \"landcolor\": \"#E5ECF6\", \"showlakes\": true, \"showland\": true, \"subunitcolor\": \"white\"}, \"hoverlabel\": {\"align\": \"left\"}, \"hovermode\": \"closest\", \"mapbox\": {\"style\": \"light\"}, \"paper_bgcolor\": \"white\", \"plot_bgcolor\": \"#E5ECF6\", \"polar\": {\"angularaxis\": {\"gridcolor\": \"white\", \"linecolor\": \"white\", \"ticks\": \"\"}, \"bgcolor\": \"#E5ECF6\", \"radialaxis\": {\"gridcolor\": \"white\", \"linecolor\": \"white\", \"ticks\": \"\"}}, \"scene\": {\"xaxis\": {\"backgroundcolor\": \"#E5ECF6\", \"gridcolor\": \"white\", \"gridwidth\": 2, \"linecolor\": \"white\", \"showbackground\": true, \"ticks\": \"\", \"zerolinecolor\": \"white\"}, \"yaxis\": {\"backgroundcolor\": \"#E5ECF6\", \"gridcolor\": \"white\", \"gridwidth\": 2, \"linecolor\": \"white\", \"showbackground\": true, \"ticks\": \"\", \"zerolinecolor\": \"white\"}, \"zaxis\": {\"backgroundcolor\": \"#E5ECF6\", \"gridcolor\": \"white\", \"gridwidth\": 2, \"linecolor\": \"white\", \"showbackground\": true, \"ticks\": \"\", \"zerolinecolor\": \"white\"}}, \"shapedefaults\": {\"line\": {\"color\": \"#2a3f5f\"}}, \"ternary\": {\"aaxis\": {\"gridcolor\": \"white\", \"linecolor\": \"white\", \"ticks\": \"\"}, \"baxis\": {\"gridcolor\": \"white\", \"linecolor\": \"white\", \"ticks\": \"\"}, \"bgcolor\": \"#E5ECF6\", \"caxis\": {\"gridcolor\": \"white\", \"linecolor\": \"white\", \"ticks\": \"\"}}, \"title\": {\"x\": 0.05}, \"xaxis\": {\"automargin\": true, \"gridcolor\": \"white\", \"linecolor\": \"white\", \"ticks\": \"\", \"title\": {\"standoff\": 15}, \"zerolinecolor\": \"white\", \"zerolinewidth\": 2}, \"yaxis\": {\"automargin\": true, \"gridcolor\": \"white\", \"linecolor\": \"white\", \"ticks\": \"\", \"title\": {\"standoff\": 15}, \"zerolinecolor\": \"white\", \"zerolinewidth\": 2}}}, \"title\": {\"text\": \"VALORES PARA CO POR FECHA\"}, \"xaxis\": {\"anchor\": \"y\", \"domain\": [0.0, 1.0], \"title\": {\"text\": \"Date\"}}, \"yaxis\": {\"anchor\": \"x\", \"domain\": [0.0, 1.0], \"title\": {\"text\": \"count\"}}},\n",
       "                        {\"responsive\": true}\n",
       "                    ).then(function(){\n",
       "                            \n",
       "var gd = document.getElementById('8a0530aa-4ee1-4aeb-837b-61c19cef596d');\n",
       "var x = new MutationObserver(function (mutations, observer) {{\n",
       "        var display = window.getComputedStyle(gd).display;\n",
       "        if (!display || display === 'none') {{\n",
       "            console.log([gd, 'removed!']);\n",
       "            Plotly.purge(gd);\n",
       "            observer.disconnect();\n",
       "        }}\n",
       "}});\n",
       "\n",
       "// Listen for the removal of the full notebook cells\n",
       "var notebookContainer = gd.closest('#notebook-container');\n",
       "if (notebookContainer) {{\n",
       "    x.observe(notebookContainer, {childList: true});\n",
       "}}\n",
       "\n",
       "// Listen for the clearing of the current output cell\n",
       "var outputEl = gd.closest('.output');\n",
       "if (outputEl) {{\n",
       "    x.observe(outputEl, {childList: true});\n",
       "}}\n",
       "\n",
       "                        })\n",
       "                };\n",
       "                });\n",
       "            </script>\n",
       "        </div>"
      ]
     },
     "metadata": {},
     "output_type": "display_data"
    }
   ],
   "source": [
    "fig2 = px.line(PEcopa,x='Date',y='count',title=\"VALORES PARA CO POR FECHA\")\n",
    "fig2.show()"
   ]
  },
  {
   "cell_type": "markdown",
   "metadata": {},
   "source": [
    "Se puede apreciar que los dias de cuarentena hubo una disminución en la concentración de CO en Lima. Se aprecia un incremento que coincide nuevamente con la extensión de los días de cuarentena, sin embargo hay una disminución apreciable en la concentración, el pico minimo es de 24 ppm."
   ]
  },
  {
   "cell_type": "markdown",
   "metadata": {},
   "source": [
    "# O3\n",
    "La mayor parte del ozono presente en la atmósfera, entorno a un 90%, se encuentra en la estratosfera. Cuando se forma en la baja troposfera (capa más baja de la atmósfera) se denomina ozono troposférico y se considera un contaminante secundario de origen fotoquímico, pudiendo originar problemas en la salud, sobre todo en ciertos sectores sensibles, causando irritación en los ojos, nariz y garganta. Así, se han establecido relaciones entre la frecuencia de crisis de asma y los días de concentraciones elevadas de ozono y otros oxidantes fotoquímicos pues, al parecer, provoca una disminución de las funciones pulmonares. Los daños que provoca son extensibles también a la vegetación y a los materiales.\n",
    "\n",
    "https://www.troposfera.org/conceptos/contaminantes-quimicos-de-la-atmosfera/Ozono/"
   ]
  },
  {
   "cell_type": "code",
   "execution_count": 240,
   "metadata": {},
   "outputs": [
    {
     "name": "stdout",
     "output_type": "stream",
     "text": [
      "root\n",
      " |-- Date: date (nullable = true)\n",
      " |-- Country: string (nullable = true)\n",
      " |-- City: string (nullable = true)\n",
      " |-- Specie: string (nullable = true)\n",
      " |-- count: integer (nullable = true)\n",
      " |-- min: double (nullable = true)\n",
      " |-- max: double (nullable = true)\n",
      " |-- median: double (nullable = true)\n",
      " |-- variance: double (nullable = true)\n",
      "\n"
     ]
    }
   ],
   "source": [
    "PEo3 = df.filter((df.Country == 'PE') & (df.Specie == 'o3'))\n",
    "PEo3 = PEo3.withColumn(\"Date\", PEo3[\"Date\"].cast(DateType()))\n",
    "PEo3.printSchema()"
   ]
  },
  {
   "cell_type": "code",
   "execution_count": 241,
   "metadata": {},
   "outputs": [
    {
     "name": "stdout",
     "output_type": "stream",
     "text": [
      "+----------+-------+----+------+-----+---+-----+------+--------+\n",
      "|Date      |Country|City|Specie|count|min|max  |median|variance|\n",
      "+----------+-------+----+------+-----+---+-----+------+--------+\n",
      "|2019-12-30|PE     |Lima|o3    |48   |0.1|11.8 |3.1   |100.17  |\n",
      "|2019-12-31|PE     |Lima|o3    |55   |0.2|11.3 |4.1   |121.03  |\n",
      "|2020-01-01|PE     |Lima|o3    |70   |0.1|21.5 |3.9   |279.96  |\n",
      "|2020-01-02|PE     |Lima|o3    |72   |0.3|12.9 |3.9   |89.67   |\n",
      "|2020-01-03|PE     |Lima|o3    |69   |0.4|12.0 |4.8   |117.29  |\n",
      "|2020-01-04|PE     |Lima|o3    |83   |0.3|25.5 |6.0   |456.93  |\n",
      "|2020-01-05|PE     |Lima|o3    |96   |0.3|28.9 |7.2   |625.68  |\n",
      "|2020-01-06|PE     |Lima|o3    |96   |0.3|27.2 |6.9   |606.24  |\n",
      "|2020-01-07|PE     |Lima|o3    |96   |0.1|26.4 |6.4   |563.54  |\n",
      "|2020-01-08|PE     |Lima|o3    |96   |0.3|24.1 |5.4   |549.51  |\n",
      "|2020-01-09|PE     |Lima|o3    |96   |0.2|25.8 |5.3   |555.28  |\n",
      "|2020-01-10|PE     |Lima|o3    |95   |0.4|25.0 |5.0   |524.06  |\n",
      "|2020-01-11|PE     |Lima|o3    |96   |0.6|30.7 |7.9   |671.91  |\n",
      "|2020-01-12|PE     |Lima|o3    |96   |0.5|33.8 |9.8   |768.29  |\n",
      "|2020-01-13|PE     |Lima|o3    |96   |0.2|29.5 |8.3   |724.36  |\n",
      "|2020-01-14|PE     |Lima|o3    |96   |0.1|29.3 |7.4   |750.76  |\n",
      "|2020-01-15|PE     |Lima|o3    |80   |0.2|25.7 |5.9   |450.53  |\n",
      "|2020-01-16|PE     |Lima|o3    |72   |0.2|20.5 |5.9   |275.84  |\n",
      "|2020-01-17|PE     |Lima|o3    |72   |0.2|17.7 |7.3   |199.33  |\n",
      "|2020-01-18|PE     |Lima|o3    |72   |0.3|12.6 |6.3   |154.06  |\n",
      "|2020-01-19|PE     |Lima|o3    |72   |0.3|26.6 |6.1   |357.16  |\n",
      "|2020-01-20|PE     |Lima|o3    |72   |0.2|15.8 |5.2   |155.95  |\n",
      "|2020-01-21|PE     |Lima|o3    |68   |0.1|15.6 |4.4   |182.54  |\n",
      "|2020-01-22|PE     |Lima|o3    |82   |0.1|23.0 |4.1   |330.88  |\n",
      "|2020-01-23|PE     |Lima|o3    |92   |0.1|46.3 |5.6   |1339.79 |\n",
      "|2020-01-24|PE     |Lima|o3    |94   |0.1|32.4 |5.0   |778.63  |\n",
      "|2020-01-25|PE     |Lima|o3    |96   |0.1|38.3 |6.4   |983.34  |\n",
      "|2020-01-26|PE     |Lima|o3    |96   |0.1|32.7 |6.3   |999.4   |\n",
      "|2020-01-27|PE     |Lima|o3    |96   |0.3|28.8 |5.4   |820.67  |\n",
      "|2020-01-28|PE     |Lima|o3    |96   |0.1|48.1 |3.8   |1177.69 |\n",
      "|2020-01-29|PE     |Lima|o3    |95   |0.1|24.5 |5.0   |632.99  |\n",
      "|2020-01-30|PE     |Lima|o3    |96   |0.2|25.4 |5.8   |647.9   |\n",
      "|2020-01-31|PE     |Lima|o3    |88   |0.3|25.4 |5.9   |615.72  |\n",
      "|2020-02-01|PE     |Lima|o3    |96   |0.4|28.5 |5.9   |722.21  |\n",
      "|2020-02-02|PE     |Lima|o3    |96   |0.3|33.2 |5.9   |963.49  |\n",
      "|2020-02-03|PE     |Lima|o3    |89   |0.4|28.0 |5.9   |766.58  |\n",
      "|2020-02-04|PE     |Lima|o3    |96   |0.4|27.6 |6.0   |761.27  |\n",
      "|2020-02-05|PE     |Lima|o3    |96   |0.5|34.1 |5.9   |820.88  |\n",
      "|2020-02-06|PE     |Lima|o3    |96   |0.2|29.4 |5.8   |789.39  |\n",
      "|2020-02-07|PE     |Lima|o3    |98   |0.1|27.9 |4.7   |751.81  |\n",
      "|2020-02-08|PE     |Lima|o3    |102  |0.1|33.7 |5.0   |859.75  |\n",
      "|2020-02-09|PE     |Lima|o3    |94   |0.1|31.6 |5.7   |858.66  |\n",
      "|2020-02-10|PE     |Lima|o3    |68   |0.1|26.4 |5.4   |758.33  |\n",
      "|2020-02-11|PE     |Lima|o3    |61   |0.1|208.8|2.9   |8584.26 |\n",
      "|2020-02-12|PE     |Lima|o3    |77   |0.1|14.7 |4.1   |119.48  |\n",
      "|2020-02-13|PE     |Lima|o3    |80   |0.1|19.3 |4.0   |198.08  |\n",
      "|2020-02-14|PE     |Lima|o3    |80   |0.1|23.7 |2.7   |179.04  |\n",
      "|2020-02-15|PE     |Lima|o3    |78   |0.1|13.3 |3.3   |116.02  |\n",
      "|2020-02-16|PE     |Lima|o3    |80   |0.1|14.4 |3.5   |135.14  |\n",
      "|2020-02-17|PE     |Lima|o3    |79   |0.1|13.0 |3.7   |129.43  |\n",
      "|2020-02-18|PE     |Lima|o3    |78   |0.1|19.0 |3.7   |128.95  |\n",
      "|2020-02-19|PE     |Lima|o3    |79   |0.1|17.8 |4.2   |158.81  |\n",
      "|2020-02-20|PE     |Lima|o3    |71   |0.1|21.4 |4.4   |145.01  |\n",
      "|2020-02-21|PE     |Lima|o3    |62   |0.1|14.0 |3.3   |112.16  |\n",
      "|2020-02-22|PE     |Lima|o3    |59   |0.1|12.4 |3.5   |115.21  |\n",
      "|2020-02-23|PE     |Lima|o3    |59   |0.1|13.9 |3.1   |157.08  |\n",
      "|2020-02-24|PE     |Lima|o3    |63   |0.1|8.4  |2.8   |52.45   |\n",
      "|2020-02-25|PE     |Lima|o3    |60   |0.1|9.8  |3.8   |77.39   |\n",
      "|2020-02-26|PE     |Lima|o3    |53   |0.1|8.3  |3.0   |51.21   |\n",
      "|2020-02-27|PE     |Lima|o3    |61   |0.1|16.3 |3.1   |144.81  |\n",
      "|2020-02-28|PE     |Lima|o3    |59   |0.1|8.3  |3.3   |59.04   |\n",
      "|2020-02-29|PE     |Lima|o3    |62   |0.1|9.5  |2.7   |73.22   |\n",
      "|2020-03-01|PE     |Lima|o3    |57   |0.1|9.5  |2.8   |60.61   |\n",
      "|2020-03-02|PE     |Lima|o3    |59   |0.1|8.7  |2.6   |56.36   |\n",
      "|2020-03-03|PE     |Lima|o3    |59   |0.1|11.0 |3.4   |68.03   |\n",
      "|2020-03-04|PE     |Lima|o3    |61   |0.1|12.9 |4.1   |107.41  |\n",
      "|2020-03-05|PE     |Lima|o3    |61   |0.1|16.1 |3.4   |163.22  |\n",
      "|2020-03-06|PE     |Lima|o3    |20   |0.2|5.7  |1.0   |37.83   |\n",
      "|2020-03-29|PE     |Lima|o3    |59   |0.1|29.1 |5.2   |1001.21 |\n",
      "|2020-03-30|PE     |Lima|o3    |66   |0.1|29.1 |6.9   |1052.26 |\n",
      "|2020-03-31|PE     |Lima|o3    |54   |0.1|29.6 |5.7   |1033.83 |\n",
      "|2020-04-01|PE     |Lima|o3    |67   |0.1|34.1 |7.0   |1221.29 |\n",
      "|2020-04-02|PE     |Lima|o3    |71   |0.1|33.2 |7.3   |1053.63 |\n",
      "|2020-04-03|PE     |Lima|o3    |72   |0.1|29.9 |4.9   |1052.05 |\n",
      "|2020-04-04|PE     |Lima|o3    |75   |0.1|32.5 |5.7   |1253.58 |\n",
      "|2020-04-05|PE     |Lima|o3    |60   |0.1|29.8 |5.8   |1233.27 |\n",
      "|2020-04-06|PE     |Lima|o3    |75   |0.1|30.1 |4.9   |1137.27 |\n",
      "|2020-04-07|PE     |Lima|o3    |66   |0.1|30.2 |8.0   |1012.15 |\n",
      "|2020-04-08|PE     |Lima|o3    |68   |0.1|26.7 |4.1   |946.35  |\n",
      "|2020-04-09|PE     |Lima|o3    |68   |0.1|24.8 |5.6   |919.35  |\n",
      "|2020-04-10|PE     |Lima|o3    |72   |0.1|31.5 |5.0   |970.01  |\n",
      "|2020-04-11|PE     |Lima|o3    |75   |0.1|38.0 |4.5   |1331.61 |\n",
      "|2020-04-12|PE     |Lima|o3    |72   |0.1|28.0 |5.2   |1084.72 |\n",
      "|2020-04-13|PE     |Lima|o3    |67   |0.1|30.3 |4.8   |1088.55 |\n",
      "|2020-04-14|PE     |Lima|o3    |68   |0.1|33.0 |4.5   |943.93  |\n",
      "|2020-04-15|PE     |Lima|o3    |70   |0.1|30.7 |4.6   |1076.1  |\n",
      "|2020-04-16|PE     |Lima|o3    |69   |0.1|27.2 |3.7   |1013.77 |\n",
      "|2020-04-17|PE     |Lima|o3    |67   |0.1|26.1 |6.2   |1120.58 |\n",
      "|2020-04-18|PE     |Lima|o3    |63   |0.1|36.4 |4.3   |1308.35 |\n",
      "|2020-04-19|PE     |Lima|o3    |70   |0.1|31.7 |7.0   |1175.23 |\n",
      "|2020-04-20|PE     |Lima|o3    |69   |0.1|25.4 |4.6   |930.51  |\n",
      "|2020-04-21|PE     |Lima|o3    |74   |0.1|27.6 |5.4   |1123.59 |\n",
      "|2020-04-22|PE     |Lima|o3    |75   |0.1|28.0 |5.2   |1163.07 |\n",
      "|2020-04-23|PE     |Lima|o3    |72   |0.1|27.1 |4.9   |1063.27 |\n",
      "|2020-04-24|PE     |Lima|o3    |72   |0.1|27.8 |4.2   |1113.34 |\n",
      "|2020-04-25|PE     |Lima|o3    |70   |0.1|30.0 |4.7   |1046.42 |\n",
      "|2020-04-26|PE     |Lima|o3    |50   |0.1|27.6 |6.7   |1052.82 |\n",
      "|2020-04-27|PE     |Lima|o3    |51   |0.7|26.9 |7.8   |1201.76 |\n",
      "|2020-04-28|PE     |Lima|o3    |51   |0.9|30.2 |5.3   |1218.88 |\n",
      "|2020-04-29|PE     |Lima|o3    |51   |0.7|29.0 |4.1   |1154.65 |\n",
      "|2020-04-30|PE     |Lima|o3    |51   |0.5|34.9 |9.2   |1262.67 |\n",
      "|2020-05-01|PE     |Lima|o3    |51   |0.7|35.1 |8.7   |1604.89 |\n",
      "|2020-05-02|PE     |Lima|o3    |51   |0.8|32.6 |10.0  |1401.64 |\n",
      "|2020-05-03|PE     |Lima|o3    |48   |1.0|36.2 |8.4   |1449.19 |\n",
      "|2020-05-04|PE     |Lima|o3    |51   |0.9|31.3 |5.4   |1117.0  |\n",
      "|2020-05-05|PE     |Lima|o3    |51   |0.8|29.0 |5.5   |1061.02 |\n",
      "|2020-05-06|PE     |Lima|o3    |51   |0.7|34.7 |8.8   |1169.85 |\n",
      "|2020-05-07|PE     |Lima|o3    |51   |0.6|32.4 |7.6   |1120.16 |\n",
      "|2020-05-08|PE     |Lima|o3    |51   |0.7|34.3 |6.1   |1146.29 |\n",
      "|2020-05-09|PE     |Lima|o3    |51   |0.7|25.2 |2.9   |1159.74 |\n",
      "|2020-05-10|PE     |Lima|o3    |48   |1.3|25.4 |4.2   |1087.34 |\n",
      "|2020-05-11|PE     |Lima|o3    |51   |0.9|29.7 |4.1   |1151.99 |\n",
      "|2020-05-12|PE     |Lima|o3    |54   |0.1|31.2 |5.3   |1188.63 |\n",
      "|2020-05-13|PE     |Lima|o3    |63   |0.1|30.9 |4.8   |1037.47 |\n",
      "|2020-05-14|PE     |Lima|o3    |65   |0.1|28.5 |4.1   |1079.47 |\n",
      "|2020-05-15|PE     |Lima|o3    |67   |0.1|32.7 |2.4   |1213.64 |\n",
      "|2020-05-16|PE     |Lima|o3    |75   |0.1|29.9 |3.4   |1430.33 |\n",
      "|2020-05-17|PE     |Lima|o3    |72   |0.4|32.6 |4.7   |1548.28 |\n",
      "|2020-05-18|PE     |Lima|o3    |71   |0.1|32.2 |3.1   |1479.94 |\n",
      "|2020-05-19|PE     |Lima|o3    |71   |0.1|29.8 |2.6   |1521.41 |\n",
      "|2020-05-20|PE     |Lima|o3    |66   |0.1|30.7 |3.5   |1444.6  |\n",
      "|2020-05-21|PE     |Lima|o3    |75   |0.1|32.3 |2.9   |1532.72 |\n",
      "|2020-05-22|PE     |Lima|o3    |74   |0.1|30.4 |3.1   |1450.18 |\n",
      "|2020-05-23|PE     |Lima|o3    |75   |0.1|32.8 |3.0   |1393.75 |\n",
      "|2020-05-24|PE     |Lima|o3    |72   |0.1|45.3 |8.1   |2199.95 |\n",
      "|2020-05-25|PE     |Lima|o3    |75   |0.1|38.8 |4.9   |2067.13 |\n",
      "|2020-05-26|PE     |Lima|o3    |82   |0.1|42.2 |4.5   |1859.03 |\n",
      "|2020-05-27|PE     |Lima|o3    |96   |0.1|41.0 |4.6   |1634.77 |\n",
      "|2020-05-28|PE     |Lima|o3    |95   |0.1|38.7 |3.5   |1404.98 |\n",
      "|2020-05-29|PE     |Lima|o3    |89   |0.1|36.1 |3.9   |1264.97 |\n",
      "|2020-05-30|PE     |Lima|o3    |90   |0.1|32.6 |3.9   |1140.19 |\n",
      "|2020-05-31|PE     |Lima|o3    |92   |0.1|29.5 |3.7   |1191.68 |\n",
      "|2020-06-01|PE     |Lima|o3    |87   |0.1|27.9 |3.2   |1088.97 |\n",
      "|2020-06-02|PE     |Lima|o3    |79   |0.1|29.6 |1.9   |876.38  |\n",
      "|2020-06-03|PE     |Lima|o3    |83   |0.1|31.6 |2.8   |1143.8  |\n",
      "|2020-06-04|PE     |Lima|o3    |93   |0.1|32.4 |3.2   |1180.61 |\n",
      "|2020-06-05|PE     |Lima|o3    |57   |0.1|39.9 |4.5   |1309.09 |\n",
      "+----------+-------+----+------+-----+---+-----+------+--------+\n",
      "\n"
     ]
    }
   ],
   "source": [
    "PEo3 = PEo3.orderBy('Date').filter((df.Country == 'PE') & (df.Specie == 'o3'))\n",
    "PEo3.show(PEo3.count(), truncate=False)"
   ]
  },
  {
   "cell_type": "code",
   "execution_count": 242,
   "metadata": {},
   "outputs": [
    {
     "data": {
      "text/html": [
       "<div>\n",
       "<style scoped>\n",
       "    .dataframe tbody tr th:only-of-type {\n",
       "        vertical-align: middle;\n",
       "    }\n",
       "\n",
       "    .dataframe tbody tr th {\n",
       "        vertical-align: top;\n",
       "    }\n",
       "\n",
       "    .dataframe thead th {\n",
       "        text-align: right;\n",
       "    }\n",
       "</style>\n",
       "<table border=\"1\" class=\"dataframe\">\n",
       "  <thead>\n",
       "    <tr style=\"text-align: right;\">\n",
       "      <th></th>\n",
       "      <th>0</th>\n",
       "      <th>1</th>\n",
       "      <th>2</th>\n",
       "      <th>3</th>\n",
       "      <th>4</th>\n",
       "      <th>5</th>\n",
       "      <th>6</th>\n",
       "      <th>7</th>\n",
       "      <th>8</th>\n",
       "      <th>9</th>\n",
       "      <th>...</th>\n",
       "      <th>127</th>\n",
       "      <th>128</th>\n",
       "      <th>129</th>\n",
       "      <th>130</th>\n",
       "      <th>131</th>\n",
       "      <th>132</th>\n",
       "      <th>133</th>\n",
       "      <th>134</th>\n",
       "      <th>135</th>\n",
       "      <th>136</th>\n",
       "    </tr>\n",
       "  </thead>\n",
       "  <tbody>\n",
       "    <tr>\n",
       "      <th>Date</th>\n",
       "      <td>2019-12-30</td>\n",
       "      <td>2019-12-31</td>\n",
       "      <td>2020-01-01</td>\n",
       "      <td>2020-01-02</td>\n",
       "      <td>2020-01-03</td>\n",
       "      <td>2020-01-04</td>\n",
       "      <td>2020-01-05</td>\n",
       "      <td>2020-01-06</td>\n",
       "      <td>2020-01-07</td>\n",
       "      <td>2020-01-08</td>\n",
       "      <td>...</td>\n",
       "      <td>2020-05-27</td>\n",
       "      <td>2020-05-28</td>\n",
       "      <td>2020-05-29</td>\n",
       "      <td>2020-05-30</td>\n",
       "      <td>2020-05-31</td>\n",
       "      <td>2020-06-01</td>\n",
       "      <td>2020-06-02</td>\n",
       "      <td>2020-06-03</td>\n",
       "      <td>2020-06-04</td>\n",
       "      <td>2020-06-05</td>\n",
       "    </tr>\n",
       "    <tr>\n",
       "      <th>count</th>\n",
       "      <td>48</td>\n",
       "      <td>55</td>\n",
       "      <td>70</td>\n",
       "      <td>72</td>\n",
       "      <td>69</td>\n",
       "      <td>83</td>\n",
       "      <td>96</td>\n",
       "      <td>96</td>\n",
       "      <td>96</td>\n",
       "      <td>96</td>\n",
       "      <td>...</td>\n",
       "      <td>96</td>\n",
       "      <td>95</td>\n",
       "      <td>89</td>\n",
       "      <td>90</td>\n",
       "      <td>92</td>\n",
       "      <td>87</td>\n",
       "      <td>79</td>\n",
       "      <td>83</td>\n",
       "      <td>93</td>\n",
       "      <td>57</td>\n",
       "    </tr>\n",
       "  </tbody>\n",
       "</table>\n",
       "<p>2 rows × 137 columns</p>\n",
       "</div>"
      ],
      "text/plain": [
       "              0           1           2           3           4           5    \\\n",
       "Date   2019-12-30  2019-12-31  2020-01-01  2020-01-02  2020-01-03  2020-01-04   \n",
       "count          48          55          70          72          69          83   \n",
       "\n",
       "              6           7           8           9    ...         127  \\\n",
       "Date   2020-01-05  2020-01-06  2020-01-07  2020-01-08  ...  2020-05-27   \n",
       "count          96          96          96          96  ...          96   \n",
       "\n",
       "              128         129         130         131         132         133  \\\n",
       "Date   2020-05-28  2020-05-29  2020-05-30  2020-05-31  2020-06-01  2020-06-02   \n",
       "count          95          89          90          92          87          79   \n",
       "\n",
       "              134         135         136  \n",
       "Date   2020-06-03  2020-06-04  2020-06-05  \n",
       "count          83          93          57  \n",
       "\n",
       "[2 rows x 137 columns]"
      ]
     },
     "execution_count": 242,
     "metadata": {},
     "output_type": "execute_result"
    }
   ],
   "source": [
    "PEo3graf = PEo3.orderBy('Specie','Date').select('Date','count')\n",
    "PEo3pa = PEo3graf.toPandas()\n",
    "PEo3pa.T"
   ]
  },
  {
   "cell_type": "code",
   "execution_count": 243,
   "metadata": {},
   "outputs": [
    {
     "data": {
      "text/plain": [
       "<matplotlib.axes._subplots.AxesSubplot at 0x7f3766aa5f50>"
      ]
     },
     "execution_count": 243,
     "metadata": {},
     "output_type": "execute_result"
    },
    {
     "data": {
      "image/png": "[encoded data removed]",
      "text/plain": [
       "<Figure size 432x288 with 1 Axes>"
      ]
     },
     "metadata": {
      "needs_background": "light"
     },
     "output_type": "display_data"
    }
   ],
   "source": [
    "PEo3pa.plot()"
   ]
  },
  {
   "cell_type": "code",
   "execution_count": 244,
   "metadata": {},
   "outputs": [
    {
     "data": {
      "application/vnd.plotly.v1+json": {
       "config": {
        "plotlyServerURL": "https://plot.ly"
       },
       "data": [
        {
         "hovertemplate": "Date=%{x}<br>count=%{y}<extra></extra>",
         "legendgroup": "",
         "line": {
          "color": "#636efa",
          "dash": "solid"
         },
         "mode": "lines",
         "name": "",
         "orientation": "v",
         "showlegend": false,
         "type": "scatter",
         "x": [
          "2019-12-30",
          "2019-12-31",
          "2020-01-01",
          "2020-01-02",
          "2020-01-03",
          "2020-01-04",
          "2020-01-05",
          "2020-01-06",
          "2020-01-07",
          "2020-01-08",
          "2020-01-09",
          "2020-01-10",
          "2020-01-11",
          "2020-01-12",
          "2020-01-13",
          "2020-01-14",
          "2020-01-15",
          "2020-01-16",
          "2020-01-17",
          "2020-01-18",
          "2020-01-19",
          "2020-01-20",
          "2020-01-21",
          "2020-01-22",
          "2020-01-23",
          "2020-01-24",
          "2020-01-25",
          "2020-01-26",
          "2020-01-27",
          "2020-01-28",
          "2020-01-29",
          "2020-01-30",
          "2020-01-31",
          "2020-02-01",
          "2020-02-02",
          "2020-02-03",
          "2020-02-04",
          "2020-02-05",
          "2020-02-06",
          "2020-02-07",
          "2020-02-08",
          "2020-02-09",
          "2020-02-10",
          "2020-02-11",
          "2020-02-12",
          "2020-02-13",
          "2020-02-14",
          "2020-02-15",
          "2020-02-16",
          "2020-02-17",
          "2020-02-18",
          "2020-02-19",
          "2020-02-20",
          "2020-02-21",
          "2020-02-22",
          "2020-02-23",
          "2020-02-24",
          "2020-02-25",
          "2020-02-26",
          "2020-02-27",
          "2020-02-28",
          "2020-02-29",
          "2020-03-01",
          "2020-03-02",
          "2020-03-03",
          "2020-03-04",
          "2020-03-05",
          "2020-03-06",
          "2020-03-29",
          "2020-03-30",
          "2020-03-31",
          "2020-04-01",
          "2020-04-02",
          "2020-04-03",
          "2020-04-04",
          "2020-04-05",
          "2020-04-06",
          "2020-04-07",
          "2020-04-08",
          "2020-04-09",
          "2020-04-10",
          "2020-04-11",
          "2020-04-12",
          "2020-04-13",
          "2020-04-14",
          "2020-04-15",
          "2020-04-16",
          "2020-04-17",
          "2020-04-18",
          "2020-04-19",
          "2020-04-20",
          "2020-04-21",
          "2020-04-22",
          "2020-04-23",
          "2020-04-24",
          "2020-04-25",
          "2020-04-26",
          "2020-04-27",
          "2020-04-28",
          "2020-04-29",
          "2020-04-30",
          "2020-05-01",
          "2020-05-02",
          "2020-05-03",
          "2020-05-04",
          "2020-05-05",
          "2020-05-06",
          "2020-05-07",
          "2020-05-08",
          "2020-05-09",
          "2020-05-10",
          "2020-05-11",
          "2020-05-12",
          "2020-05-13",
          "2020-05-14",
          "2020-05-15",
          "2020-05-16",
          "2020-05-17",
          "2020-05-18",
          "2020-05-19",
          "2020-05-20",
          "2020-05-21",
          "2020-05-22",
          "2020-05-23",
          "2020-05-24",
          "2020-05-25",
          "2020-05-26",
          "2020-05-27",
          "2020-05-28",
          "2020-05-29",
          "2020-05-30",
          "2020-05-31",
          "2020-06-01",
          "2020-06-02",
          "2020-06-03",
          "2020-06-04",
          "2020-06-05"
         ],
         "xaxis": "x",
         "y": [
          48,
          55,
          70,
          72,
          69,
          83,
          96,
          96,
          96,
          96,
          96,
          95,
          96,
          96,
          96,
          96,
          80,
          72,
          72,
          72,
          72,
          72,
          68,
          82,
          92,
          94,
          96,
          96,
          96,
          96,
          95,
          96,
          88,
          96,
          96,
          89,
          96,
          96,
          96,
          98,
          102,
          94,
          68,
          61,
          77,
          80,
          80,
          78,
          80,
          79,
          78,
          79,
          71,
          62,
          59,
          59,
          63,
          60,
          53,
          61,
          59,
          62,
          57,
          59,
          59,
          61,
          61,
          20,
          59,
          66,
          54,
          67,
          71,
          72,
          75,
          60,
          75,
          66,
          68,
          68,
          72,
          75,
          72,
          67,
          68,
          70,
          69,
          67,
          63,
          70,
          69,
          74,
          75,
          72,
          72,
          70,
          50,
          51,
          51,
          51,
          51,
          51,
          51,
          48,
          51,
          51,
          51,
          51,
          51,
          51,
          48,
          51,
          54,
          63,
          65,
          67,
          75,
          72,
          71,
          71,
          66,
          75,
          74,
          75,
          72,
          75,
          82,
          96,
          95,
          89,
          90,
          92,
          87,
          79,
          83,
          93,
          57
         ],
         "yaxis": "y"
        }
       ],
       "layout": {
        "legend": {
         "tracegroupgap": 0
        },
        "template": {
         "data": {
          "bar": [
           {
            "error_x": {
             "color": "#2a3f5f"
            },
            "error_y": {
             "color": "#2a3f5f"
            },
            "marker": {
             "line": {
              "color": "#E5ECF6",
              "width": 0.5
             }
            },
            "type": "bar"
           }
          ],
          "barpolar": [
           {
            "marker": {
             "line": {
              "color": "#E5ECF6",
              "width": 0.5
             }
            },
            "type": "barpolar"
           }
          ],
          "carpet": [
           {
            "aaxis": {
             "endlinecolor": "#2a3f5f",
             "gridcolor": "white",
             "linecolor": "white",
             "minorgridcolor": "white",
             "startlinecolor": "#2a3f5f"
            },
            "baxis": {
             "endlinecolor": "#2a3f5f",
             "gridcolor": "white",
             "linecolor": "white",
             "minorgridcolor": "white",
             "startlinecolor": "#2a3f5f"
            },
            "type": "carpet"
           }
          ],
          "choropleth": [
           {
            "colorbar": {
             "outlinewidth": 0,
             "ticks": ""
            },
            "type": "choropleth"
           }
          ],
          "contour": [
           {
            "colorbar": {
             "outlinewidth": 0,
             "ticks": ""
            },
            "colorscale": [
             [
              0,
              "#0d0887"
             ],
             [
              0.1111111111111111,
              "#46039f"
             ],
             [
              0.2222222222222222,
              "#7201a8"
             ],
             [
              0.3333333333333333,
              "#9c179e"
             ],
             [
              0.4444444444444444,
              "#bd3786"
             ],
             [
              0.5555555555555556,
              "#d8576b"
             ],
             [
              0.6666666666666666,
              "#ed7953"
             ],
             [
              0.7777777777777778,
              "#fb9f3a"
             ],
             [
              0.8888888888888888,
              "#fdca26"
             ],
             [
              1,
              "#f0f921"
             ]
            ],
            "type": "contour"
           }
          ],
          "contourcarpet": [
           {
            "colorbar": {
             "outlinewidth": 0,
             "ticks": ""
            },
            "type": "contourcarpet"
           }
          ],
          "heatmap": [
           {
            "colorbar": {
             "outlinewidth": 0,
             "ticks": ""
            },
            "colorscale": [
             [
              0,
              "#0d0887"
             ],
             [
              0.1111111111111111,
              "#46039f"
             ],
             [
              0.2222222222222222,
              "#7201a8"
             ],
             [
              0.3333333333333333,
              "#9c179e"
             ],
             [
              0.4444444444444444,
              "#bd3786"
             ],
             [
              0.5555555555555556,
              "#d8576b"
             ],
             [
              0.6666666666666666,
              "#ed7953"
             ],
             [
              0.7777777777777778,
              "#fb9f3a"
             ],
             [
              0.8888888888888888,
              "#fdca26"
             ],
             [
              1,
              "#f0f921"
             ]
            ],
            "type": "heatmap"
           }
          ],
          "heatmapgl": [
           {
            "colorbar": {
             "outlinewidth": 0,
             "ticks": ""
            },
            "colorscale": [
             [
              0,
              "#0d0887"
             ],
             [
              0.1111111111111111,
              "#46039f"
             ],
             [
              0.2222222222222222,
              "#7201a8"
             ],
             [
              0.3333333333333333,
              "#9c179e"
             ],
             [
              0.4444444444444444,
              "#bd3786"
             ],
             [
              0.5555555555555556,
              "#d8576b"
             ],
             [
              0.6666666666666666,
              "#ed7953"
             ],
             [
              0.7777777777777778,
              "#fb9f3a"
             ],
             [
              0.8888888888888888,
              "#fdca26"
             ],
             [
              1,
              "#f0f921"
             ]
            ],
            "type": "heatmapgl"
           }
          ],
          "histogram": [
           {
            "marker": {
             "colorbar": {
              "outlinewidth": 0,
              "ticks": ""
             }
            },
            "type": "histogram"
           }
          ],
          "histogram2d": [
           {
            "colorbar": {
             "outlinewidth": 0,
             "ticks": ""
            },
            "colorscale": [
             [
              0,
              "#0d0887"
             ],
             [
              0.1111111111111111,
              "#46039f"
             ],
             [
              0.2222222222222222,
              "#7201a8"
             ],
             [
              0.3333333333333333,
              "#9c179e"
             ],
             [
              0.4444444444444444,
              "#bd3786"
             ],
             [
              0.5555555555555556,
              "#d8576b"
             ],
             [
              0.6666666666666666,
              "#ed7953"
             ],
             [
              0.7777777777777778,
              "#fb9f3a"
             ],
             [
              0.8888888888888888,
              "#fdca26"
             ],
             [
              1,
              "#f0f921"
             ]
            ],
            "type": "histogram2d"
           }
          ],
          "histogram2dcontour": [
           {
            "colorbar": {
             "outlinewidth": 0,
             "ticks": ""
            },
            "colorscale": [
             [
              0,
              "#0d0887"
             ],
             [
              0.1111111111111111,
              "#46039f"
             ],
             [
              0.2222222222222222,
              "#7201a8"
             ],
             [
              0.3333333333333333,
              "#9c179e"
             ],
             [
              0.4444444444444444,
              "#bd3786"
             ],
             [
              0.5555555555555556,
              "#d8576b"
             ],
             [
              0.6666666666666666,
              "#ed7953"
             ],
             [
              0.7777777777777778,
              "#fb9f3a"
             ],
             [
              0.8888888888888888,
              "#fdca26"
             ],
             [
              1,
              "#f0f921"
             ]
            ],
            "type": "histogram2dcontour"
           }
          ],
          "mesh3d": [
           {
            "colorbar": {
             "outlinewidth": 0,
             "ticks": ""
            },
            "type": "mesh3d"
           }
          ],
          "parcoords": [
           {
            "line": {
             "colorbar": {
              "outlinewidth": 0,
              "ticks": ""
             }
            },
            "type": "parcoords"
           }
          ],
          "pie": [
           {
            "automargin": true,
            "type": "pie"
           }
          ],
          "scatter": [
           {
            "marker": {
             "colorbar": {
              "outlinewidth": 0,
              "ticks": ""
             }
            },
            "type": "scatter"
           }
          ],
          "scatter3d": [
           {
            "line": {
             "colorbar": {
              "outlinewidth": 0,
              "ticks": ""
             }
            },
            "marker": {
             "colorbar": {
              "outlinewidth": 0,
              "ticks": ""
             }
            },
            "type": "scatter3d"
           }
          ],
          "scattercarpet": [
           {
            "marker": {
             "colorbar": {
              "outlinewidth": 0,
              "ticks": ""
             }
            },
            "type": "scattercarpet"
           }
          ],
          "scattergeo": [
           {
            "marker": {
             "colorbar": {
              "outlinewidth": 0,
              "ticks": ""
             }
            },
            "type": "scattergeo"
           }
          ],
          "scattergl": [
           {
            "marker": {
             "colorbar": {
              "outlinewidth": 0,
              "ticks": ""
             }
            },
            "type": "scattergl"
           }
          ],
          "scattermapbox": [
           {
            "marker": {
             "colorbar": {
              "outlinewidth": 0,
              "ticks": ""
             }
            },
            "type": "scattermapbox"
           }
          ],
          "scatterpolar": [
           {
            "marker": {
             "colorbar": {
              "outlinewidth": 0,
              "ticks": ""
             }
            },
            "type": "scatterpolar"
           }
          ],
          "scatterpolargl": [
           {
            "marker": {
             "colorbar": {
              "outlinewidth": 0,
              "ticks": ""
             }
            },
            "type": "scatterpolargl"
           }
          ],
          "scatterternary": [
           {
            "marker": {
             "colorbar": {
              "outlinewidth": 0,
              "ticks": ""
             }
            },
            "type": "scatterternary"
           }
          ],
          "surface": [
           {
            "colorbar": {
             "outlinewidth": 0,
             "ticks": ""
            },
            "colorscale": [
             [
              0,
              "#0d0887"
             ],
             [
              0.1111111111111111,
              "#46039f"
             ],
             [
              0.2222222222222222,
              "#7201a8"
             ],
             [
              0.3333333333333333,
              "#9c179e"
             ],
             [
              0.4444444444444444,
              "#bd3786"
             ],
             [
              0.5555555555555556,
              "#d8576b"
             ],
             [
              0.6666666666666666,
              "#ed7953"
             ],
             [
              0.7777777777777778,
              "#fb9f3a"
             ],
             [
              0.8888888888888888,
              "#fdca26"
             ],
             [
              1,
              "#f0f921"
             ]
            ],
            "type": "surface"
           }
          ],
          "table": [
           {
            "cells": {
             "fill": {
              "color": "#EBF0F8"
             },
             "line": {
              "color": "white"
             }
            },
            "header": {
             "fill": {
              "color": "#C8D4E3"
             },
             "line": {
              "color": "white"
             }
            },
            "type": "table"
           }
          ]
         },
         "layout": {
          "annotationdefaults": {
           "arrowcolor": "#2a3f5f",
           "arrowhead": 0,
           "arrowwidth": 1
          },
          "coloraxis": {
           "colorbar": {
            "outlinewidth": 0,
            "ticks": ""
           }
          },
          "colorscale": {
           "diverging": [
            [
             0,
             "#8e0152"
            ],
            [
             0.1,
             "#c51b7d"
            ],
            [
             0.2,
             "#de77ae"
            ],
            [
             0.3,
             "#f1b6da"
            ],
            [
             0.4,
             "#fde0ef"
            ],
            [
             0.5,
             "#f7f7f7"
            ],
            [
             0.6,
             "#e6f5d0"
            ],
            [
             0.7,
             "#b8e186"
            ],
            [
             0.8,
             "#7fbc41"
            ],
            [
             0.9,
             "#4d9221"
            ],
            [
             1,
             "#276419"
            ]
           ],
           "sequential": [
            [
             0,
             "#0d0887"
            ],
            [
             0.1111111111111111,
             "#46039f"
            ],
            [
             0.2222222222222222,
             "#7201a8"
            ],
            [
             0.3333333333333333,
             "#9c179e"
            ],
            [
             0.4444444444444444,
             "#bd3786"
            ],
            [
             0.5555555555555556,
             "#d8576b"
            ],
            [
             0.6666666666666666,
             "#ed7953"
            ],
            [
             0.7777777777777778,
             "#fb9f3a"
            ],
            [
             0.8888888888888888,
             "#fdca26"
            ],
            [
             1,
             "#f0f921"
            ]
           ],
           "sequentialminus": [
            [
             0,
             "#0d0887"
            ],
            [
             0.1111111111111111,
             "#46039f"
            ],
            [
             0.2222222222222222,
             "#7201a8"
            ],
            [
             0.3333333333333333,
             "#9c179e"
            ],
            [
             0.4444444444444444,
             "#bd3786"
            ],
            [
             0.5555555555555556,
             "#d8576b"
            ],
            [
             0.6666666666666666,
             "#ed7953"
            ],
            [
             0.7777777777777778,
             "#fb9f3a"
            ],
            [
             0.8888888888888888,
             "#fdca26"
            ],
            [
             1,
             "#f0f921"
            ]
           ]
          },
          "colorway": [
           "#636efa",
           "#EF553B",
           "#00cc96",
           "#ab63fa",
           "#FFA15A",
           "#19d3f3",
           "#FF6692",
           "#B6E880",
           "#FF97FF",
           "#FECB52"
          ],
          "font": {
           "color": "#2a3f5f"
          },
          "geo": {
           "bgcolor": "white",
           "lakecolor": "white",
           "landcolor": "#E5ECF6",
           "showlakes": true,
           "showland": true,
           "subunitcolor": "white"
          },
          "hoverlabel": {
           "align": "left"
          },
          "hovermode": "closest",
          "mapbox": {
           "style": "light"
          },
          "paper_bgcolor": "white",
          "plot_bgcolor": "#E5ECF6",
          "polar": {
           "angularaxis": {
            "gridcolor": "white",
            "linecolor": "white",
            "ticks": ""
           },
           "bgcolor": "#E5ECF6",
           "radialaxis": {
            "gridcolor": "white",
            "linecolor": "white",
            "ticks": ""
           }
          },
          "scene": {
           "xaxis": {
            "backgroundcolor": "#E5ECF6",
            "gridcolor": "white",
            "gridwidth": 2,
            "linecolor": "white",
            "showbackground": true,
            "ticks": "",
            "zerolinecolor": "white"
           },
           "yaxis": {
            "backgroundcolor": "#E5ECF6",
            "gridcolor": "white",
            "gridwidth": 2,
            "linecolor": "white",
            "showbackground": true,
            "ticks": "",
            "zerolinecolor": "white"
           },
           "zaxis": {
            "backgroundcolor": "#E5ECF6",
            "gridcolor": "white",
            "gridwidth": 2,
            "linecolor": "white",
            "showbackground": true,
            "ticks": "",
            "zerolinecolor": "white"
           }
          },
          "shapedefaults": {
           "line": {
            "color": "#2a3f5f"
           }
          },
          "ternary": {
           "aaxis": {
            "gridcolor": "white",
            "linecolor": "white",
            "ticks": ""
           },
           "baxis": {
            "gridcolor": "white",
            "linecolor": "white",
            "ticks": ""
           },
           "bgcolor": "#E5ECF6",
           "caxis": {
            "gridcolor": "white",
            "linecolor": "white",
            "ticks": ""
           }
          },
          "title": {
           "x": 0.05
          },
          "xaxis": {
           "automargin": true,
           "gridcolor": "white",
           "linecolor": "white",
           "ticks": "",
           "title": {
            "standoff": 15
           },
           "zerolinecolor": "white",
           "zerolinewidth": 2
          },
          "yaxis": {
           "automargin": true,
           "gridcolor": "white",
           "linecolor": "white",
           "ticks": "",
           "title": {
            "standoff": 15
           },
           "zerolinecolor": "white",
           "zerolinewidth": 2
          }
         }
        },
        "title": {
         "text": "VALORES PARA O3 POR FECHA"
        },
        "xaxis": {
         "anchor": "y",
         "domain": [
          0,
          1
         ],
         "title": {
          "text": "Date"
         }
        },
        "yaxis": {
         "anchor": "x",
         "domain": [
          0,
          1
         ],
         "title": {
          "text": "count"
         }
        }
       }
      },
      "text/html": [
       "<div>\n",
       "        \n",
       "        \n",
       "            <div id=\"2a8b34ec-7ce9-4038-b136-70780dac21a7\" class=\"plotly-graph-div\" style=\"height:525px; width:100%;\"></div>\n",
       "            <script type=\"text/javascript\">\n",
       "                require([\"plotly\"], function(Plotly) {\n",
       "                    window.PLOTLYENV=window.PLOTLYENV || {};\n",
       "                    \n",
       "                if (document.getElementById(\"2a8b34ec-7ce9-4038-b136-70780dac21a7\")) {\n",
       "                    Plotly.newPlot(\n",
       "                        '2a8b34ec-7ce9-4038-b136-70780dac21a7',\n",
       "                        [{\"hovertemplate\": \"Date=%{x}<br>count=%{y}<extra></extra>\", \"legendgroup\": \"\", \"line\": {\"color\": \"#636efa\", \"dash\": \"solid\"}, \"mode\": \"lines\", \"name\": \"\", \"orientation\": \"v\", \"showlegend\": false, \"type\": \"scatter\", \"x\": [\"2019-12-30\", \"2019-12-31\", \"2020-01-01\", \"2020-01-02\", \"2020-01-03\", \"2020-01-04\", \"2020-01-05\", \"2020-01-06\", \"2020-01-07\", \"2020-01-08\", \"2020-01-09\", \"2020-01-10\", \"2020-01-11\", \"2020-01-12\", \"2020-01-13\", \"2020-01-14\", \"2020-01-15\", \"2020-01-16\", \"2020-01-17\", \"2020-01-18\", \"2020-01-19\", \"2020-01-20\", \"2020-01-21\", \"2020-01-22\", \"2020-01-23\", \"2020-01-24\", \"2020-01-25\", \"2020-01-26\", \"2020-01-27\", \"2020-01-28\", \"2020-01-29\", \"2020-01-30\", \"2020-01-31\", \"2020-02-01\", \"2020-02-02\", \"2020-02-03\", \"2020-02-04\", \"2020-02-05\", \"2020-02-06\", \"2020-02-07\", \"2020-02-08\", \"2020-02-09\", \"2020-02-10\", \"2020-02-11\", \"2020-02-12\", \"2020-02-13\", \"2020-02-14\", \"2020-02-15\", \"2020-02-16\", \"2020-02-17\", \"2020-02-18\", \"2020-02-19\", \"2020-02-20\", \"2020-02-21\", \"2020-02-22\", \"2020-02-23\", \"2020-02-24\", \"2020-02-25\", \"2020-02-26\", \"2020-02-27\", \"2020-02-28\", \"2020-02-29\", \"2020-03-01\", \"2020-03-02\", \"2020-03-03\", \"2020-03-04\", \"2020-03-05\", \"2020-03-06\", \"2020-03-29\", \"2020-03-30\", \"2020-03-31\", \"2020-04-01\", \"2020-04-02\", \"2020-04-03\", \"2020-04-04\", \"2020-04-05\", \"2020-04-06\", \"2020-04-07\", \"2020-04-08\", \"2020-04-09\", \"2020-04-10\", \"2020-04-11\", \"2020-04-12\", \"2020-04-13\", \"2020-04-14\", \"2020-04-15\", \"2020-04-16\", \"2020-04-17\", \"2020-04-18\", \"2020-04-19\", \"2020-04-20\", \"2020-04-21\", \"2020-04-22\", \"2020-04-23\", \"2020-04-24\", \"2020-04-25\", \"2020-04-26\", \"2020-04-27\", \"2020-04-28\", \"2020-04-29\", \"2020-04-30\", \"2020-05-01\", \"2020-05-02\", \"2020-05-03\", \"2020-05-04\", \"2020-05-05\", \"2020-05-06\", \"2020-05-07\", \"2020-05-08\", \"2020-05-09\", \"2020-05-10\", \"2020-05-11\", \"2020-05-12\", \"2020-05-13\", \"2020-05-14\", \"2020-05-15\", \"2020-05-16\", \"2020-05-17\", \"2020-05-18\", \"2020-05-19\", \"2020-05-20\", \"2020-05-21\", \"2020-05-22\", \"2020-05-23\", \"2020-05-24\", \"2020-05-25\", \"2020-05-26\", \"2020-05-27\", \"2020-05-28\", \"2020-05-29\", \"2020-05-30\", \"2020-05-31\", \"2020-06-01\", \"2020-06-02\", \"2020-06-03\", \"2020-06-04\", \"2020-06-05\"], \"xaxis\": \"x\", \"y\": [48, 55, 70, 72, 69, 83, 96, 96, 96, 96, 96, 95, 96, 96, 96, 96, 80, 72, 72, 72, 72, 72, 68, 82, 92, 94, 96, 96, 96, 96, 95, 96, 88, 96, 96, 89, 96, 96, 96, 98, 102, 94, 68, 61, 77, 80, 80, 78, 80, 79, 78, 79, 71, 62, 59, 59, 63, 60, 53, 61, 59, 62, 57, 59, 59, 61, 61, 20, 59, 66, 54, 67, 71, 72, 75, 60, 75, 66, 68, 68, 72, 75, 72, 67, 68, 70, 69, 67, 63, 70, 69, 74, 75, 72, 72, 70, 50, 51, 51, 51, 51, 51, 51, 48, 51, 51, 51, 51, 51, 51, 48, 51, 54, 63, 65, 67, 75, 72, 71, 71, 66, 75, 74, 75, 72, 75, 82, 96, 95, 89, 90, 92, 87, 79, 83, 93, 57], \"yaxis\": \"y\"}],\n",
       "                        {\"legend\": {\"tracegroupgap\": 0}, \"template\": {\"data\": {\"bar\": [{\"error_x\": {\"color\": \"#2a3f5f\"}, \"error_y\": {\"color\": \"#2a3f5f\"}, \"marker\": {\"line\": {\"color\": \"#E5ECF6\", \"width\": 0.5}}, \"type\": \"bar\"}], \"barpolar\": [{\"marker\": {\"line\": {\"color\": \"#E5ECF6\", \"width\": 0.5}}, \"type\": \"barpolar\"}], \"carpet\": [{\"aaxis\": {\"endlinecolor\": \"#2a3f5f\", \"gridcolor\": \"white\", \"linecolor\": \"white\", \"minorgridcolor\": \"white\", \"startlinecolor\": \"#2a3f5f\"}, \"baxis\": {\"endlinecolor\": \"#2a3f5f\", \"gridcolor\": \"white\", \"linecolor\": \"white\", \"minorgridcolor\": \"white\", \"startlinecolor\": \"#2a3f5f\"}, \"type\": \"carpet\"}], \"choropleth\": [{\"colorbar\": {\"outlinewidth\": 0, \"ticks\": \"\"}, \"type\": \"choropleth\"}], \"contour\": [{\"colorbar\": {\"outlinewidth\": 0, \"ticks\": \"\"}, \"colorscale\": [[0.0, \"#0d0887\"], [0.1111111111111111, \"#46039f\"], [0.2222222222222222, \"#7201a8\"], [0.3333333333333333, \"#9c179e\"], [0.4444444444444444, \"#bd3786\"], [0.5555555555555556, \"#d8576b\"], [0.6666666666666666, \"#ed7953\"], [0.7777777777777778, \"#fb9f3a\"], [0.8888888888888888, \"#fdca26\"], [1.0, \"#f0f921\"]], \"type\": \"contour\"}], \"contourcarpet\": [{\"colorbar\": {\"outlinewidth\": 0, \"ticks\": \"\"}, \"type\": \"contourcarpet\"}], \"heatmap\": [{\"colorbar\": {\"outlinewidth\": 0, \"ticks\": \"\"}, \"colorscale\": [[0.0, \"#0d0887\"], [0.1111111111111111, \"#46039f\"], [0.2222222222222222, \"#7201a8\"], [0.3333333333333333, \"#9c179e\"], [0.4444444444444444, \"#bd3786\"], [0.5555555555555556, \"#d8576b\"], [0.6666666666666666, \"#ed7953\"], [0.7777777777777778, \"#fb9f3a\"], [0.8888888888888888, \"#fdca26\"], [1.0, \"#f0f921\"]], \"type\": \"heatmap\"}], \"heatmapgl\": [{\"colorbar\": {\"outlinewidth\": 0, \"ticks\": \"\"}, \"colorscale\": [[0.0, \"#0d0887\"], [0.1111111111111111, \"#46039f\"], [0.2222222222222222, \"#7201a8\"], [0.3333333333333333, \"#9c179e\"], [0.4444444444444444, \"#bd3786\"], [0.5555555555555556, \"#d8576b\"], [0.6666666666666666, \"#ed7953\"], [0.7777777777777778, \"#fb9f3a\"], [0.8888888888888888, \"#fdca26\"], [1.0, \"#f0f921\"]], \"type\": \"heatmapgl\"}], \"histogram\": [{\"marker\": {\"colorbar\": {\"outlinewidth\": 0, \"ticks\": \"\"}}, \"type\": \"histogram\"}], \"histogram2d\": [{\"colorbar\": {\"outlinewidth\": 0, \"ticks\": \"\"}, \"colorscale\": [[0.0, \"#0d0887\"], [0.1111111111111111, \"#46039f\"], [0.2222222222222222, \"#7201a8\"], [0.3333333333333333, \"#9c179e\"], [0.4444444444444444, \"#bd3786\"], [0.5555555555555556, \"#d8576b\"], [0.6666666666666666, \"#ed7953\"], [0.7777777777777778, \"#fb9f3a\"], [0.8888888888888888, \"#fdca26\"], [1.0, \"#f0f921\"]], \"type\": \"histogram2d\"}], \"histogram2dcontour\": [{\"colorbar\": {\"outlinewidth\": 0, \"ticks\": \"\"}, \"colorscale\": [[0.0, \"#0d0887\"], [0.1111111111111111, \"#46039f\"], [0.2222222222222222, \"#7201a8\"], [0.3333333333333333, \"#9c179e\"], [0.4444444444444444, \"#bd3786\"], [0.5555555555555556, \"#d8576b\"], [0.6666666666666666, \"#ed7953\"], [0.7777777777777778, \"#fb9f3a\"], [0.8888888888888888, \"#fdca26\"], [1.0, \"#f0f921\"]], \"type\": \"histogram2dcontour\"}], \"mesh3d\": [{\"colorbar\": {\"outlinewidth\": 0, \"ticks\": \"\"}, \"type\": \"mesh3d\"}], \"parcoords\": [{\"line\": {\"colorbar\": {\"outlinewidth\": 0, \"ticks\": \"\"}}, \"type\": \"parcoords\"}], \"pie\": [{\"automargin\": true, \"type\": \"pie\"}], \"scatter\": [{\"marker\": {\"colorbar\": {\"outlinewidth\": 0, \"ticks\": \"\"}}, \"type\": \"scatter\"}], \"scatter3d\": [{\"line\": {\"colorbar\": {\"outlinewidth\": 0, \"ticks\": \"\"}}, \"marker\": {\"colorbar\": {\"outlinewidth\": 0, \"ticks\": \"\"}}, \"type\": \"scatter3d\"}], \"scattercarpet\": [{\"marker\": {\"colorbar\": {\"outlinewidth\": 0, \"ticks\": \"\"}}, \"type\": \"scattercarpet\"}], \"scattergeo\": [{\"marker\": {\"colorbar\": {\"outlinewidth\": 0, \"ticks\": \"\"}}, \"type\": \"scattergeo\"}], \"scattergl\": [{\"marker\": {\"colorbar\": {\"outlinewidth\": 0, \"ticks\": \"\"}}, \"type\": \"scattergl\"}], \"scattermapbox\": [{\"marker\": {\"colorbar\": {\"outlinewidth\": 0, \"ticks\": \"\"}}, \"type\": \"scattermapbox\"}], \"scatterpolar\": [{\"marker\": {\"colorbar\": {\"outlinewidth\": 0, \"ticks\": \"\"}}, \"type\": \"scatterpolar\"}], \"scatterpolargl\": [{\"marker\": {\"colorbar\": {\"outlinewidth\": 0, \"ticks\": \"\"}}, \"type\": \"scatterpolargl\"}], \"scatterternary\": [{\"marker\": {\"colorbar\": {\"outlinewidth\": 0, \"ticks\": \"\"}}, \"type\": \"scatterternary\"}], \"surface\": [{\"colorbar\": {\"outlinewidth\": 0, \"ticks\": \"\"}, \"colorscale\": [[0.0, \"#0d0887\"], [0.1111111111111111, \"#46039f\"], [0.2222222222222222, \"#7201a8\"], [0.3333333333333333, \"#9c179e\"], [0.4444444444444444, \"#bd3786\"], [0.5555555555555556, \"#d8576b\"], [0.6666666666666666, \"#ed7953\"], [0.7777777777777778, \"#fb9f3a\"], [0.8888888888888888, \"#fdca26\"], [1.0, \"#f0f921\"]], \"type\": \"surface\"}], \"table\": [{\"cells\": {\"fill\": {\"color\": \"#EBF0F8\"}, \"line\": {\"color\": \"white\"}}, \"header\": {\"fill\": {\"color\": \"#C8D4E3\"}, \"line\": {\"color\": \"white\"}}, \"type\": \"table\"}]}, \"layout\": {\"annotationdefaults\": {\"arrowcolor\": \"#2a3f5f\", \"arrowhead\": 0, \"arrowwidth\": 1}, \"coloraxis\": {\"colorbar\": {\"outlinewidth\": 0, \"ticks\": \"\"}}, \"colorscale\": {\"diverging\": [[0, \"#8e0152\"], [0.1, \"#c51b7d\"], [0.2, \"#de77ae\"], [0.3, \"#f1b6da\"], [0.4, \"#fde0ef\"], [0.5, \"#f7f7f7\"], [0.6, \"#e6f5d0\"], [0.7, \"#b8e186\"], [0.8, \"#7fbc41\"], [0.9, \"#4d9221\"], [1, \"#276419\"]], \"sequential\": [[0.0, \"#0d0887\"], [0.1111111111111111, \"#46039f\"], [0.2222222222222222, \"#7201a8\"], [0.3333333333333333, \"#9c179e\"], [0.4444444444444444, \"#bd3786\"], [0.5555555555555556, \"#d8576b\"], [0.6666666666666666, \"#ed7953\"], [0.7777777777777778, \"#fb9f3a\"], [0.8888888888888888, \"#fdca26\"], [1.0, \"#f0f921\"]], \"sequentialminus\": [[0.0, \"#0d0887\"], [0.1111111111111111, \"#46039f\"], [0.2222222222222222, \"#7201a8\"], [0.3333333333333333, \"#9c179e\"], [0.4444444444444444, \"#bd3786\"], [0.5555555555555556, \"#d8576b\"], [0.6666666666666666, \"#ed7953\"], [0.7777777777777778, \"#fb9f3a\"], [0.8888888888888888, \"#fdca26\"], [1.0, \"#f0f921\"]]}, \"colorway\": [\"#636efa\", \"#EF553B\", \"#00cc96\", \"#ab63fa\", \"#FFA15A\", \"#19d3f3\", \"#FF6692\", \"#B6E880\", \"#FF97FF\", \"#FECB52\"], \"font\": {\"color\": \"#2a3f5f\"}, \"geo\": {\"bgcolor\": \"white\", \"lakecolor\": \"white\", \"landcolor\": \"#E5ECF6\", \"showlakes\": true, \"showland\": true, \"subunitcolor\": \"white\"}, \"hoverlabel\": {\"align\": \"left\"}, \"hovermode\": \"closest\", \"mapbox\": {\"style\": \"light\"}, \"paper_bgcolor\": \"white\", \"plot_bgcolor\": \"#E5ECF6\", \"polar\": {\"angularaxis\": {\"gridcolor\": \"white\", \"linecolor\": \"white\", \"ticks\": \"\"}, \"bgcolor\": \"#E5ECF6\", \"radialaxis\": {\"gridcolor\": \"white\", \"linecolor\": \"white\", \"ticks\": \"\"}}, \"scene\": {\"xaxis\": {\"backgroundcolor\": \"#E5ECF6\", \"gridcolor\": \"white\", \"gridwidth\": 2, \"linecolor\": \"white\", \"showbackground\": true, \"ticks\": \"\", \"zerolinecolor\": \"white\"}, \"yaxis\": {\"backgroundcolor\": \"#E5ECF6\", \"gridcolor\": \"white\", \"gridwidth\": 2, \"linecolor\": \"white\", \"showbackground\": true, \"ticks\": \"\", \"zerolinecolor\": \"white\"}, \"zaxis\": {\"backgroundcolor\": \"#E5ECF6\", \"gridcolor\": \"white\", \"gridwidth\": 2, \"linecolor\": \"white\", \"showbackground\": true, \"ticks\": \"\", \"zerolinecolor\": \"white\"}}, \"shapedefaults\": {\"line\": {\"color\": \"#2a3f5f\"}}, \"ternary\": {\"aaxis\": {\"gridcolor\": \"white\", \"linecolor\": \"white\", \"ticks\": \"\"}, \"baxis\": {\"gridcolor\": \"white\", \"linecolor\": \"white\", \"ticks\": \"\"}, \"bgcolor\": \"#E5ECF6\", \"caxis\": {\"gridcolor\": \"white\", \"linecolor\": \"white\", \"ticks\": \"\"}}, \"title\": {\"x\": 0.05}, \"xaxis\": {\"automargin\": true, \"gridcolor\": \"white\", \"linecolor\": \"white\", \"ticks\": \"\", \"title\": {\"standoff\": 15}, \"zerolinecolor\": \"white\", \"zerolinewidth\": 2}, \"yaxis\": {\"automargin\": true, \"gridcolor\": \"white\", \"linecolor\": \"white\", \"ticks\": \"\", \"title\": {\"standoff\": 15}, \"zerolinecolor\": \"white\", \"zerolinewidth\": 2}}}, \"title\": {\"text\": \"VALORES PARA O3 POR FECHA\"}, \"xaxis\": {\"anchor\": \"y\", \"domain\": [0.0, 1.0], \"title\": {\"text\": \"Date\"}}, \"yaxis\": {\"anchor\": \"x\", \"domain\": [0.0, 1.0], \"title\": {\"text\": \"count\"}}},\n",
       "                        {\"responsive\": true}\n",
       "                    ).then(function(){\n",
       "                            \n",
       "var gd = document.getElementById('2a8b34ec-7ce9-4038-b136-70780dac21a7');\n",
       "var x = new MutationObserver(function (mutations, observer) {{\n",
       "        var display = window.getComputedStyle(gd).display;\n",
       "        if (!display || display === 'none') {{\n",
       "            console.log([gd, 'removed!']);\n",
       "            Plotly.purge(gd);\n",
       "            observer.disconnect();\n",
       "        }}\n",
       "}});\n",
       "\n",
       "// Listen for the removal of the full notebook cells\n",
       "var notebookContainer = gd.closest('#notebook-container');\n",
       "if (notebookContainer) {{\n",
       "    x.observe(notebookContainer, {childList: true});\n",
       "}}\n",
       "\n",
       "// Listen for the clearing of the current output cell\n",
       "var outputEl = gd.closest('.output');\n",
       "if (outputEl) {{\n",
       "    x.observe(outputEl, {childList: true});\n",
       "}}\n",
       "\n",
       "                        })\n",
       "                };\n",
       "                });\n",
       "            </script>\n",
       "        </div>"
      ]
     },
     "metadata": {},
     "output_type": "display_data"
    }
   ],
   "source": [
    "fig3 = px.line(PEo3pa,x='Date',y='count',title=\"VALORES PARA O3 POR FECHA\")\n",
    "fig3.show()"
   ]
  },
  {
   "cell_type": "markdown",
   "metadata": {},
   "source": [
    "En los días de cuarentena se vió un aumento significativo del ozono superficial, cercano a los valores de base de ozono superficial del planeta, como consecuencia de la disminución en la concentración de CO. El aumento en la cantidad de ozono está relacionado con la disminución de monóxido de carbono, debido a que estos gases reaccionan entre sí, y una menor concentración del CO produce un incremento en las concentraciones del O3."
   ]
  },
  {
   "cell_type": "code",
   "execution_count": 246,
   "metadata": {},
   "outputs": [
    {
     "data": {
      "application/vnd.plotly.v1+json": {
       "config": {
        "plotlyServerURL": "https://plot.ly"
       },
       "data": [
        {
         "hovertemplate": "Date=%{x}<br>count=%{y}<extra></extra>",
         "legendgroup": "",
         "line": {
          "color": "#636efa",
          "dash": "solid"
         },
         "mode": "lines",
         "name": "",
         "orientation": "v",
         "showlegend": false,
         "type": "scatter",
         "x": [
          "2019-12-30",
          "2019-12-31",
          "2020-01-01",
          "2020-01-02",
          "2020-01-03",
          "2020-01-04",
          "2020-01-05",
          "2020-01-06",
          "2020-01-07",
          "2020-01-08",
          "2020-01-09",
          "2020-01-10",
          "2020-01-11",
          "2020-01-12",
          "2020-01-13",
          "2020-01-14",
          "2020-01-15",
          "2020-01-16",
          "2020-01-17",
          "2020-01-18",
          "2020-01-19",
          "2020-01-20",
          "2020-01-21",
          "2020-01-22",
          "2020-01-23",
          "2020-01-24",
          "2020-01-25",
          "2020-01-26",
          "2020-01-27",
          "2020-01-28",
          "2020-01-29",
          "2020-01-30",
          "2020-01-31",
          "2020-02-01",
          "2020-02-02",
          "2020-02-03",
          "2020-02-04",
          "2020-02-05",
          "2020-02-06",
          "2020-02-07",
          "2020-02-08",
          "2020-02-09",
          "2020-02-10",
          "2020-02-11",
          "2020-02-12",
          "2020-02-13",
          "2020-02-14",
          "2020-02-15",
          "2020-02-16",
          "2020-02-17",
          "2020-02-18",
          "2020-02-19",
          "2020-02-20",
          "2020-02-21",
          "2020-02-22",
          "2020-02-23",
          "2020-02-24",
          "2020-02-25",
          "2020-02-26",
          "2020-02-27",
          "2020-02-28",
          "2020-02-29",
          "2020-03-01",
          "2020-03-02",
          "2020-03-03",
          "2020-03-04",
          "2020-03-05",
          "2020-03-06",
          "2020-03-29",
          "2020-03-30",
          "2020-03-31",
          "2020-04-01",
          "2020-04-02",
          "2020-04-03",
          "2020-04-04",
          "2020-04-05",
          "2020-04-06",
          "2020-04-07",
          "2020-04-08",
          "2020-04-09",
          "2020-04-10",
          "2020-04-11",
          "2020-04-12",
          "2020-04-13",
          "2020-04-14",
          "2020-04-15",
          "2020-04-16",
          "2020-04-17",
          "2020-04-18",
          "2020-04-19",
          "2020-04-20",
          "2020-04-21",
          "2020-04-22",
          "2020-04-23",
          "2020-04-24",
          "2020-04-25",
          "2020-04-26",
          "2020-04-27",
          "2020-04-28",
          "2020-04-29",
          "2020-04-30",
          "2020-05-01",
          "2020-05-02",
          "2020-05-03",
          "2020-05-04",
          "2020-05-05",
          "2020-05-06",
          "2020-05-07",
          "2020-05-08",
          "2020-05-09",
          "2020-05-10",
          "2020-05-11",
          "2020-05-12",
          "2020-05-13",
          "2020-05-14",
          "2020-05-15",
          "2020-05-16",
          "2020-05-17",
          "2020-05-18",
          "2020-05-19",
          "2020-05-20",
          "2020-05-21",
          "2020-05-22",
          "2020-05-23",
          "2020-05-24",
          "2020-05-25",
          "2020-05-26",
          "2020-05-27",
          "2020-05-28",
          "2020-05-29",
          "2020-05-30",
          "2020-05-31",
          "2020-06-01",
          "2020-06-02",
          "2020-06-03",
          "2020-06-04",
          "2020-06-05"
         ],
         "xaxis": "x",
         "y": [
          72,
          79,
          93,
          102,
          99,
          102,
          99,
          99,
          99,
          99,
          99,
          99,
          99,
          99,
          99,
          99,
          99,
          99,
          99,
          99,
          99,
          99,
          99,
          91,
          75,
          75,
          75,
          75,
          57,
          55,
          75,
          75,
          64,
          68,
          48,
          43,
          54,
          79,
          96,
          91,
          94,
          94,
          92,
          93,
          96,
          96,
          94,
          93,
          96,
          95,
          94,
          92,
          92,
          104,
          113,
          118,
          121,
          121,
          120,
          144,
          144,
          143,
          131,
          132,
          119,
          116,
          119,
          46,
          86,
          102,
          85,
          102,
          102,
          103,
          102,
          80,
          81,
          78,
          78,
          79,
          78,
          78,
          72,
          79,
          78,
          78,
          78,
          76,
          68,
          72,
          78,
          77,
          75,
          78,
          75,
          75,
          55,
          51,
          51,
          38,
          31,
          27,
          27,
          24,
          27,
          27,
          27,
          27,
          27,
          27,
          24,
          35,
          53,
          51,
          51,
          50,
          51,
          48,
          51,
          51,
          51,
          51,
          50,
          51,
          48,
          65,
          84,
          78,
          75,
          78,
          78,
          70,
          72,
          72,
          72,
          72,
          30
         ],
         "yaxis": "y"
        }
       ],
       "layout": {
        "legend": {
         "tracegroupgap": 0
        },
        "template": {
         "data": {
          "bar": [
           {
            "error_x": {
             "color": "#2a3f5f"
            },
            "error_y": {
             "color": "#2a3f5f"
            },
            "marker": {
             "line": {
              "color": "#E5ECF6",
              "width": 0.5
             }
            },
            "type": "bar"
           }
          ],
          "barpolar": [
           {
            "marker": {
             "line": {
              "color": "#E5ECF6",
              "width": 0.5
             }
            },
            "type": "barpolar"
           }
          ],
          "carpet": [
           {
            "aaxis": {
             "endlinecolor": "#2a3f5f",
             "gridcolor": "white",
             "linecolor": "white",
             "minorgridcolor": "white",
             "startlinecolor": "#2a3f5f"
            },
            "baxis": {
             "endlinecolor": "#2a3f5f",
             "gridcolor": "white",
             "linecolor": "white",
             "minorgridcolor": "white",
             "startlinecolor": "#2a3f5f"
            },
            "type": "carpet"
           }
          ],
          "choropleth": [
           {
            "colorbar": {
             "outlinewidth": 0,
             "ticks": ""
            },
            "type": "choropleth"
           }
          ],
          "contour": [
           {
            "colorbar": {
             "outlinewidth": 0,
             "ticks": ""
            },
            "colorscale": [
             [
              0,
              "#0d0887"
             ],
             [
              0.1111111111111111,
              "#46039f"
             ],
             [
              0.2222222222222222,
              "#7201a8"
             ],
             [
              0.3333333333333333,
              "#9c179e"
             ],
             [
              0.4444444444444444,
              "#bd3786"
             ],
             [
              0.5555555555555556,
              "#d8576b"
             ],
             [
              0.6666666666666666,
              "#ed7953"
             ],
             [
              0.7777777777777778,
              "#fb9f3a"
             ],
             [
              0.8888888888888888,
              "#fdca26"
             ],
             [
              1,
              "#f0f921"
             ]
            ],
            "type": "contour"
           }
          ],
          "contourcarpet": [
           {
            "colorbar": {
             "outlinewidth": 0,
             "ticks": ""
            },
            "type": "contourcarpet"
           }
          ],
          "heatmap": [
           {
            "colorbar": {
             "outlinewidth": 0,
             "ticks": ""
            },
            "colorscale": [
             [
              0,
              "#0d0887"
             ],
             [
              0.1111111111111111,
              "#46039f"
             ],
             [
              0.2222222222222222,
              "#7201a8"
             ],
             [
              0.3333333333333333,
              "#9c179e"
             ],
             [
              0.4444444444444444,
              "#bd3786"
             ],
             [
              0.5555555555555556,
              "#d8576b"
             ],
             [
              0.6666666666666666,
              "#ed7953"
             ],
             [
              0.7777777777777778,
              "#fb9f3a"
             ],
             [
              0.8888888888888888,
              "#fdca26"
             ],
             [
              1,
              "#f0f921"
             ]
            ],
            "type": "heatmap"
           }
          ],
          "heatmapgl": [
           {
            "colorbar": {
             "outlinewidth": 0,
             "ticks": ""
            },
            "colorscale": [
             [
              0,
              "#0d0887"
             ],
             [
              0.1111111111111111,
              "#46039f"
             ],
             [
              0.2222222222222222,
              "#7201a8"
             ],
             [
              0.3333333333333333,
              "#9c179e"
             ],
             [
              0.4444444444444444,
              "#bd3786"
             ],
             [
              0.5555555555555556,
              "#d8576b"
             ],
             [
              0.6666666666666666,
              "#ed7953"
             ],
             [
              0.7777777777777778,
              "#fb9f3a"
             ],
             [
              0.8888888888888888,
              "#fdca26"
             ],
             [
              1,
              "#f0f921"
             ]
            ],
            "type": "heatmapgl"
           }
          ],
          "histogram": [
           {
            "marker": {
             "colorbar": {
              "outlinewidth": 0,
              "ticks": ""
             }
            },
            "type": "histogram"
           }
          ],
          "histogram2d": [
           {
            "colorbar": {
             "outlinewidth": 0,
             "ticks": ""
            },
            "colorscale": [
             [
              0,
              "#0d0887"
             ],
             [
              0.1111111111111111,
              "#46039f"
             ],
             [
              0.2222222222222222,
              "#7201a8"
             ],
             [
              0.3333333333333333,
              "#9c179e"
             ],
             [
              0.4444444444444444,
              "#bd3786"
             ],
             [
              0.5555555555555556,
              "#d8576b"
             ],
             [
              0.6666666666666666,
              "#ed7953"
             ],
             [
              0.7777777777777778,
              "#fb9f3a"
             ],
             [
              0.8888888888888888,
              "#fdca26"
             ],
             [
              1,
              "#f0f921"
             ]
            ],
            "type": "histogram2d"
           }
          ],
          "histogram2dcontour": [
           {
            "colorbar": {
             "outlinewidth": 0,
             "ticks": ""
            },
            "colorscale": [
             [
              0,
              "#0d0887"
             ],
             [
              0.1111111111111111,
              "#46039f"
             ],
             [
              0.2222222222222222,
              "#7201a8"
             ],
             [
              0.3333333333333333,
              "#9c179e"
             ],
             [
              0.4444444444444444,
              "#bd3786"
             ],
             [
              0.5555555555555556,
              "#d8576b"
             ],
             [
              0.6666666666666666,
              "#ed7953"
             ],
             [
              0.7777777777777778,
              "#fb9f3a"
             ],
             [
              0.8888888888888888,
              "#fdca26"
             ],
             [
              1,
              "#f0f921"
             ]
            ],
            "type": "histogram2dcontour"
           }
          ],
          "mesh3d": [
           {
            "colorbar": {
             "outlinewidth": 0,
             "ticks": ""
            },
            "type": "mesh3d"
           }
          ],
          "parcoords": [
           {
            "line": {
             "colorbar": {
              "outlinewidth": 0,
              "ticks": ""
             }
            },
            "type": "parcoords"
           }
          ],
          "pie": [
           {
            "automargin": true,
            "type": "pie"
           }
          ],
          "scatter": [
           {
            "marker": {
             "colorbar": {
              "outlinewidth": 0,
              "ticks": ""
             }
            },
            "type": "scatter"
           }
          ],
          "scatter3d": [
           {
            "line": {
             "colorbar": {
              "outlinewidth": 0,
              "ticks": ""
             }
            },
            "marker": {
             "colorbar": {
              "outlinewidth": 0,
              "ticks": ""
             }
            },
            "type": "scatter3d"
           }
          ],
          "scattercarpet": [
           {
            "marker": {
             "colorbar": {
              "outlinewidth": 0,
              "ticks": ""
             }
            },
            "type": "scattercarpet"
           }
          ],
          "scattergeo": [
           {
            "marker": {
             "colorbar": {
              "outlinewidth": 0,
              "ticks": ""
             }
            },
            "type": "scattergeo"
           }
          ],
          "scattergl": [
           {
            "marker": {
             "colorbar": {
              "outlinewidth": 0,
              "ticks": ""
             }
            },
            "type": "scattergl"
           }
          ],
          "scattermapbox": [
           {
            "marker": {
             "colorbar": {
              "outlinewidth": 0,
              "ticks": ""
             }
            },
            "type": "scattermapbox"
           }
          ],
          "scatterpolar": [
           {
            "marker": {
             "colorbar": {
              "outlinewidth": 0,
              "ticks": ""
             }
            },
            "type": "scatterpolar"
           }
          ],
          "scatterpolargl": [
           {
            "marker": {
             "colorbar": {
              "outlinewidth": 0,
              "ticks": ""
             }
            },
            "type": "scatterpolargl"
           }
          ],
          "scatterternary": [
           {
            "marker": {
             "colorbar": {
              "outlinewidth": 0,
              "ticks": ""
             }
            },
            "type": "scatterternary"
           }
          ],
          "surface": [
           {
            "colorbar": {
             "outlinewidth": 0,
             "ticks": ""
            },
            "colorscale": [
             [
              0,
              "#0d0887"
             ],
             [
              0.1111111111111111,
              "#46039f"
             ],
             [
              0.2222222222222222,
              "#7201a8"
             ],
             [
              0.3333333333333333,
              "#9c179e"
             ],
             [
              0.4444444444444444,
              "#bd3786"
             ],
             [
              0.5555555555555556,
              "#d8576b"
             ],
             [
              0.6666666666666666,
              "#ed7953"
             ],
             [
              0.7777777777777778,
              "#fb9f3a"
             ],
             [
              0.8888888888888888,
              "#fdca26"
             ],
             [
              1,
              "#f0f921"
             ]
            ],
            "type": "surface"
           }
          ],
          "table": [
           {
            "cells": {
             "fill": {
              "color": "#EBF0F8"
             },
             "line": {
              "color": "white"
             }
            },
            "header": {
             "fill": {
              "color": "#C8D4E3"
             },
             "line": {
              "color": "white"
             }
            },
            "type": "table"
           }
          ]
         },
         "layout": {
          "annotationdefaults": {
           "arrowcolor": "#2a3f5f",
           "arrowhead": 0,
           "arrowwidth": 1
          },
          "coloraxis": {
           "colorbar": {
            "outlinewidth": 0,
            "ticks": ""
           }
          },
          "colorscale": {
           "diverging": [
            [
             0,
             "#8e0152"
            ],
            [
             0.1,
             "#c51b7d"
            ],
            [
             0.2,
             "#de77ae"
            ],
            [
             0.3,
             "#f1b6da"
            ],
            [
             0.4,
             "#fde0ef"
            ],
            [
             0.5,
             "#f7f7f7"
            ],
            [
             0.6,
             "#e6f5d0"
            ],
            [
             0.7,
             "#b8e186"
            ],
            [
             0.8,
             "#7fbc41"
            ],
            [
             0.9,
             "#4d9221"
            ],
            [
             1,
             "#276419"
            ]
           ],
           "sequential": [
            [
             0,
             "#0d0887"
            ],
            [
             0.1111111111111111,
             "#46039f"
            ],
            [
             0.2222222222222222,
             "#7201a8"
            ],
            [
             0.3333333333333333,
             "#9c179e"
            ],
            [
             0.4444444444444444,
             "#bd3786"
            ],
            [
             0.5555555555555556,
             "#d8576b"
            ],
            [
             0.6666666666666666,
             "#ed7953"
            ],
            [
             0.7777777777777778,
             "#fb9f3a"
            ],
            [
             0.8888888888888888,
             "#fdca26"
            ],
            [
             1,
             "#f0f921"
            ]
           ],
           "sequentialminus": [
            [
             0,
             "#0d0887"
            ],
            [
             0.1111111111111111,
             "#46039f"
            ],
            [
             0.2222222222222222,
             "#7201a8"
            ],
            [
             0.3333333333333333,
             "#9c179e"
            ],
            [
             0.4444444444444444,
             "#bd3786"
            ],
            [
             0.5555555555555556,
             "#d8576b"
            ],
            [
             0.6666666666666666,
             "#ed7953"
            ],
            [
             0.7777777777777778,
             "#fb9f3a"
            ],
            [
             0.8888888888888888,
             "#fdca26"
            ],
            [
             1,
             "#f0f921"
            ]
           ]
          },
          "colorway": [
           "#636efa",
           "#EF553B",
           "#00cc96",
           "#ab63fa",
           "#FFA15A",
           "#19d3f3",
           "#FF6692",
           "#B6E880",
           "#FF97FF",
           "#FECB52"
          ],
          "font": {
           "color": "#2a3f5f"
          },
          "geo": {
           "bgcolor": "white",
           "lakecolor": "white",
           "landcolor": "#E5ECF6",
           "showlakes": true,
           "showland": true,
           "subunitcolor": "white"
          },
          "hoverlabel": {
           "align": "left"
          },
          "hovermode": "closest",
          "mapbox": {
           "style": "light"
          },
          "paper_bgcolor": "white",
          "plot_bgcolor": "#E5ECF6",
          "polar": {
           "angularaxis": {
            "gridcolor": "white",
            "linecolor": "white",
            "ticks": ""
           },
           "bgcolor": "#E5ECF6",
           "radialaxis": {
            "gridcolor": "white",
            "linecolor": "white",
            "ticks": ""
           }
          },
          "scene": {
           "xaxis": {
            "backgroundcolor": "#E5ECF6",
            "gridcolor": "white",
            "gridwidth": 2,
            "linecolor": "white",
            "showbackground": true,
            "ticks": "",
            "zerolinecolor": "white"
           },
           "yaxis": {
            "backgroundcolor": "#E5ECF6",
            "gridcolor": "white",
            "gridwidth": 2,
            "linecolor": "white",
            "showbackground": true,
            "ticks": "",
            "zerolinecolor": "white"
           },
           "zaxis": {
            "backgroundcolor": "#E5ECF6",
            "gridcolor": "white",
            "gridwidth": 2,
            "linecolor": "white",
            "showbackground": true,
            "ticks": "",
            "zerolinecolor": "white"
           }
          },
          "shapedefaults": {
           "line": {
            "color": "#2a3f5f"
           }
          },
          "ternary": {
           "aaxis": {
            "gridcolor": "white",
            "linecolor": "white",
            "ticks": ""
           },
           "baxis": {
            "gridcolor": "white",
            "linecolor": "white",
            "ticks": ""
           },
           "bgcolor": "#E5ECF6",
           "caxis": {
            "gridcolor": "white",
            "linecolor": "white",
            "ticks": ""
           }
          },
          "title": {
           "x": 0.05
          },
          "xaxis": {
           "automargin": true,
           "gridcolor": "white",
           "linecolor": "white",
           "ticks": "",
           "title": {
            "standoff": 15
           },
           "zerolinecolor": "white",
           "zerolinewidth": 2
          },
          "yaxis": {
           "automargin": true,
           "gridcolor": "white",
           "linecolor": "white",
           "ticks": "",
           "title": {
            "standoff": 15
           },
           "zerolinecolor": "white",
           "zerolinewidth": 2
          }
         }
        },
        "title": {
         "text": "VALORES PARA CO POR FECHA"
        },
        "xaxis": {
         "anchor": "y",
         "domain": [
          0,
          1
         ],
         "title": {
          "text": "Date"
         }
        },
        "yaxis": {
         "anchor": "x",
         "domain": [
          0,
          1
         ],
         "title": {
          "text": "count"
         }
        }
       }
      },
      "text/html": [
       "<div>\n",
       "        \n",
       "        \n",
       "            <div id=\"53159beb-a6f6-4f20-8cfc-2b8489dbbf26\" class=\"plotly-graph-div\" style=\"height:525px; width:100%;\"></div>\n",
       "            <script type=\"text/javascript\">\n",
       "                require([\"plotly\"], function(Plotly) {\n",
       "                    window.PLOTLYENV=window.PLOTLYENV || {};\n",
       "                    \n",
       "                if (document.getElementById(\"53159beb-a6f6-4f20-8cfc-2b8489dbbf26\")) {\n",
       "                    Plotly.newPlot(\n",
       "                        '53159beb-a6f6-4f20-8cfc-2b8489dbbf26',\n",
       "                        [{\"hovertemplate\": \"Date=%{x}<br>count=%{y}<extra></extra>\", \"legendgroup\": \"\", \"line\": {\"color\": \"#636efa\", \"dash\": \"solid\"}, \"mode\": \"lines\", \"name\": \"\", \"orientation\": \"v\", \"showlegend\": false, \"type\": \"scatter\", \"x\": [\"2019-12-30\", \"2019-12-31\", \"2020-01-01\", \"2020-01-02\", \"2020-01-03\", \"2020-01-04\", \"2020-01-05\", \"2020-01-06\", \"2020-01-07\", \"2020-01-08\", \"2020-01-09\", \"2020-01-10\", \"2020-01-11\", \"2020-01-12\", \"2020-01-13\", \"2020-01-14\", \"2020-01-15\", \"2020-01-16\", \"2020-01-17\", \"2020-01-18\", \"2020-01-19\", \"2020-01-20\", \"2020-01-21\", \"2020-01-22\", \"2020-01-23\", \"2020-01-24\", \"2020-01-25\", \"2020-01-26\", \"2020-01-27\", \"2020-01-28\", \"2020-01-29\", \"2020-01-30\", \"2020-01-31\", \"2020-02-01\", \"2020-02-02\", \"2020-02-03\", \"2020-02-04\", \"2020-02-05\", \"2020-02-06\", \"2020-02-07\", \"2020-02-08\", \"2020-02-09\", \"2020-02-10\", \"2020-02-11\", \"2020-02-12\", \"2020-02-13\", \"2020-02-14\", \"2020-02-15\", \"2020-02-16\", \"2020-02-17\", \"2020-02-18\", \"2020-02-19\", \"2020-02-20\", \"2020-02-21\", \"2020-02-22\", \"2020-02-23\", \"2020-02-24\", \"2020-02-25\", \"2020-02-26\", \"2020-02-27\", \"2020-02-28\", \"2020-02-29\", \"2020-03-01\", \"2020-03-02\", \"2020-03-03\", \"2020-03-04\", \"2020-03-05\", \"2020-03-06\", \"2020-03-29\", \"2020-03-30\", \"2020-03-31\", \"2020-04-01\", \"2020-04-02\", \"2020-04-03\", \"2020-04-04\", \"2020-04-05\", \"2020-04-06\", \"2020-04-07\", \"2020-04-08\", \"2020-04-09\", \"2020-04-10\", \"2020-04-11\", \"2020-04-12\", \"2020-04-13\", \"2020-04-14\", \"2020-04-15\", \"2020-04-16\", \"2020-04-17\", \"2020-04-18\", \"2020-04-19\", \"2020-04-20\", \"2020-04-21\", \"2020-04-22\", \"2020-04-23\", \"2020-04-24\", \"2020-04-25\", \"2020-04-26\", \"2020-04-27\", \"2020-04-28\", \"2020-04-29\", \"2020-04-30\", \"2020-05-01\", \"2020-05-02\", \"2020-05-03\", \"2020-05-04\", \"2020-05-05\", \"2020-05-06\", \"2020-05-07\", \"2020-05-08\", \"2020-05-09\", \"2020-05-10\", \"2020-05-11\", \"2020-05-12\", \"2020-05-13\", \"2020-05-14\", \"2020-05-15\", \"2020-05-16\", \"2020-05-17\", \"2020-05-18\", \"2020-05-19\", \"2020-05-20\", \"2020-05-21\", \"2020-05-22\", \"2020-05-23\", \"2020-05-24\", \"2020-05-25\", \"2020-05-26\", \"2020-05-27\", \"2020-05-28\", \"2020-05-29\", \"2020-05-30\", \"2020-05-31\", \"2020-06-01\", \"2020-06-02\", \"2020-06-03\", \"2020-06-04\", \"2020-06-05\"], \"xaxis\": \"x\", \"y\": [72, 79, 93, 102, 99, 102, 99, 99, 99, 99, 99, 99, 99, 99, 99, 99, 99, 99, 99, 99, 99, 99, 99, 91, 75, 75, 75, 75, 57, 55, 75, 75, 64, 68, 48, 43, 54, 79, 96, 91, 94, 94, 92, 93, 96, 96, 94, 93, 96, 95, 94, 92, 92, 104, 113, 118, 121, 121, 120, 144, 144, 143, 131, 132, 119, 116, 119, 46, 86, 102, 85, 102, 102, 103, 102, 80, 81, 78, 78, 79, 78, 78, 72, 79, 78, 78, 78, 76, 68, 72, 78, 77, 75, 78, 75, 75, 55, 51, 51, 38, 31, 27, 27, 24, 27, 27, 27, 27, 27, 27, 24, 35, 53, 51, 51, 50, 51, 48, 51, 51, 51, 51, 50, 51, 48, 65, 84, 78, 75, 78, 78, 70, 72, 72, 72, 72, 30], \"yaxis\": \"y\"}],\n",
       "                        {\"legend\": {\"tracegroupgap\": 0}, \"template\": {\"data\": {\"bar\": [{\"error_x\": {\"color\": \"#2a3f5f\"}, \"error_y\": {\"color\": \"#2a3f5f\"}, \"marker\": {\"line\": {\"color\": \"#E5ECF6\", \"width\": 0.5}}, \"type\": \"bar\"}], \"barpolar\": [{\"marker\": {\"line\": {\"color\": \"#E5ECF6\", \"width\": 0.5}}, \"type\": \"barpolar\"}], \"carpet\": [{\"aaxis\": {\"endlinecolor\": \"#2a3f5f\", \"gridcolor\": \"white\", \"linecolor\": \"white\", \"minorgridcolor\": \"white\", \"startlinecolor\": \"#2a3f5f\"}, \"baxis\": {\"endlinecolor\": \"#2a3f5f\", \"gridcolor\": \"white\", \"linecolor\": \"white\", \"minorgridcolor\": \"white\", \"startlinecolor\": \"#2a3f5f\"}, \"type\": \"carpet\"}], \"choropleth\": [{\"colorbar\": {\"outlinewidth\": 0, \"ticks\": \"\"}, \"type\": \"choropleth\"}], \"contour\": [{\"colorbar\": {\"outlinewidth\": 0, \"ticks\": \"\"}, \"colorscale\": [[0.0, \"#0d0887\"], [0.1111111111111111, \"#46039f\"], [0.2222222222222222, \"#7201a8\"], [0.3333333333333333, \"#9c179e\"], [0.4444444444444444, \"#bd3786\"], [0.5555555555555556, \"#d8576b\"], [0.6666666666666666, \"#ed7953\"], [0.7777777777777778, \"#fb9f3a\"], [0.8888888888888888, \"#fdca26\"], [1.0, \"#f0f921\"]], \"type\": \"contour\"}], \"contourcarpet\": [{\"colorbar\": {\"outlinewidth\": 0, \"ticks\": \"\"}, \"type\": \"contourcarpet\"}], \"heatmap\": [{\"colorbar\": {\"outlinewidth\": 0, \"ticks\": \"\"}, \"colorscale\": [[0.0, \"#0d0887\"], [0.1111111111111111, \"#46039f\"], [0.2222222222222222, \"#7201a8\"], [0.3333333333333333, \"#9c179e\"], [0.4444444444444444, \"#bd3786\"], [0.5555555555555556, \"#d8576b\"], [0.6666666666666666, \"#ed7953\"], [0.7777777777777778, \"#fb9f3a\"], [0.8888888888888888, \"#fdca26\"], [1.0, \"#f0f921\"]], \"type\": \"heatmap\"}], \"heatmapgl\": [{\"colorbar\": {\"outlinewidth\": 0, \"ticks\": \"\"}, \"colorscale\": [[0.0, \"#0d0887\"], [0.1111111111111111, \"#46039f\"], [0.2222222222222222, \"#7201a8\"], [0.3333333333333333, \"#9c179e\"], [0.4444444444444444, \"#bd3786\"], [0.5555555555555556, \"#d8576b\"], [0.6666666666666666, \"#ed7953\"], [0.7777777777777778, \"#fb9f3a\"], [0.8888888888888888, \"#fdca26\"], [1.0, \"#f0f921\"]], \"type\": \"heatmapgl\"}], \"histogram\": [{\"marker\": {\"colorbar\": {\"outlinewidth\": 0, \"ticks\": \"\"}}, \"type\": \"histogram\"}], \"histogram2d\": [{\"colorbar\": {\"outlinewidth\": 0, \"ticks\": \"\"}, \"colorscale\": [[0.0, \"#0d0887\"], [0.1111111111111111, \"#46039f\"], [0.2222222222222222, \"#7201a8\"], [0.3333333333333333, \"#9c179e\"], [0.4444444444444444, \"#bd3786\"], [0.5555555555555556, \"#d8576b\"], [0.6666666666666666, \"#ed7953\"], [0.7777777777777778, \"#fb9f3a\"], [0.8888888888888888, \"#fdca26\"], [1.0, \"#f0f921\"]], \"type\": \"histogram2d\"}], \"histogram2dcontour\": [{\"colorbar\": {\"outlinewidth\": 0, \"ticks\": \"\"}, \"colorscale\": [[0.0, \"#0d0887\"], [0.1111111111111111, \"#46039f\"], [0.2222222222222222, \"#7201a8\"], [0.3333333333333333, \"#9c179e\"], [0.4444444444444444, \"#bd3786\"], [0.5555555555555556, \"#d8576b\"], [0.6666666666666666, \"#ed7953\"], [0.7777777777777778, \"#fb9f3a\"], [0.8888888888888888, \"#fdca26\"], [1.0, \"#f0f921\"]], \"type\": \"histogram2dcontour\"}], \"mesh3d\": [{\"colorbar\": {\"outlinewidth\": 0, \"ticks\": \"\"}, \"type\": \"mesh3d\"}], \"parcoords\": [{\"line\": {\"colorbar\": {\"outlinewidth\": 0, \"ticks\": \"\"}}, \"type\": \"parcoords\"}], \"pie\": [{\"automargin\": true, \"type\": \"pie\"}], \"scatter\": [{\"marker\": {\"colorbar\": {\"outlinewidth\": 0, \"ticks\": \"\"}}, \"type\": \"scatter\"}], \"scatter3d\": [{\"line\": {\"colorbar\": {\"outlinewidth\": 0, \"ticks\": \"\"}}, \"marker\": {\"colorbar\": {\"outlinewidth\": 0, \"ticks\": \"\"}}, \"type\": \"scatter3d\"}], \"scattercarpet\": [{\"marker\": {\"colorbar\": {\"outlinewidth\": 0, \"ticks\": \"\"}}, \"type\": \"scattercarpet\"}], \"scattergeo\": [{\"marker\": {\"colorbar\": {\"outlinewidth\": 0, \"ticks\": \"\"}}, \"type\": \"scattergeo\"}], \"scattergl\": [{\"marker\": {\"colorbar\": {\"outlinewidth\": 0, \"ticks\": \"\"}}, \"type\": \"scattergl\"}], \"scattermapbox\": [{\"marker\": {\"colorbar\": {\"outlinewidth\": 0, \"ticks\": \"\"}}, \"type\": \"scattermapbox\"}], \"scatterpolar\": [{\"marker\": {\"colorbar\": {\"outlinewidth\": 0, \"ticks\": \"\"}}, \"type\": \"scatterpolar\"}], \"scatterpolargl\": [{\"marker\": {\"colorbar\": {\"outlinewidth\": 0, \"ticks\": \"\"}}, \"type\": \"scatterpolargl\"}], \"scatterternary\": [{\"marker\": {\"colorbar\": {\"outlinewidth\": 0, \"ticks\": \"\"}}, \"type\": \"scatterternary\"}], \"surface\": [{\"colorbar\": {\"outlinewidth\": 0, \"ticks\": \"\"}, \"colorscale\": [[0.0, \"#0d0887\"], [0.1111111111111111, \"#46039f\"], [0.2222222222222222, \"#7201a8\"], [0.3333333333333333, \"#9c179e\"], [0.4444444444444444, \"#bd3786\"], [0.5555555555555556, \"#d8576b\"], [0.6666666666666666, \"#ed7953\"], [0.7777777777777778, \"#fb9f3a\"], [0.8888888888888888, \"#fdca26\"], [1.0, \"#f0f921\"]], \"type\": \"surface\"}], \"table\": [{\"cells\": {\"fill\": {\"color\": \"#EBF0F8\"}, \"line\": {\"color\": \"white\"}}, \"header\": {\"fill\": {\"color\": \"#C8D4E3\"}, \"line\": {\"color\": \"white\"}}, \"type\": \"table\"}]}, \"layout\": {\"annotationdefaults\": {\"arrowcolor\": \"#2a3f5f\", \"arrowhead\": 0, \"arrowwidth\": 1}, \"coloraxis\": {\"colorbar\": {\"outlinewidth\": 0, \"ticks\": \"\"}}, \"colorscale\": {\"diverging\": [[0, \"#8e0152\"], [0.1, \"#c51b7d\"], [0.2, \"#de77ae\"], [0.3, \"#f1b6da\"], [0.4, \"#fde0ef\"], [0.5, \"#f7f7f7\"], [0.6, \"#e6f5d0\"], [0.7, \"#b8e186\"], [0.8, \"#7fbc41\"], [0.9, \"#4d9221\"], [1, \"#276419\"]], \"sequential\": [[0.0, \"#0d0887\"], [0.1111111111111111, \"#46039f\"], [0.2222222222222222, \"#7201a8\"], [0.3333333333333333, \"#9c179e\"], [0.4444444444444444, \"#bd3786\"], [0.5555555555555556, \"#d8576b\"], [0.6666666666666666, \"#ed7953\"], [0.7777777777777778, \"#fb9f3a\"], [0.8888888888888888, \"#fdca26\"], [1.0, \"#f0f921\"]], \"sequentialminus\": [[0.0, \"#0d0887\"], [0.1111111111111111, \"#46039f\"], [0.2222222222222222, \"#7201a8\"], [0.3333333333333333, \"#9c179e\"], [0.4444444444444444, \"#bd3786\"], [0.5555555555555556, \"#d8576b\"], [0.6666666666666666, \"#ed7953\"], [0.7777777777777778, \"#fb9f3a\"], [0.8888888888888888, \"#fdca26\"], [1.0, \"#f0f921\"]]}, \"colorway\": [\"#636efa\", \"#EF553B\", \"#00cc96\", \"#ab63fa\", \"#FFA15A\", \"#19d3f3\", \"#FF6692\", \"#B6E880\", \"#FF97FF\", \"#FECB52\"], \"font\": {\"color\": \"#2a3f5f\"}, \"geo\": {\"bgcolor\": \"white\", \"lakecolor\": \"white\", \"landcolor\": \"#E5ECF6\", \"showlakes\": true, \"showland\": true, \"subunitcolor\": \"white\"}, \"hoverlabel\": {\"align\": \"left\"}, \"hovermode\": \"closest\", \"mapbox\": {\"style\": \"light\"}, \"paper_bgcolor\": \"white\", \"plot_bgcolor\": \"#E5ECF6\", \"polar\": {\"angularaxis\": {\"gridcolor\": \"white\", \"linecolor\": \"white\", \"ticks\": \"\"}, \"bgcolor\": \"#E5ECF6\", \"radialaxis\": {\"gridcolor\": \"white\", \"linecolor\": \"white\", \"ticks\": \"\"}}, \"scene\": {\"xaxis\": {\"backgroundcolor\": \"#E5ECF6\", \"gridcolor\": \"white\", \"gridwidth\": 2, \"linecolor\": \"white\", \"showbackground\": true, \"ticks\": \"\", \"zerolinecolor\": \"white\"}, \"yaxis\": {\"backgroundcolor\": \"#E5ECF6\", \"gridcolor\": \"white\", \"gridwidth\": 2, \"linecolor\": \"white\", \"showbackground\": true, \"ticks\": \"\", \"zerolinecolor\": \"white\"}, \"zaxis\": {\"backgroundcolor\": \"#E5ECF6\", \"gridcolor\": \"white\", \"gridwidth\": 2, \"linecolor\": \"white\", \"showbackground\": true, \"ticks\": \"\", \"zerolinecolor\": \"white\"}}, \"shapedefaults\": {\"line\": {\"color\": \"#2a3f5f\"}}, \"ternary\": {\"aaxis\": {\"gridcolor\": \"white\", \"linecolor\": \"white\", \"ticks\": \"\"}, \"baxis\": {\"gridcolor\": \"white\", \"linecolor\": \"white\", \"ticks\": \"\"}, \"bgcolor\": \"#E5ECF6\", \"caxis\": {\"gridcolor\": \"white\", \"linecolor\": \"white\", \"ticks\": \"\"}}, \"title\": {\"x\": 0.05}, \"xaxis\": {\"automargin\": true, \"gridcolor\": \"white\", \"linecolor\": \"white\", \"ticks\": \"\", \"title\": {\"standoff\": 15}, \"zerolinecolor\": \"white\", \"zerolinewidth\": 2}, \"yaxis\": {\"automargin\": true, \"gridcolor\": \"white\", \"linecolor\": \"white\", \"ticks\": \"\", \"title\": {\"standoff\": 15}, \"zerolinecolor\": \"white\", \"zerolinewidth\": 2}}}, \"title\": {\"text\": \"VALORES PARA CO POR FECHA\"}, \"xaxis\": {\"anchor\": \"y\", \"domain\": [0.0, 1.0], \"title\": {\"text\": \"Date\"}}, \"yaxis\": {\"anchor\": \"x\", \"domain\": [0.0, 1.0], \"title\": {\"text\": \"count\"}}},\n",
       "                        {\"responsive\": true}\n",
       "                    ).then(function(){\n",
       "                            \n",
       "var gd = document.getElementById('53159beb-a6f6-4f20-8cfc-2b8489dbbf26');\n",
       "var x = new MutationObserver(function (mutations, observer) {{\n",
       "        var display = window.getComputedStyle(gd).display;\n",
       "        if (!display || display === 'none') {{\n",
       "            console.log([gd, 'removed!']);\n",
       "            Plotly.purge(gd);\n",
       "            observer.disconnect();\n",
       "        }}\n",
       "}});\n",
       "\n",
       "// Listen for the removal of the full notebook cells\n",
       "var notebookContainer = gd.closest('#notebook-container');\n",
       "if (notebookContainer) {{\n",
       "    x.observe(notebookContainer, {childList: true});\n",
       "}}\n",
       "\n",
       "// Listen for the clearing of the current output cell\n",
       "var outputEl = gd.closest('.output');\n",
       "if (outputEl) {{\n",
       "    x.observe(outputEl, {childList: true});\n",
       "}}\n",
       "\n",
       "                        })\n",
       "                };\n",
       "                });\n",
       "            </script>\n",
       "        </div>"
      ]
     },
     "metadata": {},
     "output_type": "display_data"
    },
    {
     "data": {
      "application/vnd.plotly.v1+json": {
       "config": {
        "plotlyServerURL": "https://plot.ly"
       },
       "data": [
        {
         "hovertemplate": "Date=%{x}<br>count=%{y}<extra></extra>",
         "legendgroup": "",
         "line": {
          "color": "#636efa",
          "dash": "solid"
         },
         "mode": "lines",
         "name": "",
         "orientation": "v",
         "showlegend": false,
         "type": "scatter",
         "x": [
          "2019-12-30",
          "2019-12-31",
          "2020-01-01",
          "2020-01-02",
          "2020-01-03",
          "2020-01-04",
          "2020-01-05",
          "2020-01-06",
          "2020-01-07",
          "2020-01-08",
          "2020-01-09",
          "2020-01-10",
          "2020-01-11",
          "2020-01-12",
          "2020-01-13",
          "2020-01-14",
          "2020-01-15",
          "2020-01-16",
          "2020-01-17",
          "2020-01-18",
          "2020-01-19",
          "2020-01-20",
          "2020-01-21",
          "2020-01-22",
          "2020-01-23",
          "2020-01-24",
          "2020-01-25",
          "2020-01-26",
          "2020-01-27",
          "2020-01-28",
          "2020-01-29",
          "2020-01-30",
          "2020-01-31",
          "2020-02-01",
          "2020-02-02",
          "2020-02-03",
          "2020-02-04",
          "2020-02-05",
          "2020-02-06",
          "2020-02-07",
          "2020-02-08",
          "2020-02-09",
          "2020-02-10",
          "2020-02-11",
          "2020-02-12",
          "2020-02-13",
          "2020-02-14",
          "2020-02-15",
          "2020-02-16",
          "2020-02-17",
          "2020-02-18",
          "2020-02-19",
          "2020-02-20",
          "2020-02-21",
          "2020-02-22",
          "2020-02-23",
          "2020-02-24",
          "2020-02-25",
          "2020-02-26",
          "2020-02-27",
          "2020-02-28",
          "2020-02-29",
          "2020-03-01",
          "2020-03-02",
          "2020-03-03",
          "2020-03-04",
          "2020-03-05",
          "2020-03-06",
          "2020-03-29",
          "2020-03-30",
          "2020-03-31",
          "2020-04-01",
          "2020-04-02",
          "2020-04-03",
          "2020-04-04",
          "2020-04-05",
          "2020-04-06",
          "2020-04-07",
          "2020-04-08",
          "2020-04-09",
          "2020-04-10",
          "2020-04-11",
          "2020-04-12",
          "2020-04-13",
          "2020-04-14",
          "2020-04-15",
          "2020-04-16",
          "2020-04-17",
          "2020-04-18",
          "2020-04-19",
          "2020-04-20",
          "2020-04-21",
          "2020-04-22",
          "2020-04-23",
          "2020-04-24",
          "2020-04-25",
          "2020-04-26",
          "2020-04-27",
          "2020-04-28",
          "2020-04-29",
          "2020-04-30",
          "2020-05-01",
          "2020-05-02",
          "2020-05-03",
          "2020-05-04",
          "2020-05-05",
          "2020-05-06",
          "2020-05-07",
          "2020-05-08",
          "2020-05-09",
          "2020-05-10",
          "2020-05-11",
          "2020-05-12",
          "2020-05-13",
          "2020-05-14",
          "2020-05-15",
          "2020-05-16",
          "2020-05-17",
          "2020-05-18",
          "2020-05-19",
          "2020-05-20",
          "2020-05-21",
          "2020-05-22",
          "2020-05-23",
          "2020-05-24",
          "2020-05-25",
          "2020-05-26",
          "2020-05-27",
          "2020-05-28",
          "2020-05-29",
          "2020-05-30",
          "2020-05-31",
          "2020-06-01",
          "2020-06-02",
          "2020-06-03",
          "2020-06-04",
          "2020-06-05"
         ],
         "xaxis": "x",
         "y": [
          48,
          55,
          70,
          72,
          69,
          83,
          96,
          96,
          96,
          96,
          96,
          95,
          96,
          96,
          96,
          96,
          80,
          72,
          72,
          72,
          72,
          72,
          68,
          82,
          92,
          94,
          96,
          96,
          96,
          96,
          95,
          96,
          88,
          96,
          96,
          89,
          96,
          96,
          96,
          98,
          102,
          94,
          68,
          61,
          77,
          80,
          80,
          78,
          80,
          79,
          78,
          79,
          71,
          62,
          59,
          59,
          63,
          60,
          53,
          61,
          59,
          62,
          57,
          59,
          59,
          61,
          61,
          20,
          59,
          66,
          54,
          67,
          71,
          72,
          75,
          60,
          75,
          66,
          68,
          68,
          72,
          75,
          72,
          67,
          68,
          70,
          69,
          67,
          63,
          70,
          69,
          74,
          75,
          72,
          72,
          70,
          50,
          51,
          51,
          51,
          51,
          51,
          51,
          48,
          51,
          51,
          51,
          51,
          51,
          51,
          48,
          51,
          54,
          63,
          65,
          67,
          75,
          72,
          71,
          71,
          66,
          75,
          74,
          75,
          72,
          75,
          82,
          96,
          95,
          89,
          90,
          92,
          87,
          79,
          83,
          93,
          57
         ],
         "yaxis": "y"
        }
       ],
       "layout": {
        "legend": {
         "tracegroupgap": 0
        },
        "template": {
         "data": {
          "bar": [
           {
            "error_x": {
             "color": "#2a3f5f"
            },
            "error_y": {
             "color": "#2a3f5f"
            },
            "marker": {
             "line": {
              "color": "#E5ECF6",
              "width": 0.5
             }
            },
            "type": "bar"
           }
          ],
          "barpolar": [
           {
            "marker": {
             "line": {
              "color": "#E5ECF6",
              "width": 0.5
             }
            },
            "type": "barpolar"
           }
          ],
          "carpet": [
           {
            "aaxis": {
             "endlinecolor": "#2a3f5f",
             "gridcolor": "white",
             "linecolor": "white",
             "minorgridcolor": "white",
             "startlinecolor": "#2a3f5f"
            },
            "baxis": {
             "endlinecolor": "#2a3f5f",
             "gridcolor": "white",
             "linecolor": "white",
             "minorgridcolor": "white",
             "startlinecolor": "#2a3f5f"
            },
            "type": "carpet"
           }
          ],
          "choropleth": [
           {
            "colorbar": {
             "outlinewidth": 0,
             "ticks": ""
            },
            "type": "choropleth"
           }
          ],
          "contour": [
           {
            "colorbar": {
             "outlinewidth": 0,
             "ticks": ""
            },
            "colorscale": [
             [
              0,
              "#0d0887"
             ],
             [
              0.1111111111111111,
              "#46039f"
             ],
             [
              0.2222222222222222,
              "#7201a8"
             ],
             [
              0.3333333333333333,
              "#9c179e"
             ],
             [
              0.4444444444444444,
              "#bd3786"
             ],
             [
              0.5555555555555556,
              "#d8576b"
             ],
             [
              0.6666666666666666,
              "#ed7953"
             ],
             [
              0.7777777777777778,
              "#fb9f3a"
             ],
             [
              0.8888888888888888,
              "#fdca26"
             ],
             [
              1,
              "#f0f921"
             ]
            ],
            "type": "contour"
           }
          ],
          "contourcarpet": [
           {
            "colorbar": {
             "outlinewidth": 0,
             "ticks": ""
            },
            "type": "contourcarpet"
           }
          ],
          "heatmap": [
           {
            "colorbar": {
             "outlinewidth": 0,
             "ticks": ""
            },
            "colorscale": [
             [
              0,
              "#0d0887"
             ],
             [
              0.1111111111111111,
              "#46039f"
             ],
             [
              0.2222222222222222,
              "#7201a8"
             ],
             [
              0.3333333333333333,
              "#9c179e"
             ],
             [
              0.4444444444444444,
              "#bd3786"
             ],
             [
              0.5555555555555556,
              "#d8576b"
             ],
             [
              0.6666666666666666,
              "#ed7953"
             ],
             [
              0.7777777777777778,
              "#fb9f3a"
             ],
             [
              0.8888888888888888,
              "#fdca26"
             ],
             [
              1,
              "#f0f921"
             ]
            ],
            "type": "heatmap"
           }
          ],
          "heatmapgl": [
           {
            "colorbar": {
             "outlinewidth": 0,
             "ticks": ""
            },
            "colorscale": [
             [
              0,
              "#0d0887"
             ],
             [
              0.1111111111111111,
              "#46039f"
             ],
             [
              0.2222222222222222,
              "#7201a8"
             ],
             [
              0.3333333333333333,
              "#9c179e"
             ],
             [
              0.4444444444444444,
              "#bd3786"
             ],
             [
              0.5555555555555556,
              "#d8576b"
             ],
             [
              0.6666666666666666,
              "#ed7953"
             ],
             [
              0.7777777777777778,
              "#fb9f3a"
             ],
             [
              0.8888888888888888,
              "#fdca26"
             ],
             [
              1,
              "#f0f921"
             ]
            ],
            "type": "heatmapgl"
           }
          ],
          "histogram": [
           {
            "marker": {
             "colorbar": {
              "outlinewidth": 0,
              "ticks": ""
             }
            },
            "type": "histogram"
           }
          ],
          "histogram2d": [
           {
            "colorbar": {
             "outlinewidth": 0,
             "ticks": ""
            },
            "colorscale": [
             [
              0,
              "#0d0887"
             ],
             [
              0.1111111111111111,
              "#46039f"
             ],
             [
              0.2222222222222222,
              "#7201a8"
             ],
             [
              0.3333333333333333,
              "#9c179e"
             ],
             [
              0.4444444444444444,
              "#bd3786"
             ],
             [
              0.5555555555555556,
              "#d8576b"
             ],
             [
              0.6666666666666666,
              "#ed7953"
             ],
             [
              0.7777777777777778,
              "#fb9f3a"
             ],
             [
              0.8888888888888888,
              "#fdca26"
             ],
             [
              1,
              "#f0f921"
             ]
            ],
            "type": "histogram2d"
           }
          ],
          "histogram2dcontour": [
           {
            "colorbar": {
             "outlinewidth": 0,
             "ticks": ""
            },
            "colorscale": [
             [
              0,
              "#0d0887"
             ],
             [
              0.1111111111111111,
              "#46039f"
             ],
             [
              0.2222222222222222,
              "#7201a8"
             ],
             [
              0.3333333333333333,
              "#9c179e"
             ],
             [
              0.4444444444444444,
              "#bd3786"
             ],
             [
              0.5555555555555556,
              "#d8576b"
             ],
             [
              0.6666666666666666,
              "#ed7953"
             ],
             [
              0.7777777777777778,
              "#fb9f3a"
             ],
             [
              0.8888888888888888,
              "#fdca26"
             ],
             [
              1,
              "#f0f921"
             ]
            ],
            "type": "histogram2dcontour"
           }
          ],
          "mesh3d": [
           {
            "colorbar": {
             "outlinewidth": 0,
             "ticks": ""
            },
            "type": "mesh3d"
           }
          ],
          "parcoords": [
           {
            "line": {
             "colorbar": {
              "outlinewidth": 0,
              "ticks": ""
             }
            },
            "type": "parcoords"
           }
          ],
          "pie": [
           {
            "automargin": true,
            "type": "pie"
           }
          ],
          "scatter": [
           {
            "marker": {
             "colorbar": {
              "outlinewidth": 0,
              "ticks": ""
             }
            },
            "type": "scatter"
           }
          ],
          "scatter3d": [
           {
            "line": {
             "colorbar": {
              "outlinewidth": 0,
              "ticks": ""
             }
            },
            "marker": {
             "colorbar": {
              "outlinewidth": 0,
              "ticks": ""
             }
            },
            "type": "scatter3d"
           }
          ],
          "scattercarpet": [
           {
            "marker": {
             "colorbar": {
              "outlinewidth": 0,
              "ticks": ""
             }
            },
            "type": "scattercarpet"
           }
          ],
          "scattergeo": [
           {
            "marker": {
             "colorbar": {
              "outlinewidth": 0,
              "ticks": ""
             }
            },
            "type": "scattergeo"
           }
          ],
          "scattergl": [
           {
            "marker": {
             "colorbar": {
              "outlinewidth": 0,
              "ticks": ""
             }
            },
            "type": "scattergl"
           }
          ],
          "scattermapbox": [
           {
            "marker": {
             "colorbar": {
              "outlinewidth": 0,
              "ticks": ""
             }
            },
            "type": "scattermapbox"
           }
          ],
          "scatterpolar": [
           {
            "marker": {
             "colorbar": {
              "outlinewidth": 0,
              "ticks": ""
             }
            },
            "type": "scatterpolar"
           }
          ],
          "scatterpolargl": [
           {
            "marker": {
             "colorbar": {
              "outlinewidth": 0,
              "ticks": ""
             }
            },
            "type": "scatterpolargl"
           }
          ],
          "scatterternary": [
           {
            "marker": {
             "colorbar": {
              "outlinewidth": 0,
              "ticks": ""
             }
            },
            "type": "scatterternary"
           }
          ],
          "surface": [
           {
            "colorbar": {
             "outlinewidth": 0,
             "ticks": ""
            },
            "colorscale": [
             [
              0,
              "#0d0887"
             ],
             [
              0.1111111111111111,
              "#46039f"
             ],
             [
              0.2222222222222222,
              "#7201a8"
             ],
             [
              0.3333333333333333,
              "#9c179e"
             ],
             [
              0.4444444444444444,
              "#bd3786"
             ],
             [
              0.5555555555555556,
              "#d8576b"
             ],
             [
              0.6666666666666666,
              "#ed7953"
             ],
             [
              0.7777777777777778,
              "#fb9f3a"
             ],
             [
              0.8888888888888888,
              "#fdca26"
             ],
             [
              1,
              "#f0f921"
             ]
            ],
            "type": "surface"
           }
          ],
          "table": [
           {
            "cells": {
             "fill": {
              "color": "#EBF0F8"
             },
             "line": {
              "color": "white"
             }
            },
            "header": {
             "fill": {
              "color": "#C8D4E3"
             },
             "line": {
              "color": "white"
             }
            },
            "type": "table"
           }
          ]
         },
         "layout": {
          "annotationdefaults": {
           "arrowcolor": "#2a3f5f",
           "arrowhead": 0,
           "arrowwidth": 1
          },
          "coloraxis": {
           "colorbar": {
            "outlinewidth": 0,
            "ticks": ""
           }
          },
          "colorscale": {
           "diverging": [
            [
             0,
             "#8e0152"
            ],
            [
             0.1,
             "#c51b7d"
            ],
            [
             0.2,
             "#de77ae"
            ],
            [
             0.3,
             "#f1b6da"
            ],
            [
             0.4,
             "#fde0ef"
            ],
            [
             0.5,
             "#f7f7f7"
            ],
            [
             0.6,
             "#e6f5d0"
            ],
            [
             0.7,
             "#b8e186"
            ],
            [
             0.8,
             "#7fbc41"
            ],
            [
             0.9,
             "#4d9221"
            ],
            [
             1,
             "#276419"
            ]
           ],
           "sequential": [
            [
             0,
             "#0d0887"
            ],
            [
             0.1111111111111111,
             "#46039f"
            ],
            [
             0.2222222222222222,
             "#7201a8"
            ],
            [
             0.3333333333333333,
             "#9c179e"
            ],
            [
             0.4444444444444444,
             "#bd3786"
            ],
            [
             0.5555555555555556,
             "#d8576b"
            ],
            [
             0.6666666666666666,
             "#ed7953"
            ],
            [
             0.7777777777777778,
             "#fb9f3a"
            ],
            [
             0.8888888888888888,
             "#fdca26"
            ],
            [
             1,
             "#f0f921"
            ]
           ],
           "sequentialminus": [
            [
             0,
             "#0d0887"
            ],
            [
             0.1111111111111111,
             "#46039f"
            ],
            [
             0.2222222222222222,
             "#7201a8"
            ],
            [
             0.3333333333333333,
             "#9c179e"
            ],
            [
             0.4444444444444444,
             "#bd3786"
            ],
            [
             0.5555555555555556,
             "#d8576b"
            ],
            [
             0.6666666666666666,
             "#ed7953"
            ],
            [
             0.7777777777777778,
             "#fb9f3a"
            ],
            [
             0.8888888888888888,
             "#fdca26"
            ],
            [
             1,
             "#f0f921"
            ]
           ]
          },
          "colorway": [
           "#636efa",
           "#EF553B",
           "#00cc96",
           "#ab63fa",
           "#FFA15A",
           "#19d3f3",
           "#FF6692",
           "#B6E880",
           "#FF97FF",
           "#FECB52"
          ],
          "font": {
           "color": "#2a3f5f"
          },
          "geo": {
           "bgcolor": "white",
           "lakecolor": "white",
           "landcolor": "#E5ECF6",
           "showlakes": true,
           "showland": true,
           "subunitcolor": "white"
          },
          "hoverlabel": {
           "align": "left"
          },
          "hovermode": "closest",
          "mapbox": {
           "style": "light"
          },
          "paper_bgcolor": "white",
          "plot_bgcolor": "#E5ECF6",
          "polar": {
           "angularaxis": {
            "gridcolor": "white",
            "linecolor": "white",
            "ticks": ""
           },
           "bgcolor": "#E5ECF6",
           "radialaxis": {
            "gridcolor": "white",
            "linecolor": "white",
            "ticks": ""
           }
          },
          "scene": {
           "xaxis": {
            "backgroundcolor": "#E5ECF6",
            "gridcolor": "white",
            "gridwidth": 2,
            "linecolor": "white",
            "showbackground": true,
            "ticks": "",
            "zerolinecolor": "white"
           },
           "yaxis": {
            "backgroundcolor": "#E5ECF6",
            "gridcolor": "white",
            "gridwidth": 2,
            "linecolor": "white",
            "showbackground": true,
            "ticks": "",
            "zerolinecolor": "white"
           },
           "zaxis": {
            "backgroundcolor": "#E5ECF6",
            "gridcolor": "white",
            "gridwidth": 2,
            "linecolor": "white",
            "showbackground": true,
            "ticks": "",
            "zerolinecolor": "white"
           }
          },
          "shapedefaults": {
           "line": {
            "color": "#2a3f5f"
           }
          },
          "ternary": {
           "aaxis": {
            "gridcolor": "white",
            "linecolor": "white",
            "ticks": ""
           },
           "baxis": {
            "gridcolor": "white",
            "linecolor": "white",
            "ticks": ""
           },
           "bgcolor": "#E5ECF6",
           "caxis": {
            "gridcolor": "white",
            "linecolor": "white",
            "ticks": ""
           }
          },
          "title": {
           "x": 0.05
          },
          "xaxis": {
           "automargin": true,
           "gridcolor": "white",
           "linecolor": "white",
           "ticks": "",
           "title": {
            "standoff": 15
           },
           "zerolinecolor": "white",
           "zerolinewidth": 2
          },
          "yaxis": {
           "automargin": true,
           "gridcolor": "white",
           "linecolor": "white",
           "ticks": "",
           "title": {
            "standoff": 15
           },
           "zerolinecolor": "white",
           "zerolinewidth": 2
          }
         }
        },
        "title": {
         "text": "VALORES PARA O3 POR FECHA"
        },
        "xaxis": {
         "anchor": "y",
         "domain": [
          0,
          1
         ],
         "title": {
          "text": "Date"
         }
        },
        "yaxis": {
         "anchor": "x",
         "domain": [
          0,
          1
         ],
         "title": {
          "text": "count"
         }
        }
       }
      },
      "text/html": [
       "<div>\n",
       "        \n",
       "        \n",
       "            <div id=\"ff7b9557-e765-4be4-980a-485fcc7412ff\" class=\"plotly-graph-div\" style=\"height:525px; width:100%;\"></div>\n",
       "            <script type=\"text/javascript\">\n",
       "                require([\"plotly\"], function(Plotly) {\n",
       "                    window.PLOTLYENV=window.PLOTLYENV || {};\n",
       "                    \n",
       "                if (document.getElementById(\"ff7b9557-e765-4be4-980a-485fcc7412ff\")) {\n",
       "                    Plotly.newPlot(\n",
       "                        'ff7b9557-e765-4be4-980a-485fcc7412ff',\n",
       "                        [{\"hovertemplate\": \"Date=%{x}<br>count=%{y}<extra></extra>\", \"legendgroup\": \"\", \"line\": {\"color\": \"#636efa\", \"dash\": \"solid\"}, \"mode\": \"lines\", \"name\": \"\", \"orientation\": \"v\", \"showlegend\": false, \"type\": \"scatter\", \"x\": [\"2019-12-30\", \"2019-12-31\", \"2020-01-01\", \"2020-01-02\", \"2020-01-03\", \"2020-01-04\", \"2020-01-05\", \"2020-01-06\", \"2020-01-07\", \"2020-01-08\", \"2020-01-09\", \"2020-01-10\", \"2020-01-11\", \"2020-01-12\", \"2020-01-13\", \"2020-01-14\", \"2020-01-15\", \"2020-01-16\", \"2020-01-17\", \"2020-01-18\", \"2020-01-19\", \"2020-01-20\", \"2020-01-21\", \"2020-01-22\", \"2020-01-23\", \"2020-01-24\", \"2020-01-25\", \"2020-01-26\", \"2020-01-27\", \"2020-01-28\", \"2020-01-29\", \"2020-01-30\", \"2020-01-31\", \"2020-02-01\", \"2020-02-02\", \"2020-02-03\", \"2020-02-04\", \"2020-02-05\", \"2020-02-06\", \"2020-02-07\", \"2020-02-08\", \"2020-02-09\", \"2020-02-10\", \"2020-02-11\", \"2020-02-12\", \"2020-02-13\", \"2020-02-14\", \"2020-02-15\", \"2020-02-16\", \"2020-02-17\", \"2020-02-18\", \"2020-02-19\", \"2020-02-20\", \"2020-02-21\", \"2020-02-22\", \"2020-02-23\", \"2020-02-24\", \"2020-02-25\", \"2020-02-26\", \"2020-02-27\", \"2020-02-28\", \"2020-02-29\", \"2020-03-01\", \"2020-03-02\", \"2020-03-03\", \"2020-03-04\", \"2020-03-05\", \"2020-03-06\", \"2020-03-29\", \"2020-03-30\", \"2020-03-31\", \"2020-04-01\", \"2020-04-02\", \"2020-04-03\", \"2020-04-04\", \"2020-04-05\", \"2020-04-06\", \"2020-04-07\", \"2020-04-08\", \"2020-04-09\", \"2020-04-10\", \"2020-04-11\", \"2020-04-12\", \"2020-04-13\", \"2020-04-14\", \"2020-04-15\", \"2020-04-16\", \"2020-04-17\", \"2020-04-18\", \"2020-04-19\", \"2020-04-20\", \"2020-04-21\", \"2020-04-22\", \"2020-04-23\", \"2020-04-24\", \"2020-04-25\", \"2020-04-26\", \"2020-04-27\", \"2020-04-28\", \"2020-04-29\", \"2020-04-30\", \"2020-05-01\", \"2020-05-02\", \"2020-05-03\", \"2020-05-04\", \"2020-05-05\", \"2020-05-06\", \"2020-05-07\", \"2020-05-08\", \"2020-05-09\", \"2020-05-10\", \"2020-05-11\", \"2020-05-12\", \"2020-05-13\", \"2020-05-14\", \"2020-05-15\", \"2020-05-16\", \"2020-05-17\", \"2020-05-18\", \"2020-05-19\", \"2020-05-20\", \"2020-05-21\", \"2020-05-22\", \"2020-05-23\", \"2020-05-24\", \"2020-05-25\", \"2020-05-26\", \"2020-05-27\", \"2020-05-28\", \"2020-05-29\", \"2020-05-30\", \"2020-05-31\", \"2020-06-01\", \"2020-06-02\", \"2020-06-03\", \"2020-06-04\", \"2020-06-05\"], \"xaxis\": \"x\", \"y\": [48, 55, 70, 72, 69, 83, 96, 96, 96, 96, 96, 95, 96, 96, 96, 96, 80, 72, 72, 72, 72, 72, 68, 82, 92, 94, 96, 96, 96, 96, 95, 96, 88, 96, 96, 89, 96, 96, 96, 98, 102, 94, 68, 61, 77, 80, 80, 78, 80, 79, 78, 79, 71, 62, 59, 59, 63, 60, 53, 61, 59, 62, 57, 59, 59, 61, 61, 20, 59, 66, 54, 67, 71, 72, 75, 60, 75, 66, 68, 68, 72, 75, 72, 67, 68, 70, 69, 67, 63, 70, 69, 74, 75, 72, 72, 70, 50, 51, 51, 51, 51, 51, 51, 48, 51, 51, 51, 51, 51, 51, 48, 51, 54, 63, 65, 67, 75, 72, 71, 71, 66, 75, 74, 75, 72, 75, 82, 96, 95, 89, 90, 92, 87, 79, 83, 93, 57], \"yaxis\": \"y\"}],\n",
       "                        {\"legend\": {\"tracegroupgap\": 0}, \"template\": {\"data\": {\"bar\": [{\"error_x\": {\"color\": \"#2a3f5f\"}, \"error_y\": {\"color\": \"#2a3f5f\"}, \"marker\": {\"line\": {\"color\": \"#E5ECF6\", \"width\": 0.5}}, \"type\": \"bar\"}], \"barpolar\": [{\"marker\": {\"line\": {\"color\": \"#E5ECF6\", \"width\": 0.5}}, \"type\": \"barpolar\"}], \"carpet\": [{\"aaxis\": {\"endlinecolor\": \"#2a3f5f\", \"gridcolor\": \"white\", \"linecolor\": \"white\", \"minorgridcolor\": \"white\", \"startlinecolor\": \"#2a3f5f\"}, \"baxis\": {\"endlinecolor\": \"#2a3f5f\", \"gridcolor\": \"white\", \"linecolor\": \"white\", \"minorgridcolor\": \"white\", \"startlinecolor\": \"#2a3f5f\"}, \"type\": \"carpet\"}], \"choropleth\": [{\"colorbar\": {\"outlinewidth\": 0, \"ticks\": \"\"}, \"type\": \"choropleth\"}], \"contour\": [{\"colorbar\": {\"outlinewidth\": 0, \"ticks\": \"\"}, \"colorscale\": [[0.0, \"#0d0887\"], [0.1111111111111111, \"#46039f\"], [0.2222222222222222, \"#7201a8\"], [0.3333333333333333, \"#9c179e\"], [0.4444444444444444, \"#bd3786\"], [0.5555555555555556, \"#d8576b\"], [0.6666666666666666, \"#ed7953\"], [0.7777777777777778, \"#fb9f3a\"], [0.8888888888888888, \"#fdca26\"], [1.0, \"#f0f921\"]], \"type\": \"contour\"}], \"contourcarpet\": [{\"colorbar\": {\"outlinewidth\": 0, \"ticks\": \"\"}, \"type\": \"contourcarpet\"}], \"heatmap\": [{\"colorbar\": {\"outlinewidth\": 0, \"ticks\": \"\"}, \"colorscale\": [[0.0, \"#0d0887\"], [0.1111111111111111, \"#46039f\"], [0.2222222222222222, \"#7201a8\"], [0.3333333333333333, \"#9c179e\"], [0.4444444444444444, \"#bd3786\"], [0.5555555555555556, \"#d8576b\"], [0.6666666666666666, \"#ed7953\"], [0.7777777777777778, \"#fb9f3a\"], [0.8888888888888888, \"#fdca26\"], [1.0, \"#f0f921\"]], \"type\": \"heatmap\"}], \"heatmapgl\": [{\"colorbar\": {\"outlinewidth\": 0, \"ticks\": \"\"}, \"colorscale\": [[0.0, \"#0d0887\"], [0.1111111111111111, \"#46039f\"], [0.2222222222222222, \"#7201a8\"], [0.3333333333333333, \"#9c179e\"], [0.4444444444444444, \"#bd3786\"], [0.5555555555555556, \"#d8576b\"], [0.6666666666666666, \"#ed7953\"], [0.7777777777777778, \"#fb9f3a\"], [0.8888888888888888, \"#fdca26\"], [1.0, \"#f0f921\"]], \"type\": \"heatmapgl\"}], \"histogram\": [{\"marker\": {\"colorbar\": {\"outlinewidth\": 0, \"ticks\": \"\"}}, \"type\": \"histogram\"}], \"histogram2d\": [{\"colorbar\": {\"outlinewidth\": 0, \"ticks\": \"\"}, \"colorscale\": [[0.0, \"#0d0887\"], [0.1111111111111111, \"#46039f\"], [0.2222222222222222, \"#7201a8\"], [0.3333333333333333, \"#9c179e\"], [0.4444444444444444, \"#bd3786\"], [0.5555555555555556, \"#d8576b\"], [0.6666666666666666, \"#ed7953\"], [0.7777777777777778, \"#fb9f3a\"], [0.8888888888888888, \"#fdca26\"], [1.0, \"#f0f921\"]], \"type\": \"histogram2d\"}], \"histogram2dcontour\": [{\"colorbar\": {\"outlinewidth\": 0, \"ticks\": \"\"}, \"colorscale\": [[0.0, \"#0d0887\"], [0.1111111111111111, \"#46039f\"], [0.2222222222222222, \"#7201a8\"], [0.3333333333333333, \"#9c179e\"], [0.4444444444444444, \"#bd3786\"], [0.5555555555555556, \"#d8576b\"], [0.6666666666666666, \"#ed7953\"], [0.7777777777777778, \"#fb9f3a\"], [0.8888888888888888, \"#fdca26\"], [1.0, \"#f0f921\"]], \"type\": \"histogram2dcontour\"}], \"mesh3d\": [{\"colorbar\": {\"outlinewidth\": 0, \"ticks\": \"\"}, \"type\": \"mesh3d\"}], \"parcoords\": [{\"line\": {\"colorbar\": {\"outlinewidth\": 0, \"ticks\": \"\"}}, \"type\": \"parcoords\"}], \"pie\": [{\"automargin\": true, \"type\": \"pie\"}], \"scatter\": [{\"marker\": {\"colorbar\": {\"outlinewidth\": 0, \"ticks\": \"\"}}, \"type\": \"scatter\"}], \"scatter3d\": [{\"line\": {\"colorbar\": {\"outlinewidth\": 0, \"ticks\": \"\"}}, \"marker\": {\"colorbar\": {\"outlinewidth\": 0, \"ticks\": \"\"}}, \"type\": \"scatter3d\"}], \"scattercarpet\": [{\"marker\": {\"colorbar\": {\"outlinewidth\": 0, \"ticks\": \"\"}}, \"type\": \"scattercarpet\"}], \"scattergeo\": [{\"marker\": {\"colorbar\": {\"outlinewidth\": 0, \"ticks\": \"\"}}, \"type\": \"scattergeo\"}], \"scattergl\": [{\"marker\": {\"colorbar\": {\"outlinewidth\": 0, \"ticks\": \"\"}}, \"type\": \"scattergl\"}], \"scattermapbox\": [{\"marker\": {\"colorbar\": {\"outlinewidth\": 0, \"ticks\": \"\"}}, \"type\": \"scattermapbox\"}], \"scatterpolar\": [{\"marker\": {\"colorbar\": {\"outlinewidth\": 0, \"ticks\": \"\"}}, \"type\": \"scatterpolar\"}], \"scatterpolargl\": [{\"marker\": {\"colorbar\": {\"outlinewidth\": 0, \"ticks\": \"\"}}, \"type\": \"scatterpolargl\"}], \"scatterternary\": [{\"marker\": {\"colorbar\": {\"outlinewidth\": 0, \"ticks\": \"\"}}, \"type\": \"scatterternary\"}], \"surface\": [{\"colorbar\": {\"outlinewidth\": 0, \"ticks\": \"\"}, \"colorscale\": [[0.0, \"#0d0887\"], [0.1111111111111111, \"#46039f\"], [0.2222222222222222, \"#7201a8\"], [0.3333333333333333, \"#9c179e\"], [0.4444444444444444, \"#bd3786\"], [0.5555555555555556, \"#d8576b\"], [0.6666666666666666, \"#ed7953\"], [0.7777777777777778, \"#fb9f3a\"], [0.8888888888888888, \"#fdca26\"], [1.0, \"#f0f921\"]], \"type\": \"surface\"}], \"table\": [{\"cells\": {\"fill\": {\"color\": \"#EBF0F8\"}, \"line\": {\"color\": \"white\"}}, \"header\": {\"fill\": {\"color\": \"#C8D4E3\"}, \"line\": {\"color\": \"white\"}}, \"type\": \"table\"}]}, \"layout\": {\"annotationdefaults\": {\"arrowcolor\": \"#2a3f5f\", \"arrowhead\": 0, \"arrowwidth\": 1}, \"coloraxis\": {\"colorbar\": {\"outlinewidth\": 0, \"ticks\": \"\"}}, \"colorscale\": {\"diverging\": [[0, \"#8e0152\"], [0.1, \"#c51b7d\"], [0.2, \"#de77ae\"], [0.3, \"#f1b6da\"], [0.4, \"#fde0ef\"], [0.5, \"#f7f7f7\"], [0.6, \"#e6f5d0\"], [0.7, \"#b8e186\"], [0.8, \"#7fbc41\"], [0.9, \"#4d9221\"], [1, \"#276419\"]], \"sequential\": [[0.0, \"#0d0887\"], [0.1111111111111111, \"#46039f\"], [0.2222222222222222, \"#7201a8\"], [0.3333333333333333, \"#9c179e\"], [0.4444444444444444, \"#bd3786\"], [0.5555555555555556, \"#d8576b\"], [0.6666666666666666, \"#ed7953\"], [0.7777777777777778, \"#fb9f3a\"], [0.8888888888888888, \"#fdca26\"], [1.0, \"#f0f921\"]], \"sequentialminus\": [[0.0, \"#0d0887\"], [0.1111111111111111, \"#46039f\"], [0.2222222222222222, \"#7201a8\"], [0.3333333333333333, \"#9c179e\"], [0.4444444444444444, \"#bd3786\"], [0.5555555555555556, \"#d8576b\"], [0.6666666666666666, \"#ed7953\"], [0.7777777777777778, \"#fb9f3a\"], [0.8888888888888888, \"#fdca26\"], [1.0, \"#f0f921\"]]}, \"colorway\": [\"#636efa\", \"#EF553B\", \"#00cc96\", \"#ab63fa\", \"#FFA15A\", \"#19d3f3\", \"#FF6692\", \"#B6E880\", \"#FF97FF\", \"#FECB52\"], \"font\": {\"color\": \"#2a3f5f\"}, \"geo\": {\"bgcolor\": \"white\", \"lakecolor\": \"white\", \"landcolor\": \"#E5ECF6\", \"showlakes\": true, \"showland\": true, \"subunitcolor\": \"white\"}, \"hoverlabel\": {\"align\": \"left\"}, \"hovermode\": \"closest\", \"mapbox\": {\"style\": \"light\"}, \"paper_bgcolor\": \"white\", \"plot_bgcolor\": \"#E5ECF6\", \"polar\": {\"angularaxis\": {\"gridcolor\": \"white\", \"linecolor\": \"white\", \"ticks\": \"\"}, \"bgcolor\": \"#E5ECF6\", \"radialaxis\": {\"gridcolor\": \"white\", \"linecolor\": \"white\", \"ticks\": \"\"}}, \"scene\": {\"xaxis\": {\"backgroundcolor\": \"#E5ECF6\", \"gridcolor\": \"white\", \"gridwidth\": 2, \"linecolor\": \"white\", \"showbackground\": true, \"ticks\": \"\", \"zerolinecolor\": \"white\"}, \"yaxis\": {\"backgroundcolor\": \"#E5ECF6\", \"gridcolor\": \"white\", \"gridwidth\": 2, \"linecolor\": \"white\", \"showbackground\": true, \"ticks\": \"\", \"zerolinecolor\": \"white\"}, \"zaxis\": {\"backgroundcolor\": \"#E5ECF6\", \"gridcolor\": \"white\", \"gridwidth\": 2, \"linecolor\": \"white\", \"showbackground\": true, \"ticks\": \"\", \"zerolinecolor\": \"white\"}}, \"shapedefaults\": {\"line\": {\"color\": \"#2a3f5f\"}}, \"ternary\": {\"aaxis\": {\"gridcolor\": \"white\", \"linecolor\": \"white\", \"ticks\": \"\"}, \"baxis\": {\"gridcolor\": \"white\", \"linecolor\": \"white\", \"ticks\": \"\"}, \"bgcolor\": \"#E5ECF6\", \"caxis\": {\"gridcolor\": \"white\", \"linecolor\": \"white\", \"ticks\": \"\"}}, \"title\": {\"x\": 0.05}, \"xaxis\": {\"automargin\": true, \"gridcolor\": \"white\", \"linecolor\": \"white\", \"ticks\": \"\", \"title\": {\"standoff\": 15}, \"zerolinecolor\": \"white\", \"zerolinewidth\": 2}, \"yaxis\": {\"automargin\": true, \"gridcolor\": \"white\", \"linecolor\": \"white\", \"ticks\": \"\", \"title\": {\"standoff\": 15}, \"zerolinecolor\": \"white\", \"zerolinewidth\": 2}}}, \"title\": {\"text\": \"VALORES PARA O3 POR FECHA\"}, \"xaxis\": {\"anchor\": \"y\", \"domain\": [0.0, 1.0], \"title\": {\"text\": \"Date\"}}, \"yaxis\": {\"anchor\": \"x\", \"domain\": [0.0, 1.0], \"title\": {\"text\": \"count\"}}},\n",
       "                        {\"responsive\": true}\n",
       "                    ).then(function(){\n",
       "                            \n",
       "var gd = document.getElementById('ff7b9557-e765-4be4-980a-485fcc7412ff');\n",
       "var x = new MutationObserver(function (mutations, observer) {{\n",
       "        var display = window.getComputedStyle(gd).display;\n",
       "        if (!display || display === 'none') {{\n",
       "            console.log([gd, 'removed!']);\n",
       "            Plotly.purge(gd);\n",
       "            observer.disconnect();\n",
       "        }}\n",
       "}});\n",
       "\n",
       "// Listen for the removal of the full notebook cells\n",
       "var notebookContainer = gd.closest('#notebook-container');\n",
       "if (notebookContainer) {{\n",
       "    x.observe(notebookContainer, {childList: true});\n",
       "}}\n",
       "\n",
       "// Listen for the clearing of the current output cell\n",
       "var outputEl = gd.closest('.output');\n",
       "if (outputEl) {{\n",
       "    x.observe(outputEl, {childList: true});\n",
       "}}\n",
       "\n",
       "                        })\n",
       "                };\n",
       "                });\n",
       "            </script>\n",
       "        </div>"
      ]
     },
     "metadata": {},
     "output_type": "display_data"
    }
   ],
   "source": [
    "fig2.show()\n",
    "fig3.show()"
   ]
  },
  {
   "cell_type": "code",
   "execution_count": 265,
   "metadata": {},
   "outputs": [
    {
     "name": "stdout",
     "output_type": "stream",
     "text": [
      "root\n",
      " |-- Date: date (nullable = true)\n",
      " |-- Country: string (nullable = true)\n",
      " |-- City: string (nullable = true)\n",
      " |-- Specie: string (nullable = true)\n",
      " |-- count: integer (nullable = true)\n",
      " |-- min: double (nullable = true)\n",
      " |-- max: double (nullable = true)\n",
      " |-- median: double (nullable = true)\n",
      " |-- variance: double (nullable = true)\n",
      "\n"
     ]
    }
   ],
   "source": [
    "PEall = df.filter((df.Country == 'PE') & ((df.Specie == 'o3') | (df.Specie == 'co')))\n",
    "PEall = PEall.withColumn(\"Date\", PEall[\"Date\"].cast(DateType()))\n",
    "PEall.printSchema()"
   ]
  },
  {
   "cell_type": "code",
   "execution_count": 266,
   "metadata": {},
   "outputs": [
    {
     "name": "stdout",
     "output_type": "stream",
     "text": [
      "+----------+-------+----+------+-----+---+-----+------+--------+\n",
      "|Date      |Country|City|Specie|count|min|max  |median|variance|\n",
      "+----------+-------+----+------+-----+---+-----+------+--------+\n",
      "|2019-12-30|PE     |Lima|co    |72   |2.6|23.6 |13.9  |513.95  |\n",
      "|2019-12-31|PE     |Lima|co    |79   |2.5|27.9 |13.6  |503.46  |\n",
      "|2020-01-01|PE     |Lima|co    |93   |2.1|25.5 |11.2  |473.19  |\n",
      "|2020-01-02|PE     |Lima|co    |102  |0.2|129.3|6.7   |4637.41 |\n",
      "|2020-01-03|PE     |Lima|co    |99   |0.2|129.3|5.3   |4763.47 |\n",
      "|2020-01-04|PE     |Lima|co    |102  |0.2|129.3|6.2   |4635.99 |\n",
      "|2020-01-05|PE     |Lima|co    |99   |0.2|24.1 |5.1   |538.46  |\n",
      "|2020-01-06|PE     |Lima|co    |99   |0.2|23.9 |5.2   |612.73  |\n",
      "|2020-01-07|PE     |Lima|co    |99   |0.2|23.7 |5.3   |646.26  |\n",
      "|2020-01-08|PE     |Lima|co    |99   |0.2|23.1 |4.8   |631.22  |\n",
      "|2020-01-09|PE     |Lima|co    |99   |0.2|24.6 |6.5   |637.24  |\n",
      "|2020-01-10|PE     |Lima|co    |99   |0.2|25.9 |5.1   |714.03  |\n",
      "|2020-01-11|PE     |Lima|co    |99   |0.2|25.0 |4.9   |638.2   |\n",
      "|2020-01-12|PE     |Lima|co    |99   |0.2|26.9 |5.3   |677.7   |\n",
      "|2020-01-13|PE     |Lima|co    |99   |0.2|29.5 |7.2   |824.66  |\n",
      "|2020-01-14|PE     |Lima|co    |99   |0.2|29.8 |7.2   |844.07  |\n",
      "|2020-01-15|PE     |Lima|co    |99   |0.2|29.8 |6.5   |863.52  |\n",
      "|2020-01-16|PE     |Lima|co    |99   |0.2|29.7 |7.8   |903.47  |\n",
      "|2020-01-17|PE     |Lima|co    |99   |0.2|27.3 |4.8   |911.51  |\n",
      "|2020-01-18|PE     |Lima|co    |99   |0.2|28.1 |6.2   |882.31  |\n",
      "|2020-01-19|PE     |Lima|co    |99   |0.2|26.8 |5.7   |810.82  |\n",
      "|2020-01-20|PE     |Lima|co    |99   |0.2|29.7 |8.5   |909.62  |\n",
      "|2020-01-21|PE     |Lima|co    |99   |0.2|33.1 |8.7   |1041.66 |\n",
      "|2020-01-22|PE     |Lima|co    |91   |0.2|35.6 |10.3  |1114.43 |\n",
      "|2020-01-23|PE     |Lima|co    |75   |0.2|35.6 |7.6   |965.03  |\n",
      "|2020-01-24|PE     |Lima|co    |75   |0.4|28.2 |6.2   |741.88  |\n",
      "|2020-01-25|PE     |Lima|co    |75   |0.4|24.6 |5.4   |671.28  |\n",
      "|2020-01-26|PE     |Lima|co    |75   |0.4|22.6 |5.6   |520.03  |\n",
      "|2020-01-27|PE     |Lima|co    |57   |0.4|18.8 |4.1   |199.76  |\n",
      "|2020-01-28|PE     |Lima|co    |55   |0.4|12.4 |4.2   |92.91   |\n",
      "|2020-01-29|PE     |Lima|co    |75   |0.4|11.2 |5.0   |62.85   |\n",
      "|2020-01-30|PE     |Lima|co    |75   |0.4|11.4 |4.9   |50.8    |\n",
      "|2020-01-31|PE     |Lima|co    |64   |3.2|10.0 |4.9   |34.68   |\n",
      "|2020-02-01|PE     |Lima|co    |68   |0.4|8.6  |4.5   |44.22   |\n",
      "|2020-02-02|PE     |Lima|co    |48   |2.8|8.0  |4.7   |29.98   |\n",
      "|2020-02-03|PE     |Lima|co    |43   |0.4|9.2  |6.1   |54.01   |\n",
      "|2020-02-04|PE     |Lima|co    |54   |2.7|36.5 |6.0   |804.69  |\n",
      "|2020-02-05|PE     |Lima|co    |79   |2.4|35.2 |8.3   |1362.07 |\n",
      "|2020-02-06|PE     |Lima|co    |96   |2.9|42.0 |9.5   |1200.67 |\n",
      "|2020-02-07|PE     |Lima|co    |91   |1.7|43.1 |9.5   |1730.68 |\n",
      "|2020-02-08|PE     |Lima|co    |94   |2.5|39.9 |10.6  |1501.97 |\n",
      "|2020-02-09|PE     |Lima|co    |94   |3.0|34.6 |11.2  |1281.75 |\n",
      "|2020-02-10|PE     |Lima|co    |92   |2.8|37.2 |12.6  |1324.47 |\n",
      "|2020-02-11|PE     |Lima|co    |93   |1.2|39.4 |16.8  |1341.18 |\n",
      "|2020-02-12|PE     |Lima|co    |96   |2.3|35.6 |11.6  |1233.01 |\n",
      "|2020-02-13|PE     |Lima|co    |96   |2.2|36.3 |12.2  |1321.1  |\n",
      "|2020-02-14|PE     |Lima|co    |94   |2.6|39.2 |13.7  |1555.45 |\n",
      "|2020-02-15|PE     |Lima|co    |93   |2.8|37.4 |25.9  |1746.8  |\n",
      "|2020-02-16|PE     |Lima|co    |96   |2.6|35.6 |11.1  |1582.05 |\n",
      "|2020-02-17|PE     |Lima|co    |95   |2.5|40.8 |25.5  |1672.29 |\n",
      "|2020-02-18|PE     |Lima|co    |94   |2.6|39.8 |25.9  |1703.67 |\n",
      "|2020-02-19|PE     |Lima|co    |92   |2.8|39.1 |27.1  |1723.41 |\n",
      "|2020-02-20|PE     |Lima|co    |92   |3.1|36.9 |12.1  |1487.1  |\n",
      "|2020-02-21|PE     |Lima|co    |104  |3.3|37.0 |11.4  |1247.73 |\n",
      "|2020-02-22|PE     |Lima|co    |113  |3.5|37.8 |12.3  |1266.17 |\n",
      "|2020-02-23|PE     |Lima|co    |118  |3.6|37.0 |10.8  |1036.19 |\n",
      "|2020-02-24|PE     |Lima|co    |121  |3.0|35.3 |10.3  |902.99  |\n",
      "|2020-02-25|PE     |Lima|co    |121  |2.8|33.3 |9.6   |813.94  |\n",
      "|2020-02-26|PE     |Lima|co    |120  |2.7|32.8 |9.7   |804.78  |\n",
      "|2020-02-27|PE     |Lima|co    |144  |3.1|35.0 |9.5   |820.95  |\n",
      "|2020-02-28|PE     |Lima|co    |144  |2.9|34.7 |9.9   |829.44  |\n",
      "|2020-02-29|PE     |Lima|co    |143  |2.7|37.7 |11.4  |913.19  |\n",
      "|2020-03-01|PE     |Lima|co    |131  |3.0|34.4 |10.7  |918.49  |\n",
      "|2020-03-02|PE     |Lima|co    |132  |2.4|34.7 |9.0   |891.9   |\n",
      "|2020-03-03|PE     |Lima|co    |119  |2.2|500.0|9.3   |20959.2 |\n",
      "|2020-03-04|PE     |Lima|co    |116  |2.5|37.6 |9.0   |1015.36 |\n",
      "|2020-03-05|PE     |Lima|co    |119  |2.7|40.7 |9.8   |1099.29 |\n",
      "|2020-03-06|PE     |Lima|co    |46   |2.3|38.6 |9.2   |1370.97 |\n",
      "|2020-03-29|PE     |Lima|co    |86   |0.5|36.2 |5.8   |1501.11 |\n",
      "|2020-03-30|PE     |Lima|co    |102  |0.5|36.0 |6.3   |1513.99 |\n",
      "|2020-03-31|PE     |Lima|co    |85   |0.5|35.1 |6.1   |1492.29 |\n",
      "|2020-04-01|PE     |Lima|co    |102  |0.5|37.9 |6.1   |1552.09 |\n",
      "|2020-04-02|PE     |Lima|co    |102  |0.5|38.0 |6.2   |1520.8  |\n",
      "|2020-04-03|PE     |Lima|co    |103  |0.5|36.0 |6.1   |1477.06 |\n",
      "|2020-04-04|PE     |Lima|co    |102  |0.5|34.1 |4.8   |1455.55 |\n",
      "|2020-04-05|PE     |Lima|co    |80   |1.9|32.5 |4.7   |1475.1  |\n",
      "|2020-04-06|PE     |Lima|co    |81   |0.5|31.7 |4.7   |210.48  |\n",
      "|2020-04-07|PE     |Lima|co    |78   |0.5|15.7 |5.0   |99.21   |\n",
      "|2020-04-08|PE     |Lima|co    |78   |0.5|15.7 |4.7   |99.21   |\n",
      "|2020-04-09|PE     |Lima|co    |79   |0.5|15.7 |4.1   |96.7    |\n",
      "|2020-04-10|PE     |Lima|co    |78   |0.5|15.7 |4.1   |97.16   |\n",
      "|2020-04-11|PE     |Lima|co    |78   |0.5|15.7 |4.7   |106.79  |\n",
      "|2020-04-12|PE     |Lima|co    |72   |2.0|7.9  |4.2   |48.59   |\n",
      "|2020-04-13|PE     |Lima|co    |79   |0.5|15.7 |4.7   |109.14  |\n",
      "|2020-04-14|PE     |Lima|co    |78   |0.5|15.7 |4.9   |105.99  |\n",
      "|2020-04-15|PE     |Lima|co    |78   |0.5|15.7 |4.7   |112.11  |\n",
      "|2020-04-16|PE     |Lima|co    |78   |0.5|15.7 |4.8   |111.03  |\n",
      "|2020-04-17|PE     |Lima|co    |76   |0.5|15.7 |5.2   |122.84  |\n",
      "|2020-04-18|PE     |Lima|co    |68   |0.5|15.7 |5.4   |130.53  |\n",
      "|2020-04-19|PE     |Lima|co    |72   |1.1|8.2  |4.6   |66.61   |\n",
      "|2020-04-20|PE     |Lima|co    |78   |0.5|15.7 |5.2   |133.22  |\n",
      "|2020-04-21|PE     |Lima|co    |77   |0.5|15.7 |4.2   |129.69  |\n",
      "|2020-04-22|PE     |Lima|co    |75   |0.3|15.7 |4.3   |129.34  |\n",
      "|2020-04-23|PE     |Lima|co    |78   |0.5|15.7 |4.7   |127.31  |\n",
      "|2020-04-24|PE     |Lima|co    |75   |0.5|10.3 |4.6   |93.04   |\n",
      "|2020-04-25|PE     |Lima|co    |75   |0.5|11.9 |4.8   |102.54  |\n",
      "|2020-04-26|PE     |Lima|co    |55   |0.9|8.3  |4.4   |57.38   |\n",
      "|2020-04-27|PE     |Lima|co    |51   |0.5|7.8  |3.0   |45.31   |\n",
      "|2020-04-28|PE     |Lima|co    |51   |0.4|8.1  |2.2   |50.06   |\n",
      "|2020-04-29|PE     |Lima|co    |38   |0.4|7.6  |4.7   |52.52   |\n",
      "|2020-04-30|PE     |Lima|co    |31   |0.5|7.5  |4.8   |51.3    |\n",
      "|2020-05-01|PE     |Lima|co    |27   |0.5|8.6  |5.0   |38.86   |\n",
      "|2020-05-02|PE     |Lima|co    |27   |0.5|8.6  |5.2   |49.4    |\n",
      "|2020-05-03|PE     |Lima|co    |24   |4.5|5.9  |4.9   |1.53    |\n",
      "|2020-05-04|PE     |Lima|co    |27   |0.5|10.1 |7.0   |73.71   |\n",
      "|2020-05-05|PE     |Lima|co    |27   |0.5|10.5 |7.1   |78.62   |\n",
      "|2020-05-06|PE     |Lima|co    |27   |0.5|9.6  |6.2   |53.9    |\n",
      "|2020-05-07|PE     |Lima|co    |27   |0.5|9.6  |6.3   |50.59   |\n",
      "|2020-05-08|PE     |Lima|co    |27   |0.5|13.3 |5.7   |99.42   |\n",
      "|2020-05-09|PE     |Lima|co    |27   |0.5|7.2  |4.9   |29.78   |\n",
      "|2020-05-10|PE     |Lima|co    |24   |4.2|5.5  |4.6   |1.64    |\n",
      "|2020-05-11|PE     |Lima|co    |35   |0.5|9.1  |4.6   |32.75   |\n",
      "|2020-05-12|PE     |Lima|co    |53   |0.5|12.4 |4.8   |53.77   |\n",
      "|2020-05-13|PE     |Lima|co    |51   |0.5|14.3 |4.9   |68.14   |\n",
      "|2020-05-14|PE     |Lima|co    |51   |0.5|9.4  |4.8   |38.8    |\n",
      "|2020-05-15|PE     |Lima|co    |50   |0.5|7.6  |3.7   |34.8    |\n",
      "|2020-05-16|PE     |Lima|co    |51   |0.5|6.9  |3.0   |36.17   |\n",
      "|2020-05-17|PE     |Lima|co    |48   |1.5|5.4  |2.4   |25.54   |\n",
      "|2020-05-18|PE     |Lima|co    |51   |0.5|6.7  |3.5   |36.44   |\n",
      "|2020-05-19|PE     |Lima|co    |51   |0.5|7.8  |3.2   |44.62   |\n",
      "|2020-05-20|PE     |Lima|co    |51   |0.5|7.5  |3.7   |40.34   |\n",
      "|2020-05-21|PE     |Lima|co    |51   |0.5|7.3  |2.9   |42.17   |\n",
      "|2020-05-22|PE     |Lima|co    |50   |0.5|7.5  |2.7   |43.5    |\n",
      "|2020-05-23|PE     |Lima|co    |51   |0.5|7.7  |2.4   |49.54   |\n",
      "|2020-05-24|PE     |Lima|co    |48   |1.5|6.0  |2.5   |31.77   |\n",
      "|2020-05-25|PE     |Lima|co    |65   |0.5|12.9 |5.4   |105.0   |\n",
      "|2020-05-26|PE     |Lima|co    |84   |0.5|12.8 |7.5   |110.63  |\n",
      "|2020-05-27|PE     |Lima|co    |78   |0.5|13.0 |6.4   |113.89  |\n",
      "|2020-05-28|PE     |Lima|co    |75   |0.5|13.1 |6.6   |116.64  |\n",
      "|2020-05-29|PE     |Lima|co    |78   |0.5|14.8 |6.4   |134.1   |\n",
      "|2020-05-30|PE     |Lima|co    |78   |0.5|14.7 |6.2   |135.26  |\n",
      "|2020-05-31|PE     |Lima|co    |70   |2.8|10.9 |5.6   |72.83   |\n",
      "|2020-06-01|PE     |Lima|co    |72   |2.7|14.3 |7.3   |110.92  |\n",
      "|2020-06-02|PE     |Lima|co    |72   |3.0|12.6 |7.4   |97.6    |\n",
      "|2020-06-03|PE     |Lima|co    |72   |2.9|13.5 |7.2   |117.88  |\n",
      "|2020-06-04|PE     |Lima|co    |72   |2.9|16.2 |7.4   |113.56  |\n",
      "|2020-06-05|PE     |Lima|co    |30   |3.2|12.9 |6.1   |144.52  |\n",
      "|2019-12-30|PE     |Lima|o3    |48   |0.1|11.8 |3.1   |100.17  |\n",
      "|2019-12-31|PE     |Lima|o3    |55   |0.2|11.3 |4.1   |121.03  |\n",
      "|2020-01-01|PE     |Lima|o3    |70   |0.1|21.5 |3.9   |279.96  |\n",
      "|2020-01-02|PE     |Lima|o3    |72   |0.3|12.9 |3.9   |89.67   |\n",
      "|2020-01-03|PE     |Lima|o3    |69   |0.4|12.0 |4.8   |117.29  |\n",
      "|2020-01-04|PE     |Lima|o3    |83   |0.3|25.5 |6.0   |456.93  |\n",
      "|2020-01-05|PE     |Lima|o3    |96   |0.3|28.9 |7.2   |625.68  |\n",
      "|2020-01-06|PE     |Lima|o3    |96   |0.3|27.2 |6.9   |606.24  |\n",
      "|2020-01-07|PE     |Lima|o3    |96   |0.1|26.4 |6.4   |563.54  |\n",
      "|2020-01-08|PE     |Lima|o3    |96   |0.3|24.1 |5.4   |549.51  |\n",
      "|2020-01-09|PE     |Lima|o3    |96   |0.2|25.8 |5.3   |555.28  |\n",
      "|2020-01-10|PE     |Lima|o3    |95   |0.4|25.0 |5.0   |524.06  |\n",
      "|2020-01-11|PE     |Lima|o3    |96   |0.6|30.7 |7.9   |671.91  |\n",
      "|2020-01-12|PE     |Lima|o3    |96   |0.5|33.8 |9.8   |768.29  |\n",
      "|2020-01-13|PE     |Lima|o3    |96   |0.2|29.5 |8.3   |724.36  |\n",
      "|2020-01-14|PE     |Lima|o3    |96   |0.1|29.3 |7.4   |750.76  |\n",
      "|2020-01-15|PE     |Lima|o3    |80   |0.2|25.7 |5.9   |450.53  |\n",
      "|2020-01-16|PE     |Lima|o3    |72   |0.2|20.5 |5.9   |275.84  |\n",
      "|2020-01-17|PE     |Lima|o3    |72   |0.2|17.7 |7.3   |199.33  |\n",
      "|2020-01-18|PE     |Lima|o3    |72   |0.3|12.6 |6.3   |154.06  |\n",
      "|2020-01-19|PE     |Lima|o3    |72   |0.3|26.6 |6.1   |357.16  |\n",
      "|2020-01-20|PE     |Lima|o3    |72   |0.2|15.8 |5.2   |155.95  |\n",
      "|2020-01-21|PE     |Lima|o3    |68   |0.1|15.6 |4.4   |182.54  |\n",
      "|2020-01-22|PE     |Lima|o3    |82   |0.1|23.0 |4.1   |330.88  |\n",
      "|2020-01-23|PE     |Lima|o3    |92   |0.1|46.3 |5.6   |1339.79 |\n",
      "|2020-01-24|PE     |Lima|o3    |94   |0.1|32.4 |5.0   |778.63  |\n",
      "|2020-01-25|PE     |Lima|o3    |96   |0.1|38.3 |6.4   |983.34  |\n",
      "|2020-01-26|PE     |Lima|o3    |96   |0.1|32.7 |6.3   |999.4   |\n",
      "|2020-01-27|PE     |Lima|o3    |96   |0.3|28.8 |5.4   |820.67  |\n",
      "|2020-01-28|PE     |Lima|o3    |96   |0.1|48.1 |3.8   |1177.69 |\n",
      "|2020-01-29|PE     |Lima|o3    |95   |0.1|24.5 |5.0   |632.99  |\n",
      "|2020-01-30|PE     |Lima|o3    |96   |0.2|25.4 |5.8   |647.9   |\n",
      "|2020-01-31|PE     |Lima|o3    |88   |0.3|25.4 |5.9   |615.72  |\n",
      "|2020-02-01|PE     |Lima|o3    |96   |0.4|28.5 |5.9   |722.21  |\n",
      "|2020-02-02|PE     |Lima|o3    |96   |0.3|33.2 |5.9   |963.49  |\n",
      "|2020-02-03|PE     |Lima|o3    |89   |0.4|28.0 |5.9   |766.58  |\n",
      "|2020-02-04|PE     |Lima|o3    |96   |0.4|27.6 |6.0   |761.27  |\n",
      "|2020-02-05|PE     |Lima|o3    |96   |0.5|34.1 |5.9   |820.88  |\n",
      "|2020-02-06|PE     |Lima|o3    |96   |0.2|29.4 |5.8   |789.39  |\n",
      "|2020-02-07|PE     |Lima|o3    |98   |0.1|27.9 |4.7   |751.81  |\n",
      "|2020-02-08|PE     |Lima|o3    |102  |0.1|33.7 |5.0   |859.75  |\n",
      "|2020-02-09|PE     |Lima|o3    |94   |0.1|31.6 |5.7   |858.66  |\n",
      "|2020-02-10|PE     |Lima|o3    |68   |0.1|26.4 |5.4   |758.33  |\n",
      "|2020-02-11|PE     |Lima|o3    |61   |0.1|208.8|2.9   |8584.26 |\n",
      "|2020-02-12|PE     |Lima|o3    |77   |0.1|14.7 |4.1   |119.48  |\n",
      "|2020-02-13|PE     |Lima|o3    |80   |0.1|19.3 |4.0   |198.08  |\n",
      "|2020-02-14|PE     |Lima|o3    |80   |0.1|23.7 |2.7   |179.04  |\n",
      "|2020-02-15|PE     |Lima|o3    |78   |0.1|13.3 |3.3   |116.02  |\n",
      "|2020-02-16|PE     |Lima|o3    |80   |0.1|14.4 |3.5   |135.14  |\n",
      "|2020-02-17|PE     |Lima|o3    |79   |0.1|13.0 |3.7   |129.43  |\n",
      "|2020-02-18|PE     |Lima|o3    |78   |0.1|19.0 |3.7   |128.95  |\n",
      "|2020-02-19|PE     |Lima|o3    |79   |0.1|17.8 |4.2   |158.81  |\n",
      "|2020-02-20|PE     |Lima|o3    |71   |0.1|21.4 |4.4   |145.01  |\n",
      "|2020-02-21|PE     |Lima|o3    |62   |0.1|14.0 |3.3   |112.16  |\n",
      "|2020-02-22|PE     |Lima|o3    |59   |0.1|12.4 |3.5   |115.21  |\n",
      "|2020-02-23|PE     |Lima|o3    |59   |0.1|13.9 |3.1   |157.08  |\n",
      "|2020-02-24|PE     |Lima|o3    |63   |0.1|8.4  |2.8   |52.45   |\n",
      "|2020-02-25|PE     |Lima|o3    |60   |0.1|9.8  |3.8   |77.39   |\n",
      "|2020-02-26|PE     |Lima|o3    |53   |0.1|8.3  |3.0   |51.21   |\n",
      "|2020-02-27|PE     |Lima|o3    |61   |0.1|16.3 |3.1   |144.81  |\n",
      "|2020-02-28|PE     |Lima|o3    |59   |0.1|8.3  |3.3   |59.04   |\n",
      "|2020-02-29|PE     |Lima|o3    |62   |0.1|9.5  |2.7   |73.22   |\n",
      "|2020-03-01|PE     |Lima|o3    |57   |0.1|9.5  |2.8   |60.61   |\n",
      "|2020-03-02|PE     |Lima|o3    |59   |0.1|8.7  |2.6   |56.36   |\n",
      "|2020-03-03|PE     |Lima|o3    |59   |0.1|11.0 |3.4   |68.03   |\n",
      "|2020-03-04|PE     |Lima|o3    |61   |0.1|12.9 |4.1   |107.41  |\n",
      "|2020-03-05|PE     |Lima|o3    |61   |0.1|16.1 |3.4   |163.22  |\n",
      "|2020-03-06|PE     |Lima|o3    |20   |0.2|5.7  |1.0   |37.83   |\n",
      "|2020-03-29|PE     |Lima|o3    |59   |0.1|29.1 |5.2   |1001.21 |\n",
      "|2020-03-30|PE     |Lima|o3    |66   |0.1|29.1 |6.9   |1052.26 |\n",
      "|2020-03-31|PE     |Lima|o3    |54   |0.1|29.6 |5.7   |1033.83 |\n",
      "|2020-04-01|PE     |Lima|o3    |67   |0.1|34.1 |7.0   |1221.29 |\n",
      "|2020-04-02|PE     |Lima|o3    |71   |0.1|33.2 |7.3   |1053.63 |\n",
      "|2020-04-03|PE     |Lima|o3    |72   |0.1|29.9 |4.9   |1052.05 |\n",
      "|2020-04-04|PE     |Lima|o3    |75   |0.1|32.5 |5.7   |1253.58 |\n",
      "|2020-04-05|PE     |Lima|o3    |60   |0.1|29.8 |5.8   |1233.27 |\n",
      "|2020-04-06|PE     |Lima|o3    |75   |0.1|30.1 |4.9   |1137.27 |\n",
      "|2020-04-07|PE     |Lima|o3    |66   |0.1|30.2 |8.0   |1012.15 |\n",
      "|2020-04-08|PE     |Lima|o3    |68   |0.1|26.7 |4.1   |946.35  |\n",
      "|2020-04-09|PE     |Lima|o3    |68   |0.1|24.8 |5.6   |919.35  |\n",
      "|2020-04-10|PE     |Lima|o3    |72   |0.1|31.5 |5.0   |970.01  |\n",
      "|2020-04-11|PE     |Lima|o3    |75   |0.1|38.0 |4.5   |1331.61 |\n",
      "|2020-04-12|PE     |Lima|o3    |72   |0.1|28.0 |5.2   |1084.72 |\n",
      "|2020-04-13|PE     |Lima|o3    |67   |0.1|30.3 |4.8   |1088.55 |\n",
      "|2020-04-14|PE     |Lima|o3    |68   |0.1|33.0 |4.5   |943.93  |\n",
      "|2020-04-15|PE     |Lima|o3    |70   |0.1|30.7 |4.6   |1076.1  |\n",
      "|2020-04-16|PE     |Lima|o3    |69   |0.1|27.2 |3.7   |1013.77 |\n",
      "|2020-04-17|PE     |Lima|o3    |67   |0.1|26.1 |6.2   |1120.58 |\n",
      "|2020-04-18|PE     |Lima|o3    |63   |0.1|36.4 |4.3   |1308.35 |\n",
      "|2020-04-19|PE     |Lima|o3    |70   |0.1|31.7 |7.0   |1175.23 |\n",
      "|2020-04-20|PE     |Lima|o3    |69   |0.1|25.4 |4.6   |930.51  |\n",
      "|2020-04-21|PE     |Lima|o3    |74   |0.1|27.6 |5.4   |1123.59 |\n",
      "|2020-04-22|PE     |Lima|o3    |75   |0.1|28.0 |5.2   |1163.07 |\n",
      "|2020-04-23|PE     |Lima|o3    |72   |0.1|27.1 |4.9   |1063.27 |\n",
      "|2020-04-24|PE     |Lima|o3    |72   |0.1|27.8 |4.2   |1113.34 |\n",
      "|2020-04-25|PE     |Lima|o3    |70   |0.1|30.0 |4.7   |1046.42 |\n",
      "|2020-04-26|PE     |Lima|o3    |50   |0.1|27.6 |6.7   |1052.82 |\n",
      "|2020-04-27|PE     |Lima|o3    |51   |0.7|26.9 |7.8   |1201.76 |\n",
      "|2020-04-28|PE     |Lima|o3    |51   |0.9|30.2 |5.3   |1218.88 |\n",
      "|2020-04-29|PE     |Lima|o3    |51   |0.7|29.0 |4.1   |1154.65 |\n",
      "|2020-04-30|PE     |Lima|o3    |51   |0.5|34.9 |9.2   |1262.67 |\n",
      "|2020-05-01|PE     |Lima|o3    |51   |0.7|35.1 |8.7   |1604.89 |\n",
      "|2020-05-02|PE     |Lima|o3    |51   |0.8|32.6 |10.0  |1401.64 |\n",
      "|2020-05-03|PE     |Lima|o3    |48   |1.0|36.2 |8.4   |1449.19 |\n",
      "|2020-05-04|PE     |Lima|o3    |51   |0.9|31.3 |5.4   |1117.0  |\n",
      "|2020-05-05|PE     |Lima|o3    |51   |0.8|29.0 |5.5   |1061.02 |\n",
      "|2020-05-06|PE     |Lima|o3    |51   |0.7|34.7 |8.8   |1169.85 |\n",
      "|2020-05-07|PE     |Lima|o3    |51   |0.6|32.4 |7.6   |1120.16 |\n",
      "|2020-05-08|PE     |Lima|o3    |51   |0.7|34.3 |6.1   |1146.29 |\n",
      "|2020-05-09|PE     |Lima|o3    |51   |0.7|25.2 |2.9   |1159.74 |\n",
      "|2020-05-10|PE     |Lima|o3    |48   |1.3|25.4 |4.2   |1087.34 |\n",
      "|2020-05-11|PE     |Lima|o3    |51   |0.9|29.7 |4.1   |1151.99 |\n",
      "|2020-05-12|PE     |Lima|o3    |54   |0.1|31.2 |5.3   |1188.63 |\n",
      "|2020-05-13|PE     |Lima|o3    |63   |0.1|30.9 |4.8   |1037.47 |\n",
      "|2020-05-14|PE     |Lima|o3    |65   |0.1|28.5 |4.1   |1079.47 |\n",
      "|2020-05-15|PE     |Lima|o3    |67   |0.1|32.7 |2.4   |1213.64 |\n",
      "|2020-05-16|PE     |Lima|o3    |75   |0.1|29.9 |3.4   |1430.33 |\n",
      "|2020-05-17|PE     |Lima|o3    |72   |0.4|32.6 |4.7   |1548.28 |\n",
      "|2020-05-18|PE     |Lima|o3    |71   |0.1|32.2 |3.1   |1479.94 |\n",
      "|2020-05-19|PE     |Lima|o3    |71   |0.1|29.8 |2.6   |1521.41 |\n",
      "|2020-05-20|PE     |Lima|o3    |66   |0.1|30.7 |3.5   |1444.6  |\n",
      "|2020-05-21|PE     |Lima|o3    |75   |0.1|32.3 |2.9   |1532.72 |\n",
      "|2020-05-22|PE     |Lima|o3    |74   |0.1|30.4 |3.1   |1450.18 |\n",
      "|2020-05-23|PE     |Lima|o3    |75   |0.1|32.8 |3.0   |1393.75 |\n",
      "|2020-05-24|PE     |Lima|o3    |72   |0.1|45.3 |8.1   |2199.95 |\n",
      "|2020-05-25|PE     |Lima|o3    |75   |0.1|38.8 |4.9   |2067.13 |\n",
      "|2020-05-26|PE     |Lima|o3    |82   |0.1|42.2 |4.5   |1859.03 |\n",
      "|2020-05-27|PE     |Lima|o3    |96   |0.1|41.0 |4.6   |1634.77 |\n",
      "|2020-05-28|PE     |Lima|o3    |95   |0.1|38.7 |3.5   |1404.98 |\n",
      "|2020-05-29|PE     |Lima|o3    |89   |0.1|36.1 |3.9   |1264.97 |\n",
      "|2020-05-30|PE     |Lima|o3    |90   |0.1|32.6 |3.9   |1140.19 |\n",
      "|2020-05-31|PE     |Lima|o3    |92   |0.1|29.5 |3.7   |1191.68 |\n",
      "|2020-06-01|PE     |Lima|o3    |87   |0.1|27.9 |3.2   |1088.97 |\n",
      "|2020-06-02|PE     |Lima|o3    |79   |0.1|29.6 |1.9   |876.38  |\n",
      "|2020-06-03|PE     |Lima|o3    |83   |0.1|31.6 |2.8   |1143.8  |\n",
      "|2020-06-04|PE     |Lima|o3    |93   |0.1|32.4 |3.2   |1180.61 |\n",
      "|2020-06-05|PE     |Lima|o3    |57   |0.1|39.9 |4.5   |1309.09 |\n",
      "+----------+-------+----+------+-----+---+-----+------+--------+\n",
      "\n"
     ]
    }
   ],
   "source": [
    "PEall = PEall.orderBy('Specie','Date').filter((df.Country == 'PE'))\n",
    "PEall.show(PEall.count(), truncate=False)"
   ]
  },
  {
   "cell_type": "code",
   "execution_count": 267,
   "metadata": {},
   "outputs": [
    {
     "data": {
      "text/html": [
       "<div>\n",
       "<style scoped>\n",
       "    .dataframe tbody tr th:only-of-type {\n",
       "        vertical-align: middle;\n",
       "    }\n",
       "\n",
       "    .dataframe tbody tr th {\n",
       "        vertical-align: top;\n",
       "    }\n",
       "\n",
       "    .dataframe thead th {\n",
       "        text-align: right;\n",
       "    }\n",
       "</style>\n",
       "<table border=\"1\" class=\"dataframe\">\n",
       "  <thead>\n",
       "    <tr style=\"text-align: right;\">\n",
       "      <th></th>\n",
       "      <th>0</th>\n",
       "      <th>1</th>\n",
       "      <th>2</th>\n",
       "      <th>3</th>\n",
       "      <th>4</th>\n",
       "      <th>5</th>\n",
       "      <th>6</th>\n",
       "      <th>7</th>\n",
       "      <th>8</th>\n",
       "      <th>9</th>\n",
       "      <th>...</th>\n",
       "      <th>264</th>\n",
       "      <th>265</th>\n",
       "      <th>266</th>\n",
       "      <th>267</th>\n",
       "      <th>268</th>\n",
       "      <th>269</th>\n",
       "      <th>270</th>\n",
       "      <th>271</th>\n",
       "      <th>272</th>\n",
       "      <th>273</th>\n",
       "    </tr>\n",
       "  </thead>\n",
       "  <tbody>\n",
       "    <tr>\n",
       "      <th>Date</th>\n",
       "      <td>2019-12-30</td>\n",
       "      <td>2019-12-31</td>\n",
       "      <td>2020-01-01</td>\n",
       "      <td>2020-01-02</td>\n",
       "      <td>2020-01-03</td>\n",
       "      <td>2020-01-04</td>\n",
       "      <td>2020-01-05</td>\n",
       "      <td>2020-01-06</td>\n",
       "      <td>2020-01-07</td>\n",
       "      <td>2020-01-08</td>\n",
       "      <td>...</td>\n",
       "      <td>2020-05-27</td>\n",
       "      <td>2020-05-28</td>\n",
       "      <td>2020-05-29</td>\n",
       "      <td>2020-05-30</td>\n",
       "      <td>2020-05-31</td>\n",
       "      <td>2020-06-01</td>\n",
       "      <td>2020-06-02</td>\n",
       "      <td>2020-06-03</td>\n",
       "      <td>2020-06-04</td>\n",
       "      <td>2020-06-05</td>\n",
       "    </tr>\n",
       "    <tr>\n",
       "      <th>count</th>\n",
       "      <td>72</td>\n",
       "      <td>79</td>\n",
       "      <td>93</td>\n",
       "      <td>102</td>\n",
       "      <td>99</td>\n",
       "      <td>102</td>\n",
       "      <td>99</td>\n",
       "      <td>99</td>\n",
       "      <td>99</td>\n",
       "      <td>99</td>\n",
       "      <td>...</td>\n",
       "      <td>96</td>\n",
       "      <td>95</td>\n",
       "      <td>89</td>\n",
       "      <td>90</td>\n",
       "      <td>92</td>\n",
       "      <td>87</td>\n",
       "      <td>79</td>\n",
       "      <td>83</td>\n",
       "      <td>93</td>\n",
       "      <td>57</td>\n",
       "    </tr>\n",
       "  </tbody>\n",
       "</table>\n",
       "<p>2 rows × 274 columns</p>\n",
       "</div>"
      ],
      "text/plain": [
       "              0           1           2           3           4           5    \\\n",
       "Date   2019-12-30  2019-12-31  2020-01-01  2020-01-02  2020-01-03  2020-01-04   \n",
       "count          72          79          93         102          99         102   \n",
       "\n",
       "              6           7           8           9    ...         264  \\\n",
       "Date   2020-01-05  2020-01-06  2020-01-07  2020-01-08  ...  2020-05-27   \n",
       "count          99          99          99          99  ...          96   \n",
       "\n",
       "              265         266         267         268         269         270  \\\n",
       "Date   2020-05-28  2020-05-29  2020-05-30  2020-05-31  2020-06-01  2020-06-02   \n",
       "count          95          89          90          92          87          79   \n",
       "\n",
       "              271         272         273  \n",
       "Date   2020-06-03  2020-06-04  2020-06-05  \n",
       "count          83          93          57  \n",
       "\n",
       "[2 rows x 274 columns]"
      ]
     },
     "execution_count": 267,
     "metadata": {},
     "output_type": "execute_result"
    }
   ],
   "source": [
    "PEallgraf = PEall.orderBy('Specie','Date').select('Date','count')\n",
    "PEallpa = PEallgraf.toPandas()\n",
    "PEallpa.T"
   ]
  },
  {
   "cell_type": "code",
   "execution_count": 268,
   "metadata": {},
   "outputs": [
    {
     "data": {
      "text/plain": [
       "<matplotlib.axes._subplots.AxesSubplot at 0x7f3766808590>"
      ]
     },
     "execution_count": 268,
     "metadata": {},
     "output_type": "execute_result"
    },
    {
     "data": {
      "image/png": "[encoded data removed]",
      "text/plain": [
       "<Figure size 432x288 with 1 Axes>"
      ]
     },
     "metadata": {
      "needs_background": "light"
     },
     "output_type": "display_data"
    }
   ],
   "source": [
    "PEallpa.plot()"
   ]
  },
  {
   "cell_type": "code",
   "execution_count": 270,
   "metadata": {},
   "outputs": [
    {
     "data": {
      "application/vnd.plotly.v1+json": {
       "config": {
        "plotlyServerURL": "https://plot.ly"
       },
       "data": [
        {
         "hovertemplate": "Date=%{x}<br>count=%{y}<extra></extra>",
         "legendgroup": "",
         "line": {
          "color": "#636efa",
          "dash": "solid"
         },
         "mode": "lines",
         "name": "",
         "orientation": "v",
         "showlegend": false,
         "type": "scatter",
         "x": [
          "2019-12-30",
          "2019-12-31",
          "2020-01-01",
          "2020-01-02",
          "2020-01-03",
          "2020-01-04",
          "2020-01-05",
          "2020-01-06",
          "2020-01-07",
          "2020-01-08",
          "2020-01-09",
          "2020-01-10",
          "2020-01-11",
          "2020-01-12",
          "2020-01-13",
          "2020-01-14",
          "2020-01-15",
          "2020-01-16",
          "2020-01-17",
          "2020-01-18",
          "2020-01-19",
          "2020-01-20",
          "2020-01-21",
          "2020-01-22",
          "2020-01-23",
          "2020-01-24",
          "2020-01-25",
          "2020-01-26",
          "2020-01-27",
          "2020-01-28",
          "2020-01-29",
          "2020-01-30",
          "2020-01-31",
          "2020-02-01",
          "2020-02-02",
          "2020-02-03",
          "2020-02-04",
          "2020-02-05",
          "2020-02-06",
          "2020-02-07",
          "2020-02-08",
          "2020-02-09",
          "2020-02-10",
          "2020-02-11",
          "2020-02-12",
          "2020-02-13",
          "2020-02-14",
          "2020-02-15",
          "2020-02-16",
          "2020-02-17",
          "2020-02-18",
          "2020-02-19",
          "2020-02-20",
          "2020-02-21",
          "2020-02-22",
          "2020-02-23",
          "2020-02-24",
          "2020-02-25",
          "2020-02-26",
          "2020-02-27",
          "2020-02-28",
          "2020-02-29",
          "2020-03-01",
          "2020-03-02",
          "2020-03-03",
          "2020-03-04",
          "2020-03-05",
          "2020-03-06",
          "2020-03-29",
          "2020-03-30",
          "2020-03-31",
          "2020-04-01",
          "2020-04-02",
          "2020-04-03",
          "2020-04-04",
          "2020-04-05",
          "2020-04-06",
          "2020-04-07",
          "2020-04-08",
          "2020-04-09",
          "2020-04-10",
          "2020-04-11",
          "2020-04-12",
          "2020-04-13",
          "2020-04-14",
          "2020-04-15",
          "2020-04-16",
          "2020-04-17",
          "2020-04-18",
          "2020-04-19",
          "2020-04-20",
          "2020-04-21",
          "2020-04-22",
          "2020-04-23",
          "2020-04-24",
          "2020-04-25",
          "2020-04-26",
          "2020-04-27",
          "2020-04-28",
          "2020-04-29",
          "2020-04-30",
          "2020-05-01",
          "2020-05-02",
          "2020-05-03",
          "2020-05-04",
          "2020-05-05",
          "2020-05-06",
          "2020-05-07",
          "2020-05-08",
          "2020-05-09",
          "2020-05-10",
          "2020-05-11",
          "2020-05-12",
          "2020-05-13",
          "2020-05-14",
          "2020-05-15",
          "2020-05-16",
          "2020-05-17",
          "2020-05-18",
          "2020-05-19",
          "2020-05-20",
          "2020-05-21",
          "2020-05-22",
          "2020-05-23",
          "2020-05-24",
          "2020-05-25",
          "2020-05-26",
          "2020-05-27",
          "2020-05-28",
          "2020-05-29",
          "2020-05-30",
          "2020-05-31",
          "2020-06-01",
          "2020-06-02",
          "2020-06-03",
          "2020-06-04",
          "2020-06-05",
          "2019-12-30",
          "2019-12-31",
          "2020-01-01",
          "2020-01-02",
          "2020-01-03",
          "2020-01-04",
          "2020-01-05",
          "2020-01-06",
          "2020-01-07",
          "2020-01-08",
          "2020-01-09",
          "2020-01-10",
          "2020-01-11",
          "2020-01-12",
          "2020-01-13",
          "2020-01-14",
          "2020-01-15",
          "2020-01-16",
          "2020-01-17",
          "2020-01-18",
          "2020-01-19",
          "2020-01-20",
          "2020-01-21",
          "2020-01-22",
          "2020-01-23",
          "2020-01-24",
          "2020-01-25",
          "2020-01-26",
          "2020-01-27",
          "2020-01-28",
          "2020-01-29",
          "2020-01-30",
          "2020-01-31",
          "2020-02-01",
          "2020-02-02",
          "2020-02-03",
          "2020-02-04",
          "2020-02-05",
          "2020-02-06",
          "2020-02-07",
          "2020-02-08",
          "2020-02-09",
          "2020-02-10",
          "2020-02-11",
          "2020-02-12",
          "2020-02-13",
          "2020-02-14",
          "2020-02-15",
          "2020-02-16",
          "2020-02-17",
          "2020-02-18",
          "2020-02-19",
          "2020-02-20",
          "2020-02-21",
          "2020-02-22",
          "2020-02-23",
          "2020-02-24",
          "2020-02-25",
          "2020-02-26",
          "2020-02-27",
          "2020-02-28",
          "2020-02-29",
          "2020-03-01",
          "2020-03-02",
          "2020-03-03",
          "2020-03-04",
          "2020-03-05",
          "2020-03-06",
          "2020-03-29",
          "2020-03-30",
          "2020-03-31",
          "2020-04-01",
          "2020-04-02",
          "2020-04-03",
          "2020-04-04",
          "2020-04-05",
          "2020-04-06",
          "2020-04-07",
          "2020-04-08",
          "2020-04-09",
          "2020-04-10",
          "2020-04-11",
          "2020-04-12",
          "2020-04-13",
          "2020-04-14",
          "2020-04-15",
          "2020-04-16",
          "2020-04-17",
          "2020-04-18",
          "2020-04-19",
          "2020-04-20",
          "2020-04-21",
          "2020-04-22",
          "2020-04-23",
          "2020-04-24",
          "2020-04-25",
          "2020-04-26",
          "2020-04-27",
          "2020-04-28",
          "2020-04-29",
          "2020-04-30",
          "2020-05-01",
          "2020-05-02",
          "2020-05-03",
          "2020-05-04",
          "2020-05-05",
          "2020-05-06",
          "2020-05-07",
          "2020-05-08",
          "2020-05-09",
          "2020-05-10",
          "2020-05-11",
          "2020-05-12",
          "2020-05-13",
          "2020-05-14",
          "2020-05-15",
          "2020-05-16",
          "2020-05-17",
          "2020-05-18",
          "2020-05-19",
          "2020-05-20",
          "2020-05-21",
          "2020-05-22",
          "2020-05-23",
          "2020-05-24",
          "2020-05-25",
          "2020-05-26",
          "2020-05-27",
          "2020-05-28",
          "2020-05-29",
          "2020-05-30",
          "2020-05-31",
          "2020-06-01",
          "2020-06-02",
          "2020-06-03",
          "2020-06-04",
          "2020-06-05"
         ],
         "xaxis": "x",
         "y": [
          72,
          79,
          93,
          102,
          99,
          102,
          99,
          99,
          99,
          99,
          99,
          99,
          99,
          99,
          99,
          99,
          99,
          99,
          99,
          99,
          99,
          99,
          99,
          91,
          75,
          75,
          75,
          75,
          57,
          55,
          75,
          75,
          64,
          68,
          48,
          43,
          54,
          79,
          96,
          91,
          94,
          94,
          92,
          93,
          96,
          96,
          94,
          93,
          96,
          95,
          94,
          92,
          92,
          104,
          113,
          118,
          121,
          121,
          120,
          144,
          144,
          143,
          131,
          132,
          119,
          116,
          119,
          46,
          86,
          102,
          85,
          102,
          102,
          103,
          102,
          80,
          81,
          78,
          78,
          79,
          78,
          78,
          72,
          79,
          78,
          78,
          78,
          76,
          68,
          72,
          78,
          77,
          75,
          78,
          75,
          75,
          55,
          51,
          51,
          38,
          31,
          27,
          27,
          24,
          27,
          27,
          27,
          27,
          27,
          27,
          24,
          35,
          53,
          51,
          51,
          50,
          51,
          48,
          51,
          51,
          51,
          51,
          50,
          51,
          48,
          65,
          84,
          78,
          75,
          78,
          78,
          70,
          72,
          72,
          72,
          72,
          30,
          48,
          55,
          70,
          72,
          69,
          83,
          96,
          96,
          96,
          96,
          96,
          95,
          96,
          96,
          96,
          96,
          80,
          72,
          72,
          72,
          72,
          72,
          68,
          82,
          92,
          94,
          96,
          96,
          96,
          96,
          95,
          96,
          88,
          96,
          96,
          89,
          96,
          96,
          96,
          98,
          102,
          94,
          68,
          61,
          77,
          80,
          80,
          78,
          80,
          79,
          78,
          79,
          71,
          62,
          59,
          59,
          63,
          60,
          53,
          61,
          59,
          62,
          57,
          59,
          59,
          61,
          61,
          20,
          59,
          66,
          54,
          67,
          71,
          72,
          75,
          60,
          75,
          66,
          68,
          68,
          72,
          75,
          72,
          67,
          68,
          70,
          69,
          67,
          63,
          70,
          69,
          74,
          75,
          72,
          72,
          70,
          50,
          51,
          51,
          51,
          51,
          51,
          51,
          48,
          51,
          51,
          51,
          51,
          51,
          51,
          48,
          51,
          54,
          63,
          65,
          67,
          75,
          72,
          71,
          71,
          66,
          75,
          74,
          75,
          72,
          75,
          82,
          96,
          95,
          89,
          90,
          92,
          87,
          79,
          83,
          93,
          57
         ],
         "yaxis": "y"
        }
       ],
       "layout": {
        "legend": {
         "tracegroupgap": 0
        },
        "template": {
         "data": {
          "bar": [
           {
            "error_x": {
             "color": "#2a3f5f"
            },
            "error_y": {
             "color": "#2a3f5f"
            },
            "marker": {
             "line": {
              "color": "#E5ECF6",
              "width": 0.5
             }
            },
            "type": "bar"
           }
          ],
          "barpolar": [
           {
            "marker": {
             "line": {
              "color": "#E5ECF6",
              "width": 0.5
             }
            },
            "type": "barpolar"
           }
          ],
          "carpet": [
           {
            "aaxis": {
             "endlinecolor": "#2a3f5f",
             "gridcolor": "white",
             "linecolor": "white",
             "minorgridcolor": "white",
             "startlinecolor": "#2a3f5f"
            },
            "baxis": {
             "endlinecolor": "#2a3f5f",
             "gridcolor": "white",
             "linecolor": "white",
             "minorgridcolor": "white",
             "startlinecolor": "#2a3f5f"
            },
            "type": "carpet"
           }
          ],
          "choropleth": [
           {
            "colorbar": {
             "outlinewidth": 0,
             "ticks": ""
            },
            "type": "choropleth"
           }
          ],
          "contour": [
           {
            "colorbar": {
             "outlinewidth": 0,
             "ticks": ""
            },
            "colorscale": [
             [
              0,
              "#0d0887"
             ],
             [
              0.1111111111111111,
              "#46039f"
             ],
             [
              0.2222222222222222,
              "#7201a8"
             ],
             [
              0.3333333333333333,
              "#9c179e"
             ],
             [
              0.4444444444444444,
              "#bd3786"
             ],
             [
              0.5555555555555556,
              "#d8576b"
             ],
             [
              0.6666666666666666,
              "#ed7953"
             ],
             [
              0.7777777777777778,
              "#fb9f3a"
             ],
             [
              0.8888888888888888,
              "#fdca26"
             ],
             [
              1,
              "#f0f921"
             ]
            ],
            "type": "contour"
           }
          ],
          "contourcarpet": [
           {
            "colorbar": {
             "outlinewidth": 0,
             "ticks": ""
            },
            "type": "contourcarpet"
           }
          ],
          "heatmap": [
           {
            "colorbar": {
             "outlinewidth": 0,
             "ticks": ""
            },
            "colorscale": [
             [
              0,
              "#0d0887"
             ],
             [
              0.1111111111111111,
              "#46039f"
             ],
             [
              0.2222222222222222,
              "#7201a8"
             ],
             [
              0.3333333333333333,
              "#9c179e"
             ],
             [
              0.4444444444444444,
              "#bd3786"
             ],
             [
              0.5555555555555556,
              "#d8576b"
             ],
             [
              0.6666666666666666,
              "#ed7953"
             ],
             [
              0.7777777777777778,
              "#fb9f3a"
             ],
             [
              0.8888888888888888,
              "#fdca26"
             ],
             [
              1,
              "#f0f921"
             ]
            ],
            "type": "heatmap"
           }
          ],
          "heatmapgl": [
           {
            "colorbar": {
             "outlinewidth": 0,
             "ticks": ""
            },
            "colorscale": [
             [
              0,
              "#0d0887"
             ],
             [
              0.1111111111111111,
              "#46039f"
             ],
             [
              0.2222222222222222,
              "#7201a8"
             ],
             [
              0.3333333333333333,
              "#9c179e"
             ],
             [
              0.4444444444444444,
              "#bd3786"
             ],
             [
              0.5555555555555556,
              "#d8576b"
             ],
             [
              0.6666666666666666,
              "#ed7953"
             ],
             [
              0.7777777777777778,
              "#fb9f3a"
             ],
             [
              0.8888888888888888,
              "#fdca26"
             ],
             [
              1,
              "#f0f921"
             ]
            ],
            "type": "heatmapgl"
           }
          ],
          "histogram": [
           {
            "marker": {
             "colorbar": {
              "outlinewidth": 0,
              "ticks": ""
             }
            },
            "type": "histogram"
           }
          ],
          "histogram2d": [
           {
            "colorbar": {
             "outlinewidth": 0,
             "ticks": ""
            },
            "colorscale": [
             [
              0,
              "#0d0887"
             ],
             [
              0.1111111111111111,
              "#46039f"
             ],
             [
              0.2222222222222222,
              "#7201a8"
             ],
             [
              0.3333333333333333,
              "#9c179e"
             ],
             [
              0.4444444444444444,
              "#bd3786"
             ],
             [
              0.5555555555555556,
              "#d8576b"
             ],
             [
              0.6666666666666666,
              "#ed7953"
             ],
             [
              0.7777777777777778,
              "#fb9f3a"
             ],
             [
              0.8888888888888888,
              "#fdca26"
             ],
             [
              1,
              "#f0f921"
             ]
            ],
            "type": "histogram2d"
           }
          ],
          "histogram2dcontour": [
           {
            "colorbar": {
             "outlinewidth": 0,
             "ticks": ""
            },
            "colorscale": [
             [
              0,
              "#0d0887"
             ],
             [
              0.1111111111111111,
              "#46039f"
             ],
             [
              0.2222222222222222,
              "#7201a8"
             ],
             [
              0.3333333333333333,
              "#9c179e"
             ],
             [
              0.4444444444444444,
              "#bd3786"
             ],
             [
              0.5555555555555556,
              "#d8576b"
             ],
             [
              0.6666666666666666,
              "#ed7953"
             ],
             [
              0.7777777777777778,
              "#fb9f3a"
             ],
             [
              0.8888888888888888,
              "#fdca26"
             ],
             [
              1,
              "#f0f921"
             ]
            ],
            "type": "histogram2dcontour"
           }
          ],
          "mesh3d": [
           {
            "colorbar": {
             "outlinewidth": 0,
             "ticks": ""
            },
            "type": "mesh3d"
           }
          ],
          "parcoords": [
           {
            "line": {
             "colorbar": {
              "outlinewidth": 0,
              "ticks": ""
             }
            },
            "type": "parcoords"
           }
          ],
          "pie": [
           {
            "automargin": true,
            "type": "pie"
           }
          ],
          "scatter": [
           {
            "marker": {
             "colorbar": {
              "outlinewidth": 0,
              "ticks": ""
             }
            },
            "type": "scatter"
           }
          ],
          "scatter3d": [
           {
            "line": {
             "colorbar": {
              "outlinewidth": 0,
              "ticks": ""
             }
            },
            "marker": {
             "colorbar": {
              "outlinewidth": 0,
              "ticks": ""
             }
            },
            "type": "scatter3d"
           }
          ],
          "scattercarpet": [
           {
            "marker": {
             "colorbar": {
              "outlinewidth": 0,
              "ticks": ""
             }
            },
            "type": "scattercarpet"
           }
          ],
          "scattergeo": [
           {
            "marker": {
             "colorbar": {
              "outlinewidth": 0,
              "ticks": ""
             }
            },
            "type": "scattergeo"
           }
          ],
          "scattergl": [
           {
            "marker": {
             "colorbar": {
              "outlinewidth": 0,
              "ticks": ""
             }
            },
            "type": "scattergl"
           }
          ],
          "scattermapbox": [
           {
            "marker": {
             "colorbar": {
              "outlinewidth": 0,
              "ticks": ""
             }
            },
            "type": "scattermapbox"
           }
          ],
          "scatterpolar": [
           {
            "marker": {
             "colorbar": {
              "outlinewidth": 0,
              "ticks": ""
             }
            },
            "type": "scatterpolar"
           }
          ],
          "scatterpolargl": [
           {
            "marker": {
             "colorbar": {
              "outlinewidth": 0,
              "ticks": ""
             }
            },
            "type": "scatterpolargl"
           }
          ],
          "scatterternary": [
           {
            "marker": {
             "colorbar": {
              "outlinewidth": 0,
              "ticks": ""
             }
            },
            "type": "scatterternary"
           }
          ],
          "surface": [
           {
            "colorbar": {
             "outlinewidth": 0,
             "ticks": ""
            },
            "colorscale": [
             [
              0,
              "#0d0887"
             ],
             [
              0.1111111111111111,
              "#46039f"
             ],
             [
              0.2222222222222222,
              "#7201a8"
             ],
             [
              0.3333333333333333,
              "#9c179e"
             ],
             [
              0.4444444444444444,
              "#bd3786"
             ],
             [
              0.5555555555555556,
              "#d8576b"
             ],
             [
              0.6666666666666666,
              "#ed7953"
             ],
             [
              0.7777777777777778,
              "#fb9f3a"
             ],
             [
              0.8888888888888888,
              "#fdca26"
             ],
             [
              1,
              "#f0f921"
             ]
            ],
            "type": "surface"
           }
          ],
          "table": [
           {
            "cells": {
             "fill": {
              "color": "#EBF0F8"
             },
             "line": {
              "color": "white"
             }
            },
            "header": {
             "fill": {
              "color": "#C8D4E3"
             },
             "line": {
              "color": "white"
             }
            },
            "type": "table"
           }
          ]
         },
         "layout": {
          "annotationdefaults": {
           "arrowcolor": "#2a3f5f",
           "arrowhead": 0,
           "arrowwidth": 1
          },
          "coloraxis": {
           "colorbar": {
            "outlinewidth": 0,
            "ticks": ""
           }
          },
          "colorscale": {
           "diverging": [
            [
             0,
             "#8e0152"
            ],
            [
             0.1,
             "#c51b7d"
            ],
            [
             0.2,
             "#de77ae"
            ],
            [
             0.3,
             "#f1b6da"
            ],
            [
             0.4,
             "#fde0ef"
            ],
            [
             0.5,
             "#f7f7f7"
            ],
            [
             0.6,
             "#e6f5d0"
            ],
            [
             0.7,
             "#b8e186"
            ],
            [
             0.8,
             "#7fbc41"
            ],
            [
             0.9,
             "#4d9221"
            ],
            [
             1,
             "#276419"
            ]
           ],
           "sequential": [
            [
             0,
             "#0d0887"
            ],
            [
             0.1111111111111111,
             "#46039f"
            ],
            [
             0.2222222222222222,
             "#7201a8"
            ],
            [
             0.3333333333333333,
             "#9c179e"
            ],
            [
             0.4444444444444444,
             "#bd3786"
            ],
            [
             0.5555555555555556,
             "#d8576b"
            ],
            [
             0.6666666666666666,
             "#ed7953"
            ],
            [
             0.7777777777777778,
             "#fb9f3a"
            ],
            [
             0.8888888888888888,
             "#fdca26"
            ],
            [
             1,
             "#f0f921"
            ]
           ],
           "sequentialminus": [
            [
             0,
             "#0d0887"
            ],
            [
             0.1111111111111111,
             "#46039f"
            ],
            [
             0.2222222222222222,
             "#7201a8"
            ],
            [
             0.3333333333333333,
             "#9c179e"
            ],
            [
             0.4444444444444444,
             "#bd3786"
            ],
            [
             0.5555555555555556,
             "#d8576b"
            ],
            [
             0.6666666666666666,
             "#ed7953"
            ],
            [
             0.7777777777777778,
             "#fb9f3a"
            ],
            [
             0.8888888888888888,
             "#fdca26"
            ],
            [
             1,
             "#f0f921"
            ]
           ]
          },
          "colorway": [
           "#636efa",
           "#EF553B",
           "#00cc96",
           "#ab63fa",
           "#FFA15A",
           "#19d3f3",
           "#FF6692",
           "#B6E880",
           "#FF97FF",
           "#FECB52"
          ],
          "font": {
           "color": "#2a3f5f"
          },
          "geo": {
           "bgcolor": "white",
           "lakecolor": "white",
           "landcolor": "#E5ECF6",
           "showlakes": true,
           "showland": true,
           "subunitcolor": "white"
          },
          "hoverlabel": {
           "align": "left"
          },
          "hovermode": "closest",
          "mapbox": {
           "style": "light"
          },
          "paper_bgcolor": "white",
          "plot_bgcolor": "#E5ECF6",
          "polar": {
           "angularaxis": {
            "gridcolor": "white",
            "linecolor": "white",
            "ticks": ""
           },
           "bgcolor": "#E5ECF6",
           "radialaxis": {
            "gridcolor": "white",
            "linecolor": "white",
            "ticks": ""
           }
          },
          "scene": {
           "xaxis": {
            "backgroundcolor": "#E5ECF6",
            "gridcolor": "white",
            "gridwidth": 2,
            "linecolor": "white",
            "showbackground": true,
            "ticks": "",
            "zerolinecolor": "white"
           },
           "yaxis": {
            "backgroundcolor": "#E5ECF6",
            "gridcolor": "white",
            "gridwidth": 2,
            "linecolor": "white",
            "showbackground": true,
            "ticks": "",
            "zerolinecolor": "white"
           },
           "zaxis": {
            "backgroundcolor": "#E5ECF6",
            "gridcolor": "white",
            "gridwidth": 2,
            "linecolor": "white",
            "showbackground": true,
            "ticks": "",
            "zerolinecolor": "white"
           }
          },
          "shapedefaults": {
           "line": {
            "color": "#2a3f5f"
           }
          },
          "ternary": {
           "aaxis": {
            "gridcolor": "white",
            "linecolor": "white",
            "ticks": ""
           },
           "baxis": {
            "gridcolor": "white",
            "linecolor": "white",
            "ticks": ""
           },
           "bgcolor": "#E5ECF6",
           "caxis": {
            "gridcolor": "white",
            "linecolor": "white",
            "ticks": ""
           }
          },
          "title": {
           "x": 0.05
          },
          "xaxis": {
           "automargin": true,
           "gridcolor": "white",
           "linecolor": "white",
           "ticks": "",
           "title": {
            "standoff": 15
           },
           "zerolinecolor": "white",
           "zerolinewidth": 2
          },
          "yaxis": {
           "automargin": true,
           "gridcolor": "white",
           "linecolor": "white",
           "ticks": "",
           "title": {
            "standoff": 15
           },
           "zerolinecolor": "white",
           "zerolinewidth": 2
          }
         }
        },
        "title": {
         "text": "VALORES PARA O3 POR FECHA"
        },
        "xaxis": {
         "anchor": "y",
         "domain": [
          0,
          1
         ],
         "title": {
          "text": "Date"
         }
        },
        "yaxis": {
         "anchor": "x",
         "domain": [
          0,
          1
         ],
         "title": {
          "text": "count"
         }
        }
       }
      },
      "text/html": [
       "<div>\n",
       "        \n",
       "        \n",
       "            <div id=\"f30c1c90-405b-4e30-9e2e-48b9d1d76b26\" class=\"plotly-graph-div\" style=\"height:525px; width:100%;\"></div>\n",
       "            <script type=\"text/javascript\">\n",
       "                require([\"plotly\"], function(Plotly) {\n",
       "                    window.PLOTLYENV=window.PLOTLYENV || {};\n",
       "                    \n",
       "                if (document.getElementById(\"f30c1c90-405b-4e30-9e2e-48b9d1d76b26\")) {\n",
       "                    Plotly.newPlot(\n",
       "                        'f30c1c90-405b-4e30-9e2e-48b9d1d76b26',\n",
       "                        [{\"hovertemplate\": \"Date=%{x}<br>count=%{y}<extra></extra>\", \"legendgroup\": \"\", \"line\": {\"color\": \"#636efa\", \"dash\": \"solid\"}, \"mode\": \"lines\", \"name\": \"\", \"orientation\": \"v\", \"showlegend\": false, \"type\": \"scatter\", \"x\": [\"2019-12-30\", \"2019-12-31\", \"2020-01-01\", \"2020-01-02\", \"2020-01-03\", \"2020-01-04\", \"2020-01-05\", \"2020-01-06\", \"2020-01-07\", \"2020-01-08\", \"2020-01-09\", \"2020-01-10\", \"2020-01-11\", \"2020-01-12\", \"2020-01-13\", \"2020-01-14\", \"2020-01-15\", \"2020-01-16\", \"2020-01-17\", \"2020-01-18\", \"2020-01-19\", \"2020-01-20\", \"2020-01-21\", \"2020-01-22\", \"2020-01-23\", \"2020-01-24\", \"2020-01-25\", \"2020-01-26\", \"2020-01-27\", \"2020-01-28\", \"2020-01-29\", \"2020-01-30\", \"2020-01-31\", \"2020-02-01\", \"2020-02-02\", \"2020-02-03\", \"2020-02-04\", \"2020-02-05\", \"2020-02-06\", \"2020-02-07\", \"2020-02-08\", \"2020-02-09\", \"2020-02-10\", \"2020-02-11\", \"2020-02-12\", \"2020-02-13\", \"2020-02-14\", \"2020-02-15\", \"2020-02-16\", \"2020-02-17\", \"2020-02-18\", \"2020-02-19\", \"2020-02-20\", \"2020-02-21\", \"2020-02-22\", \"2020-02-23\", \"2020-02-24\", \"2020-02-25\", \"2020-02-26\", \"2020-02-27\", \"2020-02-28\", \"2020-02-29\", \"2020-03-01\", \"2020-03-02\", \"2020-03-03\", \"2020-03-04\", \"2020-03-05\", \"2020-03-06\", \"2020-03-29\", \"2020-03-30\", \"2020-03-31\", \"2020-04-01\", \"2020-04-02\", \"2020-04-03\", \"2020-04-04\", \"2020-04-05\", \"2020-04-06\", \"2020-04-07\", \"2020-04-08\", \"2020-04-09\", \"2020-04-10\", \"2020-04-11\", \"2020-04-12\", \"2020-04-13\", \"2020-04-14\", \"2020-04-15\", \"2020-04-16\", \"2020-04-17\", \"2020-04-18\", \"2020-04-19\", \"2020-04-20\", \"2020-04-21\", \"2020-04-22\", \"2020-04-23\", \"2020-04-24\", \"2020-04-25\", \"2020-04-26\", \"2020-04-27\", \"2020-04-28\", \"2020-04-29\", \"2020-04-30\", \"2020-05-01\", \"2020-05-02\", \"2020-05-03\", \"2020-05-04\", \"2020-05-05\", \"2020-05-06\", \"2020-05-07\", \"2020-05-08\", \"2020-05-09\", \"2020-05-10\", \"2020-05-11\", \"2020-05-12\", \"2020-05-13\", \"2020-05-14\", \"2020-05-15\", \"2020-05-16\", \"2020-05-17\", \"2020-05-18\", \"2020-05-19\", \"2020-05-20\", \"2020-05-21\", \"2020-05-22\", \"2020-05-23\", \"2020-05-24\", \"2020-05-25\", \"2020-05-26\", \"2020-05-27\", \"2020-05-28\", \"2020-05-29\", \"2020-05-30\", \"2020-05-31\", \"2020-06-01\", \"2020-06-02\", \"2020-06-03\", \"2020-06-04\", \"2020-06-05\", \"2019-12-30\", \"2019-12-31\", \"2020-01-01\", \"2020-01-02\", \"2020-01-03\", \"2020-01-04\", \"2020-01-05\", \"2020-01-06\", \"2020-01-07\", \"2020-01-08\", \"2020-01-09\", \"2020-01-10\", \"2020-01-11\", \"2020-01-12\", \"2020-01-13\", \"2020-01-14\", \"2020-01-15\", \"2020-01-16\", \"2020-01-17\", \"2020-01-18\", \"2020-01-19\", \"2020-01-20\", \"2020-01-21\", \"2020-01-22\", \"2020-01-23\", \"2020-01-24\", \"2020-01-25\", \"2020-01-26\", \"2020-01-27\", \"2020-01-28\", \"2020-01-29\", \"2020-01-30\", \"2020-01-31\", \"2020-02-01\", \"2020-02-02\", \"2020-02-03\", \"2020-02-04\", \"2020-02-05\", \"2020-02-06\", \"2020-02-07\", \"2020-02-08\", \"2020-02-09\", \"2020-02-10\", \"2020-02-11\", \"2020-02-12\", \"2020-02-13\", \"2020-02-14\", \"2020-02-15\", \"2020-02-16\", \"2020-02-17\", \"2020-02-18\", \"2020-02-19\", \"2020-02-20\", \"2020-02-21\", \"2020-02-22\", \"2020-02-23\", \"2020-02-24\", \"2020-02-25\", \"2020-02-26\", \"2020-02-27\", \"2020-02-28\", \"2020-02-29\", \"2020-03-01\", \"2020-03-02\", \"2020-03-03\", \"2020-03-04\", \"2020-03-05\", \"2020-03-06\", \"2020-03-29\", \"2020-03-30\", \"2020-03-31\", \"2020-04-01\", \"2020-04-02\", \"2020-04-03\", \"2020-04-04\", \"2020-04-05\", \"2020-04-06\", \"2020-04-07\", \"2020-04-08\", \"2020-04-09\", \"2020-04-10\", \"2020-04-11\", \"2020-04-12\", \"2020-04-13\", \"2020-04-14\", \"2020-04-15\", \"2020-04-16\", \"2020-04-17\", \"2020-04-18\", \"2020-04-19\", \"2020-04-20\", \"2020-04-21\", \"2020-04-22\", \"2020-04-23\", \"2020-04-24\", \"2020-04-25\", \"2020-04-26\", \"2020-04-27\", \"2020-04-28\", \"2020-04-29\", \"2020-04-30\", \"2020-05-01\", \"2020-05-02\", \"2020-05-03\", \"2020-05-04\", \"2020-05-05\", \"2020-05-06\", \"2020-05-07\", \"2020-05-08\", \"2020-05-09\", \"2020-05-10\", \"2020-05-11\", \"2020-05-12\", \"2020-05-13\", \"2020-05-14\", \"2020-05-15\", \"2020-05-16\", \"2020-05-17\", \"2020-05-18\", \"2020-05-19\", \"2020-05-20\", \"2020-05-21\", \"2020-05-22\", \"2020-05-23\", \"2020-05-24\", \"2020-05-25\", \"2020-05-26\", \"2020-05-27\", \"2020-05-28\", \"2020-05-29\", \"2020-05-30\", \"2020-05-31\", \"2020-06-01\", \"2020-06-02\", \"2020-06-03\", \"2020-06-04\", \"2020-06-05\"], \"xaxis\": \"x\", \"y\": [72, 79, 93, 102, 99, 102, 99, 99, 99, 99, 99, 99, 99, 99, 99, 99, 99, 99, 99, 99, 99, 99, 99, 91, 75, 75, 75, 75, 57, 55, 75, 75, 64, 68, 48, 43, 54, 79, 96, 91, 94, 94, 92, 93, 96, 96, 94, 93, 96, 95, 94, 92, 92, 104, 113, 118, 121, 121, 120, 144, 144, 143, 131, 132, 119, 116, 119, 46, 86, 102, 85, 102, 102, 103, 102, 80, 81, 78, 78, 79, 78, 78, 72, 79, 78, 78, 78, 76, 68, 72, 78, 77, 75, 78, 75, 75, 55, 51, 51, 38, 31, 27, 27, 24, 27, 27, 27, 27, 27, 27, 24, 35, 53, 51, 51, 50, 51, 48, 51, 51, 51, 51, 50, 51, 48, 65, 84, 78, 75, 78, 78, 70, 72, 72, 72, 72, 30, 48, 55, 70, 72, 69, 83, 96, 96, 96, 96, 96, 95, 96, 96, 96, 96, 80, 72, 72, 72, 72, 72, 68, 82, 92, 94, 96, 96, 96, 96, 95, 96, 88, 96, 96, 89, 96, 96, 96, 98, 102, 94, 68, 61, 77, 80, 80, 78, 80, 79, 78, 79, 71, 62, 59, 59, 63, 60, 53, 61, 59, 62, 57, 59, 59, 61, 61, 20, 59, 66, 54, 67, 71, 72, 75, 60, 75, 66, 68, 68, 72, 75, 72, 67, 68, 70, 69, 67, 63, 70, 69, 74, 75, 72, 72, 70, 50, 51, 51, 51, 51, 51, 51, 48, 51, 51, 51, 51, 51, 51, 48, 51, 54, 63, 65, 67, 75, 72, 71, 71, 66, 75, 74, 75, 72, 75, 82, 96, 95, 89, 90, 92, 87, 79, 83, 93, 57], \"yaxis\": \"y\"}],\n",
       "                        {\"legend\": {\"tracegroupgap\": 0}, \"template\": {\"data\": {\"bar\": [{\"error_x\": {\"color\": \"#2a3f5f\"}, \"error_y\": {\"color\": \"#2a3f5f\"}, \"marker\": {\"line\": {\"color\": \"#E5ECF6\", \"width\": 0.5}}, \"type\": \"bar\"}], \"barpolar\": [{\"marker\": {\"line\": {\"color\": \"#E5ECF6\", \"width\": 0.5}}, \"type\": \"barpolar\"}], \"carpet\": [{\"aaxis\": {\"endlinecolor\": \"#2a3f5f\", \"gridcolor\": \"white\", \"linecolor\": \"white\", \"minorgridcolor\": \"white\", \"startlinecolor\": \"#2a3f5f\"}, \"baxis\": {\"endlinecolor\": \"#2a3f5f\", \"gridcolor\": \"white\", \"linecolor\": \"white\", \"minorgridcolor\": \"white\", \"startlinecolor\": \"#2a3f5f\"}, \"type\": \"carpet\"}], \"choropleth\": [{\"colorbar\": {\"outlinewidth\": 0, \"ticks\": \"\"}, \"type\": \"choropleth\"}], \"contour\": [{\"colorbar\": {\"outlinewidth\": 0, \"ticks\": \"\"}, \"colorscale\": [[0.0, \"#0d0887\"], [0.1111111111111111, \"#46039f\"], [0.2222222222222222, \"#7201a8\"], [0.3333333333333333, \"#9c179e\"], [0.4444444444444444, \"#bd3786\"], [0.5555555555555556, \"#d8576b\"], [0.6666666666666666, \"#ed7953\"], [0.7777777777777778, \"#fb9f3a\"], [0.8888888888888888, \"#fdca26\"], [1.0, \"#f0f921\"]], \"type\": \"contour\"}], \"contourcarpet\": [{\"colorbar\": {\"outlinewidth\": 0, \"ticks\": \"\"}, \"type\": \"contourcarpet\"}], \"heatmap\": [{\"colorbar\": {\"outlinewidth\": 0, \"ticks\": \"\"}, \"colorscale\": [[0.0, \"#0d0887\"], [0.1111111111111111, \"#46039f\"], [0.2222222222222222, \"#7201a8\"], [0.3333333333333333, \"#9c179e\"], [0.4444444444444444, \"#bd3786\"], [0.5555555555555556, \"#d8576b\"], [0.6666666666666666, \"#ed7953\"], [0.7777777777777778, \"#fb9f3a\"], [0.8888888888888888, \"#fdca26\"], [1.0, \"#f0f921\"]], \"type\": \"heatmap\"}], \"heatmapgl\": [{\"colorbar\": {\"outlinewidth\": 0, \"ticks\": \"\"}, \"colorscale\": [[0.0, \"#0d0887\"], [0.1111111111111111, \"#46039f\"], [0.2222222222222222, \"#7201a8\"], [0.3333333333333333, \"#9c179e\"], [0.4444444444444444, \"#bd3786\"], [0.5555555555555556, \"#d8576b\"], [0.6666666666666666, \"#ed7953\"], [0.7777777777777778, \"#fb9f3a\"], [0.8888888888888888, \"#fdca26\"], [1.0, \"#f0f921\"]], \"type\": \"heatmapgl\"}], \"histogram\": [{\"marker\": {\"colorbar\": {\"outlinewidth\": 0, \"ticks\": \"\"}}, \"type\": \"histogram\"}], \"histogram2d\": [{\"colorbar\": {\"outlinewidth\": 0, \"ticks\": \"\"}, \"colorscale\": [[0.0, \"#0d0887\"], [0.1111111111111111, \"#46039f\"], [0.2222222222222222, \"#7201a8\"], [0.3333333333333333, \"#9c179e\"], [0.4444444444444444, \"#bd3786\"], [0.5555555555555556, \"#d8576b\"], [0.6666666666666666, \"#ed7953\"], [0.7777777777777778, \"#fb9f3a\"], [0.8888888888888888, \"#fdca26\"], [1.0, \"#f0f921\"]], \"type\": \"histogram2d\"}], \"histogram2dcontour\": [{\"colorbar\": {\"outlinewidth\": 0, \"ticks\": \"\"}, \"colorscale\": [[0.0, \"#0d0887\"], [0.1111111111111111, \"#46039f\"], [0.2222222222222222, \"#7201a8\"], [0.3333333333333333, \"#9c179e\"], [0.4444444444444444, \"#bd3786\"], [0.5555555555555556, \"#d8576b\"], [0.6666666666666666, \"#ed7953\"], [0.7777777777777778, \"#fb9f3a\"], [0.8888888888888888, \"#fdca26\"], [1.0, \"#f0f921\"]], \"type\": \"histogram2dcontour\"}], \"mesh3d\": [{\"colorbar\": {\"outlinewidth\": 0, \"ticks\": \"\"}, \"type\": \"mesh3d\"}], \"parcoords\": [{\"line\": {\"colorbar\": {\"outlinewidth\": 0, \"ticks\": \"\"}}, \"type\": \"parcoords\"}], \"pie\": [{\"automargin\": true, \"type\": \"pie\"}], \"scatter\": [{\"marker\": {\"colorbar\": {\"outlinewidth\": 0, \"ticks\": \"\"}}, \"type\": \"scatter\"}], \"scatter3d\": [{\"line\": {\"colorbar\": {\"outlinewidth\": 0, \"ticks\": \"\"}}, \"marker\": {\"colorbar\": {\"outlinewidth\": 0, \"ticks\": \"\"}}, \"type\": \"scatter3d\"}], \"scattercarpet\": [{\"marker\": {\"colorbar\": {\"outlinewidth\": 0, \"ticks\": \"\"}}, \"type\": \"scattercarpet\"}], \"scattergeo\": [{\"marker\": {\"colorbar\": {\"outlinewidth\": 0, \"ticks\": \"\"}}, \"type\": \"scattergeo\"}], \"scattergl\": [{\"marker\": {\"colorbar\": {\"outlinewidth\": 0, \"ticks\": \"\"}}, \"type\": \"scattergl\"}], \"scattermapbox\": [{\"marker\": {\"colorbar\": {\"outlinewidth\": 0, \"ticks\": \"\"}}, \"type\": \"scattermapbox\"}], \"scatterpolar\": [{\"marker\": {\"colorbar\": {\"outlinewidth\": 0, \"ticks\": \"\"}}, \"type\": \"scatterpolar\"}], \"scatterpolargl\": [{\"marker\": {\"colorbar\": {\"outlinewidth\": 0, \"ticks\": \"\"}}, \"type\": \"scatterpolargl\"}], \"scatterternary\": [{\"marker\": {\"colorbar\": {\"outlinewidth\": 0, \"ticks\": \"\"}}, \"type\": \"scatterternary\"}], \"surface\": [{\"colorbar\": {\"outlinewidth\": 0, \"ticks\": \"\"}, \"colorscale\": [[0.0, \"#0d0887\"], [0.1111111111111111, \"#46039f\"], [0.2222222222222222, \"#7201a8\"], [0.3333333333333333, \"#9c179e\"], [0.4444444444444444, \"#bd3786\"], [0.5555555555555556, \"#d8576b\"], [0.6666666666666666, \"#ed7953\"], [0.7777777777777778, \"#fb9f3a\"], [0.8888888888888888, \"#fdca26\"], [1.0, \"#f0f921\"]], \"type\": \"surface\"}], \"table\": [{\"cells\": {\"fill\": {\"color\": \"#EBF0F8\"}, \"line\": {\"color\": \"white\"}}, \"header\": {\"fill\": {\"color\": \"#C8D4E3\"}, \"line\": {\"color\": \"white\"}}, \"type\": \"table\"}]}, \"layout\": {\"annotationdefaults\": {\"arrowcolor\": \"#2a3f5f\", \"arrowhead\": 0, \"arrowwidth\": 1}, \"coloraxis\": {\"colorbar\": {\"outlinewidth\": 0, \"ticks\": \"\"}}, \"colorscale\": {\"diverging\": [[0, \"#8e0152\"], [0.1, \"#c51b7d\"], [0.2, \"#de77ae\"], [0.3, \"#f1b6da\"], [0.4, \"#fde0ef\"], [0.5, \"#f7f7f7\"], [0.6, \"#e6f5d0\"], [0.7, \"#b8e186\"], [0.8, \"#7fbc41\"], [0.9, \"#4d9221\"], [1, \"#276419\"]], \"sequential\": [[0.0, \"#0d0887\"], [0.1111111111111111, \"#46039f\"], [0.2222222222222222, \"#7201a8\"], [0.3333333333333333, \"#9c179e\"], [0.4444444444444444, \"#bd3786\"], [0.5555555555555556, \"#d8576b\"], [0.6666666666666666, \"#ed7953\"], [0.7777777777777778, \"#fb9f3a\"], [0.8888888888888888, \"#fdca26\"], [1.0, \"#f0f921\"]], \"sequentialminus\": [[0.0, \"#0d0887\"], [0.1111111111111111, \"#46039f\"], [0.2222222222222222, \"#7201a8\"], [0.3333333333333333, \"#9c179e\"], [0.4444444444444444, \"#bd3786\"], [0.5555555555555556, \"#d8576b\"], [0.6666666666666666, \"#ed7953\"], [0.7777777777777778, \"#fb9f3a\"], [0.8888888888888888, \"#fdca26\"], [1.0, \"#f0f921\"]]}, \"colorway\": [\"#636efa\", \"#EF553B\", \"#00cc96\", \"#ab63fa\", \"#FFA15A\", \"#19d3f3\", \"#FF6692\", \"#B6E880\", \"#FF97FF\", \"#FECB52\"], \"font\": {\"color\": \"#2a3f5f\"}, \"geo\": {\"bgcolor\": \"white\", \"lakecolor\": \"white\", \"landcolor\": \"#E5ECF6\", \"showlakes\": true, \"showland\": true, \"subunitcolor\": \"white\"}, \"hoverlabel\": {\"align\": \"left\"}, \"hovermode\": \"closest\", \"mapbox\": {\"style\": \"light\"}, \"paper_bgcolor\": \"white\", \"plot_bgcolor\": \"#E5ECF6\", \"polar\": {\"angularaxis\": {\"gridcolor\": \"white\", \"linecolor\": \"white\", \"ticks\": \"\"}, \"bgcolor\": \"#E5ECF6\", \"radialaxis\": {\"gridcolor\": \"white\", \"linecolor\": \"white\", \"ticks\": \"\"}}, \"scene\": {\"xaxis\": {\"backgroundcolor\": \"#E5ECF6\", \"gridcolor\": \"white\", \"gridwidth\": 2, \"linecolor\": \"white\", \"showbackground\": true, \"ticks\": \"\", \"zerolinecolor\": \"white\"}, \"yaxis\": {\"backgroundcolor\": \"#E5ECF6\", \"gridcolor\": \"white\", \"gridwidth\": 2, \"linecolor\": \"white\", \"showbackground\": true, \"ticks\": \"\", \"zerolinecolor\": \"white\"}, \"zaxis\": {\"backgroundcolor\": \"#E5ECF6\", \"gridcolor\": \"white\", \"gridwidth\": 2, \"linecolor\": \"white\", \"showbackground\": true, \"ticks\": \"\", \"zerolinecolor\": \"white\"}}, \"shapedefaults\": {\"line\": {\"color\": \"#2a3f5f\"}}, \"ternary\": {\"aaxis\": {\"gridcolor\": \"white\", \"linecolor\": \"white\", \"ticks\": \"\"}, \"baxis\": {\"gridcolor\": \"white\", \"linecolor\": \"white\", \"ticks\": \"\"}, \"bgcolor\": \"#E5ECF6\", \"caxis\": {\"gridcolor\": \"white\", \"linecolor\": \"white\", \"ticks\": \"\"}}, \"title\": {\"x\": 0.05}, \"xaxis\": {\"automargin\": true, \"gridcolor\": \"white\", \"linecolor\": \"white\", \"ticks\": \"\", \"title\": {\"standoff\": 15}, \"zerolinecolor\": \"white\", \"zerolinewidth\": 2}, \"yaxis\": {\"automargin\": true, \"gridcolor\": \"white\", \"linecolor\": \"white\", \"ticks\": \"\", \"title\": {\"standoff\": 15}, \"zerolinecolor\": \"white\", \"zerolinewidth\": 2}}}, \"title\": {\"text\": \"VALORES PARA O3 POR FECHA\"}, \"xaxis\": {\"anchor\": \"y\", \"domain\": [0.0, 1.0], \"title\": {\"text\": \"Date\"}}, \"yaxis\": {\"anchor\": \"x\", \"domain\": [0.0, 1.0], \"title\": {\"text\": \"count\"}}},\n",
       "                        {\"responsive\": true}\n",
       "                    ).then(function(){\n",
       "                            \n",
       "var gd = document.getElementById('f30c1c90-405b-4e30-9e2e-48b9d1d76b26');\n",
       "var x = new MutationObserver(function (mutations, observer) {{\n",
       "        var display = window.getComputedStyle(gd).display;\n",
       "        if (!display || display === 'none') {{\n",
       "            console.log([gd, 'removed!']);\n",
       "            Plotly.purge(gd);\n",
       "            observer.disconnect();\n",
       "        }}\n",
       "}});\n",
       "\n",
       "// Listen for the removal of the full notebook cells\n",
       "var notebookContainer = gd.closest('#notebook-container');\n",
       "if (notebookContainer) {{\n",
       "    x.observe(notebookContainer, {childList: true});\n",
       "}}\n",
       "\n",
       "// Listen for the clearing of the current output cell\n",
       "var outputEl = gd.closest('.output');\n",
       "if (outputEl) {{\n",
       "    x.observe(outputEl, {childList: true});\n",
       "}}\n",
       "\n",
       "                        })\n",
       "                };\n",
       "                });\n",
       "            </script>\n",
       "        </div>"
      ]
     },
     "metadata": {},
     "output_type": "display_data"
    }
   ],
   "source": [
    "fig4 = px.line(PEallpa,x='Date',y='count',title=\"VALORES PARA O3 POR FECHA\")\n",
    "fig4.show()"
   ]
  },
  {
   "cell_type": "code",
   "execution_count": null,
   "metadata": {},
   "outputs": [],
   "source": []
  }
 ],
 "metadata": {
  "kernelspec": {
   "display_name": "Python 3",
   "language": "python",
   "name": "python3"
  },
  "language_info": {
   "codemirror_mode": {
    "name": "ipython",
    "version": 3
   },
   "file_extension": ".py",
   "mimetype": "text/x-python",
   "name": "python",
   "nbconvert_exporter": "python",
   "pygments_lexer": "ipython3",
   "version": "3.7.6"
  }
 },
 "nbformat": 4,
 "nbformat_minor": 4
}
